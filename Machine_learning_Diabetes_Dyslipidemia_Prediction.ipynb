{
  "cells": [
    {
      "cell_type": "markdown",
      "metadata": {
        "id": "view-in-github",
        "colab_type": "text"
      },
      "source": [
        "<a href=\"https://colab.research.google.com/github/AlineEmmer/Machine-Learning/blob/main/Machine_learning_Diabetes_Dyslipidemia_Prediction.ipynb\" target=\"_parent\"><img src=\"https://colab.research.google.com/assets/colab-badge.svg\" alt=\"Open In Colab\"/></a>"
      ]
    },
    {
      "cell_type": "markdown",
      "metadata": {
        "id": "7da0e5ca"
      },
      "source": [
        "\n",
        "##In this project, a database containing infrared spectra of patients was analyzed: group 0 = patients with mixed dyslipidemia (n=100), group 1 = patients with diabetes (n=100), group 2 = patients with hypercholesterolemia (n=100 ), group 3 = patients with hypertriglyceridemia (n=100), group 4-healthy volunteers (n=100), group 5= patients with pre-diabetes (n=100). The goal is to develop a machine learning model to predict diabetes and dyslipidemia and to identify biomarkers associated with these diseases, with a view to optimizing the diagnosis"
      ],
      "id": "7da0e5ca"
    },
    {
      "cell_type": "code",
      "execution_count": 3,
      "metadata": {
        "id": "v13OXQGW32Jv"
      },
      "outputs": [],
      "source": [
        "# Task to be performed\n",
        "# Step 1: Import the database\n",
        "# Step 2: Import the Pandas library to help manipulate the database\n",
        "# Step 3: Remove unnecessary columns\n",
        "# Step 4: Installing the Pycaret library (helps to perform Auto-Machine Learn)\n",
        "# Step 5: Importing the Pycaret library\n",
        "# Step 6: Pre-processing the data\n",
        "# Step 7: Building and comparing different models\n",
        "# Step 8: Training the best model based on predictive performance metrics\n",
        "# Step 9: Extracting the metrics results from the model\n",
        "# Step 10: Conclusions about the model\n",
        "# Step 11: Saving the model to make predictions in real life (Deploy)"
      ],
      "id": "v13OXQGW32Jv"
    },
    {
      "cell_type": "markdown",
      "metadata": {
        "id": "GwAQ-hxOUQ1x"
      },
      "source": [],
      "id": "GwAQ-hxOUQ1x"
    },
    {
      "cell_type": "code",
      "execution_count": 4,
      "metadata": {
        "colab": {
          "base_uri": "https://localhost:8080/",
          "height": 73
        },
        "id": "8r0-rXrv0aYe",
        "outputId": "6b1b0960-25e4-4d81-99bc-0dc555ee1561"
      },
      "outputs": [
        {
          "output_type": "display_data",
          "data": {
            "text/plain": [
              "<IPython.core.display.HTML object>"
            ],
            "text/html": [
              "\n",
              "     <input type=\"file\" id=\"files-27415aba-1335-4a15-ac4f-aac0d6b3def3\" name=\"files[]\" multiple disabled\n",
              "        style=\"border:none\" />\n",
              "     <output id=\"result-27415aba-1335-4a15-ac4f-aac0d6b3def3\">\n",
              "      Upload widget is only available when the cell has been executed in the\n",
              "      current browser session. Please rerun this cell to enable.\n",
              "      </output>\n",
              "      <script>// Copyright 2017 Google LLC\n",
              "//\n",
              "// Licensed under the Apache License, Version 2.0 (the \"License\");\n",
              "// you may not use this file except in compliance with the License.\n",
              "// You may obtain a copy of the License at\n",
              "//\n",
              "//      http://www.apache.org/licenses/LICENSE-2.0\n",
              "//\n",
              "// Unless required by applicable law or agreed to in writing, software\n",
              "// distributed under the License is distributed on an \"AS IS\" BASIS,\n",
              "// WITHOUT WARRANTIES OR CONDITIONS OF ANY KIND, either express or implied.\n",
              "// See the License for the specific language governing permissions and\n",
              "// limitations under the License.\n",
              "\n",
              "/**\n",
              " * @fileoverview Helpers for google.colab Python module.\n",
              " */\n",
              "(function(scope) {\n",
              "function span(text, styleAttributes = {}) {\n",
              "  const element = document.createElement('span');\n",
              "  element.textContent = text;\n",
              "  for (const key of Object.keys(styleAttributes)) {\n",
              "    element.style[key] = styleAttributes[key];\n",
              "  }\n",
              "  return element;\n",
              "}\n",
              "\n",
              "// Max number of bytes which will be uploaded at a time.\n",
              "const MAX_PAYLOAD_SIZE = 100 * 1024;\n",
              "\n",
              "function _uploadFiles(inputId, outputId) {\n",
              "  const steps = uploadFilesStep(inputId, outputId);\n",
              "  const outputElement = document.getElementById(outputId);\n",
              "  // Cache steps on the outputElement to make it available for the next call\n",
              "  // to uploadFilesContinue from Python.\n",
              "  outputElement.steps = steps;\n",
              "\n",
              "  return _uploadFilesContinue(outputId);\n",
              "}\n",
              "\n",
              "// This is roughly an async generator (not supported in the browser yet),\n",
              "// where there are multiple asynchronous steps and the Python side is going\n",
              "// to poll for completion of each step.\n",
              "// This uses a Promise to block the python side on completion of each step,\n",
              "// then passes the result of the previous step as the input to the next step.\n",
              "function _uploadFilesContinue(outputId) {\n",
              "  const outputElement = document.getElementById(outputId);\n",
              "  const steps = outputElement.steps;\n",
              "\n",
              "  const next = steps.next(outputElement.lastPromiseValue);\n",
              "  return Promise.resolve(next.value.promise).then((value) => {\n",
              "    // Cache the last promise value to make it available to the next\n",
              "    // step of the generator.\n",
              "    outputElement.lastPromiseValue = value;\n",
              "    return next.value.response;\n",
              "  });\n",
              "}\n",
              "\n",
              "/**\n",
              " * Generator function which is called between each async step of the upload\n",
              " * process.\n",
              " * @param {string} inputId Element ID of the input file picker element.\n",
              " * @param {string} outputId Element ID of the output display.\n",
              " * @return {!Iterable<!Object>} Iterable of next steps.\n",
              " */\n",
              "function* uploadFilesStep(inputId, outputId) {\n",
              "  const inputElement = document.getElementById(inputId);\n",
              "  inputElement.disabled = false;\n",
              "\n",
              "  const outputElement = document.getElementById(outputId);\n",
              "  outputElement.innerHTML = '';\n",
              "\n",
              "  const pickedPromise = new Promise((resolve) => {\n",
              "    inputElement.addEventListener('change', (e) => {\n",
              "      resolve(e.target.files);\n",
              "    });\n",
              "  });\n",
              "\n",
              "  const cancel = document.createElement('button');\n",
              "  inputElement.parentElement.appendChild(cancel);\n",
              "  cancel.textContent = 'Cancel upload';\n",
              "  const cancelPromise = new Promise((resolve) => {\n",
              "    cancel.onclick = () => {\n",
              "      resolve(null);\n",
              "    };\n",
              "  });\n",
              "\n",
              "  // Wait for the user to pick the files.\n",
              "  const files = yield {\n",
              "    promise: Promise.race([pickedPromise, cancelPromise]),\n",
              "    response: {\n",
              "      action: 'starting',\n",
              "    }\n",
              "  };\n",
              "\n",
              "  cancel.remove();\n",
              "\n",
              "  // Disable the input element since further picks are not allowed.\n",
              "  inputElement.disabled = true;\n",
              "\n",
              "  if (!files) {\n",
              "    return {\n",
              "      response: {\n",
              "        action: 'complete',\n",
              "      }\n",
              "    };\n",
              "  }\n",
              "\n",
              "  for (const file of files) {\n",
              "    const li = document.createElement('li');\n",
              "    li.append(span(file.name, {fontWeight: 'bold'}));\n",
              "    li.append(span(\n",
              "        `(${file.type || 'n/a'}) - ${file.size} bytes, ` +\n",
              "        `last modified: ${\n",
              "            file.lastModifiedDate ? file.lastModifiedDate.toLocaleDateString() :\n",
              "                                    'n/a'} - `));\n",
              "    const percent = span('0% done');\n",
              "    li.appendChild(percent);\n",
              "\n",
              "    outputElement.appendChild(li);\n",
              "\n",
              "    const fileDataPromise = new Promise((resolve) => {\n",
              "      const reader = new FileReader();\n",
              "      reader.onload = (e) => {\n",
              "        resolve(e.target.result);\n",
              "      };\n",
              "      reader.readAsArrayBuffer(file);\n",
              "    });\n",
              "    // Wait for the data to be ready.\n",
              "    let fileData = yield {\n",
              "      promise: fileDataPromise,\n",
              "      response: {\n",
              "        action: 'continue',\n",
              "      }\n",
              "    };\n",
              "\n",
              "    // Use a chunked sending to avoid message size limits. See b/62115660.\n",
              "    let position = 0;\n",
              "    do {\n",
              "      const length = Math.min(fileData.byteLength - position, MAX_PAYLOAD_SIZE);\n",
              "      const chunk = new Uint8Array(fileData, position, length);\n",
              "      position += length;\n",
              "\n",
              "      const base64 = btoa(String.fromCharCode.apply(null, chunk));\n",
              "      yield {\n",
              "        response: {\n",
              "          action: 'append',\n",
              "          file: file.name,\n",
              "          data: base64,\n",
              "        },\n",
              "      };\n",
              "\n",
              "      let percentDone = fileData.byteLength === 0 ?\n",
              "          100 :\n",
              "          Math.round((position / fileData.byteLength) * 100);\n",
              "      percent.textContent = `${percentDone}% done`;\n",
              "\n",
              "    } while (position < fileData.byteLength);\n",
              "  }\n",
              "\n",
              "  // All done.\n",
              "  yield {\n",
              "    response: {\n",
              "      action: 'complete',\n",
              "    }\n",
              "  };\n",
              "}\n",
              "\n",
              "scope.google = scope.google || {};\n",
              "scope.google.colab = scope.google.colab || {};\n",
              "scope.google.colab._files = {\n",
              "  _uploadFiles,\n",
              "  _uploadFilesContinue,\n",
              "};\n",
              "})(self);\n",
              "</script> "
            ]
          },
          "metadata": {}
        },
        {
          "output_type": "stream",
          "name": "stdout",
          "text": [
            "Saving Dataset.xlsx to Dataset.xlsx\n"
          ]
        }
      ],
      "source": [
        "# Step 1: Import the database\n",
        "from google.colab import files\n",
        "uploaded = files.upload()"
      ],
      "id": "8r0-rXrv0aYe"
    },
    {
      "cell_type": "code",
      "execution_count": 24,
      "metadata": {
        "colab": {
          "base_uri": "https://localhost:8080/",
          "height": 487
        },
        "id": "Y4YeHICemuoc",
        "outputId": "7350175b-8def-4673-f63d-fe221f41d496"
      },
      "outputs": [
        {
          "output_type": "display_data",
          "data": {
            "text/plain": [
              "    Classes  3998.4    3997  3995.6  3994.2  3992.8  3991.3  3989.9  3988.5  \\\n",
              "0     PREDM  0.9979  0.9973  0.9970  0.9970  0.9972  0.9972  0.9971  0.9970   \n",
              "1     PREDM  0.9976  0.9973  0.9971  0.9971  0.9969  0.9965  0.9961  0.9963   \n",
              "2     PREDM  0.9973  0.9968  0.9966  0.9966  0.9969  0.9970  0.9970  0.9970   \n",
              "3     PREDM  0.9969  0.9964  0.9962  0.9964  0.9967  0.9968  0.9966  0.9966   \n",
              "4     PREDM  0.9979  0.9974  0.9969  0.9966  0.9966  0.9966  0.9966  0.9967   \n",
              "..      ...     ...     ...     ...     ...     ...     ...     ...     ...   \n",
              "595     DYS  0.9959  0.9956  0.9953  0.9951  0.9953  0.9956  0.9958  0.9957   \n",
              "596     DYS  0.9964  0.9964  0.9960  0.9955  0.9952  0.9950  0.9950  0.9948   \n",
              "597     DYS  0.9958  0.9958  0.9957  0.9957  0.9959  0.9961  0.9961  0.9959   \n",
              "598     DYS  0.9964  0.9960  0.9955  0.9953  0.9954  0.9958  0.9961  0.9962   \n",
              "599     DYS  0.9964  0.9960  0.9955  0.9953  0.9954  0.9958  0.9961  0.9962   \n",
              "\n",
              "     3987.1  ...   412.3   410.9   409.5   408.1   406.6   405.2   403.8  \\\n",
              "0    0.9970  ...  0.2580  0.2571  0.2563  0.2561  0.2565  0.2568  0.2565   \n",
              "1    0.9968  ...  0.2561  0.2537  0.2523  0.2527  0.2539  0.2548  0.2545   \n",
              "2    0.9970  ...  0.2556  0.2558  0.2565  0.2579  0.2595  0.2607  0.2609   \n",
              "3    0.9968  ...  0.2558  0.2554  0.2550  0.2551  0.2558  0.2567  0.2567   \n",
              "4    0.9969  ...  0.2559  0.2545  0.2534  0.2532  0.2541  0.2550  0.2552   \n",
              "..      ...  ...     ...     ...     ...     ...     ...     ...     ...   \n",
              "595  0.9954  ...  0.2691  0.2686  0.2678  0.2674  0.2675  0.2671  0.2657   \n",
              "596  0.9945  ...  0.2653  0.2648  0.2659  0.2674  0.2684  0.2680  0.2664   \n",
              "597  0.9954  ...  0.2715  0.2713  0.2708  0.2700  0.2684  0.2662  0.2641   \n",
              "598  0.9959  ...  0.2687  0.2672  0.2671  0.2681  0.2692  0.2695  0.2689   \n",
              "599  0.9959  ...  0.2687  0.2672  0.2671  0.2681  0.2692  0.2695  0.2689   \n",
              "\n",
              "      402.4     401   399.6  \n",
              "0    0.2554  0.2541  0.2538  \n",
              "1    0.2532  0.2515  0.2503  \n",
              "2    0.2594  0.2558  0.2508  \n",
              "3    0.2550  0.2517  0.2478  \n",
              "4    0.2548  0.2545  0.2551  \n",
              "..      ...     ...     ...  \n",
              "595  0.2639  0.2630  0.2630  \n",
              "596  0.2651  0.2651  0.2664  \n",
              "597  0.2626  0.2620  0.2627  \n",
              "598  0.2675  0.2656  0.2641  \n",
              "599  0.2675  0.2656  0.2641  \n",
              "\n",
              "[600 rows x 2542 columns]"
            ],
            "text/html": [
              "\n",
              "  <div id=\"df-8079645b-869f-4420-8a35-04e71fde54ff\">\n",
              "    <div class=\"colab-df-container\">\n",
              "      <div>\n",
              "<style scoped>\n",
              "    .dataframe tbody tr th:only-of-type {\n",
              "        vertical-align: middle;\n",
              "    }\n",
              "\n",
              "    .dataframe tbody tr th {\n",
              "        vertical-align: top;\n",
              "    }\n",
              "\n",
              "    .dataframe thead th {\n",
              "        text-align: right;\n",
              "    }\n",
              "</style>\n",
              "<table border=\"1\" class=\"dataframe\">\n",
              "  <thead>\n",
              "    <tr style=\"text-align: right;\">\n",
              "      <th></th>\n",
              "      <th>Classes</th>\n",
              "      <th>3998.4</th>\n",
              "      <th>3997</th>\n",
              "      <th>3995.6</th>\n",
              "      <th>3994.2</th>\n",
              "      <th>3992.8</th>\n",
              "      <th>3991.3</th>\n",
              "      <th>3989.9</th>\n",
              "      <th>3988.5</th>\n",
              "      <th>3987.1</th>\n",
              "      <th>...</th>\n",
              "      <th>412.3</th>\n",
              "      <th>410.9</th>\n",
              "      <th>409.5</th>\n",
              "      <th>408.1</th>\n",
              "      <th>406.6</th>\n",
              "      <th>405.2</th>\n",
              "      <th>403.8</th>\n",
              "      <th>402.4</th>\n",
              "      <th>401</th>\n",
              "      <th>399.6</th>\n",
              "    </tr>\n",
              "  </thead>\n",
              "  <tbody>\n",
              "    <tr>\n",
              "      <th>0</th>\n",
              "      <td>PREDM</td>\n",
              "      <td>0.9979</td>\n",
              "      <td>0.9973</td>\n",
              "      <td>0.9970</td>\n",
              "      <td>0.9970</td>\n",
              "      <td>0.9972</td>\n",
              "      <td>0.9972</td>\n",
              "      <td>0.9971</td>\n",
              "      <td>0.9970</td>\n",
              "      <td>0.9970</td>\n",
              "      <td>...</td>\n",
              "      <td>0.2580</td>\n",
              "      <td>0.2571</td>\n",
              "      <td>0.2563</td>\n",
              "      <td>0.2561</td>\n",
              "      <td>0.2565</td>\n",
              "      <td>0.2568</td>\n",
              "      <td>0.2565</td>\n",
              "      <td>0.2554</td>\n",
              "      <td>0.2541</td>\n",
              "      <td>0.2538</td>\n",
              "    </tr>\n",
              "    <tr>\n",
              "      <th>1</th>\n",
              "      <td>PREDM</td>\n",
              "      <td>0.9976</td>\n",
              "      <td>0.9973</td>\n",
              "      <td>0.9971</td>\n",
              "      <td>0.9971</td>\n",
              "      <td>0.9969</td>\n",
              "      <td>0.9965</td>\n",
              "      <td>0.9961</td>\n",
              "      <td>0.9963</td>\n",
              "      <td>0.9968</td>\n",
              "      <td>...</td>\n",
              "      <td>0.2561</td>\n",
              "      <td>0.2537</td>\n",
              "      <td>0.2523</td>\n",
              "      <td>0.2527</td>\n",
              "      <td>0.2539</td>\n",
              "      <td>0.2548</td>\n",
              "      <td>0.2545</td>\n",
              "      <td>0.2532</td>\n",
              "      <td>0.2515</td>\n",
              "      <td>0.2503</td>\n",
              "    </tr>\n",
              "    <tr>\n",
              "      <th>2</th>\n",
              "      <td>PREDM</td>\n",
              "      <td>0.9973</td>\n",
              "      <td>0.9968</td>\n",
              "      <td>0.9966</td>\n",
              "      <td>0.9966</td>\n",
              "      <td>0.9969</td>\n",
              "      <td>0.9970</td>\n",
              "      <td>0.9970</td>\n",
              "      <td>0.9970</td>\n",
              "      <td>0.9970</td>\n",
              "      <td>...</td>\n",
              "      <td>0.2556</td>\n",
              "      <td>0.2558</td>\n",
              "      <td>0.2565</td>\n",
              "      <td>0.2579</td>\n",
              "      <td>0.2595</td>\n",
              "      <td>0.2607</td>\n",
              "      <td>0.2609</td>\n",
              "      <td>0.2594</td>\n",
              "      <td>0.2558</td>\n",
              "      <td>0.2508</td>\n",
              "    </tr>\n",
              "    <tr>\n",
              "      <th>3</th>\n",
              "      <td>PREDM</td>\n",
              "      <td>0.9969</td>\n",
              "      <td>0.9964</td>\n",
              "      <td>0.9962</td>\n",
              "      <td>0.9964</td>\n",
              "      <td>0.9967</td>\n",
              "      <td>0.9968</td>\n",
              "      <td>0.9966</td>\n",
              "      <td>0.9966</td>\n",
              "      <td>0.9968</td>\n",
              "      <td>...</td>\n",
              "      <td>0.2558</td>\n",
              "      <td>0.2554</td>\n",
              "      <td>0.2550</td>\n",
              "      <td>0.2551</td>\n",
              "      <td>0.2558</td>\n",
              "      <td>0.2567</td>\n",
              "      <td>0.2567</td>\n",
              "      <td>0.2550</td>\n",
              "      <td>0.2517</td>\n",
              "      <td>0.2478</td>\n",
              "    </tr>\n",
              "    <tr>\n",
              "      <th>4</th>\n",
              "      <td>PREDM</td>\n",
              "      <td>0.9979</td>\n",
              "      <td>0.9974</td>\n",
              "      <td>0.9969</td>\n",
              "      <td>0.9966</td>\n",
              "      <td>0.9966</td>\n",
              "      <td>0.9966</td>\n",
              "      <td>0.9966</td>\n",
              "      <td>0.9967</td>\n",
              "      <td>0.9969</td>\n",
              "      <td>...</td>\n",
              "      <td>0.2559</td>\n",
              "      <td>0.2545</td>\n",
              "      <td>0.2534</td>\n",
              "      <td>0.2532</td>\n",
              "      <td>0.2541</td>\n",
              "      <td>0.2550</td>\n",
              "      <td>0.2552</td>\n",
              "      <td>0.2548</td>\n",
              "      <td>0.2545</td>\n",
              "      <td>0.2551</td>\n",
              "    </tr>\n",
              "    <tr>\n",
              "      <th>...</th>\n",
              "      <td>...</td>\n",
              "      <td>...</td>\n",
              "      <td>...</td>\n",
              "      <td>...</td>\n",
              "      <td>...</td>\n",
              "      <td>...</td>\n",
              "      <td>...</td>\n",
              "      <td>...</td>\n",
              "      <td>...</td>\n",
              "      <td>...</td>\n",
              "      <td>...</td>\n",
              "      <td>...</td>\n",
              "      <td>...</td>\n",
              "      <td>...</td>\n",
              "      <td>...</td>\n",
              "      <td>...</td>\n",
              "      <td>...</td>\n",
              "      <td>...</td>\n",
              "      <td>...</td>\n",
              "      <td>...</td>\n",
              "      <td>...</td>\n",
              "    </tr>\n",
              "    <tr>\n",
              "      <th>595</th>\n",
              "      <td>DYS</td>\n",
              "      <td>0.9959</td>\n",
              "      <td>0.9956</td>\n",
              "      <td>0.9953</td>\n",
              "      <td>0.9951</td>\n",
              "      <td>0.9953</td>\n",
              "      <td>0.9956</td>\n",
              "      <td>0.9958</td>\n",
              "      <td>0.9957</td>\n",
              "      <td>0.9954</td>\n",
              "      <td>...</td>\n",
              "      <td>0.2691</td>\n",
              "      <td>0.2686</td>\n",
              "      <td>0.2678</td>\n",
              "      <td>0.2674</td>\n",
              "      <td>0.2675</td>\n",
              "      <td>0.2671</td>\n",
              "      <td>0.2657</td>\n",
              "      <td>0.2639</td>\n",
              "      <td>0.2630</td>\n",
              "      <td>0.2630</td>\n",
              "    </tr>\n",
              "    <tr>\n",
              "      <th>596</th>\n",
              "      <td>DYS</td>\n",
              "      <td>0.9964</td>\n",
              "      <td>0.9964</td>\n",
              "      <td>0.9960</td>\n",
              "      <td>0.9955</td>\n",
              "      <td>0.9952</td>\n",
              "      <td>0.9950</td>\n",
              "      <td>0.9950</td>\n",
              "      <td>0.9948</td>\n",
              "      <td>0.9945</td>\n",
              "      <td>...</td>\n",
              "      <td>0.2653</td>\n",
              "      <td>0.2648</td>\n",
              "      <td>0.2659</td>\n",
              "      <td>0.2674</td>\n",
              "      <td>0.2684</td>\n",
              "      <td>0.2680</td>\n",
              "      <td>0.2664</td>\n",
              "      <td>0.2651</td>\n",
              "      <td>0.2651</td>\n",
              "      <td>0.2664</td>\n",
              "    </tr>\n",
              "    <tr>\n",
              "      <th>597</th>\n",
              "      <td>DYS</td>\n",
              "      <td>0.9958</td>\n",
              "      <td>0.9958</td>\n",
              "      <td>0.9957</td>\n",
              "      <td>0.9957</td>\n",
              "      <td>0.9959</td>\n",
              "      <td>0.9961</td>\n",
              "      <td>0.9961</td>\n",
              "      <td>0.9959</td>\n",
              "      <td>0.9954</td>\n",
              "      <td>...</td>\n",
              "      <td>0.2715</td>\n",
              "      <td>0.2713</td>\n",
              "      <td>0.2708</td>\n",
              "      <td>0.2700</td>\n",
              "      <td>0.2684</td>\n",
              "      <td>0.2662</td>\n",
              "      <td>0.2641</td>\n",
              "      <td>0.2626</td>\n",
              "      <td>0.2620</td>\n",
              "      <td>0.2627</td>\n",
              "    </tr>\n",
              "    <tr>\n",
              "      <th>598</th>\n",
              "      <td>DYS</td>\n",
              "      <td>0.9964</td>\n",
              "      <td>0.9960</td>\n",
              "      <td>0.9955</td>\n",
              "      <td>0.9953</td>\n",
              "      <td>0.9954</td>\n",
              "      <td>0.9958</td>\n",
              "      <td>0.9961</td>\n",
              "      <td>0.9962</td>\n",
              "      <td>0.9959</td>\n",
              "      <td>...</td>\n",
              "      <td>0.2687</td>\n",
              "      <td>0.2672</td>\n",
              "      <td>0.2671</td>\n",
              "      <td>0.2681</td>\n",
              "      <td>0.2692</td>\n",
              "      <td>0.2695</td>\n",
              "      <td>0.2689</td>\n",
              "      <td>0.2675</td>\n",
              "      <td>0.2656</td>\n",
              "      <td>0.2641</td>\n",
              "    </tr>\n",
              "    <tr>\n",
              "      <th>599</th>\n",
              "      <td>DYS</td>\n",
              "      <td>0.9964</td>\n",
              "      <td>0.9960</td>\n",
              "      <td>0.9955</td>\n",
              "      <td>0.9953</td>\n",
              "      <td>0.9954</td>\n",
              "      <td>0.9958</td>\n",
              "      <td>0.9961</td>\n",
              "      <td>0.9962</td>\n",
              "      <td>0.9959</td>\n",
              "      <td>...</td>\n",
              "      <td>0.2687</td>\n",
              "      <td>0.2672</td>\n",
              "      <td>0.2671</td>\n",
              "      <td>0.2681</td>\n",
              "      <td>0.2692</td>\n",
              "      <td>0.2695</td>\n",
              "      <td>0.2689</td>\n",
              "      <td>0.2675</td>\n",
              "      <td>0.2656</td>\n",
              "      <td>0.2641</td>\n",
              "    </tr>\n",
              "  </tbody>\n",
              "</table>\n",
              "<p>600 rows × 2542 columns</p>\n",
              "</div>\n",
              "      <button class=\"colab-df-convert\" onclick=\"convertToInteractive('df-8079645b-869f-4420-8a35-04e71fde54ff')\"\n",
              "              title=\"Convert this dataframe to an interactive table.\"\n",
              "              style=\"display:none;\">\n",
              "        \n",
              "  <svg xmlns=\"http://www.w3.org/2000/svg\" height=\"24px\"viewBox=\"0 0 24 24\"\n",
              "       width=\"24px\">\n",
              "    <path d=\"M0 0h24v24H0V0z\" fill=\"none\"/>\n",
              "    <path d=\"M18.56 5.44l.94 2.06.94-2.06 2.06-.94-2.06-.94-.94-2.06-.94 2.06-2.06.94zm-11 1L8.5 8.5l.94-2.06 2.06-.94-2.06-.94L8.5 2.5l-.94 2.06-2.06.94zm10 10l.94 2.06.94-2.06 2.06-.94-2.06-.94-.94-2.06-.94 2.06-2.06.94z\"/><path d=\"M17.41 7.96l-1.37-1.37c-.4-.4-.92-.59-1.43-.59-.52 0-1.04.2-1.43.59L10.3 9.45l-7.72 7.72c-.78.78-.78 2.05 0 2.83L4 21.41c.39.39.9.59 1.41.59.51 0 1.02-.2 1.41-.59l7.78-7.78 2.81-2.81c.8-.78.8-2.07 0-2.86zM5.41 20L4 18.59l7.72-7.72 1.47 1.35L5.41 20z\"/>\n",
              "  </svg>\n",
              "      </button>\n",
              "      \n",
              "  <style>\n",
              "    .colab-df-container {\n",
              "      display:flex;\n",
              "      flex-wrap:wrap;\n",
              "      gap: 12px;\n",
              "    }\n",
              "\n",
              "    .colab-df-convert {\n",
              "      background-color: #E8F0FE;\n",
              "      border: none;\n",
              "      border-radius: 50%;\n",
              "      cursor: pointer;\n",
              "      display: none;\n",
              "      fill: #1967D2;\n",
              "      height: 32px;\n",
              "      padding: 0 0 0 0;\n",
              "      width: 32px;\n",
              "    }\n",
              "\n",
              "    .colab-df-convert:hover {\n",
              "      background-color: #E2EBFA;\n",
              "      box-shadow: 0px 1px 2px rgba(60, 64, 67, 0.3), 0px 1px 3px 1px rgba(60, 64, 67, 0.15);\n",
              "      fill: #174EA6;\n",
              "    }\n",
              "\n",
              "    [theme=dark] .colab-df-convert {\n",
              "      background-color: #3B4455;\n",
              "      fill: #D2E3FC;\n",
              "    }\n",
              "\n",
              "    [theme=dark] .colab-df-convert:hover {\n",
              "      background-color: #434B5C;\n",
              "      box-shadow: 0px 1px 3px 1px rgba(0, 0, 0, 0.15);\n",
              "      filter: drop-shadow(0px 1px 2px rgba(0, 0, 0, 0.3));\n",
              "      fill: #FFFFFF;\n",
              "    }\n",
              "  </style>\n",
              "\n",
              "      <script>\n",
              "        const buttonEl =\n",
              "          document.querySelector('#df-8079645b-869f-4420-8a35-04e71fde54ff button.colab-df-convert');\n",
              "        buttonEl.style.display =\n",
              "          google.colab.kernel.accessAllowed ? 'block' : 'none';\n",
              "\n",
              "        async function convertToInteractive(key) {\n",
              "          const element = document.querySelector('#df-8079645b-869f-4420-8a35-04e71fde54ff');\n",
              "          const dataTable =\n",
              "            await google.colab.kernel.invokeFunction('convertToInteractive',\n",
              "                                                     [key], {});\n",
              "          if (!dataTable) return;\n",
              "\n",
              "          const docLinkHtml = 'Like what you see? Visit the ' +\n",
              "            '<a target=\"_blank\" href=https://colab.research.google.com/notebooks/data_table.ipynb>data table notebook</a>'\n",
              "            + ' to learn more about interactive tables.';\n",
              "          element.innerHTML = '';\n",
              "          dataTable['output_type'] = 'display_data';\n",
              "          await google.colab.output.renderOutput(dataTable, element);\n",
              "          const docLink = document.createElement('div');\n",
              "          docLink.innerHTML = docLinkHtml;\n",
              "          element.appendChild(docLink);\n",
              "        }\n",
              "      </script>\n",
              "    </div>\n",
              "  </div>\n",
              "  "
            ]
          },
          "metadata": {}
        }
      ],
      "source": [
        "# Step 2: Import the Pandas library to help manipulate the database\n",
        "import pandas as pd\n",
        "df1 = pd.read_excel(\"Dataset.xlsx\")\n",
        "display (df1)"
      ],
      "id": "Y4YeHICemuoc"
    },
    {
      "cell_type": "code",
      "execution_count": 6,
      "metadata": {
        "colab": {
          "base_uri": "https://localhost:8080/"
        },
        "id": "5U1Mqbfvsp2w",
        "outputId": "5c92164d-98af-4cf4-8539-8cbe26dcbb03"
      },
      "outputs": [
        {
          "output_type": "stream",
          "name": "stdout",
          "text": [
            "Looking in indexes: https://pypi.org/simple, https://us-python.pkg.dev/colab-wheels/public/simple/\n",
            "Collecting pycaret\n",
            "  Downloading pycaret-3.0.2-py3-none-any.whl (483 kB)\n",
            "\u001b[2K     \u001b[90m━━━━━━━━━━━━━━━━━━━━━━━━━━━━━━━━━━━━━━━\u001b[0m \u001b[32m483.6/483.6 kB\u001b[0m \u001b[31m8.2 MB/s\u001b[0m eta \u001b[36m0:00:00\u001b[0m\n",
            "\u001b[?25hRequirement already satisfied: ipython>=5.5.0 in /usr/local/lib/python3.10/dist-packages (from pycaret) (7.34.0)\n",
            "Requirement already satisfied: ipywidgets>=7.6.5 in /usr/local/lib/python3.10/dist-packages (from pycaret) (7.7.1)\n",
            "Requirement already satisfied: tqdm>=4.62.0 in /usr/local/lib/python3.10/dist-packages (from pycaret) (4.65.0)\n",
            "Requirement already satisfied: numpy<1.24,>=1.21 in /usr/local/lib/python3.10/dist-packages (from pycaret) (1.22.4)\n",
            "Requirement already satisfied: pandas<2.0.0,>=1.3.0 in /usr/local/lib/python3.10/dist-packages (from pycaret) (1.5.3)\n",
            "Requirement already satisfied: jinja2>=1.2 in /usr/local/lib/python3.10/dist-packages (from pycaret) (3.1.2)\n",
            "Requirement already satisfied: scipy<2.0.0 in /usr/local/lib/python3.10/dist-packages (from pycaret) (1.10.1)\n",
            "Requirement already satisfied: joblib>=1.2.0 in /usr/local/lib/python3.10/dist-packages (from pycaret) (1.2.0)\n",
            "Requirement already satisfied: scikit-learn>=1.0 in /usr/local/lib/python3.10/dist-packages (from pycaret) (1.2.2)\n",
            "Collecting pyod>=1.0.8 (from pycaret)\n",
            "  Downloading pyod-1.0.9.tar.gz (149 kB)\n",
            "\u001b[2K     \u001b[90m━━━━━━━━━━━━━━━━━━━━━━━━━━━━━━━━━━━━━━\u001b[0m \u001b[32m150.0/150.0 kB\u001b[0m \u001b[31m14.3 MB/s\u001b[0m eta \u001b[36m0:00:00\u001b[0m\n",
            "\u001b[?25h  Preparing metadata (setup.py) ... \u001b[?25l\u001b[?25hdone\n",
            "Requirement already satisfied: imbalanced-learn>=0.8.1 in /usr/local/lib/python3.10/dist-packages (from pycaret) (0.10.1)\n",
            "Collecting category-encoders>=2.4.0 (from pycaret)\n",
            "  Downloading category_encoders-2.6.1-py2.py3-none-any.whl (81 kB)\n",
            "\u001b[2K     \u001b[90m━━━━━━━━━━━━━━━━━━━━━━━━━━━━━━━━━━━━━━━━\u001b[0m \u001b[32m81.9/81.9 kB\u001b[0m \u001b[31m8.1 MB/s\u001b[0m eta \u001b[36m0:00:00\u001b[0m\n",
            "\u001b[?25hRequirement already satisfied: lightgbm>=3.0.0 in /usr/local/lib/python3.10/dist-packages (from pycaret) (3.3.5)\n",
            "Requirement already satisfied: numba>=0.55.0 in /usr/local/lib/python3.10/dist-packages (from pycaret) (0.56.4)\n",
            "Requirement already satisfied: requests>=2.27.1 in /usr/local/lib/python3.10/dist-packages (from pycaret) (2.27.1)\n",
            "Requirement already satisfied: psutil>=5.9.0 in /usr/local/lib/python3.10/dist-packages (from pycaret) (5.9.5)\n",
            "Requirement already satisfied: markupsafe>=2.0.1 in /usr/local/lib/python3.10/dist-packages (from pycaret) (2.1.2)\n",
            "Collecting importlib-metadata>=4.12.0 (from pycaret)\n",
            "  Downloading importlib_metadata-6.6.0-py3-none-any.whl (22 kB)\n",
            "Requirement already satisfied: nbformat>=4.2.0 in /usr/local/lib/python3.10/dist-packages (from pycaret) (5.8.0)\n",
            "Requirement already satisfied: cloudpickle in /usr/local/lib/python3.10/dist-packages (from pycaret) (2.2.1)\n",
            "Collecting deprecation>=2.1.0 (from pycaret)\n",
            "  Downloading deprecation-2.1.0-py2.py3-none-any.whl (11 kB)\n",
            "Collecting xxhash (from pycaret)\n",
            "  Downloading xxhash-3.2.0-cp310-cp310-manylinux_2_17_x86_64.manylinux2014_x86_64.whl (212 kB)\n",
            "\u001b[2K     \u001b[90m━━━━━━━━━━━━━━━━━━━━━━━━━━━━━━━━━━━━━━\u001b[0m \u001b[32m212.5/212.5 kB\u001b[0m \u001b[31m16.3 MB/s\u001b[0m eta \u001b[36m0:00:00\u001b[0m\n",
            "\u001b[?25hRequirement already satisfied: matplotlib>=3.3.0 in /usr/local/lib/python3.10/dist-packages (from pycaret) (3.7.1)\n",
            "Collecting scikit-plot>=0.3.7 (from pycaret)\n",
            "  Downloading scikit_plot-0.3.7-py3-none-any.whl (33 kB)\n",
            "Requirement already satisfied: yellowbrick>=1.4 in /usr/local/lib/python3.10/dist-packages (from pycaret) (1.5)\n",
            "Requirement already satisfied: plotly>=5.0.0 in /usr/local/lib/python3.10/dist-packages (from pycaret) (5.13.1)\n",
            "Collecting kaleido>=0.2.1 (from pycaret)\n",
            "  Downloading kaleido-0.2.1-py2.py3-none-manylinux1_x86_64.whl (79.9 MB)\n",
            "\u001b[2K     \u001b[90m━━━━━━━━━━━━━━━━━━━━━━━━━━━━━━━━━━━━━━━━\u001b[0m \u001b[32m79.9/79.9 MB\u001b[0m \u001b[31m9.7 MB/s\u001b[0m eta \u001b[36m0:00:00\u001b[0m\n",
            "\u001b[?25hCollecting schemdraw==0.15 (from pycaret)\n",
            "  Downloading schemdraw-0.15-py3-none-any.whl (106 kB)\n",
            "\u001b[2K     \u001b[90m━━━━━━━━━━━━━━━━━━━━━━━━━━━━━━━━━━━━━━\u001b[0m \u001b[32m106.8/106.8 kB\u001b[0m \u001b[31m10.4 MB/s\u001b[0m eta \u001b[36m0:00:00\u001b[0m\n",
            "\u001b[?25hCollecting plotly-resampler>=0.8.3.1 (from pycaret)\n",
            "  Downloading plotly_resampler-0.8.3.2.tar.gz (46 kB)\n",
            "\u001b[2K     \u001b[90m━━━━━━━━━━━━━━━━━━━━━━━━━━━━━━━━━━━━━━━━\u001b[0m \u001b[32m46.4/46.4 kB\u001b[0m \u001b[31m4.5 MB/s\u001b[0m eta \u001b[36m0:00:00\u001b[0m\n",
            "\u001b[?25h  Installing build dependencies ... \u001b[?25l\u001b[?25hdone\n",
            "  Getting requirements to build wheel ... \u001b[?25l\u001b[?25hdone\n",
            "  Preparing metadata (pyproject.toml) ... \u001b[?25l\u001b[?25hdone\n",
            "Requirement already satisfied: statsmodels>=0.12.1 in /usr/local/lib/python3.10/dist-packages (from pycaret) (0.13.5)\n",
            "Collecting sktime!=0.17.1,<0.17.2,>=0.16.1 (from pycaret)\n",
            "  Downloading sktime-0.17.0-py3-none-any.whl (16.1 MB)\n",
            "\u001b[2K     \u001b[90m━━━━━━━━━━━━━━━━━━━━━━━━━━━━━━━━━━━━━━━━\u001b[0m \u001b[32m16.1/16.1 MB\u001b[0m \u001b[31m83.4 MB/s\u001b[0m eta \u001b[36m0:00:00\u001b[0m\n",
            "\u001b[?25hCollecting tbats>=1.1.3 (from pycaret)\n",
            "  Downloading tbats-1.1.3-py3-none-any.whl (44 kB)\n",
            "\u001b[2K     \u001b[90m━━━━━━━━━━━━━━━━━━━━━━━━━━━━━━━━━━━━━━━━\u001b[0m \u001b[32m44.0/44.0 kB\u001b[0m \u001b[31m4.2 MB/s\u001b[0m eta \u001b[36m0:00:00\u001b[0m\n",
            "\u001b[?25hCollecting pmdarima!=1.8.1,<3.0.0,>=1.8.0 (from pycaret)\n",
            "  Downloading pmdarima-2.0.3-cp310-cp310-manylinux_2_17_x86_64.manylinux2014_x86_64.manylinux_2_28_x86_64.whl (1.8 MB)\n",
            "\u001b[2K     \u001b[90m━━━━━━━━━━━━━━━━━━━━━━━━━━━━━━━━━━━━━━━━\u001b[0m \u001b[32m1.8/1.8 MB\u001b[0m \u001b[31m67.6 MB/s\u001b[0m eta \u001b[36m0:00:00\u001b[0m\n",
            "\u001b[?25hCollecting wurlitzer (from pycaret)\n",
            "  Downloading wurlitzer-3.0.3-py3-none-any.whl (7.3 kB)\n",
            "Requirement already satisfied: patsy>=0.5.1 in /usr/local/lib/python3.10/dist-packages (from category-encoders>=2.4.0->pycaret) (0.5.3)\n",
            "Requirement already satisfied: packaging in /usr/local/lib/python3.10/dist-packages (from deprecation>=2.1.0->pycaret) (23.1)\n",
            "Requirement already satisfied: threadpoolctl>=2.0.0 in /usr/local/lib/python3.10/dist-packages (from imbalanced-learn>=0.8.1->pycaret) (3.1.0)\n",
            "Requirement already satisfied: zipp>=0.5 in /usr/local/lib/python3.10/dist-packages (from importlib-metadata>=4.12.0->pycaret) (3.15.0)\n",
            "Requirement already satisfied: setuptools>=18.5 in /usr/local/lib/python3.10/dist-packages (from ipython>=5.5.0->pycaret) (67.7.2)\n",
            "Collecting jedi>=0.16 (from ipython>=5.5.0->pycaret)\n",
            "  Downloading jedi-0.18.2-py2.py3-none-any.whl (1.6 MB)\n",
            "\u001b[2K     \u001b[90m━━━━━━━━━━━━━━━━━━━━━━━━━━━━━━━━━━━━━━━━\u001b[0m \u001b[32m1.6/1.6 MB\u001b[0m \u001b[31m73.6 MB/s\u001b[0m eta \u001b[36m0:00:00\u001b[0m\n",
            "\u001b[?25hRequirement already satisfied: decorator in /usr/local/lib/python3.10/dist-packages (from ipython>=5.5.0->pycaret) (4.4.2)\n",
            "Requirement already satisfied: pickleshare in /usr/local/lib/python3.10/dist-packages (from ipython>=5.5.0->pycaret) (0.7.5)\n",
            "Requirement already satisfied: traitlets>=4.2 in /usr/local/lib/python3.10/dist-packages (from ipython>=5.5.0->pycaret) (5.7.1)\n",
            "Requirement already satisfied: prompt-toolkit!=3.0.0,!=3.0.1,<3.1.0,>=2.0.0 in /usr/local/lib/python3.10/dist-packages (from ipython>=5.5.0->pycaret) (3.0.38)\n",
            "Requirement already satisfied: pygments in /usr/local/lib/python3.10/dist-packages (from ipython>=5.5.0->pycaret) (2.14.0)\n",
            "Requirement already satisfied: backcall in /usr/local/lib/python3.10/dist-packages (from ipython>=5.5.0->pycaret) (0.2.0)\n",
            "Requirement already satisfied: matplotlib-inline in /usr/local/lib/python3.10/dist-packages (from ipython>=5.5.0->pycaret) (0.1.6)\n",
            "Requirement already satisfied: pexpect>4.3 in /usr/local/lib/python3.10/dist-packages (from ipython>=5.5.0->pycaret) (4.8.0)\n",
            "Requirement already satisfied: ipykernel>=4.5.1 in /usr/local/lib/python3.10/dist-packages (from ipywidgets>=7.6.5->pycaret) (5.5.6)\n",
            "Requirement already satisfied: ipython-genutils~=0.2.0 in /usr/local/lib/python3.10/dist-packages (from ipywidgets>=7.6.5->pycaret) (0.2.0)\n",
            "Requirement already satisfied: widgetsnbextension~=3.6.0 in /usr/local/lib/python3.10/dist-packages (from ipywidgets>=7.6.5->pycaret) (3.6.4)\n",
            "Requirement already satisfied: jupyterlab-widgets>=1.0.0 in /usr/local/lib/python3.10/dist-packages (from ipywidgets>=7.6.5->pycaret) (3.0.7)\n",
            "Requirement already satisfied: wheel in /usr/local/lib/python3.10/dist-packages (from lightgbm>=3.0.0->pycaret) (0.40.0)\n",
            "Requirement already satisfied: contourpy>=1.0.1 in /usr/local/lib/python3.10/dist-packages (from matplotlib>=3.3.0->pycaret) (1.0.7)\n",
            "Requirement already satisfied: cycler>=0.10 in /usr/local/lib/python3.10/dist-packages (from matplotlib>=3.3.0->pycaret) (0.11.0)\n",
            "Requirement already satisfied: fonttools>=4.22.0 in /usr/local/lib/python3.10/dist-packages (from matplotlib>=3.3.0->pycaret) (4.39.3)\n",
            "Requirement already satisfied: kiwisolver>=1.0.1 in /usr/local/lib/python3.10/dist-packages (from matplotlib>=3.3.0->pycaret) (1.4.4)\n",
            "Requirement already satisfied: pillow>=6.2.0 in /usr/local/lib/python3.10/dist-packages (from matplotlib>=3.3.0->pycaret) (8.4.0)\n",
            "Requirement already satisfied: pyparsing>=2.3.1 in /usr/local/lib/python3.10/dist-packages (from matplotlib>=3.3.0->pycaret) (3.0.9)\n",
            "Requirement already satisfied: python-dateutil>=2.7 in /usr/local/lib/python3.10/dist-packages (from matplotlib>=3.3.0->pycaret) (2.8.2)\n",
            "Requirement already satisfied: fastjsonschema in /usr/local/lib/python3.10/dist-packages (from nbformat>=4.2.0->pycaret) (2.16.3)\n",
            "Requirement already satisfied: jsonschema>=2.6 in /usr/local/lib/python3.10/dist-packages (from nbformat>=4.2.0->pycaret) (4.3.3)\n",
            "Requirement already satisfied: jupyter-core in /usr/local/lib/python3.10/dist-packages (from nbformat>=4.2.0->pycaret) (5.3.0)\n",
            "Requirement already satisfied: llvmlite<0.40,>=0.39.0dev0 in /usr/local/lib/python3.10/dist-packages (from numba>=0.55.0->pycaret) (0.39.1)\n",
            "Requirement already satisfied: pytz>=2020.1 in /usr/local/lib/python3.10/dist-packages (from pandas<2.0.0,>=1.3.0->pycaret) (2022.7.1)\n",
            "Requirement already satisfied: tenacity>=6.2.0 in /usr/local/lib/python3.10/dist-packages (from plotly>=5.0.0->pycaret) (8.2.2)\n",
            "Collecting dash<3.0.0,>=2.2.0 (from plotly-resampler>=0.8.3.1->pycaret)\n",
            "  Downloading dash-2.10.2-py3-none-any.whl (10.3 MB)\n",
            "\u001b[2K     \u001b[90m━━━━━━━━━━━━━━━━━━━━━━━━━━━━━━━━━━━━━━━\u001b[0m \u001b[32m10.3/10.3 MB\u001b[0m \u001b[31m100.6 MB/s\u001b[0m eta \u001b[36m0:00:00\u001b[0m\n",
            "\u001b[?25hCollecting jupyter-dash>=0.4.2 (from plotly-resampler>=0.8.3.1->pycaret)\n",
            "  Downloading jupyter_dash-0.4.2-py3-none-any.whl (23 kB)\n",
            "Collecting orjson<4.0.0,>=3.8.0 (from plotly-resampler>=0.8.3.1->pycaret)\n",
            "  Downloading orjson-3.9.0-cp310-cp310-manylinux_2_17_x86_64.manylinux2014_x86_64.whl (136 kB)\n",
            "\u001b[2K     \u001b[90m━━━━━━━━━━━━━━━━━━━━━━━━━━━━━━━━━━━━━━━\u001b[0m \u001b[32m137.0/137.0 kB\u001b[0m \u001b[31m6.7 MB/s\u001b[0m eta \u001b[36m0:00:00\u001b[0m\n",
            "\u001b[?25hCollecting trace-updater>=0.0.8 (from plotly-resampler>=0.8.3.1->pycaret)\n",
            "  Downloading trace_updater-0.0.9.1-py3-none-any.whl (185 kB)\n",
            "\u001b[2K     \u001b[90m━━━━━━━━━━━━━━━━━━━━━━━━━━━━━━━━━━━━━━\u001b[0m \u001b[32m185.2/185.2 kB\u001b[0m \u001b[31m14.3 MB/s\u001b[0m eta \u001b[36m0:00:00\u001b[0m\n",
            "\u001b[?25hRequirement already satisfied: Cython!=0.29.18,!=0.29.31,>=0.29 in /usr/local/lib/python3.10/dist-packages (from pmdarima!=1.8.1,<3.0.0,>=1.8.0->pycaret) (0.29.34)\n",
            "Requirement already satisfied: urllib3 in /usr/local/lib/python3.10/dist-packages (from pmdarima!=1.8.1,<3.0.0,>=1.8.0->pycaret) (1.26.15)\n",
            "Requirement already satisfied: six in /usr/local/lib/python3.10/dist-packages (from pyod>=1.0.8->pycaret) (1.16.0)\n",
            "Requirement already satisfied: certifi>=2017.4.17 in /usr/local/lib/python3.10/dist-packages (from requests>=2.27.1->pycaret) (2022.12.7)\n",
            "Requirement already satisfied: charset-normalizer~=2.0.0 in /usr/local/lib/python3.10/dist-packages (from requests>=2.27.1->pycaret) (2.0.12)\n",
            "Requirement already satisfied: idna<4,>=2.5 in /usr/local/lib/python3.10/dist-packages (from requests>=2.27.1->pycaret) (3.4)\n",
            "Collecting deprecated>=1.2.13 (from sktime!=0.17.1,<0.17.2,>=0.16.1->pycaret)\n",
            "  Downloading Deprecated-1.2.14-py2.py3-none-any.whl (9.6 kB)\n",
            "Requirement already satisfied: Flask<2.3.0,>=1.0.4 in /usr/local/lib/python3.10/dist-packages (from dash<3.0.0,>=2.2.0->plotly-resampler>=0.8.3.1->pycaret) (2.2.4)\n",
            "Collecting Werkzeug<2.3.0 (from dash<3.0.0,>=2.2.0->plotly-resampler>=0.8.3.1->pycaret)\n",
            "  Downloading Werkzeug-2.2.3-py3-none-any.whl (233 kB)\n",
            "\u001b[2K     \u001b[90m━━━━━━━━━━━━━━━━━━━━━━━━━━━━━━━━━━━━━━\u001b[0m \u001b[32m233.6/233.6 kB\u001b[0m \u001b[31m18.6 MB/s\u001b[0m eta \u001b[36m0:00:00\u001b[0m\n",
            "\u001b[?25hCollecting dash-html-components==2.0.0 (from dash<3.0.0,>=2.2.0->plotly-resampler>=0.8.3.1->pycaret)\n",
            "  Downloading dash_html_components-2.0.0-py3-none-any.whl (4.1 kB)\n",
            "Collecting dash-core-components==2.0.0 (from dash<3.0.0,>=2.2.0->plotly-resampler>=0.8.3.1->pycaret)\n",
            "  Downloading dash_core_components-2.0.0-py3-none-any.whl (3.8 kB)\n",
            "Collecting dash-table==5.0.0 (from dash<3.0.0,>=2.2.0->plotly-resampler>=0.8.3.1->pycaret)\n",
            "  Downloading dash_table-5.0.0-py3-none-any.whl (3.9 kB)\n",
            "Requirement already satisfied: wrapt<2,>=1.10 in /usr/local/lib/python3.10/dist-packages (from deprecated>=1.2.13->sktime!=0.17.1,<0.17.2,>=0.16.1->pycaret) (1.14.1)\n",
            "Requirement already satisfied: jupyter-client in /usr/local/lib/python3.10/dist-packages (from ipykernel>=4.5.1->ipywidgets>=7.6.5->pycaret) (6.1.12)\n",
            "Requirement already satisfied: tornado>=4.2 in /usr/local/lib/python3.10/dist-packages (from ipykernel>=4.5.1->ipywidgets>=7.6.5->pycaret) (6.3.1)\n",
            "Requirement already satisfied: parso<0.9.0,>=0.8.0 in /usr/local/lib/python3.10/dist-packages (from jedi>=0.16->ipython>=5.5.0->pycaret) (0.8.3)\n",
            "Requirement already satisfied: attrs>=17.4.0 in /usr/local/lib/python3.10/dist-packages (from jsonschema>=2.6->nbformat>=4.2.0->pycaret) (23.1.0)\n",
            "Requirement already satisfied: pyrsistent!=0.17.0,!=0.17.1,!=0.17.2,>=0.14.0 in /usr/local/lib/python3.10/dist-packages (from jsonschema>=2.6->nbformat>=4.2.0->pycaret) (0.19.3)\n",
            "Collecting retrying (from jupyter-dash>=0.4.2->plotly-resampler>=0.8.3.1->pycaret)\n",
            "  Downloading retrying-1.3.4-py3-none-any.whl (11 kB)\n",
            "Collecting ansi2html (from jupyter-dash>=0.4.2->plotly-resampler>=0.8.3.1->pycaret)\n",
            "  Downloading ansi2html-1.8.0-py3-none-any.whl (16 kB)\n",
            "Requirement already satisfied: nest-asyncio in /usr/local/lib/python3.10/dist-packages (from jupyter-dash>=0.4.2->plotly-resampler>=0.8.3.1->pycaret) (1.5.6)\n",
            "Requirement already satisfied: ptyprocess>=0.5 in /usr/local/lib/python3.10/dist-packages (from pexpect>4.3->ipython>=5.5.0->pycaret) (0.7.0)\n",
            "Requirement already satisfied: wcwidth in /usr/local/lib/python3.10/dist-packages (from prompt-toolkit!=3.0.0,!=3.0.1,<3.1.0,>=2.0.0->ipython>=5.5.0->pycaret) (0.2.6)\n",
            "Requirement already satisfied: notebook>=4.4.1 in /usr/local/lib/python3.10/dist-packages (from widgetsnbextension~=3.6.0->ipywidgets>=7.6.5->pycaret) (6.4.8)\n",
            "Requirement already satisfied: platformdirs>=2.5 in /usr/local/lib/python3.10/dist-packages (from jupyter-core->nbformat>=4.2.0->pycaret) (3.3.0)\n",
            "Requirement already satisfied: itsdangerous>=2.0 in /usr/local/lib/python3.10/dist-packages (from Flask<2.3.0,>=1.0.4->dash<3.0.0,>=2.2.0->plotly-resampler>=0.8.3.1->pycaret) (2.1.2)\n",
            "Requirement already satisfied: click>=8.0 in /usr/local/lib/python3.10/dist-packages (from Flask<2.3.0,>=1.0.4->dash<3.0.0,>=2.2.0->plotly-resampler>=0.8.3.1->pycaret) (8.1.3)\n",
            "Requirement already satisfied: pyzmq>=17 in /usr/local/lib/python3.10/dist-packages (from notebook>=4.4.1->widgetsnbextension~=3.6.0->ipywidgets>=7.6.5->pycaret) (23.2.1)\n",
            "Requirement already satisfied: argon2-cffi in /usr/local/lib/python3.10/dist-packages (from notebook>=4.4.1->widgetsnbextension~=3.6.0->ipywidgets>=7.6.5->pycaret) (21.3.0)\n",
            "Requirement already satisfied: nbconvert in /usr/local/lib/python3.10/dist-packages (from notebook>=4.4.1->widgetsnbextension~=3.6.0->ipywidgets>=7.6.5->pycaret) (6.5.4)\n",
            "Requirement already satisfied: Send2Trash>=1.8.0 in /usr/local/lib/python3.10/dist-packages (from notebook>=4.4.1->widgetsnbextension~=3.6.0->ipywidgets>=7.6.5->pycaret) (1.8.0)\n",
            "Requirement already satisfied: terminado>=0.8.3 in /usr/local/lib/python3.10/dist-packages (from notebook>=4.4.1->widgetsnbextension~=3.6.0->ipywidgets>=7.6.5->pycaret) (0.17.1)\n",
            "Requirement already satisfied: prometheus-client in /usr/local/lib/python3.10/dist-packages (from notebook>=4.4.1->widgetsnbextension~=3.6.0->ipywidgets>=7.6.5->pycaret) (0.16.0)\n",
            "Requirement already satisfied: argon2-cffi-bindings in /usr/local/lib/python3.10/dist-packages (from argon2-cffi->notebook>=4.4.1->widgetsnbextension~=3.6.0->ipywidgets>=7.6.5->pycaret) (21.2.0)\n",
            "Requirement already satisfied: lxml in /usr/local/lib/python3.10/dist-packages (from nbconvert->notebook>=4.4.1->widgetsnbextension~=3.6.0->ipywidgets>=7.6.5->pycaret) (4.9.2)\n",
            "Requirement already satisfied: beautifulsoup4 in /usr/local/lib/python3.10/dist-packages (from nbconvert->notebook>=4.4.1->widgetsnbextension~=3.6.0->ipywidgets>=7.6.5->pycaret) (4.11.2)\n",
            "Requirement already satisfied: bleach in /usr/local/lib/python3.10/dist-packages (from nbconvert->notebook>=4.4.1->widgetsnbextension~=3.6.0->ipywidgets>=7.6.5->pycaret) (6.0.0)\n",
            "Requirement already satisfied: defusedxml in /usr/local/lib/python3.10/dist-packages (from nbconvert->notebook>=4.4.1->widgetsnbextension~=3.6.0->ipywidgets>=7.6.5->pycaret) (0.7.1)\n",
            "Requirement already satisfied: entrypoints>=0.2.2 in /usr/local/lib/python3.10/dist-packages (from nbconvert->notebook>=4.4.1->widgetsnbextension~=3.6.0->ipywidgets>=7.6.5->pycaret) (0.4)\n",
            "Requirement already satisfied: jupyterlab-pygments in /usr/local/lib/python3.10/dist-packages (from nbconvert->notebook>=4.4.1->widgetsnbextension~=3.6.0->ipywidgets>=7.6.5->pycaret) (0.2.2)\n",
            "Requirement already satisfied: mistune<2,>=0.8.1 in /usr/local/lib/python3.10/dist-packages (from nbconvert->notebook>=4.4.1->widgetsnbextension~=3.6.0->ipywidgets>=7.6.5->pycaret) (0.8.4)\n",
            "Requirement already satisfied: nbclient>=0.5.0 in /usr/local/lib/python3.10/dist-packages (from nbconvert->notebook>=4.4.1->widgetsnbextension~=3.6.0->ipywidgets>=7.6.5->pycaret) (0.7.4)\n",
            "Requirement already satisfied: pandocfilters>=1.4.1 in /usr/local/lib/python3.10/dist-packages (from nbconvert->notebook>=4.4.1->widgetsnbextension~=3.6.0->ipywidgets>=7.6.5->pycaret) (1.5.0)\n",
            "Requirement already satisfied: tinycss2 in /usr/local/lib/python3.10/dist-packages (from nbconvert->notebook>=4.4.1->widgetsnbextension~=3.6.0->ipywidgets>=7.6.5->pycaret) (1.2.1)\n",
            "Requirement already satisfied: cffi>=1.0.1 in /usr/local/lib/python3.10/dist-packages (from argon2-cffi-bindings->argon2-cffi->notebook>=4.4.1->widgetsnbextension~=3.6.0->ipywidgets>=7.6.5->pycaret) (1.15.1)\n",
            "Requirement already satisfied: soupsieve>1.2 in /usr/local/lib/python3.10/dist-packages (from beautifulsoup4->nbconvert->notebook>=4.4.1->widgetsnbextension~=3.6.0->ipywidgets>=7.6.5->pycaret) (2.4.1)\n",
            "Requirement already satisfied: webencodings in /usr/local/lib/python3.10/dist-packages (from bleach->nbconvert->notebook>=4.4.1->widgetsnbextension~=3.6.0->ipywidgets>=7.6.5->pycaret) (0.5.1)\n",
            "Requirement already satisfied: pycparser in /usr/local/lib/python3.10/dist-packages (from cffi>=1.0.1->argon2-cffi-bindings->argon2-cffi->notebook>=4.4.1->widgetsnbextension~=3.6.0->ipywidgets>=7.6.5->pycaret) (2.21)\n",
            "Building wheels for collected packages: plotly-resampler, pyod\n",
            "  Building wheel for plotly-resampler (pyproject.toml) ... \u001b[?25l\u001b[?25hdone\n",
            "  Created wheel for plotly-resampler: filename=plotly_resampler-0.8.3.2-cp310-cp310-manylinux_2_31_x86_64.whl size=75239 sha256=6be67c330c92fc1f6d8707d2a999af58cdef3673198006ea253b457c3d8f959e\n",
            "  Stored in directory: /root/.cache/pip/wheels/a9/19/e2/ec856d98cf9b617511fff0abae1dfed5bf1f6093ce65126b45\n",
            "  Building wheel for pyod (setup.py) ... \u001b[?25l\u001b[?25hdone\n",
            "  Created wheel for pyod: filename=pyod-1.0.9-py3-none-any.whl size=184097 sha256=2e506a0b9ea8441b3050164b237d7d03d22db06e3c9e4c2fbf519e7f8e63ba3c\n",
            "  Stored in directory: /root/.cache/pip/wheels/83/55/6b/552e083cf5509c0afe808b76cf434f1be284d01a112623bd37\n",
            "Successfully built plotly-resampler pyod\n",
            "Installing collected packages: trace-updater, kaleido, dash-table, dash-html-components, dash-core-components, xxhash, wurlitzer, Werkzeug, schemdraw, retrying, orjson, jedi, importlib-metadata, deprecation, deprecated, ansi2html, sktime, scikit-plot, pyod, dash, pmdarima, jupyter-dash, category-encoders, tbats, plotly-resampler, pycaret\n",
            "  Attempting uninstall: Werkzeug\n",
            "    Found existing installation: Werkzeug 2.3.0\n",
            "    Uninstalling Werkzeug-2.3.0:\n",
            "      Successfully uninstalled Werkzeug-2.3.0\n",
            "Successfully installed Werkzeug-2.2.3 ansi2html-1.8.0 category-encoders-2.6.1 dash-2.10.2 dash-core-components-2.0.0 dash-html-components-2.0.0 dash-table-5.0.0 deprecated-1.2.14 deprecation-2.1.0 importlib-metadata-6.6.0 jedi-0.18.2 jupyter-dash-0.4.2 kaleido-0.2.1 orjson-3.9.0 plotly-resampler-0.8.3.2 pmdarima-2.0.3 pycaret-3.0.2 pyod-1.0.9 retrying-1.3.4 schemdraw-0.15 scikit-plot-0.3.7 sktime-0.17.0 tbats-1.1.3 trace-updater-0.0.9.1 wurlitzer-3.0.3 xxhash-3.2.0\n"
          ]
        }
      ],
      "source": [
        "# Step 4: Installing the Pycaret library (helps to perform Auto-Machine Learn)\n",
        "!pip install pycaret"
      ],
      "id": "5U1Mqbfvsp2w"
    },
    {
      "cell_type": "code",
      "execution_count": 7,
      "metadata": {
        "id": "68ab1c7b"
      },
      "outputs": [],
      "source": [
        "# Step 5: Importing the classification library from PyCaret\n",
        "from pycaret import classification\n"
      ],
      "id": "68ab1c7b"
    },
    {
      "cell_type": "code",
      "execution_count": 35,
      "metadata": {
        "colab": {
          "base_uri": "https://localhost:8080/",
          "height": 676
        },
        "id": "00fff9af",
        "outputId": "01a81029-3791-4aae-e8ec-b7766a7d8fc1"
      },
      "outputs": [
        {
          "output_type": "display_data",
          "data": {
            "text/plain": [
              "<pandas.io.formats.style.Styler at 0x7fe0502050c0>"
            ],
            "text/html": [
              "<style type=\"text/css\">\n",
              "#T_ca7e0_row9_col1 {\n",
              "  background-color: lightgreen;\n",
              "}\n",
              "</style>\n",
              "<table id=\"T_ca7e0\" class=\"dataframe\">\n",
              "  <thead>\n",
              "    <tr>\n",
              "      <th class=\"blank level0\" >&nbsp;</th>\n",
              "      <th id=\"T_ca7e0_level0_col0\" class=\"col_heading level0 col0\" >Description</th>\n",
              "      <th id=\"T_ca7e0_level0_col1\" class=\"col_heading level0 col1\" >Value</th>\n",
              "    </tr>\n",
              "  </thead>\n",
              "  <tbody>\n",
              "    <tr>\n",
              "      <th id=\"T_ca7e0_level0_row0\" class=\"row_heading level0 row0\" >0</th>\n",
              "      <td id=\"T_ca7e0_row0_col0\" class=\"data row0 col0\" >Session id</td>\n",
              "      <td id=\"T_ca7e0_row0_col1\" class=\"data row0 col1\" >4604</td>\n",
              "    </tr>\n",
              "    <tr>\n",
              "      <th id=\"T_ca7e0_level0_row1\" class=\"row_heading level0 row1\" >1</th>\n",
              "      <td id=\"T_ca7e0_row1_col0\" class=\"data row1 col0\" >Target</td>\n",
              "      <td id=\"T_ca7e0_row1_col1\" class=\"data row1 col1\" >Classes</td>\n",
              "    </tr>\n",
              "    <tr>\n",
              "      <th id=\"T_ca7e0_level0_row2\" class=\"row_heading level0 row2\" >2</th>\n",
              "      <td id=\"T_ca7e0_row2_col0\" class=\"data row2 col0\" >Target type</td>\n",
              "      <td id=\"T_ca7e0_row2_col1\" class=\"data row2 col1\" >Multiclass</td>\n",
              "    </tr>\n",
              "    <tr>\n",
              "      <th id=\"T_ca7e0_level0_row3\" class=\"row_heading level0 row3\" >3</th>\n",
              "      <td id=\"T_ca7e0_row3_col0\" class=\"data row3 col0\" >Target mapping</td>\n",
              "      <td id=\"T_ca7e0_row3_col1\" class=\"data row3 col1\" >DM2: 0, DYS: 1, HC: 2, HT: 3, Healthy: 4, PREDM: 5</td>\n",
              "    </tr>\n",
              "    <tr>\n",
              "      <th id=\"T_ca7e0_level0_row4\" class=\"row_heading level0 row4\" >4</th>\n",
              "      <td id=\"T_ca7e0_row4_col0\" class=\"data row4 col0\" >Original data shape</td>\n",
              "      <td id=\"T_ca7e0_row4_col1\" class=\"data row4 col1\" >(600, 2542)</td>\n",
              "    </tr>\n",
              "    <tr>\n",
              "      <th id=\"T_ca7e0_level0_row5\" class=\"row_heading level0 row5\" >5</th>\n",
              "      <td id=\"T_ca7e0_row5_col0\" class=\"data row5 col0\" >Transformed data shape</td>\n",
              "      <td id=\"T_ca7e0_row5_col1\" class=\"data row5 col1\" >(600, 2542)</td>\n",
              "    </tr>\n",
              "    <tr>\n",
              "      <th id=\"T_ca7e0_level0_row6\" class=\"row_heading level0 row6\" >6</th>\n",
              "      <td id=\"T_ca7e0_row6_col0\" class=\"data row6 col0\" >Transformed train set shape</td>\n",
              "      <td id=\"T_ca7e0_row6_col1\" class=\"data row6 col1\" >(420, 2542)</td>\n",
              "    </tr>\n",
              "    <tr>\n",
              "      <th id=\"T_ca7e0_level0_row7\" class=\"row_heading level0 row7\" >7</th>\n",
              "      <td id=\"T_ca7e0_row7_col0\" class=\"data row7 col0\" >Transformed test set shape</td>\n",
              "      <td id=\"T_ca7e0_row7_col1\" class=\"data row7 col1\" >(180, 2542)</td>\n",
              "    </tr>\n",
              "    <tr>\n",
              "      <th id=\"T_ca7e0_level0_row8\" class=\"row_heading level0 row8\" >8</th>\n",
              "      <td id=\"T_ca7e0_row8_col0\" class=\"data row8 col0\" >Numeric features</td>\n",
              "      <td id=\"T_ca7e0_row8_col1\" class=\"data row8 col1\" >2541</td>\n",
              "    </tr>\n",
              "    <tr>\n",
              "      <th id=\"T_ca7e0_level0_row9\" class=\"row_heading level0 row9\" >9</th>\n",
              "      <td id=\"T_ca7e0_row9_col0\" class=\"data row9 col0\" >Preprocess</td>\n",
              "      <td id=\"T_ca7e0_row9_col1\" class=\"data row9 col1\" >True</td>\n",
              "    </tr>\n",
              "    <tr>\n",
              "      <th id=\"T_ca7e0_level0_row10\" class=\"row_heading level0 row10\" >10</th>\n",
              "      <td id=\"T_ca7e0_row10_col0\" class=\"data row10 col0\" >Imputation type</td>\n",
              "      <td id=\"T_ca7e0_row10_col1\" class=\"data row10 col1\" >simple</td>\n",
              "    </tr>\n",
              "    <tr>\n",
              "      <th id=\"T_ca7e0_level0_row11\" class=\"row_heading level0 row11\" >11</th>\n",
              "      <td id=\"T_ca7e0_row11_col0\" class=\"data row11 col0\" >Numeric imputation</td>\n",
              "      <td id=\"T_ca7e0_row11_col1\" class=\"data row11 col1\" >mean</td>\n",
              "    </tr>\n",
              "    <tr>\n",
              "      <th id=\"T_ca7e0_level0_row12\" class=\"row_heading level0 row12\" >12</th>\n",
              "      <td id=\"T_ca7e0_row12_col0\" class=\"data row12 col0\" >Categorical imputation</td>\n",
              "      <td id=\"T_ca7e0_row12_col1\" class=\"data row12 col1\" >mode</td>\n",
              "    </tr>\n",
              "    <tr>\n",
              "      <th id=\"T_ca7e0_level0_row13\" class=\"row_heading level0 row13\" >13</th>\n",
              "      <td id=\"T_ca7e0_row13_col0\" class=\"data row13 col0\" >Fold Generator</td>\n",
              "      <td id=\"T_ca7e0_row13_col1\" class=\"data row13 col1\" >StratifiedKFold</td>\n",
              "    </tr>\n",
              "    <tr>\n",
              "      <th id=\"T_ca7e0_level0_row14\" class=\"row_heading level0 row14\" >14</th>\n",
              "      <td id=\"T_ca7e0_row14_col0\" class=\"data row14 col0\" >Fold Number</td>\n",
              "      <td id=\"T_ca7e0_row14_col1\" class=\"data row14 col1\" >10</td>\n",
              "    </tr>\n",
              "    <tr>\n",
              "      <th id=\"T_ca7e0_level0_row15\" class=\"row_heading level0 row15\" >15</th>\n",
              "      <td id=\"T_ca7e0_row15_col0\" class=\"data row15 col0\" >CPU Jobs</td>\n",
              "      <td id=\"T_ca7e0_row15_col1\" class=\"data row15 col1\" >-1</td>\n",
              "    </tr>\n",
              "    <tr>\n",
              "      <th id=\"T_ca7e0_level0_row16\" class=\"row_heading level0 row16\" >16</th>\n",
              "      <td id=\"T_ca7e0_row16_col0\" class=\"data row16 col0\" >Use GPU</td>\n",
              "      <td id=\"T_ca7e0_row16_col1\" class=\"data row16 col1\" >False</td>\n",
              "    </tr>\n",
              "    <tr>\n",
              "      <th id=\"T_ca7e0_level0_row17\" class=\"row_heading level0 row17\" >17</th>\n",
              "      <td id=\"T_ca7e0_row17_col0\" class=\"data row17 col0\" >Log Experiment</td>\n",
              "      <td id=\"T_ca7e0_row17_col1\" class=\"data row17 col1\" >False</td>\n",
              "    </tr>\n",
              "    <tr>\n",
              "      <th id=\"T_ca7e0_level0_row18\" class=\"row_heading level0 row18\" >18</th>\n",
              "      <td id=\"T_ca7e0_row18_col0\" class=\"data row18 col0\" >Experiment Name</td>\n",
              "      <td id=\"T_ca7e0_row18_col1\" class=\"data row18 col1\" >clf-default-name</td>\n",
              "    </tr>\n",
              "    <tr>\n",
              "      <th id=\"T_ca7e0_level0_row19\" class=\"row_heading level0 row19\" >19</th>\n",
              "      <td id=\"T_ca7e0_row19_col0\" class=\"data row19 col0\" >USI</td>\n",
              "      <td id=\"T_ca7e0_row19_col1\" class=\"data row19 col1\" >19c0</td>\n",
              "    </tr>\n",
              "  </tbody>\n",
              "</table>\n"
            ]
          },
          "metadata": {}
        }
      ],
      "source": [
        "# Step 6: Pre-processing the data\n",
        "classification_setup = classification.setup(data = df1, target = \"Classes\")"
      ],
      "id": "00fff9af"
    },
    {
      "cell_type": "code",
      "execution_count": 36,
      "metadata": {
        "colab": {
          "base_uri": "https://localhost:8080/",
          "height": 519,
          "referenced_widgets": [
            "c716db89fdfa489b87be81f72eec830a",
            "1dad5ba727be4db68f4ada40c771a891",
            "63b549dbbb374388a91bb79de608aaf8",
            "7aae4a1f3f174357be2407d38fbb754f",
            "4a61b753ad124e64a2e786e882f52a98",
            "a4a615942e6749659c07444f1e973f83",
            "2fe53d66dfaf40078ddf3629135cdf97",
            "27f7d97c0d5041a6aa014ba64d25481b",
            "58427b6498074ad7b6bda69f615a1ed8",
            "6486890490514ce7a7a81dacd1fa6a16",
            "ab421190d0214941a166a23a9bd046bd"
          ]
        },
        "id": "4e906af1",
        "outputId": "4996de5e-f0d2-465a-a263-415ddf01b740"
      },
      "outputs": [
        {
          "output_type": "display_data",
          "data": {
            "text/plain": [
              "<IPython.core.display.HTML object>"
            ],
            "text/html": []
          },
          "metadata": {}
        },
        {
          "output_type": "display_data",
          "data": {
            "text/plain": [
              "<pandas.io.formats.style.Styler at 0x7fe04aab29e0>"
            ],
            "text/html": [
              "<style type=\"text/css\">\n",
              "#T_abf84 th {\n",
              "  text-align: left;\n",
              "}\n",
              "#T_abf84_row0_col0, #T_abf84_row0_col2, #T_abf84_row1_col0, #T_abf84_row1_col1, #T_abf84_row1_col3, #T_abf84_row1_col4, #T_abf84_row1_col5, #T_abf84_row1_col6, #T_abf84_row1_col7, #T_abf84_row2_col0, #T_abf84_row2_col1, #T_abf84_row2_col3, #T_abf84_row2_col4, #T_abf84_row2_col5, #T_abf84_row2_col6, #T_abf84_row2_col7, #T_abf84_row3_col0, #T_abf84_row3_col1, #T_abf84_row3_col2, #T_abf84_row3_col3, #T_abf84_row3_col4, #T_abf84_row3_col5, #T_abf84_row3_col6, #T_abf84_row3_col7, #T_abf84_row4_col0, #T_abf84_row4_col1, #T_abf84_row4_col2, #T_abf84_row4_col3, #T_abf84_row4_col4, #T_abf84_row4_col5, #T_abf84_row4_col6, #T_abf84_row4_col7, #T_abf84_row5_col0, #T_abf84_row5_col1, #T_abf84_row5_col2, #T_abf84_row5_col3, #T_abf84_row5_col4, #T_abf84_row5_col5, #T_abf84_row5_col6, #T_abf84_row5_col7, #T_abf84_row6_col0, #T_abf84_row6_col1, #T_abf84_row6_col2, #T_abf84_row6_col3, #T_abf84_row6_col4, #T_abf84_row6_col5, #T_abf84_row6_col6, #T_abf84_row6_col7, #T_abf84_row7_col0, #T_abf84_row7_col1, #T_abf84_row7_col2, #T_abf84_row7_col3, #T_abf84_row7_col4, #T_abf84_row7_col5, #T_abf84_row7_col6, #T_abf84_row7_col7, #T_abf84_row8_col0, #T_abf84_row8_col1, #T_abf84_row8_col2, #T_abf84_row8_col3, #T_abf84_row8_col4, #T_abf84_row8_col5, #T_abf84_row8_col6, #T_abf84_row8_col7, #T_abf84_row9_col0, #T_abf84_row9_col1, #T_abf84_row9_col2, #T_abf84_row9_col3, #T_abf84_row9_col4, #T_abf84_row9_col5, #T_abf84_row9_col6, #T_abf84_row9_col7, #T_abf84_row10_col0, #T_abf84_row10_col1, #T_abf84_row10_col2, #T_abf84_row10_col3, #T_abf84_row10_col4, #T_abf84_row10_col5, #T_abf84_row10_col6, #T_abf84_row10_col7, #T_abf84_row11_col0, #T_abf84_row11_col1, #T_abf84_row11_col2, #T_abf84_row11_col3, #T_abf84_row11_col4, #T_abf84_row11_col5, #T_abf84_row11_col6, #T_abf84_row11_col7, #T_abf84_row12_col0, #T_abf84_row12_col1, #T_abf84_row12_col2, #T_abf84_row12_col3, #T_abf84_row12_col4, #T_abf84_row12_col5, #T_abf84_row12_col6, #T_abf84_row12_col7, #T_abf84_row13_col0, #T_abf84_row13_col1, #T_abf84_row13_col2, #T_abf84_row13_col3, #T_abf84_row13_col4, #T_abf84_row13_col5, #T_abf84_row13_col6, #T_abf84_row13_col7, #T_abf84_row14_col0, #T_abf84_row14_col1, #T_abf84_row14_col2, #T_abf84_row14_col3, #T_abf84_row14_col4, #T_abf84_row14_col5, #T_abf84_row14_col6, #T_abf84_row14_col7 {\n",
              "  text-align: left;\n",
              "}\n",
              "#T_abf84_row0_col1, #T_abf84_row0_col3, #T_abf84_row0_col4, #T_abf84_row0_col5, #T_abf84_row0_col6, #T_abf84_row0_col7, #T_abf84_row1_col2, #T_abf84_row2_col2 {\n",
              "  text-align: left;\n",
              "  background-color: yellow;\n",
              "}\n",
              "#T_abf84_row0_col8, #T_abf84_row1_col8, #T_abf84_row2_col8, #T_abf84_row3_col8, #T_abf84_row4_col8, #T_abf84_row5_col8, #T_abf84_row6_col8, #T_abf84_row7_col8, #T_abf84_row8_col8, #T_abf84_row10_col8, #T_abf84_row11_col8, #T_abf84_row12_col8, #T_abf84_row13_col8, #T_abf84_row14_col8 {\n",
              "  text-align: left;\n",
              "  background-color: lightgrey;\n",
              "}\n",
              "#T_abf84_row9_col8 {\n",
              "  text-align: left;\n",
              "  background-color: yellow;\n",
              "  background-color: lightgrey;\n",
              "}\n",
              "</style>\n",
              "<table id=\"T_abf84\" class=\"dataframe\">\n",
              "  <thead>\n",
              "    <tr>\n",
              "      <th class=\"blank level0\" >&nbsp;</th>\n",
              "      <th id=\"T_abf84_level0_col0\" class=\"col_heading level0 col0\" >Model</th>\n",
              "      <th id=\"T_abf84_level0_col1\" class=\"col_heading level0 col1\" >Accuracy</th>\n",
              "      <th id=\"T_abf84_level0_col2\" class=\"col_heading level0 col2\" >AUC</th>\n",
              "      <th id=\"T_abf84_level0_col3\" class=\"col_heading level0 col3\" >Recall</th>\n",
              "      <th id=\"T_abf84_level0_col4\" class=\"col_heading level0 col4\" >Prec.</th>\n",
              "      <th id=\"T_abf84_level0_col5\" class=\"col_heading level0 col5\" >F1</th>\n",
              "      <th id=\"T_abf84_level0_col6\" class=\"col_heading level0 col6\" >Kappa</th>\n",
              "      <th id=\"T_abf84_level0_col7\" class=\"col_heading level0 col7\" >MCC</th>\n",
              "      <th id=\"T_abf84_level0_col8\" class=\"col_heading level0 col8\" >TT (Sec)</th>\n",
              "    </tr>\n",
              "  </thead>\n",
              "  <tbody>\n",
              "    <tr>\n",
              "      <th id=\"T_abf84_level0_row0\" class=\"row_heading level0 row0\" >et</th>\n",
              "      <td id=\"T_abf84_row0_col0\" class=\"data row0 col0\" >Extra Trees Classifier</td>\n",
              "      <td id=\"T_abf84_row0_col1\" class=\"data row0 col1\" >0.9929</td>\n",
              "      <td id=\"T_abf84_row0_col2\" class=\"data row0 col2\" >0.9999</td>\n",
              "      <td id=\"T_abf84_row0_col3\" class=\"data row0 col3\" >0.9929</td>\n",
              "      <td id=\"T_abf84_row0_col4\" class=\"data row0 col4\" >0.9937</td>\n",
              "      <td id=\"T_abf84_row0_col5\" class=\"data row0 col5\" >0.9928</td>\n",
              "      <td id=\"T_abf84_row0_col6\" class=\"data row0 col6\" >0.9914</td>\n",
              "      <td id=\"T_abf84_row0_col7\" class=\"data row0 col7\" >0.9916</td>\n",
              "      <td id=\"T_abf84_row0_col8\" class=\"data row0 col8\" >1.4640</td>\n",
              "    </tr>\n",
              "    <tr>\n",
              "      <th id=\"T_abf84_level0_row1\" class=\"row_heading level0 row1\" >rf</th>\n",
              "      <td id=\"T_abf84_row1_col0\" class=\"data row1 col0\" >Random Forest Classifier</td>\n",
              "      <td id=\"T_abf84_row1_col1\" class=\"data row1 col1\" >0.9905</td>\n",
              "      <td id=\"T_abf84_row1_col2\" class=\"data row1 col2\" >1.0000</td>\n",
              "      <td id=\"T_abf84_row1_col3\" class=\"data row1 col3\" >0.9905</td>\n",
              "      <td id=\"T_abf84_row1_col4\" class=\"data row1 col4\" >0.9917</td>\n",
              "      <td id=\"T_abf84_row1_col5\" class=\"data row1 col5\" >0.9904</td>\n",
              "      <td id=\"T_abf84_row1_col6\" class=\"data row1 col6\" >0.9886</td>\n",
              "      <td id=\"T_abf84_row1_col7\" class=\"data row1 col7\" >0.9888</td>\n",
              "      <td id=\"T_abf84_row1_col8\" class=\"data row1 col8\" >1.7090</td>\n",
              "    </tr>\n",
              "    <tr>\n",
              "      <th id=\"T_abf84_level0_row2\" class=\"row_heading level0 row2\" >lda</th>\n",
              "      <td id=\"T_abf84_row2_col0\" class=\"data row2 col0\" >Linear Discriminant Analysis</td>\n",
              "      <td id=\"T_abf84_row2_col1\" class=\"data row2 col1\" >0.9905</td>\n",
              "      <td id=\"T_abf84_row2_col2\" class=\"data row2 col2\" >1.0000</td>\n",
              "      <td id=\"T_abf84_row2_col3\" class=\"data row2 col3\" >0.9905</td>\n",
              "      <td id=\"T_abf84_row2_col4\" class=\"data row2 col4\" >0.9921</td>\n",
              "      <td id=\"T_abf84_row2_col5\" class=\"data row2 col5\" >0.9904</td>\n",
              "      <td id=\"T_abf84_row2_col6\" class=\"data row2 col6\" >0.9886</td>\n",
              "      <td id=\"T_abf84_row2_col7\" class=\"data row2 col7\" >0.9890</td>\n",
              "      <td id=\"T_abf84_row2_col8\" class=\"data row2 col8\" >1.2580</td>\n",
              "    </tr>\n",
              "    <tr>\n",
              "      <th id=\"T_abf84_level0_row3\" class=\"row_heading level0 row3\" >dt</th>\n",
              "      <td id=\"T_abf84_row3_col0\" class=\"data row3 col0\" >Decision Tree Classifier</td>\n",
              "      <td id=\"T_abf84_row3_col1\" class=\"data row3 col1\" >0.9762</td>\n",
              "      <td id=\"T_abf84_row3_col2\" class=\"data row3 col2\" >0.9857</td>\n",
              "      <td id=\"T_abf84_row3_col3\" class=\"data row3 col3\" >0.9762</td>\n",
              "      <td id=\"T_abf84_row3_col4\" class=\"data row3 col4\" >0.9780</td>\n",
              "      <td id=\"T_abf84_row3_col5\" class=\"data row3 col5\" >0.9761</td>\n",
              "      <td id=\"T_abf84_row3_col6\" class=\"data row3 col6\" >0.9714</td>\n",
              "      <td id=\"T_abf84_row3_col7\" class=\"data row3 col7\" >0.9718</td>\n",
              "      <td id=\"T_abf84_row3_col8\" class=\"data row3 col8\" >1.2540</td>\n",
              "    </tr>\n",
              "    <tr>\n",
              "      <th id=\"T_abf84_level0_row4\" class=\"row_heading level0 row4\" >gbc</th>\n",
              "      <td id=\"T_abf84_row4_col0\" class=\"data row4 col0\" >Gradient Boosting Classifier</td>\n",
              "      <td id=\"T_abf84_row4_col1\" class=\"data row4 col1\" >0.9738</td>\n",
              "      <td id=\"T_abf84_row4_col2\" class=\"data row4 col2\" >0.9987</td>\n",
              "      <td id=\"T_abf84_row4_col3\" class=\"data row4 col3\" >0.9738</td>\n",
              "      <td id=\"T_abf84_row4_col4\" class=\"data row4 col4\" >0.9768</td>\n",
              "      <td id=\"T_abf84_row4_col5\" class=\"data row4 col5\" >0.9736</td>\n",
              "      <td id=\"T_abf84_row4_col6\" class=\"data row4 col6\" >0.9686</td>\n",
              "      <td id=\"T_abf84_row4_col7\" class=\"data row4 col7\" >0.9692</td>\n",
              "      <td id=\"T_abf84_row4_col8\" class=\"data row4 col8\" >101.5400</td>\n",
              "    </tr>\n",
              "    <tr>\n",
              "      <th id=\"T_abf84_level0_row5\" class=\"row_heading level0 row5\" >lightgbm</th>\n",
              "      <td id=\"T_abf84_row5_col0\" class=\"data row5 col0\" >Light Gradient Boosting Machine</td>\n",
              "      <td id=\"T_abf84_row5_col1\" class=\"data row5 col1\" >0.9714</td>\n",
              "      <td id=\"T_abf84_row5_col2\" class=\"data row5 col2\" >0.9990</td>\n",
              "      <td id=\"T_abf84_row5_col3\" class=\"data row5 col3\" >0.9714</td>\n",
              "      <td id=\"T_abf84_row5_col4\" class=\"data row5 col4\" >0.9744</td>\n",
              "      <td id=\"T_abf84_row5_col5\" class=\"data row5 col5\" >0.9713</td>\n",
              "      <td id=\"T_abf84_row5_col6\" class=\"data row5 col6\" >0.9657</td>\n",
              "      <td id=\"T_abf84_row5_col7\" class=\"data row5 col7\" >0.9664</td>\n",
              "      <td id=\"T_abf84_row5_col8\" class=\"data row5 col8\" >18.6110</td>\n",
              "    </tr>\n",
              "    <tr>\n",
              "      <th id=\"T_abf84_level0_row6\" class=\"row_heading level0 row6\" >nb</th>\n",
              "      <td id=\"T_abf84_row6_col0\" class=\"data row6 col0\" >Naive Bayes</td>\n",
              "      <td id=\"T_abf84_row6_col1\" class=\"data row6 col1\" >0.9690</td>\n",
              "      <td id=\"T_abf84_row6_col2\" class=\"data row6 col2\" >0.9836</td>\n",
              "      <td id=\"T_abf84_row6_col3\" class=\"data row6 col3\" >0.9690</td>\n",
              "      <td id=\"T_abf84_row6_col4\" class=\"data row6 col4\" >0.9728</td>\n",
              "      <td id=\"T_abf84_row6_col5\" class=\"data row6 col5\" >0.9688</td>\n",
              "      <td id=\"T_abf84_row6_col6\" class=\"data row6 col6\" >0.9629</td>\n",
              "      <td id=\"T_abf84_row6_col7\" class=\"data row6 col7\" >0.9637</td>\n",
              "      <td id=\"T_abf84_row6_col8\" class=\"data row6 col8\" >1.0040</td>\n",
              "    </tr>\n",
              "    <tr>\n",
              "      <th id=\"T_abf84_level0_row7\" class=\"row_heading level0 row7\" >knn</th>\n",
              "      <td id=\"T_abf84_row7_col0\" class=\"data row7 col0\" >K Neighbors Classifier</td>\n",
              "      <td id=\"T_abf84_row7_col1\" class=\"data row7 col1\" >0.9667</td>\n",
              "      <td id=\"T_abf84_row7_col2\" class=\"data row7 col2\" >0.9961</td>\n",
              "      <td id=\"T_abf84_row7_col3\" class=\"data row7 col3\" >0.9667</td>\n",
              "      <td id=\"T_abf84_row7_col4\" class=\"data row7 col4\" >0.9689</td>\n",
              "      <td id=\"T_abf84_row7_col5\" class=\"data row7 col5\" >0.9665</td>\n",
              "      <td id=\"T_abf84_row7_col6\" class=\"data row7 col6\" >0.9600</td>\n",
              "      <td id=\"T_abf84_row7_col7\" class=\"data row7 col7\" >0.9605</td>\n",
              "      <td id=\"T_abf84_row7_col8\" class=\"data row7 col8\" >0.7440</td>\n",
              "    </tr>\n",
              "    <tr>\n",
              "      <th id=\"T_abf84_level0_row8\" class=\"row_heading level0 row8\" >xgboost</th>\n",
              "      <td id=\"T_abf84_row8_col0\" class=\"data row8 col0\" >Extreme Gradient Boosting</td>\n",
              "      <td id=\"T_abf84_row8_col1\" class=\"data row8 col1\" >0.9595</td>\n",
              "      <td id=\"T_abf84_row8_col2\" class=\"data row8 col2\" >0.9969</td>\n",
              "      <td id=\"T_abf84_row8_col3\" class=\"data row8 col3\" >0.9595</td>\n",
              "      <td id=\"T_abf84_row8_col4\" class=\"data row8 col4\" >0.9632</td>\n",
              "      <td id=\"T_abf84_row8_col5\" class=\"data row8 col5\" >0.9591</td>\n",
              "      <td id=\"T_abf84_row8_col6\" class=\"data row8 col6\" >0.9514</td>\n",
              "      <td id=\"T_abf84_row8_col7\" class=\"data row8 col7\" >0.9523</td>\n",
              "      <td id=\"T_abf84_row8_col8\" class=\"data row8 col8\" >13.0350</td>\n",
              "    </tr>\n",
              "    <tr>\n",
              "      <th id=\"T_abf84_level0_row9\" class=\"row_heading level0 row9\" >ridge</th>\n",
              "      <td id=\"T_abf84_row9_col0\" class=\"data row9 col0\" >Ridge Classifier</td>\n",
              "      <td id=\"T_abf84_row9_col1\" class=\"data row9 col1\" >0.9524</td>\n",
              "      <td id=\"T_abf84_row9_col2\" class=\"data row9 col2\" >0.0000</td>\n",
              "      <td id=\"T_abf84_row9_col3\" class=\"data row9 col3\" >0.9524</td>\n",
              "      <td id=\"T_abf84_row9_col4\" class=\"data row9 col4\" >0.9618</td>\n",
              "      <td id=\"T_abf84_row9_col5\" class=\"data row9 col5\" >0.9514</td>\n",
              "      <td id=\"T_abf84_row9_col6\" class=\"data row9 col6\" >0.9429</td>\n",
              "      <td id=\"T_abf84_row9_col7\" class=\"data row9 col7\" >0.9451</td>\n",
              "      <td id=\"T_abf84_row9_col8\" class=\"data row9 col8\" >0.6470</td>\n",
              "    </tr>\n",
              "    <tr>\n",
              "      <th id=\"T_abf84_level0_row10\" class=\"row_heading level0 row10\" >lr</th>\n",
              "      <td id=\"T_abf84_row10_col0\" class=\"data row10 col0\" >Logistic Regression</td>\n",
              "      <td id=\"T_abf84_row10_col1\" class=\"data row10 col1\" >0.9190</td>\n",
              "      <td id=\"T_abf84_row10_col2\" class=\"data row10 col2\" >0.9941</td>\n",
              "      <td id=\"T_abf84_row10_col3\" class=\"data row10 col3\" >0.9190</td>\n",
              "      <td id=\"T_abf84_row10_col4\" class=\"data row10 col4\" >0.9307</td>\n",
              "      <td id=\"T_abf84_row10_col5\" class=\"data row10 col5\" >0.9176</td>\n",
              "      <td id=\"T_abf84_row10_col6\" class=\"data row10 col6\" >0.9029</td>\n",
              "      <td id=\"T_abf84_row10_col7\" class=\"data row10 col7\" >0.9056</td>\n",
              "      <td id=\"T_abf84_row10_col8\" class=\"data row10 col8\" >5.9420</td>\n",
              "    </tr>\n",
              "    <tr>\n",
              "      <th id=\"T_abf84_level0_row11\" class=\"row_heading level0 row11\" >qda</th>\n",
              "      <td id=\"T_abf84_row11_col0\" class=\"data row11 col0\" >Quadratic Discriminant Analysis</td>\n",
              "      <td id=\"T_abf84_row11_col1\" class=\"data row11 col1\" >0.6000</td>\n",
              "      <td id=\"T_abf84_row11_col2\" class=\"data row11 col2\" >0.7670</td>\n",
              "      <td id=\"T_abf84_row11_col3\" class=\"data row11 col3\" >0.6000</td>\n",
              "      <td id=\"T_abf84_row11_col4\" class=\"data row11 col4\" >0.4602</td>\n",
              "      <td id=\"T_abf84_row11_col5\" class=\"data row11 col5\" >0.5040</td>\n",
              "      <td id=\"T_abf84_row11_col6\" class=\"data row11 col6\" >0.5200</td>\n",
              "      <td id=\"T_abf84_row11_col7\" class=\"data row11 col7\" >0.5553</td>\n",
              "      <td id=\"T_abf84_row11_col8\" class=\"data row11 col8\" >1.1750</td>\n",
              "    </tr>\n",
              "    <tr>\n",
              "      <th id=\"T_abf84_level0_row12\" class=\"row_heading level0 row12\" >ada</th>\n",
              "      <td id=\"T_abf84_row12_col0\" class=\"data row12 col0\" >Ada Boost Classifier</td>\n",
              "      <td id=\"T_abf84_row12_col1\" class=\"data row12 col1\" >0.4857</td>\n",
              "      <td id=\"T_abf84_row12_col2\" class=\"data row12 col2\" >0.7994</td>\n",
              "      <td id=\"T_abf84_row12_col3\" class=\"data row12 col3\" >0.4857</td>\n",
              "      <td id=\"T_abf84_row12_col4\" class=\"data row12 col4\" >0.3693</td>\n",
              "      <td id=\"T_abf84_row12_col5\" class=\"data row12 col5\" >0.3904</td>\n",
              "      <td id=\"T_abf84_row12_col6\" class=\"data row12 col6\" >0.3829</td>\n",
              "      <td id=\"T_abf84_row12_col7\" class=\"data row12 col7\" >0.4971</td>\n",
              "      <td id=\"T_abf84_row12_col8\" class=\"data row12 col8\" >4.5770</td>\n",
              "    </tr>\n",
              "    <tr>\n",
              "      <th id=\"T_abf84_level0_row13\" class=\"row_heading level0 row13\" >svm</th>\n",
              "      <td id=\"T_abf84_row13_col0\" class=\"data row13 col0\" >SVM - Linear Kernel</td>\n",
              "      <td id=\"T_abf84_row13_col1\" class=\"data row13 col1\" >0.2452</td>\n",
              "      <td id=\"T_abf84_row13_col2\" class=\"data row13 col2\" >0.0000</td>\n",
              "      <td id=\"T_abf84_row13_col3\" class=\"data row13 col3\" >0.2452</td>\n",
              "      <td id=\"T_abf84_row13_col4\" class=\"data row13 col4\" >0.1201</td>\n",
              "      <td id=\"T_abf84_row13_col5\" class=\"data row13 col5\" >0.1233</td>\n",
              "      <td id=\"T_abf84_row13_col6\" class=\"data row13 col6\" >0.0943</td>\n",
              "      <td id=\"T_abf84_row13_col7\" class=\"data row13 col7\" >0.1311</td>\n",
              "      <td id=\"T_abf84_row13_col8\" class=\"data row13 col8\" >1.3860</td>\n",
              "    </tr>\n",
              "    <tr>\n",
              "      <th id=\"T_abf84_level0_row14\" class=\"row_heading level0 row14\" >dummy</th>\n",
              "      <td id=\"T_abf84_row14_col0\" class=\"data row14 col0\" >Dummy Classifier</td>\n",
              "      <td id=\"T_abf84_row14_col1\" class=\"data row14 col1\" >0.1667</td>\n",
              "      <td id=\"T_abf84_row14_col2\" class=\"data row14 col2\" >0.5000</td>\n",
              "      <td id=\"T_abf84_row14_col3\" class=\"data row14 col3\" >0.1667</td>\n",
              "      <td id=\"T_abf84_row14_col4\" class=\"data row14 col4\" >0.0278</td>\n",
              "      <td id=\"T_abf84_row14_col5\" class=\"data row14 col5\" >0.0476</td>\n",
              "      <td id=\"T_abf84_row14_col6\" class=\"data row14 col6\" >0.0000</td>\n",
              "      <td id=\"T_abf84_row14_col7\" class=\"data row14 col7\" >0.0000</td>\n",
              "      <td id=\"T_abf84_row14_col8\" class=\"data row14 col8\" >0.8870</td>\n",
              "    </tr>\n",
              "  </tbody>\n",
              "</table>\n"
            ]
          },
          "metadata": {}
        },
        {
          "output_type": "display_data",
          "data": {
            "text/plain": [
              "Processing:   0%|          | 0/65 [00:00<?, ?it/s]"
            ],
            "application/vnd.jupyter.widget-view+json": {
              "version_major": 2,
              "version_minor": 0,
              "model_id": "c716db89fdfa489b87be81f72eec830a"
            }
          },
          "metadata": {
            "application/vnd.jupyter.widget-view+json": {
              "colab": {
                "custom_widget_manager": {
                  "url": "https://ssl.gstatic.com/colaboratory-static/widgets/colab-cdn-widget-manager/b3e629b1971e1542/manager.min.js"
                }
              }
            }
          }
        },
        {
          "output_type": "display_data",
          "data": {
            "text/plain": [
              "<IPython.core.display.HTML object>"
            ],
            "text/html": []
          },
          "metadata": {}
        }
      ],
      "source": [
        "# Step 7: Building and comparing different models\n",
        "best = classification.compare_models()"
      ],
      "id": "4e906af1"
    },
    {
      "cell_type": "code",
      "execution_count": 37,
      "metadata": {
        "colab": {
          "base_uri": "https://localhost:8080/",
          "height": 457,
          "referenced_widgets": [
            "73135ea623a548619ef2c990fee5158d",
            "cc21a02251614d2a8d5be0fe91d3fb69",
            "088c7fbcef2f42b8b583134b4c909967",
            "6f35d8792f834dc7bdc5e974db58d5f7",
            "4c1b990fe5754b548f183f6768a73c78",
            "b0e6a7d57c7a496ba6adffb7c2b7c13d",
            "66bd406c7fe647b9a568a71758006536",
            "e6249645e9ea4c1f916be850ea39f858",
            "7d196e63243341d7a460fe677fcd2bee",
            "974c29bc62444209a92a95a4b0ca3479",
            "10db66f600814b85a97e7dabfce1e817"
          ]
        },
        "id": "a3e39264",
        "outputId": "a63bac3f-8b4f-4b13-c192-ce9bd6eb77dd"
      },
      "outputs": [
        {
          "output_type": "display_data",
          "data": {
            "text/plain": [
              "<IPython.core.display.HTML object>"
            ],
            "text/html": []
          },
          "metadata": {}
        },
        {
          "output_type": "display_data",
          "data": {
            "text/plain": [
              "<pandas.io.formats.style.Styler at 0x7fe0502213c0>"
            ],
            "text/html": [
              "<style type=\"text/css\">\n",
              "#T_f1dea_row10_col0, #T_f1dea_row10_col1, #T_f1dea_row10_col2, #T_f1dea_row10_col3, #T_f1dea_row10_col4, #T_f1dea_row10_col5, #T_f1dea_row10_col6 {\n",
              "  background: yellow;\n",
              "}\n",
              "</style>\n",
              "<table id=\"T_f1dea\" class=\"dataframe\">\n",
              "  <thead>\n",
              "    <tr>\n",
              "      <th class=\"blank level0\" >&nbsp;</th>\n",
              "      <th id=\"T_f1dea_level0_col0\" class=\"col_heading level0 col0\" >Accuracy</th>\n",
              "      <th id=\"T_f1dea_level0_col1\" class=\"col_heading level0 col1\" >AUC</th>\n",
              "      <th id=\"T_f1dea_level0_col2\" class=\"col_heading level0 col2\" >Recall</th>\n",
              "      <th id=\"T_f1dea_level0_col3\" class=\"col_heading level0 col3\" >Prec.</th>\n",
              "      <th id=\"T_f1dea_level0_col4\" class=\"col_heading level0 col4\" >F1</th>\n",
              "      <th id=\"T_f1dea_level0_col5\" class=\"col_heading level0 col5\" >Kappa</th>\n",
              "      <th id=\"T_f1dea_level0_col6\" class=\"col_heading level0 col6\" >MCC</th>\n",
              "    </tr>\n",
              "    <tr>\n",
              "      <th class=\"index_name level0\" >Fold</th>\n",
              "      <th class=\"blank col0\" >&nbsp;</th>\n",
              "      <th class=\"blank col1\" >&nbsp;</th>\n",
              "      <th class=\"blank col2\" >&nbsp;</th>\n",
              "      <th class=\"blank col3\" >&nbsp;</th>\n",
              "      <th class=\"blank col4\" >&nbsp;</th>\n",
              "      <th class=\"blank col5\" >&nbsp;</th>\n",
              "      <th class=\"blank col6\" >&nbsp;</th>\n",
              "    </tr>\n",
              "  </thead>\n",
              "  <tbody>\n",
              "    <tr>\n",
              "      <th id=\"T_f1dea_level0_row0\" class=\"row_heading level0 row0\" >0</th>\n",
              "      <td id=\"T_f1dea_row0_col0\" class=\"data row0 col0\" >0.9762</td>\n",
              "      <td id=\"T_f1dea_row0_col1\" class=\"data row0 col1\" >1.0000</td>\n",
              "      <td id=\"T_f1dea_row0_col2\" class=\"data row0 col2\" >0.9762</td>\n",
              "      <td id=\"T_f1dea_row0_col3\" class=\"data row0 col3\" >0.9792</td>\n",
              "      <td id=\"T_f1dea_row0_col4\" class=\"data row0 col4\" >0.9761</td>\n",
              "      <td id=\"T_f1dea_row0_col5\" class=\"data row0 col5\" >0.9714</td>\n",
              "      <td id=\"T_f1dea_row0_col6\" class=\"data row0 col6\" >0.9721</td>\n",
              "    </tr>\n",
              "    <tr>\n",
              "      <th id=\"T_f1dea_level0_row1\" class=\"row_heading level0 row1\" >1</th>\n",
              "      <td id=\"T_f1dea_row1_col0\" class=\"data row1 col0\" >1.0000</td>\n",
              "      <td id=\"T_f1dea_row1_col1\" class=\"data row1 col1\" >1.0000</td>\n",
              "      <td id=\"T_f1dea_row1_col2\" class=\"data row1 col2\" >1.0000</td>\n",
              "      <td id=\"T_f1dea_row1_col3\" class=\"data row1 col3\" >1.0000</td>\n",
              "      <td id=\"T_f1dea_row1_col4\" class=\"data row1 col4\" >1.0000</td>\n",
              "      <td id=\"T_f1dea_row1_col5\" class=\"data row1 col5\" >1.0000</td>\n",
              "      <td id=\"T_f1dea_row1_col6\" class=\"data row1 col6\" >1.0000</td>\n",
              "    </tr>\n",
              "    <tr>\n",
              "      <th id=\"T_f1dea_level0_row2\" class=\"row_heading level0 row2\" >2</th>\n",
              "      <td id=\"T_f1dea_row2_col0\" class=\"data row2 col0\" >1.0000</td>\n",
              "      <td id=\"T_f1dea_row2_col1\" class=\"data row2 col1\" >1.0000</td>\n",
              "      <td id=\"T_f1dea_row2_col2\" class=\"data row2 col2\" >1.0000</td>\n",
              "      <td id=\"T_f1dea_row2_col3\" class=\"data row2 col3\" >1.0000</td>\n",
              "      <td id=\"T_f1dea_row2_col4\" class=\"data row2 col4\" >1.0000</td>\n",
              "      <td id=\"T_f1dea_row2_col5\" class=\"data row2 col5\" >1.0000</td>\n",
              "      <td id=\"T_f1dea_row2_col6\" class=\"data row2 col6\" >1.0000</td>\n",
              "    </tr>\n",
              "    <tr>\n",
              "      <th id=\"T_f1dea_level0_row3\" class=\"row_heading level0 row3\" >3</th>\n",
              "      <td id=\"T_f1dea_row3_col0\" class=\"data row3 col0\" >1.0000</td>\n",
              "      <td id=\"T_f1dea_row3_col1\" class=\"data row3 col1\" >1.0000</td>\n",
              "      <td id=\"T_f1dea_row3_col2\" class=\"data row3 col2\" >1.0000</td>\n",
              "      <td id=\"T_f1dea_row3_col3\" class=\"data row3 col3\" >1.0000</td>\n",
              "      <td id=\"T_f1dea_row3_col4\" class=\"data row3 col4\" >1.0000</td>\n",
              "      <td id=\"T_f1dea_row3_col5\" class=\"data row3 col5\" >1.0000</td>\n",
              "      <td id=\"T_f1dea_row3_col6\" class=\"data row3 col6\" >1.0000</td>\n",
              "    </tr>\n",
              "    <tr>\n",
              "      <th id=\"T_f1dea_level0_row4\" class=\"row_heading level0 row4\" >4</th>\n",
              "      <td id=\"T_f1dea_row4_col0\" class=\"data row4 col0\" >1.0000</td>\n",
              "      <td id=\"T_f1dea_row4_col1\" class=\"data row4 col1\" >1.0000</td>\n",
              "      <td id=\"T_f1dea_row4_col2\" class=\"data row4 col2\" >1.0000</td>\n",
              "      <td id=\"T_f1dea_row4_col3\" class=\"data row4 col3\" >1.0000</td>\n",
              "      <td id=\"T_f1dea_row4_col4\" class=\"data row4 col4\" >1.0000</td>\n",
              "      <td id=\"T_f1dea_row4_col5\" class=\"data row4 col5\" >1.0000</td>\n",
              "      <td id=\"T_f1dea_row4_col6\" class=\"data row4 col6\" >1.0000</td>\n",
              "    </tr>\n",
              "    <tr>\n",
              "      <th id=\"T_f1dea_level0_row5\" class=\"row_heading level0 row5\" >5</th>\n",
              "      <td id=\"T_f1dea_row5_col0\" class=\"data row5 col0\" >1.0000</td>\n",
              "      <td id=\"T_f1dea_row5_col1\" class=\"data row5 col1\" >1.0000</td>\n",
              "      <td id=\"T_f1dea_row5_col2\" class=\"data row5 col2\" >1.0000</td>\n",
              "      <td id=\"T_f1dea_row5_col3\" class=\"data row5 col3\" >1.0000</td>\n",
              "      <td id=\"T_f1dea_row5_col4\" class=\"data row5 col4\" >1.0000</td>\n",
              "      <td id=\"T_f1dea_row5_col5\" class=\"data row5 col5\" >1.0000</td>\n",
              "      <td id=\"T_f1dea_row5_col6\" class=\"data row5 col6\" >1.0000</td>\n",
              "    </tr>\n",
              "    <tr>\n",
              "      <th id=\"T_f1dea_level0_row6\" class=\"row_heading level0 row6\" >6</th>\n",
              "      <td id=\"T_f1dea_row6_col0\" class=\"data row6 col0\" >1.0000</td>\n",
              "      <td id=\"T_f1dea_row6_col1\" class=\"data row6 col1\" >1.0000</td>\n",
              "      <td id=\"T_f1dea_row6_col2\" class=\"data row6 col2\" >1.0000</td>\n",
              "      <td id=\"T_f1dea_row6_col3\" class=\"data row6 col3\" >1.0000</td>\n",
              "      <td id=\"T_f1dea_row6_col4\" class=\"data row6 col4\" >1.0000</td>\n",
              "      <td id=\"T_f1dea_row6_col5\" class=\"data row6 col5\" >1.0000</td>\n",
              "      <td id=\"T_f1dea_row6_col6\" class=\"data row6 col6\" >1.0000</td>\n",
              "    </tr>\n",
              "    <tr>\n",
              "      <th id=\"T_f1dea_level0_row7\" class=\"row_heading level0 row7\" >7</th>\n",
              "      <td id=\"T_f1dea_row7_col0\" class=\"data row7 col0\" >1.0000</td>\n",
              "      <td id=\"T_f1dea_row7_col1\" class=\"data row7 col1\" >1.0000</td>\n",
              "      <td id=\"T_f1dea_row7_col2\" class=\"data row7 col2\" >1.0000</td>\n",
              "      <td id=\"T_f1dea_row7_col3\" class=\"data row7 col3\" >1.0000</td>\n",
              "      <td id=\"T_f1dea_row7_col4\" class=\"data row7 col4\" >1.0000</td>\n",
              "      <td id=\"T_f1dea_row7_col5\" class=\"data row7 col5\" >1.0000</td>\n",
              "      <td id=\"T_f1dea_row7_col6\" class=\"data row7 col6\" >1.0000</td>\n",
              "    </tr>\n",
              "    <tr>\n",
              "      <th id=\"T_f1dea_level0_row8\" class=\"row_heading level0 row8\" >8</th>\n",
              "      <td id=\"T_f1dea_row8_col0\" class=\"data row8 col0\" >0.9762</td>\n",
              "      <td id=\"T_f1dea_row8_col1\" class=\"data row8 col1\" >0.9986</td>\n",
              "      <td id=\"T_f1dea_row8_col2\" class=\"data row8 col2\" >0.9762</td>\n",
              "      <td id=\"T_f1dea_row8_col3\" class=\"data row8 col3\" >0.9792</td>\n",
              "      <td id=\"T_f1dea_row8_col4\" class=\"data row8 col4\" >0.9761</td>\n",
              "      <td id=\"T_f1dea_row8_col5\" class=\"data row8 col5\" >0.9714</td>\n",
              "      <td id=\"T_f1dea_row8_col6\" class=\"data row8 col6\" >0.9721</td>\n",
              "    </tr>\n",
              "    <tr>\n",
              "      <th id=\"T_f1dea_level0_row9\" class=\"row_heading level0 row9\" >9</th>\n",
              "      <td id=\"T_f1dea_row9_col0\" class=\"data row9 col0\" >0.9762</td>\n",
              "      <td id=\"T_f1dea_row9_col1\" class=\"data row9 col1\" >1.0000</td>\n",
              "      <td id=\"T_f1dea_row9_col2\" class=\"data row9 col2\" >0.9762</td>\n",
              "      <td id=\"T_f1dea_row9_col3\" class=\"data row9 col3\" >0.9792</td>\n",
              "      <td id=\"T_f1dea_row9_col4\" class=\"data row9 col4\" >0.9761</td>\n",
              "      <td id=\"T_f1dea_row9_col5\" class=\"data row9 col5\" >0.9714</td>\n",
              "      <td id=\"T_f1dea_row9_col6\" class=\"data row9 col6\" >0.9721</td>\n",
              "    </tr>\n",
              "    <tr>\n",
              "      <th id=\"T_f1dea_level0_row10\" class=\"row_heading level0 row10\" >Mean</th>\n",
              "      <td id=\"T_f1dea_row10_col0\" class=\"data row10 col0\" >0.9929</td>\n",
              "      <td id=\"T_f1dea_row10_col1\" class=\"data row10 col1\" >0.9999</td>\n",
              "      <td id=\"T_f1dea_row10_col2\" class=\"data row10 col2\" >0.9929</td>\n",
              "      <td id=\"T_f1dea_row10_col3\" class=\"data row10 col3\" >0.9937</td>\n",
              "      <td id=\"T_f1dea_row10_col4\" class=\"data row10 col4\" >0.9928</td>\n",
              "      <td id=\"T_f1dea_row10_col5\" class=\"data row10 col5\" >0.9914</td>\n",
              "      <td id=\"T_f1dea_row10_col6\" class=\"data row10 col6\" >0.9916</td>\n",
              "    </tr>\n",
              "    <tr>\n",
              "      <th id=\"T_f1dea_level0_row11\" class=\"row_heading level0 row11\" >Std</th>\n",
              "      <td id=\"T_f1dea_row11_col0\" class=\"data row11 col0\" >0.0109</td>\n",
              "      <td id=\"T_f1dea_row11_col1\" class=\"data row11 col1\" >0.0004</td>\n",
              "      <td id=\"T_f1dea_row11_col2\" class=\"data row11 col2\" >0.0109</td>\n",
              "      <td id=\"T_f1dea_row11_col3\" class=\"data row11 col3\" >0.0095</td>\n",
              "      <td id=\"T_f1dea_row11_col4\" class=\"data row11 col4\" >0.0110</td>\n",
              "      <td id=\"T_f1dea_row11_col5\" class=\"data row11 col5\" >0.0131</td>\n",
              "      <td id=\"T_f1dea_row11_col6\" class=\"data row11 col6\" >0.0128</td>\n",
              "    </tr>\n",
              "  </tbody>\n",
              "</table>\n"
            ]
          },
          "metadata": {}
        },
        {
          "output_type": "display_data",
          "data": {
            "text/plain": [
              "Processing:   0%|          | 0/4 [00:00<?, ?it/s]"
            ],
            "application/vnd.jupyter.widget-view+json": {
              "version_major": 2,
              "version_minor": 0,
              "model_id": "73135ea623a548619ef2c990fee5158d"
            }
          },
          "metadata": {
            "application/vnd.jupyter.widget-view+json": {
              "colab": {
                "custom_widget_manager": {
                  "url": "https://ssl.gstatic.com/colaboratory-static/widgets/colab-cdn-widget-manager/b3e629b1971e1542/manager.min.js"
                }
              }
            }
          }
        },
        {
          "output_type": "display_data",
          "data": {
            "text/plain": [
              "<IPython.core.display.HTML object>"
            ],
            "text/html": []
          },
          "metadata": {}
        }
      ],
      "source": [
        "# Step 8: Training the best model based on predictive performance metrics\n",
        "# Note: The Extra Trees Classifier was the top of them. Now, we will create and validate this model\n",
        "best_model = classification.create_model(\"et\")"
      ],
      "id": "a3e39264"
    },
    {
      "cell_type": "code",
      "execution_count": 38,
      "metadata": {
        "colab": {
          "base_uri": "https://localhost:8080/",
          "height": 195,
          "referenced_widgets": [
            "1f295f895e814902a27b3e3337be2a11",
            "6a8c40d557214c8884912774eca7d66f",
            "e8f02347ae22479992444156860cc335",
            "5c8cf2234dbb475fb83ff9600aa00b31",
            "de7b072c1a754409b80a316d4836f176",
            "89c9a39cfadd4a479c6b3ec4a204ca61",
            "1c6b6307566f49d2807b6fb178cf283d"
          ]
        },
        "id": "e43ea3ce",
        "outputId": "4ca139f5-2685-4f0c-a6fd-b5b76ebf2279"
      },
      "outputs": [
        {
          "output_type": "display_data",
          "data": {
            "text/plain": [
              "interactive(children=(ToggleButtons(description='Plot Type:', icons=('',), options=(('Pipeline Plot', 'pipelin…"
            ],
            "application/vnd.jupyter.widget-view+json": {
              "version_major": 2,
              "version_minor": 0,
              "model_id": "1f295f895e814902a27b3e3337be2a11"
            }
          },
          "metadata": {
            "application/vnd.jupyter.widget-view+json": {
              "colab": {
                "custom_widget_manager": {
                  "url": "https://ssl.gstatic.com/colaboratory-static/widgets/colab-cdn-widget-manager/b3e629b1971e1542/manager.min.js"
                }
              }
            }
          }
        }
      ],
      "source": [
        "# Step 9: Extracting the metrics results from the model\n",
        "classification.evaluate_model(best_model)"
      ],
      "id": "e43ea3ce"
    },
    {
      "cell_type": "code",
      "execution_count": 39,
      "metadata": {
        "colab": {
          "base_uri": "https://localhost:8080/",
          "height": 522
        },
        "id": "0GpEegjW29tO",
        "outputId": "3bb142e6-e130-4dd2-e7c4-039e22d4d546"
      },
      "outputs": [
        {
          "output_type": "display_data",
          "data": {
            "text/plain": [
              "<IPython.core.display.HTML object>"
            ],
            "text/html": []
          },
          "metadata": {}
        },
        {
          "output_type": "display_data",
          "data": {
            "text/plain": [
              "<Figure size 800x550 with 1 Axes>"
            ],
            "image/png": "[encoded data removed]"
          },
          "metadata": {}
        },
        {
          "output_type": "display_data",
          "data": {
            "text/plain": [
              "<IPython.core.display.HTML object>"
            ],
            "text/html": []
          },
          "metadata": {}
        },
        {
          "output_type": "execute_result",
          "data": {
            "text/plain": [
              "'Decision Boundary.png'"
            ],
            "application/vnd.google.colaboratory.intrinsic+json": {
              "type": "string"
            }
          },
          "metadata": {},
          "execution_count": 39
        }
      ],
      "source": [
        "#Step 10: Plotting the decision boundary plot\n",
        "classification.plot_model(best_model, plot =\"boundary\", plot_kwargs ={'classes': [\"Dyslipidemia\", \"Diabetes\", \"Hypercholesterolemia\", \n",
        "                                                                                  \"Hypertriglyceridemia\", \"Healthy\", \"Pre-diabetes\"]})\n",
        "classification.plot_model(best_model, plot =\"boundary\", plot_kwargs ={'classes': \n",
        "  [\"Dyslipidemia\", \"Diabetes\", \"Hypercholesterolemia\", \"Hypertriglyceridemia\", \"Healthy\", \"Pre-diabetes\"]},                                                                \n",
        "                          save = True, scale = 3)\n"
      ],
      "id": "0GpEegjW29tO"
    },
    {
      "cell_type": "code",
      "execution_count": 40,
      "metadata": {
        "colab": {
          "base_uri": "https://localhost:8080/",
          "height": 543
        },
        "id": "_ggsDtP0gcWb",
        "outputId": "44ba0f75-a008-4d94-e5dd-c016b4e7cd45"
      },
      "outputs": [
        {
          "output_type": "display_data",
          "data": {
            "text/plain": [
              "<IPython.core.display.HTML object>"
            ],
            "text/html": []
          },
          "metadata": {}
        },
        {
          "output_type": "display_data",
          "data": {
            "text/plain": [
              "<Figure size 800x550 with 1 Axes>"
            ],
            "image/png": "[encoded data removed]"
          },
          "metadata": {}
        },
        {
          "output_type": "display_data",
          "data": {
            "text/plain": [
              "<IPython.core.display.HTML object>"
            ],
            "text/html": []
          },
          "metadata": {}
        },
        {
          "output_type": "execute_result",
          "data": {
            "text/plain": [
              "'Learning Curve.png'"
            ],
            "application/vnd.google.colaboratory.intrinsic+json": {
              "type": "string"
            }
          },
          "metadata": {},
          "execution_count": 40
        }
      ],
      "source": [
        "# Step 11: Plotting the learning curve\n",
        "classification.plot_model(best_model, plot =\"learning\")\n",
        "classification.plot_model(best_model, plot =\"learning\", save = True, scale = 3)"
      ],
      "id": "_ggsDtP0gcWb"
    },
    {
      "cell_type": "code",
      "execution_count": 41,
      "metadata": {
        "colab": {
          "base_uri": "https://localhost:8080/",
          "height": 543
        },
        "id": "NAJL8dMqYLcd",
        "outputId": "8742db9d-0b2e-4ba9-ac26-c9d41e833698"
      },
      "outputs": [
        {
          "output_type": "display_data",
          "data": {
            "text/plain": [
              "<IPython.core.display.HTML object>"
            ],
            "text/html": []
          },
          "metadata": {}
        },
        {
          "output_type": "display_data",
          "data": {
            "text/plain": [
              "<Figure size 800x550 with 1 Axes>"
            ],
            "image/png": "[encoded data removed]"
          },
          "metadata": {}
        },
        {
          "output_type": "display_data",
          "data": {
            "text/plain": [
              "<IPython.core.display.HTML object>"
            ],
            "text/html": []
          },
          "metadata": {}
        },
        {
          "output_type": "execute_result",
          "data": {
            "text/plain": [
              "'AUC.png'"
            ],
            "application/vnd.google.colaboratory.intrinsic+json": {
              "type": "string"
            }
          },
          "metadata": {},
          "execution_count": 41
        }
      ],
      "source": [
        "# Step 12: Plotting the ROC curves\n",
        "classification.plot_model(best_model, plot =\"auc\", plot_kwargs ={'classes': [\"Dyslipidemia\", \"Diabetes\",\n",
        "                                                                           \"Hypercholesterolemia\", \"Hypertriglyceridemia\", \"Healthy\", \"Pre-diabetes\"]})\n",
        "classification.plot_model(best_model, plot =\"auc\", plot_kwargs ={'classes': [\"Dyslipidemia\", \"Diabetes\",\n",
        "                                                                           \"Hypercholesterolemia\", \"Hypertriglyceridemia\", \"Healthy\", \"Pre-diabetes\"]}, scale = 6, save = True)"
      ],
      "id": "NAJL8dMqYLcd"
    },
    {
      "cell_type": "code",
      "execution_count": 42,
      "metadata": {
        "colab": {
          "base_uri": "https://localhost:8080/",
          "height": 570
        },
        "id": "rITpbD33de4x",
        "outputId": "37070160-90ca-41ec-aef3-ff434a3c0a46"
      },
      "outputs": [
        {
          "output_type": "display_data",
          "data": {
            "text/plain": [
              "<IPython.core.display.HTML object>"
            ],
            "text/html": []
          },
          "metadata": {}
        },
        {
          "output_type": "display_data",
          "data": {
            "text/plain": [
              "<Figure size 800x550 with 1 Axes>"
            ],
            "image/png": "[encoded data removed]"
          },
          "metadata": {}
        },
        {
          "output_type": "display_data",
          "data": {
            "text/plain": [
              "<IPython.core.display.HTML object>"
            ],
            "text/html": []
          },
          "metadata": {}
        },
        {
          "output_type": "execute_result",
          "data": {
            "text/plain": [
              "'Confusion Matrix.png'"
            ],
            "application/vnd.google.colaboratory.intrinsic+json": {
              "type": "string"
            }
          },
          "metadata": {},
          "execution_count": 42
        }
      ],
      "source": [
        "# Step 13: Plotting de confusion matrix graph\n",
        "classification.plot_model(best_model, plot =\"confusion_matrix\", plot_kwargs ={'classes': [\"Dys\", \"DM\", \"Hchol\", \"Htrig\", \"Healthy\", \"Pre-DM\"]})\n",
        "classification.plot_model(best_model, plot =\"confusion_matrix\", plot_kwargs ={'classes': [\"Dys\", \"DM\", \"Hchol\", \"Htrig\", \"Healthy\", \"Pre-DM\"]}, \n",
        "                          scale = 6, save = True)"
      ],
      "id": "rITpbD33de4x"
    },
    {
      "cell_type": "code",
      "execution_count": 43,
      "metadata": {
        "colab": {
          "base_uri": "https://localhost:8080/",
          "height": 570
        },
        "id": "dCyvk4xzYLEg",
        "outputId": "ac4c09c9-7d42-4088-ff29-7f61c2189a31"
      },
      "outputs": [
        {
          "output_type": "display_data",
          "data": {
            "text/plain": [
              "<IPython.core.display.HTML object>"
            ],
            "text/html": []
          },
          "metadata": {}
        },
        {
          "output_type": "display_data",
          "data": {
            "text/plain": [
              "<Figure size 800x550 with 1 Axes>"
            ],
            "image/png": "[encoded data removed]"
          },
          "metadata": {}
        },
        {
          "output_type": "display_data",
          "data": {
            "text/plain": [
              "<IPython.core.display.HTML object>"
            ],
            "text/html": []
          },
          "metadata": {}
        },
        {
          "output_type": "execute_result",
          "data": {
            "text/plain": [
              "'Prediction Error.png'"
            ],
            "application/vnd.google.colaboratory.intrinsic+json": {
              "type": "string"
            }
          },
          "metadata": {},
          "execution_count": 43
        }
      ],
      "source": [
        "# Step 15: Compare predictions and results of the model\n",
        "classification.plot_model(best_model, plot =\"error\", plot_kwargs ={'classes': [\"Dys\", \"DM\", \"Hchol\", \"Htrig\", \"Healthy\", \"Pre-DM\"]})\n",
        "classification.plot_model(best_model, plot =\"error\", plot_kwargs ={'classes': [\"Dys\", \"DM\", \"Hchol\", \"Htrig\", \"Healthy\", \"Pre-DM\"]}, \n",
        "                          scale = 3, save = True)"
      ],
      "id": "dCyvk4xzYLEg"
    },
    {
      "cell_type": "code",
      "execution_count": 44,
      "metadata": {
        "colab": {
          "base_uri": "https://localhost:8080/",
          "height": 570
        },
        "id": "CIpsMAelhuzb",
        "outputId": "e0be4e45-29bc-418a-82b6-7550a8f39e1b"
      },
      "outputs": [
        {
          "output_type": "display_data",
          "data": {
            "text/plain": [
              "<IPython.core.display.HTML object>"
            ],
            "text/html": []
          },
          "metadata": {}
        },
        {
          "output_type": "display_data",
          "data": {
            "text/plain": [
              "<Figure size 800x550 with 2 Axes>"
            ],
            "image/png": "[encoded data removed]"
          },
          "metadata": {}
        },
        {
          "output_type": "display_data",
          "data": {
            "text/plain": [
              "<IPython.core.display.HTML object>"
            ],
            "text/html": []
          },
          "metadata": {}
        },
        {
          "output_type": "execute_result",
          "data": {
            "text/plain": [
              "'Class Report.png'"
            ],
            "application/vnd.google.colaboratory.intrinsic+json": {
              "type": "string"
            }
          },
          "metadata": {},
          "execution_count": 44
        }
      ],
      "source": [
        "# Step 16: Figures of merit of the model\n",
        "classification.plot_model(best_model, plot =\"class_report\", plot_kwargs ={'classes': [\"Dys\", \"DM\", \"Hchol\", \"Htrig\", \"Healthy\", \"Pre-DM\"]})\n",
        "classification.plot_model(best_model, plot =\"class_report\", plot_kwargs ={'classes': [\"Dys\", \"DM\", \"Hchol\", \"Htrig\", \"Healthy\", \"Pre-DM\"]}, \n",
        "                          scale = 6, save = True)"
      ],
      "id": "CIpsMAelhuzb"
    },
    {
      "cell_type": "code",
      "execution_count": 51,
      "metadata": {
        "colab": {
          "base_uri": "https://localhost:8080/",
          "height": 504
        },
        "id": "iC5-30xDdckh",
        "outputId": "bc230092-2a44-4eeb-da85-7b1b0e34611e"
      },
      "outputs": [
        {
          "output_type": "display_data",
          "data": {
            "text/plain": [
              "<IPython.core.display.HTML object>"
            ],
            "text/html": []
          },
          "metadata": {}
        },
        {
          "output_type": "display_data",
          "data": {
            "text/plain": [
              "<Figure size 800x500 with 1 Axes>"
            ],
            "image/png": "[encoded data removed]"
          },
          "metadata": {}
        },
        {
          "output_type": "display_data",
          "data": {
            "text/plain": [
              "<IPython.core.display.HTML object>"
            ],
            "text/html": []
          },
          "metadata": {}
        },
        {
          "output_type": "execute_result",
          "data": {
            "text/plain": [
              "'Feature Importance.png'"
            ],
            "application/vnd.google.colaboratory.intrinsic+json": {
              "type": "string"
            }
          },
          "metadata": {},
          "execution_count": 51
        }
      ],
      "source": [
        "# Step 17: Plotting only the TOP 10 most important wavenumber\n",
        "classification.plot_model(best_model, plot =\"feature\")\n",
        "classification.plot_model(best_model, plot =\"feature\", scale = 6, save = True)"
      ],
      "id": "iC5-30xDdckh"
    },
    {
      "cell_type": "code",
      "execution_count": 46,
      "metadata": {
        "colab": {
          "base_uri": "https://localhost:8080/",
          "height": 457,
          "referenced_widgets": [
            "b4d0d45cc34541ceb64bb8fff83a3621",
            "d1f1d7eca08b40149fddb1c624c32c1d",
            "4947d783e1f44c57ab0ddc21232291b2",
            "39ca677177f84c5c8795ae08f2180e85",
            "4d3f21cd95ce4f838f51a6a23710596d",
            "242a7a80664343c085fb229703d189a9",
            "939567689229484e92a5ec628c60763d",
            "da95f4590b7548538dd20fc7b20d351f",
            "1eac937a43494662a089e25eb1cfcfcc",
            "ee4295bd29a141da80932c7be4ebf667",
            "16f3a9418be54d71b1f811dbf711fc96"
          ]
        },
        "id": "IYjOhBS4pkWh",
        "outputId": "1ec29be8-f1cf-4df1-bed6-ab4510638f18"
      },
      "outputs": [
        {
          "output_type": "display_data",
          "data": {
            "text/plain": [
              "<IPython.core.display.HTML object>"
            ],
            "text/html": []
          },
          "metadata": {}
        },
        {
          "output_type": "display_data",
          "data": {
            "text/plain": [
              "<pandas.io.formats.style.Styler at 0x7fe049b5d750>"
            ],
            "text/html": [
              "<style type=\"text/css\">\n",
              "#T_ff60b_row10_col0, #T_ff60b_row10_col1, #T_ff60b_row10_col2, #T_ff60b_row10_col3, #T_ff60b_row10_col4, #T_ff60b_row10_col5, #T_ff60b_row10_col6 {\n",
              "  background: yellow;\n",
              "}\n",
              "</style>\n",
              "<table id=\"T_ff60b\" class=\"dataframe\">\n",
              "  <thead>\n",
              "    <tr>\n",
              "      <th class=\"blank level0\" >&nbsp;</th>\n",
              "      <th id=\"T_ff60b_level0_col0\" class=\"col_heading level0 col0\" >Accuracy</th>\n",
              "      <th id=\"T_ff60b_level0_col1\" class=\"col_heading level0 col1\" >AUC</th>\n",
              "      <th id=\"T_ff60b_level0_col2\" class=\"col_heading level0 col2\" >Recall</th>\n",
              "      <th id=\"T_ff60b_level0_col3\" class=\"col_heading level0 col3\" >Prec.</th>\n",
              "      <th id=\"T_ff60b_level0_col4\" class=\"col_heading level0 col4\" >F1</th>\n",
              "      <th id=\"T_ff60b_level0_col5\" class=\"col_heading level0 col5\" >Kappa</th>\n",
              "      <th id=\"T_ff60b_level0_col6\" class=\"col_heading level0 col6\" >MCC</th>\n",
              "    </tr>\n",
              "    <tr>\n",
              "      <th class=\"index_name level0\" >Fold</th>\n",
              "      <th class=\"blank col0\" >&nbsp;</th>\n",
              "      <th class=\"blank col1\" >&nbsp;</th>\n",
              "      <th class=\"blank col2\" >&nbsp;</th>\n",
              "      <th class=\"blank col3\" >&nbsp;</th>\n",
              "      <th class=\"blank col4\" >&nbsp;</th>\n",
              "      <th class=\"blank col5\" >&nbsp;</th>\n",
              "      <th class=\"blank col6\" >&nbsp;</th>\n",
              "    </tr>\n",
              "  </thead>\n",
              "  <tbody>\n",
              "    <tr>\n",
              "      <th id=\"T_ff60b_level0_row0\" class=\"row_heading level0 row0\" >0</th>\n",
              "      <td id=\"T_ff60b_row0_col0\" class=\"data row0 col0\" >0.9762</td>\n",
              "      <td id=\"T_ff60b_row0_col1\" class=\"data row0 col1\" >1.0000</td>\n",
              "      <td id=\"T_ff60b_row0_col2\" class=\"data row0 col2\" >0.9762</td>\n",
              "      <td id=\"T_ff60b_row0_col3\" class=\"data row0 col3\" >0.9792</td>\n",
              "      <td id=\"T_ff60b_row0_col4\" class=\"data row0 col4\" >0.9761</td>\n",
              "      <td id=\"T_ff60b_row0_col5\" class=\"data row0 col5\" >0.9714</td>\n",
              "      <td id=\"T_ff60b_row0_col6\" class=\"data row0 col6\" >0.9721</td>\n",
              "    </tr>\n",
              "    <tr>\n",
              "      <th id=\"T_ff60b_level0_row1\" class=\"row_heading level0 row1\" >1</th>\n",
              "      <td id=\"T_ff60b_row1_col0\" class=\"data row1 col0\" >1.0000</td>\n",
              "      <td id=\"T_ff60b_row1_col1\" class=\"data row1 col1\" >1.0000</td>\n",
              "      <td id=\"T_ff60b_row1_col2\" class=\"data row1 col2\" >1.0000</td>\n",
              "      <td id=\"T_ff60b_row1_col3\" class=\"data row1 col3\" >1.0000</td>\n",
              "      <td id=\"T_ff60b_row1_col4\" class=\"data row1 col4\" >1.0000</td>\n",
              "      <td id=\"T_ff60b_row1_col5\" class=\"data row1 col5\" >1.0000</td>\n",
              "      <td id=\"T_ff60b_row1_col6\" class=\"data row1 col6\" >1.0000</td>\n",
              "    </tr>\n",
              "    <tr>\n",
              "      <th id=\"T_ff60b_level0_row2\" class=\"row_heading level0 row2\" >2</th>\n",
              "      <td id=\"T_ff60b_row2_col0\" class=\"data row2 col0\" >1.0000</td>\n",
              "      <td id=\"T_ff60b_row2_col1\" class=\"data row2 col1\" >1.0000</td>\n",
              "      <td id=\"T_ff60b_row2_col2\" class=\"data row2 col2\" >1.0000</td>\n",
              "      <td id=\"T_ff60b_row2_col3\" class=\"data row2 col3\" >1.0000</td>\n",
              "      <td id=\"T_ff60b_row2_col4\" class=\"data row2 col4\" >1.0000</td>\n",
              "      <td id=\"T_ff60b_row2_col5\" class=\"data row2 col5\" >1.0000</td>\n",
              "      <td id=\"T_ff60b_row2_col6\" class=\"data row2 col6\" >1.0000</td>\n",
              "    </tr>\n",
              "    <tr>\n",
              "      <th id=\"T_ff60b_level0_row3\" class=\"row_heading level0 row3\" >3</th>\n",
              "      <td id=\"T_ff60b_row3_col0\" class=\"data row3 col0\" >1.0000</td>\n",
              "      <td id=\"T_ff60b_row3_col1\" class=\"data row3 col1\" >1.0000</td>\n",
              "      <td id=\"T_ff60b_row3_col2\" class=\"data row3 col2\" >1.0000</td>\n",
              "      <td id=\"T_ff60b_row3_col3\" class=\"data row3 col3\" >1.0000</td>\n",
              "      <td id=\"T_ff60b_row3_col4\" class=\"data row3 col4\" >1.0000</td>\n",
              "      <td id=\"T_ff60b_row3_col5\" class=\"data row3 col5\" >1.0000</td>\n",
              "      <td id=\"T_ff60b_row3_col6\" class=\"data row3 col6\" >1.0000</td>\n",
              "    </tr>\n",
              "    <tr>\n",
              "      <th id=\"T_ff60b_level0_row4\" class=\"row_heading level0 row4\" >4</th>\n",
              "      <td id=\"T_ff60b_row4_col0\" class=\"data row4 col0\" >1.0000</td>\n",
              "      <td id=\"T_ff60b_row4_col1\" class=\"data row4 col1\" >1.0000</td>\n",
              "      <td id=\"T_ff60b_row4_col2\" class=\"data row4 col2\" >1.0000</td>\n",
              "      <td id=\"T_ff60b_row4_col3\" class=\"data row4 col3\" >1.0000</td>\n",
              "      <td id=\"T_ff60b_row4_col4\" class=\"data row4 col4\" >1.0000</td>\n",
              "      <td id=\"T_ff60b_row4_col5\" class=\"data row4 col5\" >1.0000</td>\n",
              "      <td id=\"T_ff60b_row4_col6\" class=\"data row4 col6\" >1.0000</td>\n",
              "    </tr>\n",
              "    <tr>\n",
              "      <th id=\"T_ff60b_level0_row5\" class=\"row_heading level0 row5\" >5</th>\n",
              "      <td id=\"T_ff60b_row5_col0\" class=\"data row5 col0\" >1.0000</td>\n",
              "      <td id=\"T_ff60b_row5_col1\" class=\"data row5 col1\" >1.0000</td>\n",
              "      <td id=\"T_ff60b_row5_col2\" class=\"data row5 col2\" >1.0000</td>\n",
              "      <td id=\"T_ff60b_row5_col3\" class=\"data row5 col3\" >1.0000</td>\n",
              "      <td id=\"T_ff60b_row5_col4\" class=\"data row5 col4\" >1.0000</td>\n",
              "      <td id=\"T_ff60b_row5_col5\" class=\"data row5 col5\" >1.0000</td>\n",
              "      <td id=\"T_ff60b_row5_col6\" class=\"data row5 col6\" >1.0000</td>\n",
              "    </tr>\n",
              "    <tr>\n",
              "      <th id=\"T_ff60b_level0_row6\" class=\"row_heading level0 row6\" >6</th>\n",
              "      <td id=\"T_ff60b_row6_col0\" class=\"data row6 col0\" >0.9762</td>\n",
              "      <td id=\"T_ff60b_row6_col1\" class=\"data row6 col1\" >1.0000</td>\n",
              "      <td id=\"T_ff60b_row6_col2\" class=\"data row6 col2\" >0.9762</td>\n",
              "      <td id=\"T_ff60b_row6_col3\" class=\"data row6 col3\" >0.9792</td>\n",
              "      <td id=\"T_ff60b_row6_col4\" class=\"data row6 col4\" >0.9761</td>\n",
              "      <td id=\"T_ff60b_row6_col5\" class=\"data row6 col5\" >0.9714</td>\n",
              "      <td id=\"T_ff60b_row6_col6\" class=\"data row6 col6\" >0.9721</td>\n",
              "    </tr>\n",
              "    <tr>\n",
              "      <th id=\"T_ff60b_level0_row7\" class=\"row_heading level0 row7\" >7</th>\n",
              "      <td id=\"T_ff60b_row7_col0\" class=\"data row7 col0\" >1.0000</td>\n",
              "      <td id=\"T_ff60b_row7_col1\" class=\"data row7 col1\" >1.0000</td>\n",
              "      <td id=\"T_ff60b_row7_col2\" class=\"data row7 col2\" >1.0000</td>\n",
              "      <td id=\"T_ff60b_row7_col3\" class=\"data row7 col3\" >1.0000</td>\n",
              "      <td id=\"T_ff60b_row7_col4\" class=\"data row7 col4\" >1.0000</td>\n",
              "      <td id=\"T_ff60b_row7_col5\" class=\"data row7 col5\" >1.0000</td>\n",
              "      <td id=\"T_ff60b_row7_col6\" class=\"data row7 col6\" >1.0000</td>\n",
              "    </tr>\n",
              "    <tr>\n",
              "      <th id=\"T_ff60b_level0_row8\" class=\"row_heading level0 row8\" >8</th>\n",
              "      <td id=\"T_ff60b_row8_col0\" class=\"data row8 col0\" >0.9762</td>\n",
              "      <td id=\"T_ff60b_row8_col1\" class=\"data row8 col1\" >1.0000</td>\n",
              "      <td id=\"T_ff60b_row8_col2\" class=\"data row8 col2\" >0.9762</td>\n",
              "      <td id=\"T_ff60b_row8_col3\" class=\"data row8 col3\" >0.9792</td>\n",
              "      <td id=\"T_ff60b_row8_col4\" class=\"data row8 col4\" >0.9761</td>\n",
              "      <td id=\"T_ff60b_row8_col5\" class=\"data row8 col5\" >0.9714</td>\n",
              "      <td id=\"T_ff60b_row8_col6\" class=\"data row8 col6\" >0.9721</td>\n",
              "    </tr>\n",
              "    <tr>\n",
              "      <th id=\"T_ff60b_level0_row9\" class=\"row_heading level0 row9\" >9</th>\n",
              "      <td id=\"T_ff60b_row9_col0\" class=\"data row9 col0\" >0.9762</td>\n",
              "      <td id=\"T_ff60b_row9_col1\" class=\"data row9 col1\" >1.0000</td>\n",
              "      <td id=\"T_ff60b_row9_col2\" class=\"data row9 col2\" >0.9762</td>\n",
              "      <td id=\"T_ff60b_row9_col3\" class=\"data row9 col3\" >0.9792</td>\n",
              "      <td id=\"T_ff60b_row9_col4\" class=\"data row9 col4\" >0.9761</td>\n",
              "      <td id=\"T_ff60b_row9_col5\" class=\"data row9 col5\" >0.9714</td>\n",
              "      <td id=\"T_ff60b_row9_col6\" class=\"data row9 col6\" >0.9721</td>\n",
              "    </tr>\n",
              "    <tr>\n",
              "      <th id=\"T_ff60b_level0_row10\" class=\"row_heading level0 row10\" >Mean</th>\n",
              "      <td id=\"T_ff60b_row10_col0\" class=\"data row10 col0\" >0.9905</td>\n",
              "      <td id=\"T_ff60b_row10_col1\" class=\"data row10 col1\" >1.0000</td>\n",
              "      <td id=\"T_ff60b_row10_col2\" class=\"data row10 col2\" >0.9905</td>\n",
              "      <td id=\"T_ff60b_row10_col3\" class=\"data row10 col3\" >0.9917</td>\n",
              "      <td id=\"T_ff60b_row10_col4\" class=\"data row10 col4\" >0.9904</td>\n",
              "      <td id=\"T_ff60b_row10_col5\" class=\"data row10 col5\" >0.9886</td>\n",
              "      <td id=\"T_ff60b_row10_col6\" class=\"data row10 col6\" >0.9888</td>\n",
              "    </tr>\n",
              "    <tr>\n",
              "      <th id=\"T_ff60b_level0_row11\" class=\"row_heading level0 row11\" >Std</th>\n",
              "      <td id=\"T_ff60b_row11_col0\" class=\"data row11 col0\" >0.0117</td>\n",
              "      <td id=\"T_ff60b_row11_col1\" class=\"data row11 col1\" >0.0000</td>\n",
              "      <td id=\"T_ff60b_row11_col2\" class=\"data row11 col2\" >0.0117</td>\n",
              "      <td id=\"T_ff60b_row11_col3\" class=\"data row11 col3\" >0.0102</td>\n",
              "      <td id=\"T_ff60b_row11_col4\" class=\"data row11 col4\" >0.0117</td>\n",
              "      <td id=\"T_ff60b_row11_col5\" class=\"data row11 col5\" >0.0140</td>\n",
              "      <td id=\"T_ff60b_row11_col6\" class=\"data row11 col6\" >0.0137</td>\n",
              "    </tr>\n",
              "  </tbody>\n",
              "</table>\n"
            ]
          },
          "metadata": {}
        },
        {
          "output_type": "display_data",
          "data": {
            "text/plain": [
              "Processing:   0%|          | 0/4 [00:00<?, ?it/s]"
            ],
            "application/vnd.jupyter.widget-view+json": {
              "version_major": 2,
              "version_minor": 0,
              "model_id": "b4d0d45cc34541ceb64bb8fff83a3621"
            }
          },
          "metadata": {
            "application/vnd.jupyter.widget-view+json": {
              "colab": {
                "custom_widget_manager": {
                  "url": "https://ssl.gstatic.com/colaboratory-static/widgets/colab-cdn-widget-manager/b3e629b1971e1542/manager.min.js"
                }
              }
            }
          }
        },
        {
          "output_type": "display_data",
          "data": {
            "text/plain": [
              "<IPython.core.display.HTML object>"
            ],
            "text/html": []
          },
          "metadata": {}
        }
      ],
      "source": [
        "# Step 8: Training the best model based on predictive performance metrics\n",
        "# Note: The random forest model was one of the top three. Now, we will create and validate this.\n",
        "best_model = classification.create_model(\"rf\")"
      ],
      "id": "IYjOhBS4pkWh"
    },
    {
      "cell_type": "code",
      "execution_count": 47,
      "metadata": {
        "colab": {
          "base_uri": "https://localhost:8080/",
          "height": 504
        },
        "id": "g1ikE98Jppld",
        "outputId": "b10d61df-d2bd-4fba-e0e8-688cdd4fa24e"
      },
      "outputs": [
        {
          "output_type": "display_data",
          "data": {
            "text/plain": [
              "<IPython.core.display.HTML object>"
            ],
            "text/html": []
          },
          "metadata": {}
        },
        {
          "output_type": "display_data",
          "data": {
            "text/plain": [
              "<Figure size 800x500 with 1 Axes>"
            ],
            "image/png": "[encoded data removed]"
          },
          "metadata": {}
        },
        {
          "output_type": "display_data",
          "data": {
            "text/plain": [
              "<IPython.core.display.HTML object>"
            ],
            "text/html": []
          },
          "metadata": {}
        },
        {
          "output_type": "execute_result",
          "data": {
            "text/plain": [
              "'Feature Importance.png'"
            ],
            "application/vnd.google.colaboratory.intrinsic+json": {
              "type": "string"
            }
          },
          "metadata": {},
          "execution_count": 47
        }
      ],
      "source": [
        "# Step 17: Plotting only the TOP 10 most important wavenumber\n",
        "classification.plot_model(best_model, plot =\"feature\")\n",
        "classification.plot_model(best_model, plot =\"feature\", scale = 3, save = True)"
      ],
      "id": "g1ikE98Jppld"
    },
    {
      "cell_type": "code",
      "execution_count": 48,
      "metadata": {
        "colab": {
          "base_uri": "https://localhost:8080/",
          "height": 457,
          "referenced_widgets": [
            "05db693131304d819d2a97b3555dc1fd",
            "38cd5e274a5e4f79a9e933bb5df0ae44",
            "f2c7af583bf149e3aeee5757e4d85c79",
            "05a9e7fa5b14462390d5da572eefc9f6",
            "abf384737bdf4cd987787cb4887e1ce0",
            "b0fc4287669444fe96fb29764cad7d17",
            "74a2facc913f43f4a96554d66f9325c9",
            "208ef136ab60475bbfe163b88ed87c91",
            "025fbf406d0f4812ac7c991755ccab68",
            "a0a6935c65474135b80e0344eac84784",
            "322ff7f264954b48afa551c86a989a6a"
          ]
        },
        "id": "Tvtoq_FJpudw",
        "outputId": "3fc23080-8f9d-4526-892e-903331c286d9"
      },
      "outputs": [
        {
          "output_type": "display_data",
          "data": {
            "text/plain": [
              "<IPython.core.display.HTML object>"
            ],
            "text/html": []
          },
          "metadata": {}
        },
        {
          "output_type": "display_data",
          "data": {
            "text/plain": [
              "<pandas.io.formats.style.Styler at 0x7fe04ab045e0>"
            ],
            "text/html": [
              "<style type=\"text/css\">\n",
              "#T_08fc5_row10_col0, #T_08fc5_row10_col1, #T_08fc5_row10_col2, #T_08fc5_row10_col3, #T_08fc5_row10_col4, #T_08fc5_row10_col5, #T_08fc5_row10_col6 {\n",
              "  background: yellow;\n",
              "}\n",
              "</style>\n",
              "<table id=\"T_08fc5\" class=\"dataframe\">\n",
              "  <thead>\n",
              "    <tr>\n",
              "      <th class=\"blank level0\" >&nbsp;</th>\n",
              "      <th id=\"T_08fc5_level0_col0\" class=\"col_heading level0 col0\" >Accuracy</th>\n",
              "      <th id=\"T_08fc5_level0_col1\" class=\"col_heading level0 col1\" >AUC</th>\n",
              "      <th id=\"T_08fc5_level0_col2\" class=\"col_heading level0 col2\" >Recall</th>\n",
              "      <th id=\"T_08fc5_level0_col3\" class=\"col_heading level0 col3\" >Prec.</th>\n",
              "      <th id=\"T_08fc5_level0_col4\" class=\"col_heading level0 col4\" >F1</th>\n",
              "      <th id=\"T_08fc5_level0_col5\" class=\"col_heading level0 col5\" >Kappa</th>\n",
              "      <th id=\"T_08fc5_level0_col6\" class=\"col_heading level0 col6\" >MCC</th>\n",
              "    </tr>\n",
              "    <tr>\n",
              "      <th class=\"index_name level0\" >Fold</th>\n",
              "      <th class=\"blank col0\" >&nbsp;</th>\n",
              "      <th class=\"blank col1\" >&nbsp;</th>\n",
              "      <th class=\"blank col2\" >&nbsp;</th>\n",
              "      <th class=\"blank col3\" >&nbsp;</th>\n",
              "      <th class=\"blank col4\" >&nbsp;</th>\n",
              "      <th class=\"blank col5\" >&nbsp;</th>\n",
              "      <th class=\"blank col6\" >&nbsp;</th>\n",
              "    </tr>\n",
              "  </thead>\n",
              "  <tbody>\n",
              "    <tr>\n",
              "      <th id=\"T_08fc5_level0_row0\" class=\"row_heading level0 row0\" >0</th>\n",
              "      <td id=\"T_08fc5_row0_col0\" class=\"data row0 col0\" >0.9524</td>\n",
              "      <td id=\"T_08fc5_row0_col1\" class=\"data row0 col1\" >1.0000</td>\n",
              "      <td id=\"T_08fc5_row0_col2\" class=\"data row0 col2\" >0.9524</td>\n",
              "      <td id=\"T_08fc5_row0_col3\" class=\"data row0 col3\" >0.9630</td>\n",
              "      <td id=\"T_08fc5_row0_col4\" class=\"data row0 col4\" >0.9514</td>\n",
              "      <td id=\"T_08fc5_row0_col5\" class=\"data row0 col5\" >0.9429</td>\n",
              "      <td id=\"T_08fc5_row0_col6\" class=\"data row0 col6\" >0.9454</td>\n",
              "    </tr>\n",
              "    <tr>\n",
              "      <th id=\"T_08fc5_level0_row1\" class=\"row_heading level0 row1\" >1</th>\n",
              "      <td id=\"T_08fc5_row1_col0\" class=\"data row1 col0\" >1.0000</td>\n",
              "      <td id=\"T_08fc5_row1_col1\" class=\"data row1 col1\" >1.0000</td>\n",
              "      <td id=\"T_08fc5_row1_col2\" class=\"data row1 col2\" >1.0000</td>\n",
              "      <td id=\"T_08fc5_row1_col3\" class=\"data row1 col3\" >1.0000</td>\n",
              "      <td id=\"T_08fc5_row1_col4\" class=\"data row1 col4\" >1.0000</td>\n",
              "      <td id=\"T_08fc5_row1_col5\" class=\"data row1 col5\" >1.0000</td>\n",
              "      <td id=\"T_08fc5_row1_col6\" class=\"data row1 col6\" >1.0000</td>\n",
              "    </tr>\n",
              "    <tr>\n",
              "      <th id=\"T_08fc5_level0_row2\" class=\"row_heading level0 row2\" >2</th>\n",
              "      <td id=\"T_08fc5_row2_col0\" class=\"data row2 col0\" >0.9762</td>\n",
              "      <td id=\"T_08fc5_row2_col1\" class=\"data row2 col1\" >1.0000</td>\n",
              "      <td id=\"T_08fc5_row2_col2\" class=\"data row2 col2\" >0.9762</td>\n",
              "      <td id=\"T_08fc5_row2_col3\" class=\"data row2 col3\" >0.9792</td>\n",
              "      <td id=\"T_08fc5_row2_col4\" class=\"data row2 col4\" >0.9761</td>\n",
              "      <td id=\"T_08fc5_row2_col5\" class=\"data row2 col5\" >0.9714</td>\n",
              "      <td id=\"T_08fc5_row2_col6\" class=\"data row2 col6\" >0.9721</td>\n",
              "    </tr>\n",
              "    <tr>\n",
              "      <th id=\"T_08fc5_level0_row3\" class=\"row_heading level0 row3\" >3</th>\n",
              "      <td id=\"T_08fc5_row3_col0\" class=\"data row3 col0\" >0.9762</td>\n",
              "      <td id=\"T_08fc5_row3_col1\" class=\"data row3 col1\" >1.0000</td>\n",
              "      <td id=\"T_08fc5_row3_col2\" class=\"data row3 col2\" >0.9762</td>\n",
              "      <td id=\"T_08fc5_row3_col3\" class=\"data row3 col3\" >0.9792</td>\n",
              "      <td id=\"T_08fc5_row3_col4\" class=\"data row3 col4\" >0.9761</td>\n",
              "      <td id=\"T_08fc5_row3_col5\" class=\"data row3 col5\" >0.9714</td>\n",
              "      <td id=\"T_08fc5_row3_col6\" class=\"data row3 col6\" >0.9721</td>\n",
              "    </tr>\n",
              "    <tr>\n",
              "      <th id=\"T_08fc5_level0_row4\" class=\"row_heading level0 row4\" >4</th>\n",
              "      <td id=\"T_08fc5_row4_col0\" class=\"data row4 col0\" >1.0000</td>\n",
              "      <td id=\"T_08fc5_row4_col1\" class=\"data row4 col1\" >1.0000</td>\n",
              "      <td id=\"T_08fc5_row4_col2\" class=\"data row4 col2\" >1.0000</td>\n",
              "      <td id=\"T_08fc5_row4_col3\" class=\"data row4 col3\" >1.0000</td>\n",
              "      <td id=\"T_08fc5_row4_col4\" class=\"data row4 col4\" >1.0000</td>\n",
              "      <td id=\"T_08fc5_row4_col5\" class=\"data row4 col5\" >1.0000</td>\n",
              "      <td id=\"T_08fc5_row4_col6\" class=\"data row4 col6\" >1.0000</td>\n",
              "    </tr>\n",
              "    <tr>\n",
              "      <th id=\"T_08fc5_level0_row5\" class=\"row_heading level0 row5\" >5</th>\n",
              "      <td id=\"T_08fc5_row5_col0\" class=\"data row5 col0\" >1.0000</td>\n",
              "      <td id=\"T_08fc5_row5_col1\" class=\"data row5 col1\" >1.0000</td>\n",
              "      <td id=\"T_08fc5_row5_col2\" class=\"data row5 col2\" >1.0000</td>\n",
              "      <td id=\"T_08fc5_row5_col3\" class=\"data row5 col3\" >1.0000</td>\n",
              "      <td id=\"T_08fc5_row5_col4\" class=\"data row5 col4\" >1.0000</td>\n",
              "      <td id=\"T_08fc5_row5_col5\" class=\"data row5 col5\" >1.0000</td>\n",
              "      <td id=\"T_08fc5_row5_col6\" class=\"data row5 col6\" >1.0000</td>\n",
              "    </tr>\n",
              "    <tr>\n",
              "      <th id=\"T_08fc5_level0_row6\" class=\"row_heading level0 row6\" >6</th>\n",
              "      <td id=\"T_08fc5_row6_col0\" class=\"data row6 col0\" >1.0000</td>\n",
              "      <td id=\"T_08fc5_row6_col1\" class=\"data row6 col1\" >1.0000</td>\n",
              "      <td id=\"T_08fc5_row6_col2\" class=\"data row6 col2\" >1.0000</td>\n",
              "      <td id=\"T_08fc5_row6_col3\" class=\"data row6 col3\" >1.0000</td>\n",
              "      <td id=\"T_08fc5_row6_col4\" class=\"data row6 col4\" >1.0000</td>\n",
              "      <td id=\"T_08fc5_row6_col5\" class=\"data row6 col5\" >1.0000</td>\n",
              "      <td id=\"T_08fc5_row6_col6\" class=\"data row6 col6\" >1.0000</td>\n",
              "    </tr>\n",
              "    <tr>\n",
              "      <th id=\"T_08fc5_level0_row7\" class=\"row_heading level0 row7\" >7</th>\n",
              "      <td id=\"T_08fc5_row7_col0\" class=\"data row7 col0\" >1.0000</td>\n",
              "      <td id=\"T_08fc5_row7_col1\" class=\"data row7 col1\" >1.0000</td>\n",
              "      <td id=\"T_08fc5_row7_col2\" class=\"data row7 col2\" >1.0000</td>\n",
              "      <td id=\"T_08fc5_row7_col3\" class=\"data row7 col3\" >1.0000</td>\n",
              "      <td id=\"T_08fc5_row7_col4\" class=\"data row7 col4\" >1.0000</td>\n",
              "      <td id=\"T_08fc5_row7_col5\" class=\"data row7 col5\" >1.0000</td>\n",
              "      <td id=\"T_08fc5_row7_col6\" class=\"data row7 col6\" >1.0000</td>\n",
              "    </tr>\n",
              "    <tr>\n",
              "      <th id=\"T_08fc5_level0_row8\" class=\"row_heading level0 row8\" >8</th>\n",
              "      <td id=\"T_08fc5_row8_col0\" class=\"data row8 col0\" >1.0000</td>\n",
              "      <td id=\"T_08fc5_row8_col1\" class=\"data row8 col1\" >1.0000</td>\n",
              "      <td id=\"T_08fc5_row8_col2\" class=\"data row8 col2\" >1.0000</td>\n",
              "      <td id=\"T_08fc5_row8_col3\" class=\"data row8 col3\" >1.0000</td>\n",
              "      <td id=\"T_08fc5_row8_col4\" class=\"data row8 col4\" >1.0000</td>\n",
              "      <td id=\"T_08fc5_row8_col5\" class=\"data row8 col5\" >1.0000</td>\n",
              "      <td id=\"T_08fc5_row8_col6\" class=\"data row8 col6\" >1.0000</td>\n",
              "    </tr>\n",
              "    <tr>\n",
              "      <th id=\"T_08fc5_level0_row9\" class=\"row_heading level0 row9\" >9</th>\n",
              "      <td id=\"T_08fc5_row9_col0\" class=\"data row9 col0\" >1.0000</td>\n",
              "      <td id=\"T_08fc5_row9_col1\" class=\"data row9 col1\" >1.0000</td>\n",
              "      <td id=\"T_08fc5_row9_col2\" class=\"data row9 col2\" >1.0000</td>\n",
              "      <td id=\"T_08fc5_row9_col3\" class=\"data row9 col3\" >1.0000</td>\n",
              "      <td id=\"T_08fc5_row9_col4\" class=\"data row9 col4\" >1.0000</td>\n",
              "      <td id=\"T_08fc5_row9_col5\" class=\"data row9 col5\" >1.0000</td>\n",
              "      <td id=\"T_08fc5_row9_col6\" class=\"data row9 col6\" >1.0000</td>\n",
              "    </tr>\n",
              "    <tr>\n",
              "      <th id=\"T_08fc5_level0_row10\" class=\"row_heading level0 row10\" >Mean</th>\n",
              "      <td id=\"T_08fc5_row10_col0\" class=\"data row10 col0\" >0.9905</td>\n",
              "      <td id=\"T_08fc5_row10_col1\" class=\"data row10 col1\" >1.0000</td>\n",
              "      <td id=\"T_08fc5_row10_col2\" class=\"data row10 col2\" >0.9905</td>\n",
              "      <td id=\"T_08fc5_row10_col3\" class=\"data row10 col3\" >0.9921</td>\n",
              "      <td id=\"T_08fc5_row10_col4\" class=\"data row10 col4\" >0.9904</td>\n",
              "      <td id=\"T_08fc5_row10_col5\" class=\"data row10 col5\" >0.9886</td>\n",
              "      <td id=\"T_08fc5_row10_col6\" class=\"data row10 col6\" >0.9890</td>\n",
              "    </tr>\n",
              "    <tr>\n",
              "      <th id=\"T_08fc5_level0_row11\" class=\"row_heading level0 row11\" >Std</th>\n",
              "      <td id=\"T_08fc5_row11_col0\" class=\"data row11 col0\" >0.0158</td>\n",
              "      <td id=\"T_08fc5_row11_col1\" class=\"data row11 col1\" >0.0000</td>\n",
              "      <td id=\"T_08fc5_row11_col2\" class=\"data row11 col2\" >0.0158</td>\n",
              "      <td id=\"T_08fc5_row11_col3\" class=\"data row11 col3\" >0.0127</td>\n",
              "      <td id=\"T_08fc5_row11_col4\" class=\"data row11 col4\" >0.0161</td>\n",
              "      <td id=\"T_08fc5_row11_col5\" class=\"data row11 col5\" >0.0190</td>\n",
              "      <td id=\"T_08fc5_row11_col6\" class=\"data row11 col6\" >0.0182</td>\n",
              "    </tr>\n",
              "  </tbody>\n",
              "</table>\n"
            ]
          },
          "metadata": {}
        },
        {
          "output_type": "display_data",
          "data": {
            "text/plain": [
              "Processing:   0%|          | 0/4 [00:00<?, ?it/s]"
            ],
            "application/vnd.jupyter.widget-view+json": {
              "version_major": 2,
              "version_minor": 0,
              "model_id": "05db693131304d819d2a97b3555dc1fd"
            }
          },
          "metadata": {
            "application/vnd.jupyter.widget-view+json": {
              "colab": {
                "custom_widget_manager": {
                  "url": "https://ssl.gstatic.com/colaboratory-static/widgets/colab-cdn-widget-manager/b3e629b1971e1542/manager.min.js"
                }
              }
            }
          }
        },
        {
          "output_type": "display_data",
          "data": {
            "text/plain": [
              "<IPython.core.display.HTML object>"
            ],
            "text/html": []
          },
          "metadata": {}
        }
      ],
      "source": [
        "# Step 8: Training the best model based on predictive performance metrics\n",
        "# Note: The PLS-DA model was one of the top three. Now, we will create and validate the Linear Discriminant Analysis model\n",
        "best_model = classification.create_model(\"lda\")"
      ],
      "id": "Tvtoq_FJpudw"
    },
    {
      "cell_type": "code",
      "execution_count": 49,
      "metadata": {
        "colab": {
          "base_uri": "https://localhost:8080/",
          "height": 504
        },
        "id": "8HCuz5p9p69K",
        "outputId": "6e77f050-974b-4eda-a660-a520c406e71e"
      },
      "outputs": [
        {
          "output_type": "display_data",
          "data": {
            "text/plain": [
              "<IPython.core.display.HTML object>"
            ],
            "text/html": []
          },
          "metadata": {}
        },
        {
          "output_type": "display_data",
          "data": {
            "text/plain": [
              "<Figure size 800x500 with 1 Axes>"
            ],
            "image/png": "[encoded data removed]"
          },
          "metadata": {}
        },
        {
          "output_type": "display_data",
          "data": {
            "text/plain": [
              "<IPython.core.display.HTML object>"
            ],
            "text/html": []
          },
          "metadata": {}
        },
        {
          "output_type": "execute_result",
          "data": {
            "text/plain": [
              "'Feature Importance.png'"
            ],
            "application/vnd.google.colaboratory.intrinsic+json": {
              "type": "string"
            }
          },
          "metadata": {},
          "execution_count": 49
        }
      ],
      "source": [
        "# Step 17: Plotting only the TOP 10 most important wavenumber\n",
        "classification.plot_model(best_model, plot =\"feature\")\n",
        "classification.plot_model(best_model, plot =\"feature\", scale = 3, save = True)"
      ],
      "id": "8HCuz5p9p69K"
    },
    {
      "cell_type": "code",
      "execution_count": 50,
      "metadata": {
        "colab": {
          "base_uri": "https://localhost:8080/"
        },
        "id": "6d450f64",
        "outputId": "7b8a81d3-431f-4cb7-db24-4a6c6387135c"
      },
      "outputs": [
        {
          "output_type": "stream",
          "name": "stdout",
          "text": [
            "Transformation Pipeline and Model Successfully Saved\n"
          ]
        },
        {
          "output_type": "execute_result",
          "data": {
            "text/plain": [
              "(Pipeline(memory=FastMemory(location=/tmp/joblib),\n",
              "          steps=[('label_encoding',\n",
              "                  TransformerWrapperWithInverse(exclude=None, include=None,\n",
              "                                                transformer=LabelEncoder())),\n",
              "                 ('numerical_imputer',\n",
              "                  TransformerWrapper(exclude=None,\n",
              "                                     include=['3998.4', '3997', '3995.6',\n",
              "                                              '3994.2', '3992.8', '3991.3',\n",
              "                                              '3989.9', '3988.5', '3987.1',\n",
              "                                              '3985.7', '3984.3', '3982.8',\n",
              "                                              '3981.4', '3980', '3978.6...\n",
              "                                                               strategy='most_frequent',\n",
              "                                                               verbose='deprecated'))),\n",
              "                 ('clean_column_names',\n",
              "                  TransformerWrapper(exclude=None, include=None,\n",
              "                                     transformer=CleanColumnNames(match='[\\\\]\\\\[\\\\,\\\\{\\\\}\\\\\"\\\\:]+'))),\n",
              "                 ('trained_model',\n",
              "                  LinearDiscriminantAnalysis(covariance_estimator=None,\n",
              "                                             n_components=None, priors=None,\n",
              "                                             shrinkage=None, solver='svd',\n",
              "                                             store_covariance=False,\n",
              "                                             tol=0.0001))],\n",
              "          verbose=False),\n",
              " 'best_model_et.pkl')"
            ]
          },
          "metadata": {},
          "execution_count": 50
        }
      ],
      "source": [
        "# Passo 11: Saving the model for predictions (Deploy)\n",
        "classification.save_model(best_model, \"best_model_et\")"
      ],
      "id": "6d450f64"
    }
  ],
  "metadata": {
    "colab": {
      "provenance": [],
      "include_colab_link": true
    },
    "kernelspec": {
      "display_name": "Python 3",
      "language": "python",
      "name": "python3"
    },
    "language_info": {
      "codemirror_mode": {
        "name": "ipython",
        "version": 3
      },
      "file_extension": ".py",
      "mimetype": "text/x-python",
      "name": "python",
      "nbconvert_exporter": "python",
      "pygments_lexer": "ipython3",
      "version": "3.6.13"
    },
    "widgets": {
      "application/vnd.jupyter.widget-state+json": {
        "c716db89fdfa489b87be81f72eec830a": {
          "model_module": "@jupyter-widgets/controls",
          "model_name": "HBoxModel",
          "model_module_version": "1.5.0",
          "state": {
            "_dom_classes": [],
            "_model_module": "@jupyter-widgets/controls",
            "_model_module_version": "1.5.0",
            "_model_name": "HBoxModel",
            "_view_count": null,
            "_view_module": "@jupyter-widgets/controls",
            "_view_module_version": "1.5.0",
            "_view_name": "HBoxView",
            "box_style": "",
            "children": [
              "IPY_MODEL_1dad5ba727be4db68f4ada40c771a891",
              "IPY_MODEL_63b549dbbb374388a91bb79de608aaf8",
              "IPY_MODEL_7aae4a1f3f174357be2407d38fbb754f"
            ],
            "layout": "IPY_MODEL_4a61b753ad124e64a2e786e882f52a98"
          }
        },
        "1dad5ba727be4db68f4ada40c771a891": {
          "model_module": "@jupyter-widgets/controls",
          "model_name": "HTMLModel",
          "model_module_version": "1.5.0",
          "state": {
            "_dom_classes": [],
            "_model_module": "@jupyter-widgets/controls",
            "_model_module_version": "1.5.0",
            "_model_name": "HTMLModel",
            "_view_count": null,
            "_view_module": "@jupyter-widgets/controls",
            "_view_module_version": "1.5.0",
            "_view_name": "HTMLView",
            "description": "",
            "description_tooltip": null,
            "layout": "IPY_MODEL_a4a615942e6749659c07444f1e973f83",
            "placeholder": "​",
            "style": "IPY_MODEL_2fe53d66dfaf40078ddf3629135cdf97",
            "value": "Processing: 100%"
          }
        },
        "63b549dbbb374388a91bb79de608aaf8": {
          "model_module": "@jupyter-widgets/controls",
          "model_name": "FloatProgressModel",
          "model_module_version": "1.5.0",
          "state": {
            "_dom_classes": [],
            "_model_module": "@jupyter-widgets/controls",
            "_model_module_version": "1.5.0",
            "_model_name": "FloatProgressModel",
            "_view_count": null,
            "_view_module": "@jupyter-widgets/controls",
            "_view_module_version": "1.5.0",
            "_view_name": "ProgressView",
            "bar_style": "",
            "description": "",
            "description_tooltip": null,
            "layout": "IPY_MODEL_27f7d97c0d5041a6aa014ba64d25481b",
            "max": 65,
            "min": 0,
            "orientation": "horizontal",
            "style": "IPY_MODEL_58427b6498074ad7b6bda69f615a1ed8",
            "value": 65
          }
        },
        "7aae4a1f3f174357be2407d38fbb754f": {
          "model_module": "@jupyter-widgets/controls",
          "model_name": "HTMLModel",
          "model_module_version": "1.5.0",
          "state": {
            "_dom_classes": [],
            "_model_module": "@jupyter-widgets/controls",
            "_model_module_version": "1.5.0",
            "_model_name": "HTMLModel",
            "_view_count": null,
            "_view_module": "@jupyter-widgets/controls",
            "_view_module_version": "1.5.0",
            "_view_name": "HTMLView",
            "description": "",
            "description_tooltip": null,
            "layout": "IPY_MODEL_6486890490514ce7a7a81dacd1fa6a16",
            "placeholder": "​",
            "style": "IPY_MODEL_ab421190d0214941a166a23a9bd046bd",
            "value": " 65/65 [25:58&lt;00:00, 12.23s/it]"
          }
        },
        "4a61b753ad124e64a2e786e882f52a98": {
          "model_module": "@jupyter-widgets/base",
          "model_name": "LayoutModel",
          "model_module_version": "1.2.0",
          "state": {
            "_model_module": "@jupyter-widgets/base",
            "_model_module_version": "1.2.0",
            "_model_name": "LayoutModel",
            "_view_count": null,
            "_view_module": "@jupyter-widgets/base",
            "_view_module_version": "1.2.0",
            "_view_name": "LayoutView",
            "align_content": null,
            "align_items": null,
            "align_self": null,
            "border": null,
            "bottom": null,
            "display": null,
            "flex": null,
            "flex_flow": null,
            "grid_area": null,
            "grid_auto_columns": null,
            "grid_auto_flow": null,
            "grid_auto_rows": null,
            "grid_column": null,
            "grid_gap": null,
            "grid_row": null,
            "grid_template_areas": null,
            "grid_template_columns": null,
            "grid_template_rows": null,
            "height": null,
            "justify_content": null,
            "justify_items": null,
            "left": null,
            "margin": null,
            "max_height": null,
            "max_width": null,
            "min_height": null,
            "min_width": null,
            "object_fit": null,
            "object_position": null,
            "order": null,
            "overflow": null,
            "overflow_x": null,
            "overflow_y": null,
            "padding": null,
            "right": null,
            "top": null,
            "visibility": "hidden",
            "width": null
          }
        },
        "a4a615942e6749659c07444f1e973f83": {
          "model_module": "@jupyter-widgets/base",
          "model_name": "LayoutModel",
          "model_module_version": "1.2.0",
          "state": {
            "_model_module": "@jupyter-widgets/base",
            "_model_module_version": "1.2.0",
            "_model_name": "LayoutModel",
            "_view_count": null,
            "_view_module": "@jupyter-widgets/base",
            "_view_module_version": "1.2.0",
            "_view_name": "LayoutView",
            "align_content": null,
            "align_items": null,
            "align_self": null,
            "border": null,
            "bottom": null,
            "display": null,
            "flex": null,
            "flex_flow": null,
            "grid_area": null,
            "grid_auto_columns": null,
            "grid_auto_flow": null,
            "grid_auto_rows": null,
            "grid_column": null,
            "grid_gap": null,
            "grid_row": null,
            "grid_template_areas": null,
            "grid_template_columns": null,
            "grid_template_rows": null,
            "height": null,
            "justify_content": null,
            "justify_items": null,
            "left": null,
            "margin": null,
            "max_height": null,
            "max_width": null,
            "min_height": null,
            "min_width": null,
            "object_fit": null,
            "object_position": null,
            "order": null,
            "overflow": null,
            "overflow_x": null,
            "overflow_y": null,
            "padding": null,
            "right": null,
            "top": null,
            "visibility": null,
            "width": null
          }
        },
        "2fe53d66dfaf40078ddf3629135cdf97": {
          "model_module": "@jupyter-widgets/controls",
          "model_name": "DescriptionStyleModel",
          "model_module_version": "1.5.0",
          "state": {
            "_model_module": "@jupyter-widgets/controls",
            "_model_module_version": "1.5.0",
            "_model_name": "DescriptionStyleModel",
            "_view_count": null,
            "_view_module": "@jupyter-widgets/base",
            "_view_module_version": "1.2.0",
            "_view_name": "StyleView",
            "description_width": ""
          }
        },
        "27f7d97c0d5041a6aa014ba64d25481b": {
          "model_module": "@jupyter-widgets/base",
          "model_name": "LayoutModel",
          "model_module_version": "1.2.0",
          "state": {
            "_model_module": "@jupyter-widgets/base",
            "_model_module_version": "1.2.0",
            "_model_name": "LayoutModel",
            "_view_count": null,
            "_view_module": "@jupyter-widgets/base",
            "_view_module_version": "1.2.0",
            "_view_name": "LayoutView",
            "align_content": null,
            "align_items": null,
            "align_self": null,
            "border": null,
            "bottom": null,
            "display": null,
            "flex": null,
            "flex_flow": null,
            "grid_area": null,
            "grid_auto_columns": null,
            "grid_auto_flow": null,
            "grid_auto_rows": null,
            "grid_column": null,
            "grid_gap": null,
            "grid_row": null,
            "grid_template_areas": null,
            "grid_template_columns": null,
            "grid_template_rows": null,
            "height": null,
            "justify_content": null,
            "justify_items": null,
            "left": null,
            "margin": null,
            "max_height": null,
            "max_width": null,
            "min_height": null,
            "min_width": null,
            "object_fit": null,
            "object_position": null,
            "order": null,
            "overflow": null,
            "overflow_x": null,
            "overflow_y": null,
            "padding": null,
            "right": null,
            "top": null,
            "visibility": null,
            "width": null
          }
        },
        "58427b6498074ad7b6bda69f615a1ed8": {
          "model_module": "@jupyter-widgets/controls",
          "model_name": "ProgressStyleModel",
          "model_module_version": "1.5.0",
          "state": {
            "_model_module": "@jupyter-widgets/controls",
            "_model_module_version": "1.5.0",
            "_model_name": "ProgressStyleModel",
            "_view_count": null,
            "_view_module": "@jupyter-widgets/base",
            "_view_module_version": "1.2.0",
            "_view_name": "StyleView",
            "bar_color": null,
            "description_width": ""
          }
        },
        "6486890490514ce7a7a81dacd1fa6a16": {
          "model_module": "@jupyter-widgets/base",
          "model_name": "LayoutModel",
          "model_module_version": "1.2.0",
          "state": {
            "_model_module": "@jupyter-widgets/base",
            "_model_module_version": "1.2.0",
            "_model_name": "LayoutModel",
            "_view_count": null,
            "_view_module": "@jupyter-widgets/base",
            "_view_module_version": "1.2.0",
            "_view_name": "LayoutView",
            "align_content": null,
            "align_items": null,
            "align_self": null,
            "border": null,
            "bottom": null,
            "display": null,
            "flex": null,
            "flex_flow": null,
            "grid_area": null,
            "grid_auto_columns": null,
            "grid_auto_flow": null,
            "grid_auto_rows": null,
            "grid_column": null,
            "grid_gap": null,
            "grid_row": null,
            "grid_template_areas": null,
            "grid_template_columns": null,
            "grid_template_rows": null,
            "height": null,
            "justify_content": null,
            "justify_items": null,
            "left": null,
            "margin": null,
            "max_height": null,
            "max_width": null,
            "min_height": null,
            "min_width": null,
            "object_fit": null,
            "object_position": null,
            "order": null,
            "overflow": null,
            "overflow_x": null,
            "overflow_y": null,
            "padding": null,
            "right": null,
            "top": null,
            "visibility": null,
            "width": null
          }
        },
        "ab421190d0214941a166a23a9bd046bd": {
          "model_module": "@jupyter-widgets/controls",
          "model_name": "DescriptionStyleModel",
          "model_module_version": "1.5.0",
          "state": {
            "_model_module": "@jupyter-widgets/controls",
            "_model_module_version": "1.5.0",
            "_model_name": "DescriptionStyleModel",
            "_view_count": null,
            "_view_module": "@jupyter-widgets/base",
            "_view_module_version": "1.2.0",
            "_view_name": "StyleView",
            "description_width": ""
          }
        },
        "73135ea623a548619ef2c990fee5158d": {
          "model_module": "@jupyter-widgets/controls",
          "model_name": "HBoxModel",
          "model_module_version": "1.5.0",
          "state": {
            "_dom_classes": [],
            "_model_module": "@jupyter-widgets/controls",
            "_model_module_version": "1.5.0",
            "_model_name": "HBoxModel",
            "_view_count": null,
            "_view_module": "@jupyter-widgets/controls",
            "_view_module_version": "1.5.0",
            "_view_name": "HBoxView",
            "box_style": "",
            "children": [
              "IPY_MODEL_cc21a02251614d2a8d5be0fe91d3fb69",
              "IPY_MODEL_088c7fbcef2f42b8b583134b4c909967",
              "IPY_MODEL_6f35d8792f834dc7bdc5e974db58d5f7"
            ],
            "layout": "IPY_MODEL_4c1b990fe5754b548f183f6768a73c78"
          }
        },
        "cc21a02251614d2a8d5be0fe91d3fb69": {
          "model_module": "@jupyter-widgets/controls",
          "model_name": "HTMLModel",
          "model_module_version": "1.5.0",
          "state": {
            "_dom_classes": [],
            "_model_module": "@jupyter-widgets/controls",
            "_model_module_version": "1.5.0",
            "_model_name": "HTMLModel",
            "_view_count": null,
            "_view_module": "@jupyter-widgets/controls",
            "_view_module_version": "1.5.0",
            "_view_name": "HTMLView",
            "description": "",
            "description_tooltip": null,
            "layout": "IPY_MODEL_b0e6a7d57c7a496ba6adffb7c2b7c13d",
            "placeholder": "​",
            "style": "IPY_MODEL_66bd406c7fe647b9a568a71758006536",
            "value": "Processing: 100%"
          }
        },
        "088c7fbcef2f42b8b583134b4c909967": {
          "model_module": "@jupyter-widgets/controls",
          "model_name": "FloatProgressModel",
          "model_module_version": "1.5.0",
          "state": {
            "_dom_classes": [],
            "_model_module": "@jupyter-widgets/controls",
            "_model_module_version": "1.5.0",
            "_model_name": "FloatProgressModel",
            "_view_count": null,
            "_view_module": "@jupyter-widgets/controls",
            "_view_module_version": "1.5.0",
            "_view_name": "ProgressView",
            "bar_style": "",
            "description": "",
            "description_tooltip": null,
            "layout": "IPY_MODEL_e6249645e9ea4c1f916be850ea39f858",
            "max": 4,
            "min": 0,
            "orientation": "horizontal",
            "style": "IPY_MODEL_7d196e63243341d7a460fe677fcd2bee",
            "value": 4
          }
        },
        "6f35d8792f834dc7bdc5e974db58d5f7": {
          "model_module": "@jupyter-widgets/controls",
          "model_name": "HTMLModel",
          "model_module_version": "1.5.0",
          "state": {
            "_dom_classes": [],
            "_model_module": "@jupyter-widgets/controls",
            "_model_module_version": "1.5.0",
            "_model_name": "HTMLModel",
            "_view_count": null,
            "_view_module": "@jupyter-widgets/controls",
            "_view_module_version": "1.5.0",
            "_view_name": "HTMLView",
            "description": "",
            "description_tooltip": null,
            "layout": "IPY_MODEL_974c29bc62444209a92a95a4b0ca3479",
            "placeholder": "​",
            "style": "IPY_MODEL_10db66f600814b85a97e7dabfce1e817",
            "value": " 4/4 [00:12&lt;00:00,  2.80s/it]"
          }
        },
        "4c1b990fe5754b548f183f6768a73c78": {
          "model_module": "@jupyter-widgets/base",
          "model_name": "LayoutModel",
          "model_module_version": "1.2.0",
          "state": {
            "_model_module": "@jupyter-widgets/base",
            "_model_module_version": "1.2.0",
            "_model_name": "LayoutModel",
            "_view_count": null,
            "_view_module": "@jupyter-widgets/base",
            "_view_module_version": "1.2.0",
            "_view_name": "LayoutView",
            "align_content": null,
            "align_items": null,
            "align_self": null,
            "border": null,
            "bottom": null,
            "display": null,
            "flex": null,
            "flex_flow": null,
            "grid_area": null,
            "grid_auto_columns": null,
            "grid_auto_flow": null,
            "grid_auto_rows": null,
            "grid_column": null,
            "grid_gap": null,
            "grid_row": null,
            "grid_template_areas": null,
            "grid_template_columns": null,
            "grid_template_rows": null,
            "height": null,
            "justify_content": null,
            "justify_items": null,
            "left": null,
            "margin": null,
            "max_height": null,
            "max_width": null,
            "min_height": null,
            "min_width": null,
            "object_fit": null,
            "object_position": null,
            "order": null,
            "overflow": null,
            "overflow_x": null,
            "overflow_y": null,
            "padding": null,
            "right": null,
            "top": null,
            "visibility": "hidden",
            "width": null
          }
        },
        "b0e6a7d57c7a496ba6adffb7c2b7c13d": {
          "model_module": "@jupyter-widgets/base",
          "model_name": "LayoutModel",
          "model_module_version": "1.2.0",
          "state": {
            "_model_module": "@jupyter-widgets/base",
            "_model_module_version": "1.2.0",
            "_model_name": "LayoutModel",
            "_view_count": null,
            "_view_module": "@jupyter-widgets/base",
            "_view_module_version": "1.2.0",
            "_view_name": "LayoutView",
            "align_content": null,
            "align_items": null,
            "align_self": null,
            "border": null,
            "bottom": null,
            "display": null,
            "flex": null,
            "flex_flow": null,
            "grid_area": null,
            "grid_auto_columns": null,
            "grid_auto_flow": null,
            "grid_auto_rows": null,
            "grid_column": null,
            "grid_gap": null,
            "grid_row": null,
            "grid_template_areas": null,
            "grid_template_columns": null,
            "grid_template_rows": null,
            "height": null,
            "justify_content": null,
            "justify_items": null,
            "left": null,
            "margin": null,
            "max_height": null,
            "max_width": null,
            "min_height": null,
            "min_width": null,
            "object_fit": null,
            "object_position": null,
            "order": null,
            "overflow": null,
            "overflow_x": null,
            "overflow_y": null,
            "padding": null,
            "right": null,
            "top": null,
            "visibility": null,
            "width": null
          }
        },
        "66bd406c7fe647b9a568a71758006536": {
          "model_module": "@jupyter-widgets/controls",
          "model_name": "DescriptionStyleModel",
          "model_module_version": "1.5.0",
          "state": {
            "_model_module": "@jupyter-widgets/controls",
            "_model_module_version": "1.5.0",
            "_model_name": "DescriptionStyleModel",
            "_view_count": null,
            "_view_module": "@jupyter-widgets/base",
            "_view_module_version": "1.2.0",
            "_view_name": "StyleView",
            "description_width": ""
          }
        },
        "e6249645e9ea4c1f916be850ea39f858": {
          "model_module": "@jupyter-widgets/base",
          "model_name": "LayoutModel",
          "model_module_version": "1.2.0",
          "state": {
            "_model_module": "@jupyter-widgets/base",
            "_model_module_version": "1.2.0",
            "_model_name": "LayoutModel",
            "_view_count": null,
            "_view_module": "@jupyter-widgets/base",
            "_view_module_version": "1.2.0",
            "_view_name": "LayoutView",
            "align_content": null,
            "align_items": null,
            "align_self": null,
            "border": null,
            "bottom": null,
            "display": null,
            "flex": null,
            "flex_flow": null,
            "grid_area": null,
            "grid_auto_columns": null,
            "grid_auto_flow": null,
            "grid_auto_rows": null,
            "grid_column": null,
            "grid_gap": null,
            "grid_row": null,
            "grid_template_areas": null,
            "grid_template_columns": null,
            "grid_template_rows": null,
            "height": null,
            "justify_content": null,
            "justify_items": null,
            "left": null,
            "margin": null,
            "max_height": null,
            "max_width": null,
            "min_height": null,
            "min_width": null,
            "object_fit": null,
            "object_position": null,
            "order": null,
            "overflow": null,
            "overflow_x": null,
            "overflow_y": null,
            "padding": null,
            "right": null,
            "top": null,
            "visibility": null,
            "width": null
          }
        },
        "7d196e63243341d7a460fe677fcd2bee": {
          "model_module": "@jupyter-widgets/controls",
          "model_name": "ProgressStyleModel",
          "model_module_version": "1.5.0",
          "state": {
            "_model_module": "@jupyter-widgets/controls",
            "_model_module_version": "1.5.0",
            "_model_name": "ProgressStyleModel",
            "_view_count": null,
            "_view_module": "@jupyter-widgets/base",
            "_view_module_version": "1.2.0",
            "_view_name": "StyleView",
            "bar_color": null,
            "description_width": ""
          }
        },
        "974c29bc62444209a92a95a4b0ca3479": {
          "model_module": "@jupyter-widgets/base",
          "model_name": "LayoutModel",
          "model_module_version": "1.2.0",
          "state": {
            "_model_module": "@jupyter-widgets/base",
            "_model_module_version": "1.2.0",
            "_model_name": "LayoutModel",
            "_view_count": null,
            "_view_module": "@jupyter-widgets/base",
            "_view_module_version": "1.2.0",
            "_view_name": "LayoutView",
            "align_content": null,
            "align_items": null,
            "align_self": null,
            "border": null,
            "bottom": null,
            "display": null,
            "flex": null,
            "flex_flow": null,
            "grid_area": null,
            "grid_auto_columns": null,
            "grid_auto_flow": null,
            "grid_auto_rows": null,
            "grid_column": null,
            "grid_gap": null,
            "grid_row": null,
            "grid_template_areas": null,
            "grid_template_columns": null,
            "grid_template_rows": null,
            "height": null,
            "justify_content": null,
            "justify_items": null,
            "left": null,
            "margin": null,
            "max_height": null,
            "max_width": null,
            "min_height": null,
            "min_width": null,
            "object_fit": null,
            "object_position": null,
            "order": null,
            "overflow": null,
            "overflow_x": null,
            "overflow_y": null,
            "padding": null,
            "right": null,
            "top": null,
            "visibility": null,
            "width": null
          }
        },
        "10db66f600814b85a97e7dabfce1e817": {
          "model_module": "@jupyter-widgets/controls",
          "model_name": "DescriptionStyleModel",
          "model_module_version": "1.5.0",
          "state": {
            "_model_module": "@jupyter-widgets/controls",
            "_model_module_version": "1.5.0",
            "_model_name": "DescriptionStyleModel",
            "_view_count": null,
            "_view_module": "@jupyter-widgets/base",
            "_view_module_version": "1.2.0",
            "_view_name": "StyleView",
            "description_width": ""
          }
        },
        "1f295f895e814902a27b3e3337be2a11": {
          "model_module": "@jupyter-widgets/controls",
          "model_name": "VBoxModel",
          "model_module_version": "1.5.0",
          "state": {
            "_dom_classes": [
              "widget-interact"
            ],
            "_model_module": "@jupyter-widgets/controls",
            "_model_module_version": "1.5.0",
            "_model_name": "VBoxModel",
            "_view_count": null,
            "_view_module": "@jupyter-widgets/controls",
            "_view_module_version": "1.5.0",
            "_view_name": "VBoxView",
            "box_style": "",
            "children": [
              "IPY_MODEL_6a8c40d557214c8884912774eca7d66f",
              "IPY_MODEL_e8f02347ae22479992444156860cc335"
            ],
            "layout": "IPY_MODEL_5c8cf2234dbb475fb83ff9600aa00b31"
          }
        },
        "6a8c40d557214c8884912774eca7d66f": {
          "model_module": "@jupyter-widgets/controls",
          "model_name": "ToggleButtonsModel",
          "model_module_version": "1.5.0",
          "state": {
            "_dom_classes": [],
            "_model_module": "@jupyter-widgets/controls",
            "_model_module_version": "1.5.0",
            "_model_name": "ToggleButtonsModel",
            "_options_labels": [
              "Pipeline Plot",
              "Hyperparameters",
              "AUC",
              "Confusion Matrix",
              "Threshold",
              "Precision Recall",
              "Prediction Error",
              "Class Report",
              "Feature Selection",
              "Learning Curve",
              "Manifold Learning",
              "Calibration Curve",
              "Validation Curve",
              "Dimensions",
              "Feature Importance",
              "Feature Importance (All)",
              "Decision Boundary",
              "Lift Chart",
              "Gain Chart",
              "Decision Tree",
              "KS Statistic Plot"
            ],
            "_view_count": null,
            "_view_module": "@jupyter-widgets/controls",
            "_view_module_version": "1.5.0",
            "_view_name": "ToggleButtonsView",
            "button_style": "",
            "description": "Plot Type:",
            "description_tooltip": null,
            "disabled": false,
            "icons": [
              ""
            ],
            "index": 0,
            "layout": "IPY_MODEL_de7b072c1a754409b80a316d4836f176",
            "style": "IPY_MODEL_89c9a39cfadd4a479c6b3ec4a204ca61",
            "tooltips": []
          }
        },
        "e8f02347ae22479992444156860cc335": {
          "model_module": "@jupyter-widgets/output",
          "model_name": "OutputModel",
          "model_module_version": "1.0.0",
          "state": {
            "_dom_classes": [],
            "_model_module": "@jupyter-widgets/output",
            "_model_module_version": "1.0.0",
            "_model_name": "OutputModel",
            "_view_count": null,
            "_view_module": "@jupyter-widgets/output",
            "_view_module_version": "1.0.0",
            "_view_name": "OutputView",
            "layout": "IPY_MODEL_1c6b6307566f49d2807b6fb178cf283d",
            "msg_id": "",
            "outputs": [
              {
                "output_type": "display_data",
                "data": {
                  "text/plain": "<Figure size 2200x600 with 1 Axes>",
                  "image/png": "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\n"
                },
                "metadata": {}
              }
            ]
          }
        },
        "5c8cf2234dbb475fb83ff9600aa00b31": {
          "model_module": "@jupyter-widgets/base",
          "model_name": "LayoutModel",
          "model_module_version": "1.2.0",
          "state": {
            "_model_module": "@jupyter-widgets/base",
            "_model_module_version": "1.2.0",
            "_model_name": "LayoutModel",
            "_view_count": null,
            "_view_module": "@jupyter-widgets/base",
            "_view_module_version": "1.2.0",
            "_view_name": "LayoutView",
            "align_content": null,
            "align_items": null,
            "align_self": null,
            "border": null,
            "bottom": null,
            "display": null,
            "flex": null,
            "flex_flow": null,
            "grid_area": null,
            "grid_auto_columns": null,
            "grid_auto_flow": null,
            "grid_auto_rows": null,
            "grid_column": null,
            "grid_gap": null,
            "grid_row": null,
            "grid_template_areas": null,
            "grid_template_columns": null,
            "grid_template_rows": null,
            "height": null,
            "justify_content": null,
            "justify_items": null,
            "left": null,
            "margin": null,
            "max_height": null,
            "max_width": null,
            "min_height": null,
            "min_width": null,
            "object_fit": null,
            "object_position": null,
            "order": null,
            "overflow": null,
            "overflow_x": null,
            "overflow_y": null,
            "padding": null,
            "right": null,
            "top": null,
            "visibility": null,
            "width": null
          }
        },
        "de7b072c1a754409b80a316d4836f176": {
          "model_module": "@jupyter-widgets/base",
          "model_name": "LayoutModel",
          "model_module_version": "1.2.0",
          "state": {
            "_model_module": "@jupyter-widgets/base",
            "_model_module_version": "1.2.0",
            "_model_name": "LayoutModel",
            "_view_count": null,
            "_view_module": "@jupyter-widgets/base",
            "_view_module_version": "1.2.0",
            "_view_name": "LayoutView",
            "align_content": null,
            "align_items": null,
            "align_self": null,
            "border": null,
            "bottom": null,
            "display": null,
            "flex": null,
            "flex_flow": null,
            "grid_area": null,
            "grid_auto_columns": null,
            "grid_auto_flow": null,
            "grid_auto_rows": null,
            "grid_column": null,
            "grid_gap": null,
            "grid_row": null,
            "grid_template_areas": null,
            "grid_template_columns": null,
            "grid_template_rows": null,
            "height": null,
            "justify_content": null,
            "justify_items": null,
            "left": null,
            "margin": null,
            "max_height": null,
            "max_width": null,
            "min_height": null,
            "min_width": null,
            "object_fit": null,
            "object_position": null,
            "order": null,
            "overflow": null,
            "overflow_x": null,
            "overflow_y": null,
            "padding": null,
            "right": null,
            "top": null,
            "visibility": null,
            "width": null
          }
        },
        "89c9a39cfadd4a479c6b3ec4a204ca61": {
          "model_module": "@jupyter-widgets/controls",
          "model_name": "ToggleButtonsStyleModel",
          "model_module_version": "1.5.0",
          "state": {
            "_model_module": "@jupyter-widgets/controls",
            "_model_module_version": "1.5.0",
            "_model_name": "ToggleButtonsStyleModel",
            "_view_count": null,
            "_view_module": "@jupyter-widgets/base",
            "_view_module_version": "1.2.0",
            "_view_name": "StyleView",
            "button_width": "",
            "description_width": "",
            "font_weight": ""
          }
        },
        "1c6b6307566f49d2807b6fb178cf283d": {
          "model_module": "@jupyter-widgets/base",
          "model_name": "LayoutModel",
          "model_module_version": "1.2.0",
          "state": {
            "_model_module": "@jupyter-widgets/base",
            "_model_module_version": "1.2.0",
            "_model_name": "LayoutModel",
            "_view_count": null,
            "_view_module": "@jupyter-widgets/base",
            "_view_module_version": "1.2.0",
            "_view_name": "LayoutView",
            "align_content": null,
            "align_items": null,
            "align_self": null,
            "border": null,
            "bottom": null,
            "display": null,
            "flex": null,
            "flex_flow": null,
            "grid_area": null,
            "grid_auto_columns": null,
            "grid_auto_flow": null,
            "grid_auto_rows": null,
            "grid_column": null,
            "grid_gap": null,
            "grid_row": null,
            "grid_template_areas": null,
            "grid_template_columns": null,
            "grid_template_rows": null,
            "height": null,
            "justify_content": null,
            "justify_items": null,
            "left": null,
            "margin": null,
            "max_height": null,
            "max_width": null,
            "min_height": null,
            "min_width": null,
            "object_fit": null,
            "object_position": null,
            "order": null,
            "overflow": null,
            "overflow_x": null,
            "overflow_y": null,
            "padding": null,
            "right": null,
            "top": null,
            "visibility": null,
            "width": null
          }
        },
        "b4d0d45cc34541ceb64bb8fff83a3621": {
          "model_module": "@jupyter-widgets/controls",
          "model_name": "HBoxModel",
          "model_module_version": "1.5.0",
          "state": {
            "_dom_classes": [],
            "_model_module": "@jupyter-widgets/controls",
            "_model_module_version": "1.5.0",
            "_model_name": "HBoxModel",
            "_view_count": null,
            "_view_module": "@jupyter-widgets/controls",
            "_view_module_version": "1.5.0",
            "_view_name": "HBoxView",
            "box_style": "",
            "children": [
              "IPY_MODEL_d1f1d7eca08b40149fddb1c624c32c1d",
              "IPY_MODEL_4947d783e1f44c57ab0ddc21232291b2",
              "IPY_MODEL_39ca677177f84c5c8795ae08f2180e85"
            ],
            "layout": "IPY_MODEL_4d3f21cd95ce4f838f51a6a23710596d"
          }
        },
        "d1f1d7eca08b40149fddb1c624c32c1d": {
          "model_module": "@jupyter-widgets/controls",
          "model_name": "HTMLModel",
          "model_module_version": "1.5.0",
          "state": {
            "_dom_classes": [],
            "_model_module": "@jupyter-widgets/controls",
            "_model_module_version": "1.5.0",
            "_model_name": "HTMLModel",
            "_view_count": null,
            "_view_module": "@jupyter-widgets/controls",
            "_view_module_version": "1.5.0",
            "_view_name": "HTMLView",
            "description": "",
            "description_tooltip": null,
            "layout": "IPY_MODEL_242a7a80664343c085fb229703d189a9",
            "placeholder": "​",
            "style": "IPY_MODEL_939567689229484e92a5ec628c60763d",
            "value": "Processing: 100%"
          }
        },
        "4947d783e1f44c57ab0ddc21232291b2": {
          "model_module": "@jupyter-widgets/controls",
          "model_name": "FloatProgressModel",
          "model_module_version": "1.5.0",
          "state": {
            "_dom_classes": [],
            "_model_module": "@jupyter-widgets/controls",
            "_model_module_version": "1.5.0",
            "_model_name": "FloatProgressModel",
            "_view_count": null,
            "_view_module": "@jupyter-widgets/controls",
            "_view_module_version": "1.5.0",
            "_view_name": "ProgressView",
            "bar_style": "",
            "description": "",
            "description_tooltip": null,
            "layout": "IPY_MODEL_da95f4590b7548538dd20fc7b20d351f",
            "max": 4,
            "min": 0,
            "orientation": "horizontal",
            "style": "IPY_MODEL_1eac937a43494662a089e25eb1cfcfcc",
            "value": 4
          }
        },
        "39ca677177f84c5c8795ae08f2180e85": {
          "model_module": "@jupyter-widgets/controls",
          "model_name": "HTMLModel",
          "model_module_version": "1.5.0",
          "state": {
            "_dom_classes": [],
            "_model_module": "@jupyter-widgets/controls",
            "_model_module_version": "1.5.0",
            "_model_name": "HTMLModel",
            "_view_count": null,
            "_view_module": "@jupyter-widgets/controls",
            "_view_module_version": "1.5.0",
            "_view_name": "HTMLView",
            "description": "",
            "description_tooltip": null,
            "layout": "IPY_MODEL_ee4295bd29a141da80932c7be4ebf667",
            "placeholder": "​",
            "style": "IPY_MODEL_16f3a9418be54d71b1f811dbf711fc96",
            "value": " 4/4 [00:08&lt;00:00,  2.02s/it]"
          }
        },
        "4d3f21cd95ce4f838f51a6a23710596d": {
          "model_module": "@jupyter-widgets/base",
          "model_name": "LayoutModel",
          "model_module_version": "1.2.0",
          "state": {
            "_model_module": "@jupyter-widgets/base",
            "_model_module_version": "1.2.0",
            "_model_name": "LayoutModel",
            "_view_count": null,
            "_view_module": "@jupyter-widgets/base",
            "_view_module_version": "1.2.0",
            "_view_name": "LayoutView",
            "align_content": null,
            "align_items": null,
            "align_self": null,
            "border": null,
            "bottom": null,
            "display": null,
            "flex": null,
            "flex_flow": null,
            "grid_area": null,
            "grid_auto_columns": null,
            "grid_auto_flow": null,
            "grid_auto_rows": null,
            "grid_column": null,
            "grid_gap": null,
            "grid_row": null,
            "grid_template_areas": null,
            "grid_template_columns": null,
            "grid_template_rows": null,
            "height": null,
            "justify_content": null,
            "justify_items": null,
            "left": null,
            "margin": null,
            "max_height": null,
            "max_width": null,
            "min_height": null,
            "min_width": null,
            "object_fit": null,
            "object_position": null,
            "order": null,
            "overflow": null,
            "overflow_x": null,
            "overflow_y": null,
            "padding": null,
            "right": null,
            "top": null,
            "visibility": "hidden",
            "width": null
          }
        },
        "242a7a80664343c085fb229703d189a9": {
          "model_module": "@jupyter-widgets/base",
          "model_name": "LayoutModel",
          "model_module_version": "1.2.0",
          "state": {
            "_model_module": "@jupyter-widgets/base",
            "_model_module_version": "1.2.0",
            "_model_name": "LayoutModel",
            "_view_count": null,
            "_view_module": "@jupyter-widgets/base",
            "_view_module_version": "1.2.0",
            "_view_name": "LayoutView",
            "align_content": null,
            "align_items": null,
            "align_self": null,
            "border": null,
            "bottom": null,
            "display": null,
            "flex": null,
            "flex_flow": null,
            "grid_area": null,
            "grid_auto_columns": null,
            "grid_auto_flow": null,
            "grid_auto_rows": null,
            "grid_column": null,
            "grid_gap": null,
            "grid_row": null,
            "grid_template_areas": null,
            "grid_template_columns": null,
            "grid_template_rows": null,
            "height": null,
            "justify_content": null,
            "justify_items": null,
            "left": null,
            "margin": null,
            "max_height": null,
            "max_width": null,
            "min_height": null,
            "min_width": null,
            "object_fit": null,
            "object_position": null,
            "order": null,
            "overflow": null,
            "overflow_x": null,
            "overflow_y": null,
            "padding": null,
            "right": null,
            "top": null,
            "visibility": null,
            "width": null
          }
        },
        "939567689229484e92a5ec628c60763d": {
          "model_module": "@jupyter-widgets/controls",
          "model_name": "DescriptionStyleModel",
          "model_module_version": "1.5.0",
          "state": {
            "_model_module": "@jupyter-widgets/controls",
            "_model_module_version": "1.5.0",
            "_model_name": "DescriptionStyleModel",
            "_view_count": null,
            "_view_module": "@jupyter-widgets/base",
            "_view_module_version": "1.2.0",
            "_view_name": "StyleView",
            "description_width": ""
          }
        },
        "da95f4590b7548538dd20fc7b20d351f": {
          "model_module": "@jupyter-widgets/base",
          "model_name": "LayoutModel",
          "model_module_version": "1.2.0",
          "state": {
            "_model_module": "@jupyter-widgets/base",
            "_model_module_version": "1.2.0",
            "_model_name": "LayoutModel",
            "_view_count": null,
            "_view_module": "@jupyter-widgets/base",
            "_view_module_version": "1.2.0",
            "_view_name": "LayoutView",
            "align_content": null,
            "align_items": null,
            "align_self": null,
            "border": null,
            "bottom": null,
            "display": null,
            "flex": null,
            "flex_flow": null,
            "grid_area": null,
            "grid_auto_columns": null,
            "grid_auto_flow": null,
            "grid_auto_rows": null,
            "grid_column": null,
            "grid_gap": null,
            "grid_row": null,
            "grid_template_areas": null,
            "grid_template_columns": null,
            "grid_template_rows": null,
            "height": null,
            "justify_content": null,
            "justify_items": null,
            "left": null,
            "margin": null,
            "max_height": null,
            "max_width": null,
            "min_height": null,
            "min_width": null,
            "object_fit": null,
            "object_position": null,
            "order": null,
            "overflow": null,
            "overflow_x": null,
            "overflow_y": null,
            "padding": null,
            "right": null,
            "top": null,
            "visibility": null,
            "width": null
          }
        },
        "1eac937a43494662a089e25eb1cfcfcc": {
          "model_module": "@jupyter-widgets/controls",
          "model_name": "ProgressStyleModel",
          "model_module_version": "1.5.0",
          "state": {
            "_model_module": "@jupyter-widgets/controls",
            "_model_module_version": "1.5.0",
            "_model_name": "ProgressStyleModel",
            "_view_count": null,
            "_view_module": "@jupyter-widgets/base",
            "_view_module_version": "1.2.0",
            "_view_name": "StyleView",
            "bar_color": null,
            "description_width": ""
          }
        },
        "ee4295bd29a141da80932c7be4ebf667": {
          "model_module": "@jupyter-widgets/base",
          "model_name": "LayoutModel",
          "model_module_version": "1.2.0",
          "state": {
            "_model_module": "@jupyter-widgets/base",
            "_model_module_version": "1.2.0",
            "_model_name": "LayoutModel",
            "_view_count": null,
            "_view_module": "@jupyter-widgets/base",
            "_view_module_version": "1.2.0",
            "_view_name": "LayoutView",
            "align_content": null,
            "align_items": null,
            "align_self": null,
            "border": null,
            "bottom": null,
            "display": null,
            "flex": null,
            "flex_flow": null,
            "grid_area": null,
            "grid_auto_columns": null,
            "grid_auto_flow": null,
            "grid_auto_rows": null,
            "grid_column": null,
            "grid_gap": null,
            "grid_row": null,
            "grid_template_areas": null,
            "grid_template_columns": null,
            "grid_template_rows": null,
            "height": null,
            "justify_content": null,
            "justify_items": null,
            "left": null,
            "margin": null,
            "max_height": null,
            "max_width": null,
            "min_height": null,
            "min_width": null,
            "object_fit": null,
            "object_position": null,
            "order": null,
            "overflow": null,
            "overflow_x": null,
            "overflow_y": null,
            "padding": null,
            "right": null,
            "top": null,
            "visibility": null,
            "width": null
          }
        },
        "16f3a9418be54d71b1f811dbf711fc96": {
          "model_module": "@jupyter-widgets/controls",
          "model_name": "DescriptionStyleModel",
          "model_module_version": "1.5.0",
          "state": {
            "_model_module": "@jupyter-widgets/controls",
            "_model_module_version": "1.5.0",
            "_model_name": "DescriptionStyleModel",
            "_view_count": null,
            "_view_module": "@jupyter-widgets/base",
            "_view_module_version": "1.2.0",
            "_view_name": "StyleView",
            "description_width": ""
          }
        },
        "05db693131304d819d2a97b3555dc1fd": {
          "model_module": "@jupyter-widgets/controls",
          "model_name": "HBoxModel",
          "model_module_version": "1.5.0",
          "state": {
            "_dom_classes": [],
            "_model_module": "@jupyter-widgets/controls",
            "_model_module_version": "1.5.0",
            "_model_name": "HBoxModel",
            "_view_count": null,
            "_view_module": "@jupyter-widgets/controls",
            "_view_module_version": "1.5.0",
            "_view_name": "HBoxView",
            "box_style": "",
            "children": [
              "IPY_MODEL_38cd5e274a5e4f79a9e933bb5df0ae44",
              "IPY_MODEL_f2c7af583bf149e3aeee5757e4d85c79",
              "IPY_MODEL_05a9e7fa5b14462390d5da572eefc9f6"
            ],
            "layout": "IPY_MODEL_abf384737bdf4cd987787cb4887e1ce0"
          }
        },
        "38cd5e274a5e4f79a9e933bb5df0ae44": {
          "model_module": "@jupyter-widgets/controls",
          "model_name": "HTMLModel",
          "model_module_version": "1.5.0",
          "state": {
            "_dom_classes": [],
            "_model_module": "@jupyter-widgets/controls",
            "_model_module_version": "1.5.0",
            "_model_name": "HTMLModel",
            "_view_count": null,
            "_view_module": "@jupyter-widgets/controls",
            "_view_module_version": "1.5.0",
            "_view_name": "HTMLView",
            "description": "",
            "description_tooltip": null,
            "layout": "IPY_MODEL_b0fc4287669444fe96fb29764cad7d17",
            "placeholder": "​",
            "style": "IPY_MODEL_74a2facc913f43f4a96554d66f9325c9",
            "value": "Processing: 100%"
          }
        },
        "f2c7af583bf149e3aeee5757e4d85c79": {
          "model_module": "@jupyter-widgets/controls",
          "model_name": "FloatProgressModel",
          "model_module_version": "1.5.0",
          "state": {
            "_dom_classes": [],
            "_model_module": "@jupyter-widgets/controls",
            "_model_module_version": "1.5.0",
            "_model_name": "FloatProgressModel",
            "_view_count": null,
            "_view_module": "@jupyter-widgets/controls",
            "_view_module_version": "1.5.0",
            "_view_name": "ProgressView",
            "bar_style": "",
            "description": "",
            "description_tooltip": null,
            "layout": "IPY_MODEL_208ef136ab60475bbfe163b88ed87c91",
            "max": 4,
            "min": 0,
            "orientation": "horizontal",
            "style": "IPY_MODEL_025fbf406d0f4812ac7c991755ccab68",
            "value": 4
          }
        },
        "05a9e7fa5b14462390d5da572eefc9f6": {
          "model_module": "@jupyter-widgets/controls",
          "model_name": "HTMLModel",
          "model_module_version": "1.5.0",
          "state": {
            "_dom_classes": [],
            "_model_module": "@jupyter-widgets/controls",
            "_model_module_version": "1.5.0",
            "_model_name": "HTMLModel",
            "_view_count": null,
            "_view_module": "@jupyter-widgets/controls",
            "_view_module_version": "1.5.0",
            "_view_name": "HTMLView",
            "description": "",
            "description_tooltip": null,
            "layout": "IPY_MODEL_a0a6935c65474135b80e0344eac84784",
            "placeholder": "​",
            "style": "IPY_MODEL_322ff7f264954b48afa551c86a989a6a",
            "value": " 4/4 [00:07&lt;00:00,  1.87s/it]"
          }
        },
        "abf384737bdf4cd987787cb4887e1ce0": {
          "model_module": "@jupyter-widgets/base",
          "model_name": "LayoutModel",
          "model_module_version": "1.2.0",
          "state": {
            "_model_module": "@jupyter-widgets/base",
            "_model_module_version": "1.2.0",
            "_model_name": "LayoutModel",
            "_view_count": null,
            "_view_module": "@jupyter-widgets/base",
            "_view_module_version": "1.2.0",
            "_view_name": "LayoutView",
            "align_content": null,
            "align_items": null,
            "align_self": null,
            "border": null,
            "bottom": null,
            "display": null,
            "flex": null,
            "flex_flow": null,
            "grid_area": null,
            "grid_auto_columns": null,
            "grid_auto_flow": null,
            "grid_auto_rows": null,
            "grid_column": null,
            "grid_gap": null,
            "grid_row": null,
            "grid_template_areas": null,
            "grid_template_columns": null,
            "grid_template_rows": null,
            "height": null,
            "justify_content": null,
            "justify_items": null,
            "left": null,
            "margin": null,
            "max_height": null,
            "max_width": null,
            "min_height": null,
            "min_width": null,
            "object_fit": null,
            "object_position": null,
            "order": null,
            "overflow": null,
            "overflow_x": null,
            "overflow_y": null,
            "padding": null,
            "right": null,
            "top": null,
            "visibility": "hidden",
            "width": null
          }
        },
        "b0fc4287669444fe96fb29764cad7d17": {
          "model_module": "@jupyter-widgets/base",
          "model_name": "LayoutModel",
          "model_module_version": "1.2.0",
          "state": {
            "_model_module": "@jupyter-widgets/base",
            "_model_module_version": "1.2.0",
            "_model_name": "LayoutModel",
            "_view_count": null,
            "_view_module": "@jupyter-widgets/base",
            "_view_module_version": "1.2.0",
            "_view_name": "LayoutView",
            "align_content": null,
            "align_items": null,
            "align_self": null,
            "border": null,
            "bottom": null,
            "display": null,
            "flex": null,
            "flex_flow": null,
            "grid_area": null,
            "grid_auto_columns": null,
            "grid_auto_flow": null,
            "grid_auto_rows": null,
            "grid_column": null,
            "grid_gap": null,
            "grid_row": null,
            "grid_template_areas": null,
            "grid_template_columns": null,
            "grid_template_rows": null,
            "height": null,
            "justify_content": null,
            "justify_items": null,
            "left": null,
            "margin": null,
            "max_height": null,
            "max_width": null,
            "min_height": null,
            "min_width": null,
            "object_fit": null,
            "object_position": null,
            "order": null,
            "overflow": null,
            "overflow_x": null,
            "overflow_y": null,
            "padding": null,
            "right": null,
            "top": null,
            "visibility": null,
            "width": null
          }
        },
        "74a2facc913f43f4a96554d66f9325c9": {
          "model_module": "@jupyter-widgets/controls",
          "model_name": "DescriptionStyleModel",
          "model_module_version": "1.5.0",
          "state": {
            "_model_module": "@jupyter-widgets/controls",
            "_model_module_version": "1.5.0",
            "_model_name": "DescriptionStyleModel",
            "_view_count": null,
            "_view_module": "@jupyter-widgets/base",
            "_view_module_version": "1.2.0",
            "_view_name": "StyleView",
            "description_width": ""
          }
        },
        "208ef136ab60475bbfe163b88ed87c91": {
          "model_module": "@jupyter-widgets/base",
          "model_name": "LayoutModel",
          "model_module_version": "1.2.0",
          "state": {
            "_model_module": "@jupyter-widgets/base",
            "_model_module_version": "1.2.0",
            "_model_name": "LayoutModel",
            "_view_count": null,
            "_view_module": "@jupyter-widgets/base",
            "_view_module_version": "1.2.0",
            "_view_name": "LayoutView",
            "align_content": null,
            "align_items": null,
            "align_self": null,
            "border": null,
            "bottom": null,
            "display": null,
            "flex": null,
            "flex_flow": null,
            "grid_area": null,
            "grid_auto_columns": null,
            "grid_auto_flow": null,
            "grid_auto_rows": null,
            "grid_column": null,
            "grid_gap": null,
            "grid_row": null,
            "grid_template_areas": null,
            "grid_template_columns": null,
            "grid_template_rows": null,
            "height": null,
            "justify_content": null,
            "justify_items": null,
            "left": null,
            "margin": null,
            "max_height": null,
            "max_width": null,
            "min_height": null,
            "min_width": null,
            "object_fit": null,
            "object_position": null,
            "order": null,
            "overflow": null,
            "overflow_x": null,
            "overflow_y": null,
            "padding": null,
            "right": null,
            "top": null,
            "visibility": null,
            "width": null
          }
        },
        "025fbf406d0f4812ac7c991755ccab68": {
          "model_module": "@jupyter-widgets/controls",
          "model_name": "ProgressStyleModel",
          "model_module_version": "1.5.0",
          "state": {
            "_model_module": "@jupyter-widgets/controls",
            "_model_module_version": "1.5.0",
            "_model_name": "ProgressStyleModel",
            "_view_count": null,
            "_view_module": "@jupyter-widgets/base",
            "_view_module_version": "1.2.0",
            "_view_name": "StyleView",
            "bar_color": null,
            "description_width": ""
          }
        },
        "a0a6935c65474135b80e0344eac84784": {
          "model_module": "@jupyter-widgets/base",
          "model_name": "LayoutModel",
          "model_module_version": "1.2.0",
          "state": {
            "_model_module": "@jupyter-widgets/base",
            "_model_module_version": "1.2.0",
            "_model_name": "LayoutModel",
            "_view_count": null,
            "_view_module": "@jupyter-widgets/base",
            "_view_module_version": "1.2.0",
            "_view_name": "LayoutView",
            "align_content": null,
            "align_items": null,
            "align_self": null,
            "border": null,
            "bottom": null,
            "display": null,
            "flex": null,
            "flex_flow": null,
            "grid_area": null,
            "grid_auto_columns": null,
            "grid_auto_flow": null,
            "grid_auto_rows": null,
            "grid_column": null,
            "grid_gap": null,
            "grid_row": null,
            "grid_template_areas": null,
            "grid_template_columns": null,
            "grid_template_rows": null,
            "height": null,
            "justify_content": null,
            "justify_items": null,
            "left": null,
            "margin": null,
            "max_height": null,
            "max_width": null,
            "min_height": null,
            "min_width": null,
            "object_fit": null,
            "object_position": null,
            "order": null,
            "overflow": null,
            "overflow_x": null,
            "overflow_y": null,
            "padding": null,
            "right": null,
            "top": null,
            "visibility": null,
            "width": null
          }
        },
        "322ff7f264954b48afa551c86a989a6a": {
          "model_module": "@jupyter-widgets/controls",
          "model_name": "DescriptionStyleModel",
          "model_module_version": "1.5.0",
          "state": {
            "_model_module": "@jupyter-widgets/controls",
            "_model_module_version": "1.5.0",
            "_model_name": "DescriptionStyleModel",
            "_view_count": null,
            "_view_module": "@jupyter-widgets/base",
            "_view_module_version": "1.2.0",
            "_view_name": "StyleView",
            "description_width": ""
          }
        }
      }
    }
  },
  "nbformat": 4,
  "nbformat_minor": 5
}
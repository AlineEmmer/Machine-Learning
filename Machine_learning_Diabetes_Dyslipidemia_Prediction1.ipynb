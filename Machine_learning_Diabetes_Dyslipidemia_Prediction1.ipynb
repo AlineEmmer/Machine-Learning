{
  "cells": [
    {
      "cell_type": "markdown",
      "metadata": {
        "id": "view-in-github",
        "colab_type": "text"
      },
      "source": [
        "<a href=\"https://colab.research.google.com/github/AlineEmmer/Machine-Learning/blob/main/Machine_learning_Diabetes_Dyslipidemia_Prediction1.ipynb\" target=\"_parent\"><img src=\"https://colab.research.google.com/assets/colab-badge.svg\" alt=\"Open In Colab\"/></a>"
      ]
    },
    {
      "cell_type": "markdown",
      "metadata": {
        "id": "7da0e5ca"
      },
      "source": [
        "\n",
        "##In this project, a database containing infrared spectra of patients was analyzed: group 0 = patients with mixed dyslipidemia (n=100), group 1 = patients with diabetes (n=100), group 2 = patients with hypercholesterolemia (n=100 ), group 3 = patients with hypertriglyceridemia (n=100), group 4-healthy volunteers (n=100), group 5= patients with pre-diabetes (n=100). The goal is to develop a machine learning model to predict diabetes and dyslipidemia and to identify biomarkers associated with these diseases, with a view to optimizing the diagnosis"
      ],
      "id": "7da0e5ca"
    },
    {
      "cell_type": "code",
      "execution_count": null,
      "metadata": {
        "id": "v13OXQGW32Jv"
      },
      "outputs": [],
      "source": [
        "# Task to be performed\n",
        "# Step 1: Import the database\n",
        "# Step 2: Import the Pandas library to help manipulate the database\n",
        "# Step 3: Remove unnecessary columns\n",
        "# Step 4: Installing the Pycaret library (helps to perform Auto-Machine Learn)\n",
        "# Step 5: Importing the Pycaret library\n",
        "# Step 6: Pre-processing the data\n",
        "# Step 7: Building and comparing different models\n",
        "# Step 8: Training the best model based on predictive performance metrics\n",
        "# Step 9: Extracting the metrics results from the model\n",
        "# Step 10: Conclusions about the model\n",
        "# Step 11: Saving the model to make predictions in real life (Deploy)"
      ],
      "id": "v13OXQGW32Jv"
    },
    {
      "cell_type": "markdown",
      "metadata": {
        "id": "GwAQ-hxOUQ1x"
      },
      "source": [],
      "id": "GwAQ-hxOUQ1x"
    },
    {
      "cell_type": "code",
      "execution_count": null,
      "metadata": {
        "id": "8r0-rXrv0aYe"
      },
      "outputs": [],
      "source": [
        "# Step 1: Import the database\n",
        "from google.colab import files\n",
        "uploaded = files.upload()"
      ],
      "id": "8r0-rXrv0aYe"
    },
    {
      "cell_type": "code",
      "execution_count": null,
      "metadata": {
        "id": "Y4YeHICemuoc"
      },
      "outputs": [],
      "source": [
        "# Step 2: Import the Pandas library to help manipulate the database\n",
        "import pandas as pd\n",
        "df1 = pd.read_excel(\"Dataset.xlsx\")\n",
        "display (df1)"
      ],
      "id": "Y4YeHICemuoc"
    },
    {
      "cell_type": "code",
      "execution_count": null,
      "metadata": {
        "id": "5U1Mqbfvsp2w"
      },
      "outputs": [],
      "source": [
        "# Step 4: Installing the Pycaret library (helps to perform Auto-Machine Learn)\n",
        "!pip install pycaret"
      ],
      "id": "5U1Mqbfvsp2w"
    },
    {
      "cell_type": "code",
      "execution_count": null,
      "metadata": {
        "id": "68ab1c7b"
      },
      "outputs": [],
      "source": [
        "# Step 5: Importing the classification library from PyCaret\n",
        "from pycaret import classification\n"
      ],
      "id": "68ab1c7b"
    },
    {
      "cell_type": "code",
      "execution_count": null,
      "metadata": {
        "id": "00fff9af"
      },
      "outputs": [],
      "source": [
        "# Step 6: Pre-processing the data\n",
        "classification_setup = classification.setup(data = df1, target = \"Classes\")"
      ],
      "id": "00fff9af"
    },
    {
      "cell_type": "code",
      "execution_count": null,
      "metadata": {
        "id": "4e906af1"
      },
      "outputs": [],
      "source": [
        "# Step 7: Building and comparing different models\n",
        "best = classification.compare_models()"
      ],
      "id": "4e906af1"
    },
    {
      "cell_type": "code",
      "execution_count": null,
      "metadata": {
        "id": "a3e39264"
      },
      "outputs": [],
      "source": [
        "# Step 8: Training the best model based on predictive performance metrics\n",
        "# Note: The Extra Trees Classifier was the top of them. Now, we will create and validate this model\n",
        "best_model = classification.create_model(\"et\")"
      ],
      "id": "a3e39264"
    },
    {
      "cell_type": "code",
      "execution_count": null,
      "metadata": {
        "id": "e43ea3ce"
      },
      "outputs": [],
      "source": [
        "# Step 9: Extracting the metrics results from the model\n",
        "classification.evaluate_model(best_model)"
      ],
      "id": "e43ea3ce"
    },
    {
      "cell_type": "code",
      "execution_count": null,
      "metadata": {
        "id": "0GpEegjW29tO"
      },
      "outputs": [],
      "source": [
        "#Step 10: Plotting the decision boundary plot\n",
        "classification.plot_model(best_model, plot =\"boundary\", plot_kwargs ={'classes': [\"Dyslipidemia\", \"Diabetes\", \"Hypercholesterolemia\", \n",
        "                                                                                  \"Hypertriglyceridemia\", \"Healthy\", \"Pre-diabetes\"]})\n",
        "classification.plot_model(best_model, plot =\"boundary\", plot_kwargs ={'classes': \n",
        "  [\"Dyslipidemia\", \"Diabetes\", \"Hypercholesterolemia\", \"Hypertriglyceridemia\", \"Healthy\", \"Pre-diabetes\"]},                                                                \n",
        "                          save = True, scale = 3)\n"
      ],
      "id": "0GpEegjW29tO"
    },
    {
      "cell_type": "code",
      "execution_count": null,
      "metadata": {
        "id": "_ggsDtP0gcWb"
      },
      "outputs": [],
      "source": [
        "# Step 11: Plotting the learning curve\n",
        "classification.plot_model(best_model, plot =\"learning\")\n",
        "classification.plot_model(best_model, plot =\"learning\", save = True, scale = 3)"
      ],
      "id": "_ggsDtP0gcWb"
    },
    {
      "cell_type": "code",
      "execution_count": null,
      "metadata": {
        "id": "NAJL8dMqYLcd"
      },
      "outputs": [],
      "source": [
        "# Step 12: Plotting the ROC curves\n",
        "classification.plot_model(best_model, plot =\"auc\", plot_kwargs ={'classes': [\"Dyslipidemia\", \"Diabetes\",\n",
        "                                                                           \"Hypercholesterolemia\", \"Hypertriglyceridemia\", \"Healthy\", \"Pre-diabetes\"]})\n",
        "classification.plot_model(best_model, plot =\"auc\", plot_kwargs ={'classes': [\"Dyslipidemia\", \"Diabetes\",\n",
        "                                                                           \"Hypercholesterolemia\", \"Hypertriglyceridemia\", \"Healthy\", \"Pre-diabetes\"]}, scale = 6, save = True)"
      ],
      "id": "NAJL8dMqYLcd"
    },
    {
      "cell_type": "code",
      "execution_count": null,
      "metadata": {
        "id": "rITpbD33de4x"
      },
      "outputs": [],
      "source": [
        "# Step 13: Plotting de confusion matrix graph\n",
        "classification.plot_model(best_model, plot =\"confusion_matrix\", plot_kwargs ={'classes': [\"Dys\", \"DM\", \"Hchol\", \"Htrig\", \"Healthy\", \"Pre-DM\"]})\n",
        "classification.plot_model(best_model, plot =\"confusion_matrix\", plot_kwargs ={'classes': [\"Dys\", \"DM\", \"Hchol\", \"Htrig\", \"Healthy\", \"Pre-DM\"]}, \n",
        "                          scale = 6, save = True)"
      ],
      "id": "rITpbD33de4x"
    },
    {
      "cell_type": "code",
      "execution_count": null,
      "metadata": {
        "id": "dCyvk4xzYLEg"
      },
      "outputs": [],
      "source": [
        "# Step 15: Compare predictions and results of the model\n",
        "classification.plot_model(best_model, plot =\"error\", plot_kwargs ={'classes': [\"Dys\", \"DM\", \"Hchol\", \"Htrig\", \"Healthy\", \"Pre-DM\"]})\n",
        "classification.plot_model(best_model, plot =\"error\", plot_kwargs ={'classes': [\"Dys\", \"DM\", \"Hchol\", \"Htrig\", \"Healthy\", \"Pre-DM\"]}, \n",
        "                          scale = 3, save = True)"
      ],
      "id": "dCyvk4xzYLEg"
    },
    {
      "cell_type": "code",
      "execution_count": null,
      "metadata": {
        "id": "CIpsMAelhuzb"
      },
      "outputs": [],
      "source": [
        "# Step 16: Figures of merit of the model\n",
        "classification.plot_model(best_model, plot =\"class_report\", plot_kwargs ={'classes': [\"Dys\", \"DM\", \"Hchol\", \"Htrig\", \"Healthy\", \"Pre-DM\"]})\n",
        "classification.plot_model(best_model, plot =\"class_report\", plot_kwargs ={'classes': [\"Dys\", \"DM\", \"Hchol\", \"Htrig\", \"Healthy\", \"Pre-DM\"]}, \n",
        "                          scale = 6, save = True)"
      ],
      "id": "CIpsMAelhuzb"
    },
    {
      "cell_type": "code",
      "execution_count": null,
      "metadata": {
        "id": "iC5-30xDdckh"
      },
      "outputs": [],
      "source": [
        "# Step 17: Plotting only the TOP 10 most important wavenumber\n",
        "classification.plot_model(best_model, plot =\"feature\")\n",
        "classification.plot_model(best_model, plot =\"feature\", scale = 6, save = True)"
      ],
      "id": "iC5-30xDdckh"
    },
    {
      "cell_type": "code",
      "execution_count": null,
      "metadata": {
        "id": "IYjOhBS4pkWh"
      },
      "outputs": [],
      "source": [
        "# Step 8: Training the best model based on predictive performance metrics\n",
        "# Note: The random forest model was one of the top three. Now, we will create and validate this.\n",
        "best_model = classification.create_model(\"rf\")"
      ],
      "id": "IYjOhBS4pkWh"
    },
    {
      "cell_type": "code",
      "execution_count": null,
      "metadata": {
        "id": "g1ikE98Jppld"
      },
      "outputs": [],
      "source": [
        "# Step 17: Plotting only the TOP 10 most important wavenumber\n",
        "classification.plot_model(best_model, plot =\"feature\")\n",
        "classification.plot_model(best_model, plot =\"feature\", scale = 3, save = True)"
      ],
      "id": "g1ikE98Jppld"
    },
    {
      "cell_type": "code",
      "execution_count": null,
      "metadata": {
        "id": "Tvtoq_FJpudw"
      },
      "outputs": [],
      "source": [
        "# Step 8: Training the best model based on predictive performance metrics\n",
        "# Note: The PLS-DA model was one of the top three. Now, we will create and validate the Linear Discriminant Analysis model\n",
        "best_model = classification.create_model(\"lda\")"
      ],
      "id": "Tvtoq_FJpudw"
    },
    {
      "cell_type": "code",
      "execution_count": null,
      "metadata": {
        "id": "8HCuz5p9p69K"
      },
      "outputs": [],
      "source": [
        "# Step 17: Plotting only the TOP 10 most important wavenumber\n",
        "classification.plot_model(best_model, plot =\"feature\")\n",
        "classification.plot_model(best_model, plot =\"feature\", scale = 3, save = True)"
      ],
      "id": "8HCuz5p9p69K"
    },
    {
      "cell_type": "code",
      "execution_count": null,
      "metadata": {
        "id": "6d450f64"
      },
      "outputs": [],
      "source": [
        "# Passo 11: Saving the model for predictions (Deploy)\n",
        "classification.save_model(best_model, \"best_model_et\")"
      ],
      "id": "6d450f64"
    }
  ],
  "metadata": {
    "colab": {
      "provenance": [],
      "include_colab_link": true
    },
    "kernelspec": {
      "display_name": "Python 3",
      "language": "python",
      "name": "python3"
    },
    "language_info": {
      "codemirror_mode": {
        "name": "ipython",
        "version": 3
      },
      "file_extension": ".py",
      "mimetype": "text/x-python",
      "name": "python",
      "nbconvert_exporter": "python",
      "pygments_lexer": "ipython3",
      "version": "3.6.13"
    }
  },
  "nbformat": 4,
  "nbformat_minor": 5
}
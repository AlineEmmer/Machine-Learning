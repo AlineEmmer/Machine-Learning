{
  "cells": [
    {
      "cell_type": "markdown",
      "metadata": {
        "id": "view-in-github",
        "colab_type": "text"
      },
      "source": [
        "<a href=\"https://colab.research.google.com/github/AlineEmmer/Machine-Learning/blob/main/Machine_learning_Diabetes_Dislipidemia_Prediction.ipynb\" target=\"_parent\"><img src=\"https://colab.research.google.com/assets/colab-badge.svg\" alt=\"Open In Colab\"/></a>"
      ]
    },
    {
      "cell_type": "markdown",
      "metadata": {
        "id": "7da0e5ca"
      },
      "source": [
        "\n",
        "##In this project, a database containing infrared spectra of patients was analyzed: group 0 = patients with mixed dyslipidemia (n=100), group 1 = patients with diabetes (n=100), group 2 = patients with hypercholesterolemia (n=100 ), group 3 = patients with hypertriglyceridemia (n=100), group 4-healthy volunteers (n=100), group 5= patients with pre-diabetes (n=100). The goal is to develop a machine learning model to predict diabetes and dyslipidemia and to identify biomarkers associated with these diseases, with a view to optimizing the diagnosis"
      ],
      "id": "7da0e5ca"
    },
    {
      "cell_type": "code",
      "execution_count": null,
      "metadata": {
        "id": "v13OXQGW32Jv"
      },
      "outputs": [],
      "source": [
        "# Task to be performed\n",
        "# Step 1: Import the database\n",
        "# Step 2: Import the Pandas library to help manipulate the database\n",
        "# Step 3: Remove unnecessary columns\n",
        "# Step 4: Installing the Pycaret library (helps to perform Auto-Machine Learn)\n",
        "# Step 5: Importing the Pycaret library\n",
        "# Step 6: Pre-processing the data\n",
        "# Step 7: Building and comparing different models\n",
        "# Step 8: Training the best model based on predictive performance metrics\n",
        "# Step 9: Extracting the metrics results from the model\n",
        "# Step 10: Conclusions about the model\n",
        "# Step 11: Saving the model to make predictions in real life (Deploy)"
      ],
      "id": "v13OXQGW32Jv"
    },
    {
      "cell_type": "markdown",
      "metadata": {
        "id": "GwAQ-hxOUQ1x"
      },
      "source": [],
      "id": "GwAQ-hxOUQ1x"
    },
    {
      "cell_type": "code",
      "source": [
        "from google.colab import files\n",
        "uploaded = files.upload()"
      ],
      "metadata": {
        "colab": {
          "base_uri": "https://localhost:8080/",
          "height": 73
        },
        "id": "8r0-rXrv0aYe",
        "outputId": "a15dc5ac-1034-4b1a-d932-adc227d3ac13"
      },
      "id": "8r0-rXrv0aYe",
      "execution_count": 37,
      "outputs": [
        {
          "output_type": "display_data",
          "data": {
            "text/plain": [
              "<IPython.core.display.HTML object>"
            ],
            "text/html": [
              "\n",
              "     <input type=\"file\" id=\"files-ece3a941-1c22-4f98-b3f3-81d4f80caa72\" name=\"files[]\" multiple disabled\n",
              "        style=\"border:none\" />\n",
              "     <output id=\"result-ece3a941-1c22-4f98-b3f3-81d4f80caa72\">\n",
              "      Upload widget is only available when the cell has been executed in the\n",
              "      current browser session. Please rerun this cell to enable.\n",
              "      </output>\n",
              "      <script>// Copyright 2017 Google LLC\n",
              "//\n",
              "// Licensed under the Apache License, Version 2.0 (the \"License\");\n",
              "// you may not use this file except in compliance with the License.\n",
              "// You may obtain a copy of the License at\n",
              "//\n",
              "//      http://www.apache.org/licenses/LICENSE-2.0\n",
              "//\n",
              "// Unless required by applicable law or agreed to in writing, software\n",
              "// distributed under the License is distributed on an \"AS IS\" BASIS,\n",
              "// WITHOUT WARRANTIES OR CONDITIONS OF ANY KIND, either express or implied.\n",
              "// See the License for the specific language governing permissions and\n",
              "// limitations under the License.\n",
              "\n",
              "/**\n",
              " * @fileoverview Helpers for google.colab Python module.\n",
              " */\n",
              "(function(scope) {\n",
              "function span(text, styleAttributes = {}) {\n",
              "  const element = document.createElement('span');\n",
              "  element.textContent = text;\n",
              "  for (const key of Object.keys(styleAttributes)) {\n",
              "    element.style[key] = styleAttributes[key];\n",
              "  }\n",
              "  return element;\n",
              "}\n",
              "\n",
              "// Max number of bytes which will be uploaded at a time.\n",
              "const MAX_PAYLOAD_SIZE = 100 * 1024;\n",
              "\n",
              "function _uploadFiles(inputId, outputId) {\n",
              "  const steps = uploadFilesStep(inputId, outputId);\n",
              "  const outputElement = document.getElementById(outputId);\n",
              "  // Cache steps on the outputElement to make it available for the next call\n",
              "  // to uploadFilesContinue from Python.\n",
              "  outputElement.steps = steps;\n",
              "\n",
              "  return _uploadFilesContinue(outputId);\n",
              "}\n",
              "\n",
              "// This is roughly an async generator (not supported in the browser yet),\n",
              "// where there are multiple asynchronous steps and the Python side is going\n",
              "// to poll for completion of each step.\n",
              "// This uses a Promise to block the python side on completion of each step,\n",
              "// then passes the result of the previous step as the input to the next step.\n",
              "function _uploadFilesContinue(outputId) {\n",
              "  const outputElement = document.getElementById(outputId);\n",
              "  const steps = outputElement.steps;\n",
              "\n",
              "  const next = steps.next(outputElement.lastPromiseValue);\n",
              "  return Promise.resolve(next.value.promise).then((value) => {\n",
              "    // Cache the last promise value to make it available to the next\n",
              "    // step of the generator.\n",
              "    outputElement.lastPromiseValue = value;\n",
              "    return next.value.response;\n",
              "  });\n",
              "}\n",
              "\n",
              "/**\n",
              " * Generator function which is called between each async step of the upload\n",
              " * process.\n",
              " * @param {string} inputId Element ID of the input file picker element.\n",
              " * @param {string} outputId Element ID of the output display.\n",
              " * @return {!Iterable<!Object>} Iterable of next steps.\n",
              " */\n",
              "function* uploadFilesStep(inputId, outputId) {\n",
              "  const inputElement = document.getElementById(inputId);\n",
              "  inputElement.disabled = false;\n",
              "\n",
              "  const outputElement = document.getElementById(outputId);\n",
              "  outputElement.innerHTML = '';\n",
              "\n",
              "  const pickedPromise = new Promise((resolve) => {\n",
              "    inputElement.addEventListener('change', (e) => {\n",
              "      resolve(e.target.files);\n",
              "    });\n",
              "  });\n",
              "\n",
              "  const cancel = document.createElement('button');\n",
              "  inputElement.parentElement.appendChild(cancel);\n",
              "  cancel.textContent = 'Cancel upload';\n",
              "  const cancelPromise = new Promise((resolve) => {\n",
              "    cancel.onclick = () => {\n",
              "      resolve(null);\n",
              "    };\n",
              "  });\n",
              "\n",
              "  // Wait for the user to pick the files.\n",
              "  const files = yield {\n",
              "    promise: Promise.race([pickedPromise, cancelPromise]),\n",
              "    response: {\n",
              "      action: 'starting',\n",
              "    }\n",
              "  };\n",
              "\n",
              "  cancel.remove();\n",
              "\n",
              "  // Disable the input element since further picks are not allowed.\n",
              "  inputElement.disabled = true;\n",
              "\n",
              "  if (!files) {\n",
              "    return {\n",
              "      response: {\n",
              "        action: 'complete',\n",
              "      }\n",
              "    };\n",
              "  }\n",
              "\n",
              "  for (const file of files) {\n",
              "    const li = document.createElement('li');\n",
              "    li.append(span(file.name, {fontWeight: 'bold'}));\n",
              "    li.append(span(\n",
              "        `(${file.type || 'n/a'}) - ${file.size} bytes, ` +\n",
              "        `last modified: ${\n",
              "            file.lastModifiedDate ? file.lastModifiedDate.toLocaleDateString() :\n",
              "                                    'n/a'} - `));\n",
              "    const percent = span('0% done');\n",
              "    li.appendChild(percent);\n",
              "\n",
              "    outputElement.appendChild(li);\n",
              "\n",
              "    const fileDataPromise = new Promise((resolve) => {\n",
              "      const reader = new FileReader();\n",
              "      reader.onload = (e) => {\n",
              "        resolve(e.target.result);\n",
              "      };\n",
              "      reader.readAsArrayBuffer(file);\n",
              "    });\n",
              "    // Wait for the data to be ready.\n",
              "    let fileData = yield {\n",
              "      promise: fileDataPromise,\n",
              "      response: {\n",
              "        action: 'continue',\n",
              "      }\n",
              "    };\n",
              "\n",
              "    // Use a chunked sending to avoid message size limits. See b/62115660.\n",
              "    let position = 0;\n",
              "    do {\n",
              "      const length = Math.min(fileData.byteLength - position, MAX_PAYLOAD_SIZE);\n",
              "      const chunk = new Uint8Array(fileData, position, length);\n",
              "      position += length;\n",
              "\n",
              "      const base64 = btoa(String.fromCharCode.apply(null, chunk));\n",
              "      yield {\n",
              "        response: {\n",
              "          action: 'append',\n",
              "          file: file.name,\n",
              "          data: base64,\n",
              "        },\n",
              "      };\n",
              "\n",
              "      let percentDone = fileData.byteLength === 0 ?\n",
              "          100 :\n",
              "          Math.round((position / fileData.byteLength) * 100);\n",
              "      percent.textContent = `${percentDone}% done`;\n",
              "\n",
              "    } while (position < fileData.byteLength);\n",
              "  }\n",
              "\n",
              "  // All done.\n",
              "  yield {\n",
              "    response: {\n",
              "      action: 'complete',\n",
              "    }\n",
              "  };\n",
              "}\n",
              "\n",
              "scope.google = scope.google || {};\n",
              "scope.google.colab = scope.google.colab || {};\n",
              "scope.google.colab._files = {\n",
              "  _uploadFiles,\n",
              "  _uploadFilesContinue,\n",
              "};\n",
              "})(self);\n",
              "</script> "
            ]
          },
          "metadata": {}
        },
        {
          "output_type": "stream",
          "name": "stdout",
          "text": [
            "Saving Dataset.xlsx to Dataset.xlsx\n"
          ]
        }
      ]
    },
    {
      "cell_type": "code",
      "execution_count": 38,
      "metadata": {
        "colab": {
          "base_uri": "https://localhost:8080/",
          "height": 487
        },
        "id": "Y4YeHICemuoc",
        "outputId": "4a92083e-2e6b-4362-acd5-f6e3abbcf10d"
      },
      "outputs": [
        {
          "output_type": "display_data",
          "data": {
            "text/plain": [
              "    Classes  3998.4    3997  3995.6  3994.2  3992.8  3991.3  3989.9  3988.5  \\\n",
              "0     PREDM  0.9979  0.9973  0.9970  0.9970  0.9972  0.9972  0.9971  0.9970   \n",
              "1     PREDM  0.9976  0.9973  0.9971  0.9971  0.9969  0.9965  0.9961  0.9963   \n",
              "2     PREDM  0.9973  0.9968  0.9966  0.9966  0.9969  0.9970  0.9970  0.9970   \n",
              "3     PREDM  0.9969  0.9964  0.9962  0.9964  0.9967  0.9968  0.9966  0.9966   \n",
              "4     PREDM  0.9979  0.9974  0.9969  0.9966  0.9966  0.9966  0.9966  0.9967   \n",
              "..      ...     ...     ...     ...     ...     ...     ...     ...     ...   \n",
              "595     DYS  0.9959  0.9956  0.9953  0.9951  0.9953  0.9956  0.9958  0.9957   \n",
              "596     DYS  0.9964  0.9964  0.9960  0.9955  0.9952  0.9950  0.9950  0.9948   \n",
              "597     DYS  0.9958  0.9958  0.9957  0.9957  0.9959  0.9961  0.9961  0.9959   \n",
              "598     DYS  0.9964  0.9960  0.9955  0.9953  0.9954  0.9958  0.9961  0.9962   \n",
              "599     DYS  0.9964  0.9960  0.9955  0.9953  0.9954  0.9958  0.9961  0.9962   \n",
              "\n",
              "     3987.1  ...   412.3   410.9   409.5   408.1   406.6   405.2   403.8  \\\n",
              "0    0.9970  ...  0.2580  0.2571  0.2563  0.2561  0.2565  0.2568  0.2565   \n",
              "1    0.9968  ...  0.2561  0.2537  0.2523  0.2527  0.2539  0.2548  0.2545   \n",
              "2    0.9970  ...  0.2556  0.2558  0.2565  0.2579  0.2595  0.2607  0.2609   \n",
              "3    0.9968  ...  0.2558  0.2554  0.2550  0.2551  0.2558  0.2567  0.2567   \n",
              "4    0.9969  ...  0.2559  0.2545  0.2534  0.2532  0.2541  0.2550  0.2552   \n",
              "..      ...  ...     ...     ...     ...     ...     ...     ...     ...   \n",
              "595  0.9954  ...  0.2691  0.2686  0.2678  0.2674  0.2675  0.2671  0.2657   \n",
              "596  0.9945  ...  0.2653  0.2648  0.2659  0.2674  0.2684  0.2680  0.2664   \n",
              "597  0.9954  ...  0.2715  0.2713  0.2708  0.2700  0.2684  0.2662  0.2641   \n",
              "598  0.9959  ...  0.2687  0.2672  0.2671  0.2681  0.2692  0.2695  0.2689   \n",
              "599  0.9959  ...  0.2687  0.2672  0.2671  0.2681  0.2692  0.2695  0.2689   \n",
              "\n",
              "      402.4     401   399.6  \n",
              "0    0.2554  0.2541  0.2538  \n",
              "1    0.2532  0.2515  0.2503  \n",
              "2    0.2594  0.2558  0.2508  \n",
              "3    0.2550  0.2517  0.2478  \n",
              "4    0.2548  0.2545  0.2551  \n",
              "..      ...     ...     ...  \n",
              "595  0.2639  0.2630  0.2630  \n",
              "596  0.2651  0.2651  0.2664  \n",
              "597  0.2626  0.2620  0.2627  \n",
              "598  0.2675  0.2656  0.2641  \n",
              "599  0.2675  0.2656  0.2641  \n",
              "\n",
              "[600 rows x 2542 columns]"
            ],
            "text/html": [
              "\n",
              "  <div id=\"df-c1d61225-85f5-470d-ac18-cc83d3e39c4c\">\n",
              "    <div class=\"colab-df-container\">\n",
              "      <div>\n",
              "<style scoped>\n",
              "    .dataframe tbody tr th:only-of-type {\n",
              "        vertical-align: middle;\n",
              "    }\n",
              "\n",
              "    .dataframe tbody tr th {\n",
              "        vertical-align: top;\n",
              "    }\n",
              "\n",
              "    .dataframe thead th {\n",
              "        text-align: right;\n",
              "    }\n",
              "</style>\n",
              "<table border=\"1\" class=\"dataframe\">\n",
              "  <thead>\n",
              "    <tr style=\"text-align: right;\">\n",
              "      <th></th>\n",
              "      <th>Classes</th>\n",
              "      <th>3998.4</th>\n",
              "      <th>3997</th>\n",
              "      <th>3995.6</th>\n",
              "      <th>3994.2</th>\n",
              "      <th>3992.8</th>\n",
              "      <th>3991.3</th>\n",
              "      <th>3989.9</th>\n",
              "      <th>3988.5</th>\n",
              "      <th>3987.1</th>\n",
              "      <th>...</th>\n",
              "      <th>412.3</th>\n",
              "      <th>410.9</th>\n",
              "      <th>409.5</th>\n",
              "      <th>408.1</th>\n",
              "      <th>406.6</th>\n",
              "      <th>405.2</th>\n",
              "      <th>403.8</th>\n",
              "      <th>402.4</th>\n",
              "      <th>401</th>\n",
              "      <th>399.6</th>\n",
              "    </tr>\n",
              "  </thead>\n",
              "  <tbody>\n",
              "    <tr>\n",
              "      <th>0</th>\n",
              "      <td>PREDM</td>\n",
              "      <td>0.9979</td>\n",
              "      <td>0.9973</td>\n",
              "      <td>0.9970</td>\n",
              "      <td>0.9970</td>\n",
              "      <td>0.9972</td>\n",
              "      <td>0.9972</td>\n",
              "      <td>0.9971</td>\n",
              "      <td>0.9970</td>\n",
              "      <td>0.9970</td>\n",
              "      <td>...</td>\n",
              "      <td>0.2580</td>\n",
              "      <td>0.2571</td>\n",
              "      <td>0.2563</td>\n",
              "      <td>0.2561</td>\n",
              "      <td>0.2565</td>\n",
              "      <td>0.2568</td>\n",
              "      <td>0.2565</td>\n",
              "      <td>0.2554</td>\n",
              "      <td>0.2541</td>\n",
              "      <td>0.2538</td>\n",
              "    </tr>\n",
              "    <tr>\n",
              "      <th>1</th>\n",
              "      <td>PREDM</td>\n",
              "      <td>0.9976</td>\n",
              "      <td>0.9973</td>\n",
              "      <td>0.9971</td>\n",
              "      <td>0.9971</td>\n",
              "      <td>0.9969</td>\n",
              "      <td>0.9965</td>\n",
              "      <td>0.9961</td>\n",
              "      <td>0.9963</td>\n",
              "      <td>0.9968</td>\n",
              "      <td>...</td>\n",
              "      <td>0.2561</td>\n",
              "      <td>0.2537</td>\n",
              "      <td>0.2523</td>\n",
              "      <td>0.2527</td>\n",
              "      <td>0.2539</td>\n",
              "      <td>0.2548</td>\n",
              "      <td>0.2545</td>\n",
              "      <td>0.2532</td>\n",
              "      <td>0.2515</td>\n",
              "      <td>0.2503</td>\n",
              "    </tr>\n",
              "    <tr>\n",
              "      <th>2</th>\n",
              "      <td>PREDM</td>\n",
              "      <td>0.9973</td>\n",
              "      <td>0.9968</td>\n",
              "      <td>0.9966</td>\n",
              "      <td>0.9966</td>\n",
              "      <td>0.9969</td>\n",
              "      <td>0.9970</td>\n",
              "      <td>0.9970</td>\n",
              "      <td>0.9970</td>\n",
              "      <td>0.9970</td>\n",
              "      <td>...</td>\n",
              "      <td>0.2556</td>\n",
              "      <td>0.2558</td>\n",
              "      <td>0.2565</td>\n",
              "      <td>0.2579</td>\n",
              "      <td>0.2595</td>\n",
              "      <td>0.2607</td>\n",
              "      <td>0.2609</td>\n",
              "      <td>0.2594</td>\n",
              "      <td>0.2558</td>\n",
              "      <td>0.2508</td>\n",
              "    </tr>\n",
              "    <tr>\n",
              "      <th>3</th>\n",
              "      <td>PREDM</td>\n",
              "      <td>0.9969</td>\n",
              "      <td>0.9964</td>\n",
              "      <td>0.9962</td>\n",
              "      <td>0.9964</td>\n",
              "      <td>0.9967</td>\n",
              "      <td>0.9968</td>\n",
              "      <td>0.9966</td>\n",
              "      <td>0.9966</td>\n",
              "      <td>0.9968</td>\n",
              "      <td>...</td>\n",
              "      <td>0.2558</td>\n",
              "      <td>0.2554</td>\n",
              "      <td>0.2550</td>\n",
              "      <td>0.2551</td>\n",
              "      <td>0.2558</td>\n",
              "      <td>0.2567</td>\n",
              "      <td>0.2567</td>\n",
              "      <td>0.2550</td>\n",
              "      <td>0.2517</td>\n",
              "      <td>0.2478</td>\n",
              "    </tr>\n",
              "    <tr>\n",
              "      <th>4</th>\n",
              "      <td>PREDM</td>\n",
              "      <td>0.9979</td>\n",
              "      <td>0.9974</td>\n",
              "      <td>0.9969</td>\n",
              "      <td>0.9966</td>\n",
              "      <td>0.9966</td>\n",
              "      <td>0.9966</td>\n",
              "      <td>0.9966</td>\n",
              "      <td>0.9967</td>\n",
              "      <td>0.9969</td>\n",
              "      <td>...</td>\n",
              "      <td>0.2559</td>\n",
              "      <td>0.2545</td>\n",
              "      <td>0.2534</td>\n",
              "      <td>0.2532</td>\n",
              "      <td>0.2541</td>\n",
              "      <td>0.2550</td>\n",
              "      <td>0.2552</td>\n",
              "      <td>0.2548</td>\n",
              "      <td>0.2545</td>\n",
              "      <td>0.2551</td>\n",
              "    </tr>\n",
              "    <tr>\n",
              "      <th>...</th>\n",
              "      <td>...</td>\n",
              "      <td>...</td>\n",
              "      <td>...</td>\n",
              "      <td>...</td>\n",
              "      <td>...</td>\n",
              "      <td>...</td>\n",
              "      <td>...</td>\n",
              "      <td>...</td>\n",
              "      <td>...</td>\n",
              "      <td>...</td>\n",
              "      <td>...</td>\n",
              "      <td>...</td>\n",
              "      <td>...</td>\n",
              "      <td>...</td>\n",
              "      <td>...</td>\n",
              "      <td>...</td>\n",
              "      <td>...</td>\n",
              "      <td>...</td>\n",
              "      <td>...</td>\n",
              "      <td>...</td>\n",
              "      <td>...</td>\n",
              "    </tr>\n",
              "    <tr>\n",
              "      <th>595</th>\n",
              "      <td>DYS</td>\n",
              "      <td>0.9959</td>\n",
              "      <td>0.9956</td>\n",
              "      <td>0.9953</td>\n",
              "      <td>0.9951</td>\n",
              "      <td>0.9953</td>\n",
              "      <td>0.9956</td>\n",
              "      <td>0.9958</td>\n",
              "      <td>0.9957</td>\n",
              "      <td>0.9954</td>\n",
              "      <td>...</td>\n",
              "      <td>0.2691</td>\n",
              "      <td>0.2686</td>\n",
              "      <td>0.2678</td>\n",
              "      <td>0.2674</td>\n",
              "      <td>0.2675</td>\n",
              "      <td>0.2671</td>\n",
              "      <td>0.2657</td>\n",
              "      <td>0.2639</td>\n",
              "      <td>0.2630</td>\n",
              "      <td>0.2630</td>\n",
              "    </tr>\n",
              "    <tr>\n",
              "      <th>596</th>\n",
              "      <td>DYS</td>\n",
              "      <td>0.9964</td>\n",
              "      <td>0.9964</td>\n",
              "      <td>0.9960</td>\n",
              "      <td>0.9955</td>\n",
              "      <td>0.9952</td>\n",
              "      <td>0.9950</td>\n",
              "      <td>0.9950</td>\n",
              "      <td>0.9948</td>\n",
              "      <td>0.9945</td>\n",
              "      <td>...</td>\n",
              "      <td>0.2653</td>\n",
              "      <td>0.2648</td>\n",
              "      <td>0.2659</td>\n",
              "      <td>0.2674</td>\n",
              "      <td>0.2684</td>\n",
              "      <td>0.2680</td>\n",
              "      <td>0.2664</td>\n",
              "      <td>0.2651</td>\n",
              "      <td>0.2651</td>\n",
              "      <td>0.2664</td>\n",
              "    </tr>\n",
              "    <tr>\n",
              "      <th>597</th>\n",
              "      <td>DYS</td>\n",
              "      <td>0.9958</td>\n",
              "      <td>0.9958</td>\n",
              "      <td>0.9957</td>\n",
              "      <td>0.9957</td>\n",
              "      <td>0.9959</td>\n",
              "      <td>0.9961</td>\n",
              "      <td>0.9961</td>\n",
              "      <td>0.9959</td>\n",
              "      <td>0.9954</td>\n",
              "      <td>...</td>\n",
              "      <td>0.2715</td>\n",
              "      <td>0.2713</td>\n",
              "      <td>0.2708</td>\n",
              "      <td>0.2700</td>\n",
              "      <td>0.2684</td>\n",
              "      <td>0.2662</td>\n",
              "      <td>0.2641</td>\n",
              "      <td>0.2626</td>\n",
              "      <td>0.2620</td>\n",
              "      <td>0.2627</td>\n",
              "    </tr>\n",
              "    <tr>\n",
              "      <th>598</th>\n",
              "      <td>DYS</td>\n",
              "      <td>0.9964</td>\n",
              "      <td>0.9960</td>\n",
              "      <td>0.9955</td>\n",
              "      <td>0.9953</td>\n",
              "      <td>0.9954</td>\n",
              "      <td>0.9958</td>\n",
              "      <td>0.9961</td>\n",
              "      <td>0.9962</td>\n",
              "      <td>0.9959</td>\n",
              "      <td>...</td>\n",
              "      <td>0.2687</td>\n",
              "      <td>0.2672</td>\n",
              "      <td>0.2671</td>\n",
              "      <td>0.2681</td>\n",
              "      <td>0.2692</td>\n",
              "      <td>0.2695</td>\n",
              "      <td>0.2689</td>\n",
              "      <td>0.2675</td>\n",
              "      <td>0.2656</td>\n",
              "      <td>0.2641</td>\n",
              "    </tr>\n",
              "    <tr>\n",
              "      <th>599</th>\n",
              "      <td>DYS</td>\n",
              "      <td>0.9964</td>\n",
              "      <td>0.9960</td>\n",
              "      <td>0.9955</td>\n",
              "      <td>0.9953</td>\n",
              "      <td>0.9954</td>\n",
              "      <td>0.9958</td>\n",
              "      <td>0.9961</td>\n",
              "      <td>0.9962</td>\n",
              "      <td>0.9959</td>\n",
              "      <td>...</td>\n",
              "      <td>0.2687</td>\n",
              "      <td>0.2672</td>\n",
              "      <td>0.2671</td>\n",
              "      <td>0.2681</td>\n",
              "      <td>0.2692</td>\n",
              "      <td>0.2695</td>\n",
              "      <td>0.2689</td>\n",
              "      <td>0.2675</td>\n",
              "      <td>0.2656</td>\n",
              "      <td>0.2641</td>\n",
              "    </tr>\n",
              "  </tbody>\n",
              "</table>\n",
              "<p>600 rows × 2542 columns</p>\n",
              "</div>\n",
              "      <button class=\"colab-df-convert\" onclick=\"convertToInteractive('df-c1d61225-85f5-470d-ac18-cc83d3e39c4c')\"\n",
              "              title=\"Convert this dataframe to an interactive table.\"\n",
              "              style=\"display:none;\">\n",
              "        \n",
              "  <svg xmlns=\"http://www.w3.org/2000/svg\" height=\"24px\"viewBox=\"0 0 24 24\"\n",
              "       width=\"24px\">\n",
              "    <path d=\"M0 0h24v24H0V0z\" fill=\"none\"/>\n",
              "    <path d=\"M18.56 5.44l.94 2.06.94-2.06 2.06-.94-2.06-.94-.94-2.06-.94 2.06-2.06.94zm-11 1L8.5 8.5l.94-2.06 2.06-.94-2.06-.94L8.5 2.5l-.94 2.06-2.06.94zm10 10l.94 2.06.94-2.06 2.06-.94-2.06-.94-.94-2.06-.94 2.06-2.06.94z\"/><path d=\"M17.41 7.96l-1.37-1.37c-.4-.4-.92-.59-1.43-.59-.52 0-1.04.2-1.43.59L10.3 9.45l-7.72 7.72c-.78.78-.78 2.05 0 2.83L4 21.41c.39.39.9.59 1.41.59.51 0 1.02-.2 1.41-.59l7.78-7.78 2.81-2.81c.8-.78.8-2.07 0-2.86zM5.41 20L4 18.59l7.72-7.72 1.47 1.35L5.41 20z\"/>\n",
              "  </svg>\n",
              "      </button>\n",
              "      \n",
              "  <style>\n",
              "    .colab-df-container {\n",
              "      display:flex;\n",
              "      flex-wrap:wrap;\n",
              "      gap: 12px;\n",
              "    }\n",
              "\n",
              "    .colab-df-convert {\n",
              "      background-color: #E8F0FE;\n",
              "      border: none;\n",
              "      border-radius: 50%;\n",
              "      cursor: pointer;\n",
              "      display: none;\n",
              "      fill: #1967D2;\n",
              "      height: 32px;\n",
              "      padding: 0 0 0 0;\n",
              "      width: 32px;\n",
              "    }\n",
              "\n",
              "    .colab-df-convert:hover {\n",
              "      background-color: #E2EBFA;\n",
              "      box-shadow: 0px 1px 2px rgba(60, 64, 67, 0.3), 0px 1px 3px 1px rgba(60, 64, 67, 0.15);\n",
              "      fill: #174EA6;\n",
              "    }\n",
              "\n",
              "    [theme=dark] .colab-df-convert {\n",
              "      background-color: #3B4455;\n",
              "      fill: #D2E3FC;\n",
              "    }\n",
              "\n",
              "    [theme=dark] .colab-df-convert:hover {\n",
              "      background-color: #434B5C;\n",
              "      box-shadow: 0px 1px 3px 1px rgba(0, 0, 0, 0.15);\n",
              "      filter: drop-shadow(0px 1px 2px rgba(0, 0, 0, 0.3));\n",
              "      fill: #FFFFFF;\n",
              "    }\n",
              "  </style>\n",
              "\n",
              "      <script>\n",
              "        const buttonEl =\n",
              "          document.querySelector('#df-c1d61225-85f5-470d-ac18-cc83d3e39c4c button.colab-df-convert');\n",
              "        buttonEl.style.display =\n",
              "          google.colab.kernel.accessAllowed ? 'block' : 'none';\n",
              "\n",
              "        async function convertToInteractive(key) {\n",
              "          const element = document.querySelector('#df-c1d61225-85f5-470d-ac18-cc83d3e39c4c');\n",
              "          const dataTable =\n",
              "            await google.colab.kernel.invokeFunction('convertToInteractive',\n",
              "                                                     [key], {});\n",
              "          if (!dataTable) return;\n",
              "\n",
              "          const docLinkHtml = 'Like what you see? Visit the ' +\n",
              "            '<a target=\"_blank\" href=https://colab.research.google.com/notebooks/data_table.ipynb>data table notebook</a>'\n",
              "            + ' to learn more about interactive tables.';\n",
              "          element.innerHTML = '';\n",
              "          dataTable['output_type'] = 'display_data';\n",
              "          await google.colab.output.renderOutput(dataTable, element);\n",
              "          const docLink = document.createElement('div');\n",
              "          docLink.innerHTML = docLinkHtml;\n",
              "          element.appendChild(docLink);\n",
              "        }\n",
              "      </script>\n",
              "    </div>\n",
              "  </div>\n",
              "  "
            ]
          },
          "metadata": {}
        }
      ],
      "source": [
        "# Step 2: Import the Pandas library to help manipulate the database\n",
        "import pandas as pd\n",
        "df1 = pd.read_excel(\"Dataset.xlsx\")\n",
        "display (df1)"
      ],
      "id": "Y4YeHICemuoc"
    },
    {
      "cell_type": "code",
      "execution_count": null,
      "metadata": {
        "colab": {
          "base_uri": "https://localhost:8080/"
        },
        "id": "5U1Mqbfvsp2w",
        "outputId": "07e8f004-283f-4273-b610-cc286a2234c4"
      },
      "outputs": [
        {
          "name": "stdout",
          "output_type": "stream",
          "text": [
            "Looking in indexes: https://pypi.org/simple, https://us-python.pkg.dev/colab-wheels/public/simple/\n",
            "Collecting pycaret\n",
            "  Downloading pycaret-3.0.2-py3-none-any.whl (483 kB)\n",
            "\u001b[2K     \u001b[90m━━━━━━━━━━━━━━━━━━━━━━━━━━━━━━━━━━━━━━━\u001b[0m \u001b[32m483.6/483.6 kB\u001b[0m \u001b[31m7.9 MB/s\u001b[0m eta \u001b[36m0:00:00\u001b[0m\n",
            "\u001b[?25hRequirement already satisfied: ipython>=5.5.0 in /usr/local/lib/python3.10/dist-packages (from pycaret) (7.34.0)\n",
            "Requirement already satisfied: ipywidgets>=7.6.5 in /usr/local/lib/python3.10/dist-packages (from pycaret) (7.7.1)\n",
            "Requirement already satisfied: tqdm>=4.62.0 in /usr/local/lib/python3.10/dist-packages (from pycaret) (4.65.0)\n",
            "Requirement already satisfied: numpy<1.24,>=1.21 in /usr/local/lib/python3.10/dist-packages (from pycaret) (1.22.4)\n",
            "Requirement already satisfied: pandas<2.0.0,>=1.3.0 in /usr/local/lib/python3.10/dist-packages (from pycaret) (1.5.3)\n",
            "Requirement already satisfied: jinja2>=1.2 in /usr/local/lib/python3.10/dist-packages (from pycaret) (3.1.2)\n",
            "Requirement already satisfied: scipy<2.0.0 in /usr/local/lib/python3.10/dist-packages (from pycaret) (1.10.1)\n",
            "Requirement already satisfied: joblib>=1.2.0 in /usr/local/lib/python3.10/dist-packages (from pycaret) (1.2.0)\n",
            "Requirement already satisfied: scikit-learn>=1.0 in /usr/local/lib/python3.10/dist-packages (from pycaret) (1.2.2)\n",
            "Collecting pyod>=1.0.8 (from pycaret)\n",
            "  Downloading pyod-1.0.9.tar.gz (149 kB)\n",
            "\u001b[2K     \u001b[90m━━━━━━━━━━━━━━━━━━━━━━━━━━━━━━━━━━━━━━\u001b[0m \u001b[32m150.0/150.0 kB\u001b[0m \u001b[31m12.6 MB/s\u001b[0m eta \u001b[36m0:00:00\u001b[0m\n",
            "\u001b[?25h  Preparing metadata (setup.py) ... \u001b[?25l\u001b[?25hdone\n",
            "Requirement already satisfied: imbalanced-learn>=0.8.1 in /usr/local/lib/python3.10/dist-packages (from pycaret) (0.10.1)\n",
            "Collecting category-encoders>=2.4.0 (from pycaret)\n",
            "  Downloading category_encoders-2.6.1-py2.py3-none-any.whl (81 kB)\n",
            "\u001b[2K     \u001b[90m━━━━━━━━━━━━━━━━━━━━━━━━━━━━━━━━━━━━━━━━\u001b[0m \u001b[32m81.9/81.9 kB\u001b[0m \u001b[31m6.5 MB/s\u001b[0m eta \u001b[36m0:00:00\u001b[0m\n",
            "\u001b[?25hRequirement already satisfied: lightgbm>=3.0.0 in /usr/local/lib/python3.10/dist-packages (from pycaret) (3.3.5)\n",
            "Requirement already satisfied: numba>=0.55.0 in /usr/local/lib/python3.10/dist-packages (from pycaret) (0.56.4)\n",
            "Requirement already satisfied: requests>=2.27.1 in /usr/local/lib/python3.10/dist-packages (from pycaret) (2.27.1)\n",
            "Requirement already satisfied: psutil>=5.9.0 in /usr/local/lib/python3.10/dist-packages (from pycaret) (5.9.5)\n",
            "Requirement already satisfied: markupsafe>=2.0.1 in /usr/local/lib/python3.10/dist-packages (from pycaret) (2.1.2)\n",
            "Collecting importlib-metadata>=4.12.0 (from pycaret)\n",
            "  Downloading importlib_metadata-6.6.0-py3-none-any.whl (22 kB)\n",
            "Requirement already satisfied: nbformat>=4.2.0 in /usr/local/lib/python3.10/dist-packages (from pycaret) (5.8.0)\n",
            "Requirement already satisfied: cloudpickle in /usr/local/lib/python3.10/dist-packages (from pycaret) (2.2.1)\n",
            "Collecting deprecation>=2.1.0 (from pycaret)\n",
            "  Downloading deprecation-2.1.0-py2.py3-none-any.whl (11 kB)\n",
            "Collecting xxhash (from pycaret)\n",
            "  Downloading xxhash-3.2.0-cp310-cp310-manylinux_2_17_x86_64.manylinux2014_x86_64.whl (212 kB)\n",
            "\u001b[2K     \u001b[90m━━━━━━━━━━━━━━━━━━━━━━━━━━━━━━━━━━━━━━\u001b[0m \u001b[32m212.5/212.5 kB\u001b[0m \u001b[31m16.5 MB/s\u001b[0m eta \u001b[36m0:00:00\u001b[0m\n",
            "\u001b[?25hRequirement already satisfied: matplotlib>=3.3.0 in /usr/local/lib/python3.10/dist-packages (from pycaret) (3.7.1)\n",
            "Collecting scikit-plot>=0.3.7 (from pycaret)\n",
            "  Downloading scikit_plot-0.3.7-py3-none-any.whl (33 kB)\n",
            "Requirement already satisfied: yellowbrick>=1.4 in /usr/local/lib/python3.10/dist-packages (from pycaret) (1.5)\n",
            "Requirement already satisfied: plotly>=5.0.0 in /usr/local/lib/python3.10/dist-packages (from pycaret) (5.13.1)\n",
            "Collecting kaleido>=0.2.1 (from pycaret)\n",
            "  Downloading kaleido-0.2.1-py2.py3-none-manylinux1_x86_64.whl (79.9 MB)\n",
            "\u001b[2K     \u001b[90m━━━━━━━━━━━━━━━━━━━━━━━━━━━━━━━━━━━━━━━━\u001b[0m \u001b[32m79.9/79.9 MB\u001b[0m \u001b[31m7.8 MB/s\u001b[0m eta \u001b[36m0:00:00\u001b[0m\n",
            "\u001b[?25hCollecting schemdraw==0.15 (from pycaret)\n",
            "  Downloading schemdraw-0.15-py3-none-any.whl (106 kB)\n",
            "\u001b[2K     \u001b[90m━━━━━━━━━━━━━━━━━━━━━━━━━━━━━━━━━━━━━━\u001b[0m \u001b[32m106.8/106.8 kB\u001b[0m \u001b[31m10.3 MB/s\u001b[0m eta \u001b[36m0:00:00\u001b[0m\n",
            "\u001b[?25hCollecting plotly-resampler>=0.8.3.1 (from pycaret)\n",
            "  Downloading plotly_resampler-0.8.3.2.tar.gz (46 kB)\n",
            "\u001b[2K     \u001b[90m━━━━━━━━━━━━━━━━━━━━━━━━━━━━━━━━━━━━━━━━\u001b[0m \u001b[32m46.4/46.4 kB\u001b[0m \u001b[31m4.5 MB/s\u001b[0m eta \u001b[36m0:00:00\u001b[0m\n",
            "\u001b[?25h  Installing build dependencies ... \u001b[?25l\u001b[?25hdone\n",
            "  Getting requirements to build wheel ... \u001b[?25l\u001b[?25hdone\n",
            "  Preparing metadata (pyproject.toml) ... \u001b[?25l\u001b[?25hdone\n",
            "Requirement already satisfied: statsmodels>=0.12.1 in /usr/local/lib/python3.10/dist-packages (from pycaret) (0.13.5)\n",
            "Collecting sktime!=0.17.1,<0.17.2,>=0.16.1 (from pycaret)\n",
            "  Downloading sktime-0.17.0-py3-none-any.whl (16.1 MB)\n",
            "\u001b[2K     \u001b[90m━━━━━━━━━━━━━━━━━━━━━━━━━━━━━━━━━━━━━━━━\u001b[0m \u001b[32m16.1/16.1 MB\u001b[0m \u001b[31m51.8 MB/s\u001b[0m eta \u001b[36m0:00:00\u001b[0m\n",
            "\u001b[?25hCollecting tbats>=1.1.3 (from pycaret)\n",
            "  Downloading tbats-1.1.3-py3-none-any.whl (44 kB)\n",
            "\u001b[2K     \u001b[90m━━━━━━━━━━━━━━━━━━━━━━━━━━━━━━━━━━━━━━━━\u001b[0m \u001b[32m44.0/44.0 kB\u001b[0m \u001b[31m4.0 MB/s\u001b[0m eta \u001b[36m0:00:00\u001b[0m\n",
            "\u001b[?25hCollecting pmdarima!=1.8.1,<3.0.0,>=1.8.0 (from pycaret)\n",
            "  Downloading pmdarima-2.0.3-cp310-cp310-manylinux_2_17_x86_64.manylinux2014_x86_64.manylinux_2_28_x86_64.whl (1.8 MB)\n",
            "\u001b[2K     \u001b[90m━━━━━━━━━━━━━━━━━━━━━━━━━━━━━━━━━━━━━━━━\u001b[0m \u001b[32m1.8/1.8 MB\u001b[0m \u001b[31m59.0 MB/s\u001b[0m eta \u001b[36m0:00:00\u001b[0m\n",
            "\u001b[?25hCollecting wurlitzer (from pycaret)\n",
            "  Downloading wurlitzer-3.0.3-py3-none-any.whl (7.3 kB)\n",
            "Requirement already satisfied: patsy>=0.5.1 in /usr/local/lib/python3.10/dist-packages (from category-encoders>=2.4.0->pycaret) (0.5.3)\n",
            "Requirement already satisfied: packaging in /usr/local/lib/python3.10/dist-packages (from deprecation>=2.1.0->pycaret) (23.1)\n",
            "Requirement already satisfied: threadpoolctl>=2.0.0 in /usr/local/lib/python3.10/dist-packages (from imbalanced-learn>=0.8.1->pycaret) (3.1.0)\n",
            "Requirement already satisfied: zipp>=0.5 in /usr/local/lib/python3.10/dist-packages (from importlib-metadata>=4.12.0->pycaret) (3.15.0)\n",
            "Requirement already satisfied: setuptools>=18.5 in /usr/local/lib/python3.10/dist-packages (from ipython>=5.5.0->pycaret) (67.7.2)\n",
            "Collecting jedi>=0.16 (from ipython>=5.5.0->pycaret)\n",
            "  Downloading jedi-0.18.2-py2.py3-none-any.whl (1.6 MB)\n",
            "\u001b[2K     \u001b[90m━━━━━━━━━━━━━━━━━━━━━━━━━━━━━━━━━━━━━━━━\u001b[0m \u001b[32m1.6/1.6 MB\u001b[0m \u001b[31m38.1 MB/s\u001b[0m eta \u001b[36m0:00:00\u001b[0m\n",
            "\u001b[?25hRequirement already satisfied: decorator in /usr/local/lib/python3.10/dist-packages (from ipython>=5.5.0->pycaret) (4.4.2)\n",
            "Requirement already satisfied: pickleshare in /usr/local/lib/python3.10/dist-packages (from ipython>=5.5.0->pycaret) (0.7.5)\n",
            "Requirement already satisfied: traitlets>=4.2 in /usr/local/lib/python3.10/dist-packages (from ipython>=5.5.0->pycaret) (5.7.1)\n",
            "Requirement already satisfied: prompt-toolkit!=3.0.0,!=3.0.1,<3.1.0,>=2.0.0 in /usr/local/lib/python3.10/dist-packages (from ipython>=5.5.0->pycaret) (3.0.38)\n",
            "Requirement already satisfied: pygments in /usr/local/lib/python3.10/dist-packages (from ipython>=5.5.0->pycaret) (2.14.0)\n",
            "Requirement already satisfied: backcall in /usr/local/lib/python3.10/dist-packages (from ipython>=5.5.0->pycaret) (0.2.0)\n",
            "Requirement already satisfied: matplotlib-inline in /usr/local/lib/python3.10/dist-packages (from ipython>=5.5.0->pycaret) (0.1.6)\n",
            "Requirement already satisfied: pexpect>4.3 in /usr/local/lib/python3.10/dist-packages (from ipython>=5.5.0->pycaret) (4.8.0)\n",
            "Requirement already satisfied: ipykernel>=4.5.1 in /usr/local/lib/python3.10/dist-packages (from ipywidgets>=7.6.5->pycaret) (5.5.6)\n",
            "Requirement already satisfied: ipython-genutils~=0.2.0 in /usr/local/lib/python3.10/dist-packages (from ipywidgets>=7.6.5->pycaret) (0.2.0)\n",
            "Requirement already satisfied: widgetsnbextension~=3.6.0 in /usr/local/lib/python3.10/dist-packages (from ipywidgets>=7.6.5->pycaret) (3.6.4)\n",
            "Requirement already satisfied: jupyterlab-widgets>=1.0.0 in /usr/local/lib/python3.10/dist-packages (from ipywidgets>=7.6.5->pycaret) (3.0.7)\n",
            "Requirement already satisfied: wheel in /usr/local/lib/python3.10/dist-packages (from lightgbm>=3.0.0->pycaret) (0.40.0)\n",
            "Requirement already satisfied: contourpy>=1.0.1 in /usr/local/lib/python3.10/dist-packages (from matplotlib>=3.3.0->pycaret) (1.0.7)\n",
            "Requirement already satisfied: cycler>=0.10 in /usr/local/lib/python3.10/dist-packages (from matplotlib>=3.3.0->pycaret) (0.11.0)\n",
            "Requirement already satisfied: fonttools>=4.22.0 in /usr/local/lib/python3.10/dist-packages (from matplotlib>=3.3.0->pycaret) (4.39.3)\n",
            "Requirement already satisfied: kiwisolver>=1.0.1 in /usr/local/lib/python3.10/dist-packages (from matplotlib>=3.3.0->pycaret) (1.4.4)\n",
            "Requirement already satisfied: pillow>=6.2.0 in /usr/local/lib/python3.10/dist-packages (from matplotlib>=3.3.0->pycaret) (8.4.0)\n",
            "Requirement already satisfied: pyparsing>=2.3.1 in /usr/local/lib/python3.10/dist-packages (from matplotlib>=3.3.0->pycaret) (3.0.9)\n",
            "Requirement already satisfied: python-dateutil>=2.7 in /usr/local/lib/python3.10/dist-packages (from matplotlib>=3.3.0->pycaret) (2.8.2)\n",
            "Requirement already satisfied: fastjsonschema in /usr/local/lib/python3.10/dist-packages (from nbformat>=4.2.0->pycaret) (2.16.3)\n",
            "Requirement already satisfied: jsonschema>=2.6 in /usr/local/lib/python3.10/dist-packages (from nbformat>=4.2.0->pycaret) (4.3.3)\n",
            "Requirement already satisfied: jupyter-core in /usr/local/lib/python3.10/dist-packages (from nbformat>=4.2.0->pycaret) (5.3.0)\n",
            "Requirement already satisfied: llvmlite<0.40,>=0.39.0dev0 in /usr/local/lib/python3.10/dist-packages (from numba>=0.55.0->pycaret) (0.39.1)\n",
            "Requirement already satisfied: pytz>=2020.1 in /usr/local/lib/python3.10/dist-packages (from pandas<2.0.0,>=1.3.0->pycaret) (2022.7.1)\n",
            "Requirement already satisfied: tenacity>=6.2.0 in /usr/local/lib/python3.10/dist-packages (from plotly>=5.0.0->pycaret) (8.2.2)\n",
            "Collecting dash<3.0.0,>=2.2.0 (from plotly-resampler>=0.8.3.1->pycaret)\n",
            "  Downloading dash-2.10.1-py3-none-any.whl (10.3 MB)\n",
            "\u001b[2K     \u001b[90m━━━━━━━━━━━━━━━━━━━━━━━━━━━━━━━━━━━━━━━\u001b[0m \u001b[32m10.3/10.3 MB\u001b[0m \u001b[31m102.5 MB/s\u001b[0m eta \u001b[36m0:00:00\u001b[0m\n",
            "\u001b[?25hCollecting jupyter-dash>=0.4.2 (from plotly-resampler>=0.8.3.1->pycaret)\n",
            "  Downloading jupyter_dash-0.4.2-py3-none-any.whl (23 kB)\n",
            "Collecting orjson<4.0.0,>=3.8.0 (from plotly-resampler>=0.8.3.1->pycaret)\n",
            "  Downloading orjson-3.8.14-cp310-cp310-manylinux_2_17_x86_64.manylinux2014_x86_64.whl (136 kB)\n",
            "\u001b[2K     \u001b[90m━━━━━━━━━━━━━━━━━━━━━━━━━━━━━━━━━━━━━━\u001b[0m \u001b[32m136.6/136.6 kB\u001b[0m \u001b[31m10.6 MB/s\u001b[0m eta \u001b[36m0:00:00\u001b[0m\n",
            "\u001b[?25hCollecting trace-updater>=0.0.8 (from plotly-resampler>=0.8.3.1->pycaret)\n",
            "  Downloading trace_updater-0.0.9.1-py3-none-any.whl (185 kB)\n",
            "\u001b[2K     \u001b[90m━━━━━━━━━━━━━━━━━━━━━━━━━━━━━━━━━━━━━━\u001b[0m \u001b[32m185.2/185.2 kB\u001b[0m \u001b[31m17.1 MB/s\u001b[0m eta \u001b[36m0:00:00\u001b[0m\n",
            "\u001b[?25hRequirement already satisfied: Cython!=0.29.18,!=0.29.31,>=0.29 in /usr/local/lib/python3.10/dist-packages (from pmdarima!=1.8.1,<3.0.0,>=1.8.0->pycaret) (0.29.34)\n",
            "Requirement already satisfied: urllib3 in /usr/local/lib/python3.10/dist-packages (from pmdarima!=1.8.1,<3.0.0,>=1.8.0->pycaret) (1.26.15)\n",
            "Requirement already satisfied: six in /usr/local/lib/python3.10/dist-packages (from pyod>=1.0.8->pycaret) (1.16.0)\n",
            "Requirement already satisfied: certifi>=2017.4.17 in /usr/local/lib/python3.10/dist-packages (from requests>=2.27.1->pycaret) (2022.12.7)\n",
            "Requirement already satisfied: charset-normalizer~=2.0.0 in /usr/local/lib/python3.10/dist-packages (from requests>=2.27.1->pycaret) (2.0.12)\n",
            "Requirement already satisfied: idna<4,>=2.5 in /usr/local/lib/python3.10/dist-packages (from requests>=2.27.1->pycaret) (3.4)\n",
            "Collecting deprecated>=1.2.13 (from sktime!=0.17.1,<0.17.2,>=0.16.1->pycaret)\n",
            "  Downloading Deprecated-1.2.14-py2.py3-none-any.whl (9.6 kB)\n",
            "Collecting Flask<=2.2.3,>=1.0.4 (from dash<3.0.0,>=2.2.0->plotly-resampler>=0.8.3.1->pycaret)\n",
            "  Downloading Flask-2.2.3-py3-none-any.whl (101 kB)\n",
            "\u001b[2K     \u001b[90m━━━━━━━━━━━━━━━━━━━━━━━━━━━━━━━━━━━━━━━\u001b[0m \u001b[32m101.8/101.8 kB\u001b[0m \u001b[31m9.6 MB/s\u001b[0m eta \u001b[36m0:00:00\u001b[0m\n",
            "\u001b[?25hCollecting Werkzeug<=2.2.3 (from dash<3.0.0,>=2.2.0->plotly-resampler>=0.8.3.1->pycaret)\n",
            "  Downloading Werkzeug-2.2.3-py3-none-any.whl (233 kB)\n",
            "\u001b[2K     \u001b[90m━━━━━━━━━━━━━━━━━━━━━━━━━━━━━━━━━━━━━━\u001b[0m \u001b[32m233.6/233.6 kB\u001b[0m \u001b[31m20.7 MB/s\u001b[0m eta \u001b[36m0:00:00\u001b[0m\n",
            "\u001b[?25hCollecting dash-html-components==2.0.0 (from dash<3.0.0,>=2.2.0->plotly-resampler>=0.8.3.1->pycaret)\n",
            "  Downloading dash_html_components-2.0.0-py3-none-any.whl (4.1 kB)\n",
            "Collecting dash-core-components==2.0.0 (from dash<3.0.0,>=2.2.0->plotly-resampler>=0.8.3.1->pycaret)\n",
            "  Downloading dash_core_components-2.0.0-py3-none-any.whl (3.8 kB)\n",
            "Collecting dash-table==5.0.0 (from dash<3.0.0,>=2.2.0->plotly-resampler>=0.8.3.1->pycaret)\n",
            "  Downloading dash_table-5.0.0-py3-none-any.whl (3.9 kB)\n",
            "Requirement already satisfied: wrapt<2,>=1.10 in /usr/local/lib/python3.10/dist-packages (from deprecated>=1.2.13->sktime!=0.17.1,<0.17.2,>=0.16.1->pycaret) (1.14.1)\n",
            "Requirement already satisfied: jupyter-client in /usr/local/lib/python3.10/dist-packages (from ipykernel>=4.5.1->ipywidgets>=7.6.5->pycaret) (6.1.12)\n",
            "Requirement already satisfied: tornado>=4.2 in /usr/local/lib/python3.10/dist-packages (from ipykernel>=4.5.1->ipywidgets>=7.6.5->pycaret) (6.3.1)\n",
            "Requirement already satisfied: parso<0.9.0,>=0.8.0 in /usr/local/lib/python3.10/dist-packages (from jedi>=0.16->ipython>=5.5.0->pycaret) (0.8.3)\n",
            "Requirement already satisfied: attrs>=17.4.0 in /usr/local/lib/python3.10/dist-packages (from jsonschema>=2.6->nbformat>=4.2.0->pycaret) (23.1.0)\n",
            "Requirement already satisfied: pyrsistent!=0.17.0,!=0.17.1,!=0.17.2,>=0.14.0 in /usr/local/lib/python3.10/dist-packages (from jsonschema>=2.6->nbformat>=4.2.0->pycaret) (0.19.3)\n",
            "Collecting retrying (from jupyter-dash>=0.4.2->plotly-resampler>=0.8.3.1->pycaret)\n",
            "  Downloading retrying-1.3.4-py3-none-any.whl (11 kB)\n",
            "Collecting ansi2html (from jupyter-dash>=0.4.2->plotly-resampler>=0.8.3.1->pycaret)\n",
            "  Downloading ansi2html-1.8.0-py3-none-any.whl (16 kB)\n",
            "Requirement already satisfied: nest-asyncio in /usr/local/lib/python3.10/dist-packages (from jupyter-dash>=0.4.2->plotly-resampler>=0.8.3.1->pycaret) (1.5.6)\n",
            "Requirement already satisfied: ptyprocess>=0.5 in /usr/local/lib/python3.10/dist-packages (from pexpect>4.3->ipython>=5.5.0->pycaret) (0.7.0)\n",
            "Requirement already satisfied: wcwidth in /usr/local/lib/python3.10/dist-packages (from prompt-toolkit!=3.0.0,!=3.0.1,<3.1.0,>=2.0.0->ipython>=5.5.0->pycaret) (0.2.6)\n",
            "Requirement already satisfied: notebook>=4.4.1 in /usr/local/lib/python3.10/dist-packages (from widgetsnbextension~=3.6.0->ipywidgets>=7.6.5->pycaret) (6.4.8)\n",
            "Requirement already satisfied: platformdirs>=2.5 in /usr/local/lib/python3.10/dist-packages (from jupyter-core->nbformat>=4.2.0->pycaret) (3.3.0)\n",
            "Requirement already satisfied: itsdangerous>=2.0 in /usr/local/lib/python3.10/dist-packages (from Flask<=2.2.3,>=1.0.4->dash<3.0.0,>=2.2.0->plotly-resampler>=0.8.3.1->pycaret) (2.1.2)\n",
            "Requirement already satisfied: click>=8.0 in /usr/local/lib/python3.10/dist-packages (from Flask<=2.2.3,>=1.0.4->dash<3.0.0,>=2.2.0->plotly-resampler>=0.8.3.1->pycaret) (8.1.3)\n",
            "Requirement already satisfied: pyzmq>=17 in /usr/local/lib/python3.10/dist-packages (from notebook>=4.4.1->widgetsnbextension~=3.6.0->ipywidgets>=7.6.5->pycaret) (23.2.1)\n",
            "Requirement already satisfied: argon2-cffi in /usr/local/lib/python3.10/dist-packages (from notebook>=4.4.1->widgetsnbextension~=3.6.0->ipywidgets>=7.6.5->pycaret) (21.3.0)\n",
            "Requirement already satisfied: nbconvert in /usr/local/lib/python3.10/dist-packages (from notebook>=4.4.1->widgetsnbextension~=3.6.0->ipywidgets>=7.6.5->pycaret) (6.5.4)\n",
            "Requirement already satisfied: Send2Trash>=1.8.0 in /usr/local/lib/python3.10/dist-packages (from notebook>=4.4.1->widgetsnbextension~=3.6.0->ipywidgets>=7.6.5->pycaret) (1.8.0)\n",
            "Requirement already satisfied: terminado>=0.8.3 in /usr/local/lib/python3.10/dist-packages (from notebook>=4.4.1->widgetsnbextension~=3.6.0->ipywidgets>=7.6.5->pycaret) (0.17.1)\n",
            "Requirement already satisfied: prometheus-client in /usr/local/lib/python3.10/dist-packages (from notebook>=4.4.1->widgetsnbextension~=3.6.0->ipywidgets>=7.6.5->pycaret) (0.16.0)\n",
            "Requirement already satisfied: argon2-cffi-bindings in /usr/local/lib/python3.10/dist-packages (from argon2-cffi->notebook>=4.4.1->widgetsnbextension~=3.6.0->ipywidgets>=7.6.5->pycaret) (21.2.0)\n",
            "Requirement already satisfied: lxml in /usr/local/lib/python3.10/dist-packages (from nbconvert->notebook>=4.4.1->widgetsnbextension~=3.6.0->ipywidgets>=7.6.5->pycaret) (4.9.2)\n",
            "Requirement already satisfied: beautifulsoup4 in /usr/local/lib/python3.10/dist-packages (from nbconvert->notebook>=4.4.1->widgetsnbextension~=3.6.0->ipywidgets>=7.6.5->pycaret) (4.11.2)\n",
            "Requirement already satisfied: bleach in /usr/local/lib/python3.10/dist-packages (from nbconvert->notebook>=4.4.1->widgetsnbextension~=3.6.0->ipywidgets>=7.6.5->pycaret) (6.0.0)\n",
            "Requirement already satisfied: defusedxml in /usr/local/lib/python3.10/dist-packages (from nbconvert->notebook>=4.4.1->widgetsnbextension~=3.6.0->ipywidgets>=7.6.5->pycaret) (0.7.1)\n",
            "Requirement already satisfied: entrypoints>=0.2.2 in /usr/local/lib/python3.10/dist-packages (from nbconvert->notebook>=4.4.1->widgetsnbextension~=3.6.0->ipywidgets>=7.6.5->pycaret) (0.4)\n",
            "Requirement already satisfied: jupyterlab-pygments in /usr/local/lib/python3.10/dist-packages (from nbconvert->notebook>=4.4.1->widgetsnbextension~=3.6.0->ipywidgets>=7.6.5->pycaret) (0.2.2)\n",
            "Requirement already satisfied: mistune<2,>=0.8.1 in /usr/local/lib/python3.10/dist-packages (from nbconvert->notebook>=4.4.1->widgetsnbextension~=3.6.0->ipywidgets>=7.6.5->pycaret) (0.8.4)\n",
            "Requirement already satisfied: nbclient>=0.5.0 in /usr/local/lib/python3.10/dist-packages (from nbconvert->notebook>=4.4.1->widgetsnbextension~=3.6.0->ipywidgets>=7.6.5->pycaret) (0.7.4)\n",
            "Requirement already satisfied: pandocfilters>=1.4.1 in /usr/local/lib/python3.10/dist-packages (from nbconvert->notebook>=4.4.1->widgetsnbextension~=3.6.0->ipywidgets>=7.6.5->pycaret) (1.5.0)\n",
            "Requirement already satisfied: tinycss2 in /usr/local/lib/python3.10/dist-packages (from nbconvert->notebook>=4.4.1->widgetsnbextension~=3.6.0->ipywidgets>=7.6.5->pycaret) (1.2.1)\n",
            "Requirement already satisfied: cffi>=1.0.1 in /usr/local/lib/python3.10/dist-packages (from argon2-cffi-bindings->argon2-cffi->notebook>=4.4.1->widgetsnbextension~=3.6.0->ipywidgets>=7.6.5->pycaret) (1.15.1)\n",
            "Requirement already satisfied: soupsieve>1.2 in /usr/local/lib/python3.10/dist-packages (from beautifulsoup4->nbconvert->notebook>=4.4.1->widgetsnbextension~=3.6.0->ipywidgets>=7.6.5->pycaret) (2.4.1)\n",
            "Requirement already satisfied: webencodings in /usr/local/lib/python3.10/dist-packages (from bleach->nbconvert->notebook>=4.4.1->widgetsnbextension~=3.6.0->ipywidgets>=7.6.5->pycaret) (0.5.1)\n",
            "Requirement already satisfied: pycparser in /usr/local/lib/python3.10/dist-packages (from cffi>=1.0.1->argon2-cffi-bindings->argon2-cffi->notebook>=4.4.1->widgetsnbextension~=3.6.0->ipywidgets>=7.6.5->pycaret) (2.21)\n",
            "Building wheels for collected packages: plotly-resampler, pyod\n",
            "  Building wheel for plotly-resampler (pyproject.toml) ... \u001b[?25l\u001b[?25hdone\n",
            "  Created wheel for plotly-resampler: filename=plotly_resampler-0.8.3.2-cp310-cp310-manylinux_2_31_x86_64.whl size=75235 sha256=7e6506fd9895da4188d0c5e32081c3adc1e1ba5961c5a626527d2a472957a17a\n",
            "  Stored in directory: /root/.cache/pip/wheels/a9/19/e2/ec856d98cf9b617511fff0abae1dfed5bf1f6093ce65126b45\n",
            "  Building wheel for pyod (setup.py) ... \u001b[?25l\u001b[?25hdone\n",
            "  Created wheel for pyod: filename=pyod-1.0.9-py3-none-any.whl size=184097 sha256=3da3b34db9b22e8c19ff5e276ec574ba07c11c9953e659617d72ddf7d0790945\n",
            "  Stored in directory: /root/.cache/pip/wheels/83/55/6b/552e083cf5509c0afe808b76cf434f1be284d01a112623bd37\n",
            "Successfully built plotly-resampler pyod\n",
            "Installing collected packages: trace-updater, kaleido, dash-table, dash-html-components, dash-core-components, xxhash, wurlitzer, Werkzeug, schemdraw, retrying, orjson, jedi, importlib-metadata, deprecation, deprecated, ansi2html, Flask, sktime, scikit-plot, pyod, dash, pmdarima, jupyter-dash, category-encoders, tbats, plotly-resampler, pycaret\n",
            "  Attempting uninstall: Werkzeug\n",
            "    Found existing installation: Werkzeug 2.3.0\n",
            "    Uninstalling Werkzeug-2.3.0:\n",
            "      Successfully uninstalled Werkzeug-2.3.0\n",
            "  Attempting uninstall: Flask\n",
            "    Found existing installation: Flask 2.2.4\n",
            "    Uninstalling Flask-2.2.4:\n",
            "      Successfully uninstalled Flask-2.2.4\n",
            "Successfully installed Flask-2.2.3 Werkzeug-2.2.3 ansi2html-1.8.0 category-encoders-2.6.1 dash-2.10.1 dash-core-components-2.0.0 dash-html-components-2.0.0 dash-table-5.0.0 deprecated-1.2.14 deprecation-2.1.0 importlib-metadata-6.6.0 jedi-0.18.2 jupyter-dash-0.4.2 kaleido-0.2.1 orjson-3.8.14 plotly-resampler-0.8.3.2 pmdarima-2.0.3 pycaret-3.0.2 pyod-1.0.9 retrying-1.3.4 schemdraw-0.15 scikit-plot-0.3.7 sktime-0.17.0 tbats-1.1.3 trace-updater-0.0.9.1 wurlitzer-3.0.3 xxhash-3.2.0\n"
          ]
        }
      ],
      "source": [
        "# Step 4: Installing the Pycaret library (helps to perform Auto-Machine Learn)\n",
        "!pip install pycaret"
      ],
      "id": "5U1Mqbfvsp2w"
    },
    {
      "cell_type": "code",
      "execution_count": null,
      "metadata": {
        "id": "68ab1c7b"
      },
      "outputs": [],
      "source": [
        "# Step 5: Importing the classification library from PyCaret\n",
        "from pycaret import classification\n"
      ],
      "id": "68ab1c7b"
    },
    {
      "cell_type": "code",
      "execution_count": 39,
      "metadata": {
        "colab": {
          "base_uri": "https://localhost:8080/",
          "height": 676
        },
        "id": "00fff9af",
        "outputId": "b4c7a8dd-d85d-46e3-b871-b24939c278ad"
      },
      "outputs": [
        {
          "output_type": "display_data",
          "data": {
            "text/plain": [
              "<pandas.io.formats.style.Styler at 0x7ff1c13f1270>"
            ],
            "text/html": [
              "<style type=\"text/css\">\n",
              "#T_68baa_row9_col1 {\n",
              "  background-color: lightgreen;\n",
              "}\n",
              "</style>\n",
              "<table id=\"T_68baa\" class=\"dataframe\">\n",
              "  <thead>\n",
              "    <tr>\n",
              "      <th class=\"blank level0\" >&nbsp;</th>\n",
              "      <th id=\"T_68baa_level0_col0\" class=\"col_heading level0 col0\" >Description</th>\n",
              "      <th id=\"T_68baa_level0_col1\" class=\"col_heading level0 col1\" >Value</th>\n",
              "    </tr>\n",
              "  </thead>\n",
              "  <tbody>\n",
              "    <tr>\n",
              "      <th id=\"T_68baa_level0_row0\" class=\"row_heading level0 row0\" >0</th>\n",
              "      <td id=\"T_68baa_row0_col0\" class=\"data row0 col0\" >Session id</td>\n",
              "      <td id=\"T_68baa_row0_col1\" class=\"data row0 col1\" >7554</td>\n",
              "    </tr>\n",
              "    <tr>\n",
              "      <th id=\"T_68baa_level0_row1\" class=\"row_heading level0 row1\" >1</th>\n",
              "      <td id=\"T_68baa_row1_col0\" class=\"data row1 col0\" >Target</td>\n",
              "      <td id=\"T_68baa_row1_col1\" class=\"data row1 col1\" >Classes</td>\n",
              "    </tr>\n",
              "    <tr>\n",
              "      <th id=\"T_68baa_level0_row2\" class=\"row_heading level0 row2\" >2</th>\n",
              "      <td id=\"T_68baa_row2_col0\" class=\"data row2 col0\" >Target type</td>\n",
              "      <td id=\"T_68baa_row2_col1\" class=\"data row2 col1\" >Multiclass</td>\n",
              "    </tr>\n",
              "    <tr>\n",
              "      <th id=\"T_68baa_level0_row3\" class=\"row_heading level0 row3\" >3</th>\n",
              "      <td id=\"T_68baa_row3_col0\" class=\"data row3 col0\" >Target mapping</td>\n",
              "      <td id=\"T_68baa_row3_col1\" class=\"data row3 col1\" >DM2: 0, DYS: 1, HC: 2, HT: 3, Healthy: 4, PREDM: 5</td>\n",
              "    </tr>\n",
              "    <tr>\n",
              "      <th id=\"T_68baa_level0_row4\" class=\"row_heading level0 row4\" >4</th>\n",
              "      <td id=\"T_68baa_row4_col0\" class=\"data row4 col0\" >Original data shape</td>\n",
              "      <td id=\"T_68baa_row4_col1\" class=\"data row4 col1\" >(600, 2542)</td>\n",
              "    </tr>\n",
              "    <tr>\n",
              "      <th id=\"T_68baa_level0_row5\" class=\"row_heading level0 row5\" >5</th>\n",
              "      <td id=\"T_68baa_row5_col0\" class=\"data row5 col0\" >Transformed data shape</td>\n",
              "      <td id=\"T_68baa_row5_col1\" class=\"data row5 col1\" >(600, 2542)</td>\n",
              "    </tr>\n",
              "    <tr>\n",
              "      <th id=\"T_68baa_level0_row6\" class=\"row_heading level0 row6\" >6</th>\n",
              "      <td id=\"T_68baa_row6_col0\" class=\"data row6 col0\" >Transformed train set shape</td>\n",
              "      <td id=\"T_68baa_row6_col1\" class=\"data row6 col1\" >(420, 2542)</td>\n",
              "    </tr>\n",
              "    <tr>\n",
              "      <th id=\"T_68baa_level0_row7\" class=\"row_heading level0 row7\" >7</th>\n",
              "      <td id=\"T_68baa_row7_col0\" class=\"data row7 col0\" >Transformed test set shape</td>\n",
              "      <td id=\"T_68baa_row7_col1\" class=\"data row7 col1\" >(180, 2542)</td>\n",
              "    </tr>\n",
              "    <tr>\n",
              "      <th id=\"T_68baa_level0_row8\" class=\"row_heading level0 row8\" >8</th>\n",
              "      <td id=\"T_68baa_row8_col0\" class=\"data row8 col0\" >Numeric features</td>\n",
              "      <td id=\"T_68baa_row8_col1\" class=\"data row8 col1\" >2541</td>\n",
              "    </tr>\n",
              "    <tr>\n",
              "      <th id=\"T_68baa_level0_row9\" class=\"row_heading level0 row9\" >9</th>\n",
              "      <td id=\"T_68baa_row9_col0\" class=\"data row9 col0\" >Preprocess</td>\n",
              "      <td id=\"T_68baa_row9_col1\" class=\"data row9 col1\" >True</td>\n",
              "    </tr>\n",
              "    <tr>\n",
              "      <th id=\"T_68baa_level0_row10\" class=\"row_heading level0 row10\" >10</th>\n",
              "      <td id=\"T_68baa_row10_col0\" class=\"data row10 col0\" >Imputation type</td>\n",
              "      <td id=\"T_68baa_row10_col1\" class=\"data row10 col1\" >simple</td>\n",
              "    </tr>\n",
              "    <tr>\n",
              "      <th id=\"T_68baa_level0_row11\" class=\"row_heading level0 row11\" >11</th>\n",
              "      <td id=\"T_68baa_row11_col0\" class=\"data row11 col0\" >Numeric imputation</td>\n",
              "      <td id=\"T_68baa_row11_col1\" class=\"data row11 col1\" >mean</td>\n",
              "    </tr>\n",
              "    <tr>\n",
              "      <th id=\"T_68baa_level0_row12\" class=\"row_heading level0 row12\" >12</th>\n",
              "      <td id=\"T_68baa_row12_col0\" class=\"data row12 col0\" >Categorical imputation</td>\n",
              "      <td id=\"T_68baa_row12_col1\" class=\"data row12 col1\" >mode</td>\n",
              "    </tr>\n",
              "    <tr>\n",
              "      <th id=\"T_68baa_level0_row13\" class=\"row_heading level0 row13\" >13</th>\n",
              "      <td id=\"T_68baa_row13_col0\" class=\"data row13 col0\" >Fold Generator</td>\n",
              "      <td id=\"T_68baa_row13_col1\" class=\"data row13 col1\" >StratifiedKFold</td>\n",
              "    </tr>\n",
              "    <tr>\n",
              "      <th id=\"T_68baa_level0_row14\" class=\"row_heading level0 row14\" >14</th>\n",
              "      <td id=\"T_68baa_row14_col0\" class=\"data row14 col0\" >Fold Number</td>\n",
              "      <td id=\"T_68baa_row14_col1\" class=\"data row14 col1\" >10</td>\n",
              "    </tr>\n",
              "    <tr>\n",
              "      <th id=\"T_68baa_level0_row15\" class=\"row_heading level0 row15\" >15</th>\n",
              "      <td id=\"T_68baa_row15_col0\" class=\"data row15 col0\" >CPU Jobs</td>\n",
              "      <td id=\"T_68baa_row15_col1\" class=\"data row15 col1\" >-1</td>\n",
              "    </tr>\n",
              "    <tr>\n",
              "      <th id=\"T_68baa_level0_row16\" class=\"row_heading level0 row16\" >16</th>\n",
              "      <td id=\"T_68baa_row16_col0\" class=\"data row16 col0\" >Use GPU</td>\n",
              "      <td id=\"T_68baa_row16_col1\" class=\"data row16 col1\" >False</td>\n",
              "    </tr>\n",
              "    <tr>\n",
              "      <th id=\"T_68baa_level0_row17\" class=\"row_heading level0 row17\" >17</th>\n",
              "      <td id=\"T_68baa_row17_col0\" class=\"data row17 col0\" >Log Experiment</td>\n",
              "      <td id=\"T_68baa_row17_col1\" class=\"data row17 col1\" >False</td>\n",
              "    </tr>\n",
              "    <tr>\n",
              "      <th id=\"T_68baa_level0_row18\" class=\"row_heading level0 row18\" >18</th>\n",
              "      <td id=\"T_68baa_row18_col0\" class=\"data row18 col0\" >Experiment Name</td>\n",
              "      <td id=\"T_68baa_row18_col1\" class=\"data row18 col1\" >clf-default-name</td>\n",
              "    </tr>\n",
              "    <tr>\n",
              "      <th id=\"T_68baa_level0_row19\" class=\"row_heading level0 row19\" >19</th>\n",
              "      <td id=\"T_68baa_row19_col0\" class=\"data row19 col0\" >USI</td>\n",
              "      <td id=\"T_68baa_row19_col1\" class=\"data row19 col1\" >4e45</td>\n",
              "    </tr>\n",
              "  </tbody>\n",
              "</table>\n"
            ]
          },
          "metadata": {}
        }
      ],
      "source": [
        "# Step 6: Pre-processing the data\n",
        "classification_setup = classification.setup(data = df1, target = \"Classes\")"
      ],
      "id": "00fff9af"
    },
    {
      "cell_type": "code",
      "execution_count": 40,
      "metadata": {
        "colab": {
          "base_uri": "https://localhost:8080/",
          "height": 519,
          "referenced_widgets": [
            "592d902072b54024bf7fdafbd5bb2629",
            "fbf748a1cff8438980914f734796ae41",
            "b394d92c9591407d935bf2e824d4499d",
            "58a3475a71f04a84a67c4066f330d45b",
            "fa8fac2973bf412aab3cd71e72e41436",
            "8a19b1700120445eac2d137eefb6cdf5",
            "db815febb6934bfd978385bbde0018de",
            "cb6a02010b504098984a9d42bb4cc5e7",
            "e5601574b28e466193536b1216761f34",
            "c88091a777894234aa138e4961b997b9",
            "90eda00e96c74c468950aac395f6f552"
          ]
        },
        "id": "4e906af1",
        "outputId": "7e782476-4c65-42a4-f69b-bc48effdbfa4"
      },
      "outputs": [
        {
          "output_type": "display_data",
          "data": {
            "text/plain": [
              "<IPython.core.display.HTML object>"
            ],
            "text/html": []
          },
          "metadata": {}
        },
        {
          "output_type": "display_data",
          "data": {
            "text/plain": [
              "<pandas.io.formats.style.Styler at 0x7ff1c13fb850>"
            ],
            "text/html": [
              "<style type=\"text/css\">\n",
              "#T_27c55 th {\n",
              "  text-align: left;\n",
              "}\n",
              "#T_27c55_row0_col0, #T_27c55_row1_col0, #T_27c55_row1_col1, #T_27c55_row1_col2, #T_27c55_row1_col3, #T_27c55_row1_col4, #T_27c55_row1_col5, #T_27c55_row1_col6, #T_27c55_row1_col7, #T_27c55_row2_col0, #T_27c55_row2_col1, #T_27c55_row2_col2, #T_27c55_row2_col3, #T_27c55_row2_col4, #T_27c55_row2_col5, #T_27c55_row2_col6, #T_27c55_row2_col7, #T_27c55_row3_col0, #T_27c55_row3_col1, #T_27c55_row3_col2, #T_27c55_row3_col3, #T_27c55_row3_col4, #T_27c55_row3_col5, #T_27c55_row3_col6, #T_27c55_row3_col7, #T_27c55_row4_col0, #T_27c55_row4_col1, #T_27c55_row4_col2, #T_27c55_row4_col3, #T_27c55_row4_col4, #T_27c55_row4_col5, #T_27c55_row4_col6, #T_27c55_row4_col7, #T_27c55_row5_col0, #T_27c55_row5_col1, #T_27c55_row5_col2, #T_27c55_row5_col3, #T_27c55_row5_col4, #T_27c55_row5_col5, #T_27c55_row5_col6, #T_27c55_row5_col7, #T_27c55_row6_col0, #T_27c55_row6_col1, #T_27c55_row6_col2, #T_27c55_row6_col3, #T_27c55_row6_col4, #T_27c55_row6_col5, #T_27c55_row6_col6, #T_27c55_row6_col7, #T_27c55_row7_col0, #T_27c55_row7_col1, #T_27c55_row7_col2, #T_27c55_row7_col3, #T_27c55_row7_col4, #T_27c55_row7_col5, #T_27c55_row7_col6, #T_27c55_row7_col7, #T_27c55_row8_col0, #T_27c55_row8_col1, #T_27c55_row8_col2, #T_27c55_row8_col3, #T_27c55_row8_col4, #T_27c55_row8_col5, #T_27c55_row8_col6, #T_27c55_row8_col7, #T_27c55_row9_col0, #T_27c55_row9_col1, #T_27c55_row9_col2, #T_27c55_row9_col3, #T_27c55_row9_col4, #T_27c55_row9_col5, #T_27c55_row9_col6, #T_27c55_row9_col7, #T_27c55_row10_col0, #T_27c55_row10_col1, #T_27c55_row10_col2, #T_27c55_row10_col3, #T_27c55_row10_col4, #T_27c55_row10_col5, #T_27c55_row10_col6, #T_27c55_row10_col7, #T_27c55_row11_col0, #T_27c55_row11_col1, #T_27c55_row11_col2, #T_27c55_row11_col3, #T_27c55_row11_col4, #T_27c55_row11_col5, #T_27c55_row11_col6, #T_27c55_row11_col7, #T_27c55_row12_col0, #T_27c55_row12_col1, #T_27c55_row12_col2, #T_27c55_row12_col3, #T_27c55_row12_col4, #T_27c55_row12_col5, #T_27c55_row12_col6, #T_27c55_row12_col7, #T_27c55_row13_col0, #T_27c55_row13_col1, #T_27c55_row13_col2, #T_27c55_row13_col3, #T_27c55_row13_col4, #T_27c55_row13_col5, #T_27c55_row13_col6, #T_27c55_row13_col7, #T_27c55_row14_col0, #T_27c55_row14_col1, #T_27c55_row14_col2, #T_27c55_row14_col3, #T_27c55_row14_col4, #T_27c55_row14_col5, #T_27c55_row14_col6, #T_27c55_row14_col7 {\n",
              "  text-align: left;\n",
              "}\n",
              "#T_27c55_row0_col1, #T_27c55_row0_col2, #T_27c55_row0_col3, #T_27c55_row0_col4, #T_27c55_row0_col5, #T_27c55_row0_col6, #T_27c55_row0_col7 {\n",
              "  text-align: left;\n",
              "  background-color: yellow;\n",
              "}\n",
              "#T_27c55_row0_col8, #T_27c55_row1_col8, #T_27c55_row2_col8, #T_27c55_row3_col8, #T_27c55_row4_col8, #T_27c55_row5_col8, #T_27c55_row6_col8, #T_27c55_row7_col8, #T_27c55_row9_col8, #T_27c55_row10_col8, #T_27c55_row11_col8, #T_27c55_row12_col8, #T_27c55_row13_col8, #T_27c55_row14_col8 {\n",
              "  text-align: left;\n",
              "  background-color: lightgrey;\n",
              "}\n",
              "#T_27c55_row8_col8 {\n",
              "  text-align: left;\n",
              "  background-color: yellow;\n",
              "  background-color: lightgrey;\n",
              "}\n",
              "</style>\n",
              "<table id=\"T_27c55\" class=\"dataframe\">\n",
              "  <thead>\n",
              "    <tr>\n",
              "      <th class=\"blank level0\" >&nbsp;</th>\n",
              "      <th id=\"T_27c55_level0_col0\" class=\"col_heading level0 col0\" >Model</th>\n",
              "      <th id=\"T_27c55_level0_col1\" class=\"col_heading level0 col1\" >Accuracy</th>\n",
              "      <th id=\"T_27c55_level0_col2\" class=\"col_heading level0 col2\" >AUC</th>\n",
              "      <th id=\"T_27c55_level0_col3\" class=\"col_heading level0 col3\" >Recall</th>\n",
              "      <th id=\"T_27c55_level0_col4\" class=\"col_heading level0 col4\" >Prec.</th>\n",
              "      <th id=\"T_27c55_level0_col5\" class=\"col_heading level0 col5\" >F1</th>\n",
              "      <th id=\"T_27c55_level0_col6\" class=\"col_heading level0 col6\" >Kappa</th>\n",
              "      <th id=\"T_27c55_level0_col7\" class=\"col_heading level0 col7\" >MCC</th>\n",
              "      <th id=\"T_27c55_level0_col8\" class=\"col_heading level0 col8\" >TT (Sec)</th>\n",
              "    </tr>\n",
              "  </thead>\n",
              "  <tbody>\n",
              "    <tr>\n",
              "      <th id=\"T_27c55_level0_row0\" class=\"row_heading level0 row0\" >lda</th>\n",
              "      <td id=\"T_27c55_row0_col0\" class=\"data row0 col0\" >Linear Discriminant Analysis</td>\n",
              "      <td id=\"T_27c55_row0_col1\" class=\"data row0 col1\" >0.9905</td>\n",
              "      <td id=\"T_27c55_row0_col2\" class=\"data row0 col2\" >0.9993</td>\n",
              "      <td id=\"T_27c55_row0_col3\" class=\"data row0 col3\" >0.9905</td>\n",
              "      <td id=\"T_27c55_row0_col4\" class=\"data row0 col4\" >0.9917</td>\n",
              "      <td id=\"T_27c55_row0_col5\" class=\"data row0 col5\" >0.9904</td>\n",
              "      <td id=\"T_27c55_row0_col6\" class=\"data row0 col6\" >0.9886</td>\n",
              "      <td id=\"T_27c55_row0_col7\" class=\"data row0 col7\" >0.9888</td>\n",
              "      <td id=\"T_27c55_row0_col8\" class=\"data row0 col8\" >1.4800</td>\n",
              "    </tr>\n",
              "    <tr>\n",
              "      <th id=\"T_27c55_level0_row1\" class=\"row_heading level0 row1\" >et</th>\n",
              "      <td id=\"T_27c55_row1_col0\" class=\"data row1 col0\" >Extra Trees Classifier</td>\n",
              "      <td id=\"T_27c55_row1_col1\" class=\"data row1 col1\" >0.9881</td>\n",
              "      <td id=\"T_27c55_row1_col2\" class=\"data row1 col2\" >0.9965</td>\n",
              "      <td id=\"T_27c55_row1_col3\" class=\"data row1 col3\" >0.9881</td>\n",
              "      <td id=\"T_27c55_row1_col4\" class=\"data row1 col4\" >0.9896</td>\n",
              "      <td id=\"T_27c55_row1_col5\" class=\"data row1 col5\" >0.9880</td>\n",
              "      <td id=\"T_27c55_row1_col6\" class=\"data row1 col6\" >0.9857</td>\n",
              "      <td id=\"T_27c55_row1_col7\" class=\"data row1 col7\" >0.9860</td>\n",
              "      <td id=\"T_27c55_row1_col8\" class=\"data row1 col8\" >1.6140</td>\n",
              "    </tr>\n",
              "    <tr>\n",
              "      <th id=\"T_27c55_level0_row2\" class=\"row_heading level0 row2\" >rf</th>\n",
              "      <td id=\"T_27c55_row2_col0\" class=\"data row2 col0\" >Random Forest Classifier</td>\n",
              "      <td id=\"T_27c55_row2_col1\" class=\"data row2 col1\" >0.9833</td>\n",
              "      <td id=\"T_27c55_row2_col2\" class=\"data row2 col2\" >0.9982</td>\n",
              "      <td id=\"T_27c55_row2_col3\" class=\"data row2 col3\" >0.9833</td>\n",
              "      <td id=\"T_27c55_row2_col4\" class=\"data row2 col4\" >0.9848</td>\n",
              "      <td id=\"T_27c55_row2_col5\" class=\"data row2 col5\" >0.9833</td>\n",
              "      <td id=\"T_27c55_row2_col6\" class=\"data row2 col6\" >0.9800</td>\n",
              "      <td id=\"T_27c55_row2_col7\" class=\"data row2 col7\" >0.9803</td>\n",
              "      <td id=\"T_27c55_row2_col8\" class=\"data row2 col8\" >1.8220</td>\n",
              "    </tr>\n",
              "    <tr>\n",
              "      <th id=\"T_27c55_level0_row3\" class=\"row_heading level0 row3\" >gbc</th>\n",
              "      <td id=\"T_27c55_row3_col0\" class=\"data row3 col0\" >Gradient Boosting Classifier</td>\n",
              "      <td id=\"T_27c55_row3_col1\" class=\"data row3 col1\" >0.9833</td>\n",
              "      <td id=\"T_27c55_row3_col2\" class=\"data row3 col2\" >0.9986</td>\n",
              "      <td id=\"T_27c55_row3_col3\" class=\"data row3 col3\" >0.9833</td>\n",
              "      <td id=\"T_27c55_row3_col4\" class=\"data row3 col4\" >0.9842</td>\n",
              "      <td id=\"T_27c55_row3_col5\" class=\"data row3 col5\" >0.9833</td>\n",
              "      <td id=\"T_27c55_row3_col6\" class=\"data row3 col6\" >0.9800</td>\n",
              "      <td id=\"T_27c55_row3_col7\" class=\"data row3 col7\" >0.9802</td>\n",
              "      <td id=\"T_27c55_row3_col8\" class=\"data row3 col8\" >111.1180</td>\n",
              "    </tr>\n",
              "    <tr>\n",
              "      <th id=\"T_27c55_level0_row4\" class=\"row_heading level0 row4\" >dt</th>\n",
              "      <td id=\"T_27c55_row4_col0\" class=\"data row4 col0\" >Decision Tree Classifier</td>\n",
              "      <td id=\"T_27c55_row4_col1\" class=\"data row4 col1\" >0.9810</td>\n",
              "      <td id=\"T_27c55_row4_col2\" class=\"data row4 col2\" >0.9900</td>\n",
              "      <td id=\"T_27c55_row4_col3\" class=\"data row4 col3\" >0.9810</td>\n",
              "      <td id=\"T_27c55_row4_col4\" class=\"data row4 col4\" >0.9827</td>\n",
              "      <td id=\"T_27c55_row4_col5\" class=\"data row4 col5\" >0.9809</td>\n",
              "      <td id=\"T_27c55_row4_col6\" class=\"data row4 col6\" >0.9771</td>\n",
              "      <td id=\"T_27c55_row4_col7\" class=\"data row4 col7\" >0.9775</td>\n",
              "      <td id=\"T_27c55_row4_col8\" class=\"data row4 col8\" >1.6280</td>\n",
              "    </tr>\n",
              "    <tr>\n",
              "      <th id=\"T_27c55_level0_row5\" class=\"row_heading level0 row5\" >knn</th>\n",
              "      <td id=\"T_27c55_row5_col0\" class=\"data row5 col0\" >K Neighbors Classifier</td>\n",
              "      <td id=\"T_27c55_row5_col1\" class=\"data row5 col1\" >0.9714</td>\n",
              "      <td id=\"T_27c55_row5_col2\" class=\"data row5 col2\" >0.9938</td>\n",
              "      <td id=\"T_27c55_row5_col3\" class=\"data row5 col3\" >0.9714</td>\n",
              "      <td id=\"T_27c55_row5_col4\" class=\"data row5 col4\" >0.9744</td>\n",
              "      <td id=\"T_27c55_row5_col5\" class=\"data row5 col5\" >0.9713</td>\n",
              "      <td id=\"T_27c55_row5_col6\" class=\"data row5 col6\" >0.9657</td>\n",
              "      <td id=\"T_27c55_row5_col7\" class=\"data row5 col7\" >0.9664</td>\n",
              "      <td id=\"T_27c55_row5_col8\" class=\"data row5 col8\" >1.1760</td>\n",
              "    </tr>\n",
              "    <tr>\n",
              "      <th id=\"T_27c55_level0_row6\" class=\"row_heading level0 row6\" >lightgbm</th>\n",
              "      <td id=\"T_27c55_row6_col0\" class=\"data row6 col0\" >Light Gradient Boosting Machine</td>\n",
              "      <td id=\"T_27c55_row6_col1\" class=\"data row6 col1\" >0.9690</td>\n",
              "      <td id=\"T_27c55_row6_col2\" class=\"data row6 col2\" >0.9984</td>\n",
              "      <td id=\"T_27c55_row6_col3\" class=\"data row6 col3\" >0.9690</td>\n",
              "      <td id=\"T_27c55_row6_col4\" class=\"data row6 col4\" >0.9756</td>\n",
              "      <td id=\"T_27c55_row6_col5\" class=\"data row6 col5\" >0.9690</td>\n",
              "      <td id=\"T_27c55_row6_col6\" class=\"data row6 col6\" >0.9629</td>\n",
              "      <td id=\"T_27c55_row6_col7\" class=\"data row6 col7\" >0.9643</td>\n",
              "      <td id=\"T_27c55_row6_col8\" class=\"data row6 col8\" >22.4560</td>\n",
              "    </tr>\n",
              "    <tr>\n",
              "      <th id=\"T_27c55_level0_row7\" class=\"row_heading level0 row7\" >xgboost</th>\n",
              "      <td id=\"T_27c55_row7_col0\" class=\"data row7 col0\" >Extreme Gradient Boosting</td>\n",
              "      <td id=\"T_27c55_row7_col1\" class=\"data row7 col1\" >0.9667</td>\n",
              "      <td id=\"T_27c55_row7_col2\" class=\"data row7 col2\" >0.9981</td>\n",
              "      <td id=\"T_27c55_row7_col3\" class=\"data row7 col3\" >0.9667</td>\n",
              "      <td id=\"T_27c55_row7_col4\" class=\"data row7 col4\" >0.9706</td>\n",
              "      <td id=\"T_27c55_row7_col5\" class=\"data row7 col5\" >0.9664</td>\n",
              "      <td id=\"T_27c55_row7_col6\" class=\"data row7 col6\" >0.9600</td>\n",
              "      <td id=\"T_27c55_row7_col7\" class=\"data row7 col7\" >0.9609</td>\n",
              "      <td id=\"T_27c55_row7_col8\" class=\"data row7 col8\" >15.8460</td>\n",
              "    </tr>\n",
              "    <tr>\n",
              "      <th id=\"T_27c55_level0_row8\" class=\"row_heading level0 row8\" >nb</th>\n",
              "      <td id=\"T_27c55_row8_col0\" class=\"data row8 col0\" >Naive Bayes</td>\n",
              "      <td id=\"T_27c55_row8_col1\" class=\"data row8 col1\" >0.9524</td>\n",
              "      <td id=\"T_27c55_row8_col2\" class=\"data row8 col2\" >0.9810</td>\n",
              "      <td id=\"T_27c55_row8_col3\" class=\"data row8 col3\" >0.9524</td>\n",
              "      <td id=\"T_27c55_row8_col4\" class=\"data row8 col4\" >0.9601</td>\n",
              "      <td id=\"T_27c55_row8_col5\" class=\"data row8 col5\" >0.9515</td>\n",
              "      <td id=\"T_27c55_row8_col6\" class=\"data row8 col6\" >0.9429</td>\n",
              "      <td id=\"T_27c55_row8_col7\" class=\"data row8 col7\" >0.9447</td>\n",
              "      <td id=\"T_27c55_row8_col8\" class=\"data row8 col8\" >0.8060</td>\n",
              "    </tr>\n",
              "    <tr>\n",
              "      <th id=\"T_27c55_level0_row9\" class=\"row_heading level0 row9\" >ridge</th>\n",
              "      <td id=\"T_27c55_row9_col0\" class=\"data row9 col0\" >Ridge Classifier</td>\n",
              "      <td id=\"T_27c55_row9_col1\" class=\"data row9 col1\" >0.9429</td>\n",
              "      <td id=\"T_27c55_row9_col2\" class=\"data row9 col2\" >0.0000</td>\n",
              "      <td id=\"T_27c55_row9_col3\" class=\"data row9 col3\" >0.9429</td>\n",
              "      <td id=\"T_27c55_row9_col4\" class=\"data row9 col4\" >0.9522</td>\n",
              "      <td id=\"T_27c55_row9_col5\" class=\"data row9 col5\" >0.9415</td>\n",
              "      <td id=\"T_27c55_row9_col6\" class=\"data row9 col6\" >0.9314</td>\n",
              "      <td id=\"T_27c55_row9_col7\" class=\"data row9 col7\" >0.9337</td>\n",
              "      <td id=\"T_27c55_row9_col8\" class=\"data row9 col8\" >1.0470</td>\n",
              "    </tr>\n",
              "    <tr>\n",
              "      <th id=\"T_27c55_level0_row10\" class=\"row_heading level0 row10\" >lr</th>\n",
              "      <td id=\"T_27c55_row10_col0\" class=\"data row10 col0\" >Logistic Regression</td>\n",
              "      <td id=\"T_27c55_row10_col1\" class=\"data row10 col1\" >0.9048</td>\n",
              "      <td id=\"T_27c55_row10_col2\" class=\"data row10 col2\" >0.9934</td>\n",
              "      <td id=\"T_27c55_row10_col3\" class=\"data row10 col3\" >0.9048</td>\n",
              "      <td id=\"T_27c55_row10_col4\" class=\"data row10 col4\" >0.9176</td>\n",
              "      <td id=\"T_27c55_row10_col5\" class=\"data row10 col5\" >0.9030</td>\n",
              "      <td id=\"T_27c55_row10_col6\" class=\"data row10 col6\" >0.8857</td>\n",
              "      <td id=\"T_27c55_row10_col7\" class=\"data row10 col7\" >0.8887</td>\n",
              "      <td id=\"T_27c55_row10_col8\" class=\"data row10 col8\" >8.3560</td>\n",
              "    </tr>\n",
              "    <tr>\n",
              "      <th id=\"T_27c55_level0_row11\" class=\"row_heading level0 row11\" >qda</th>\n",
              "      <td id=\"T_27c55_row11_col0\" class=\"data row11 col0\" >Quadratic Discriminant Analysis</td>\n",
              "      <td id=\"T_27c55_row11_col1\" class=\"data row11 col1\" >0.5762</td>\n",
              "      <td id=\"T_27c55_row11_col2\" class=\"data row11 col2\" >0.7640</td>\n",
              "      <td id=\"T_27c55_row11_col3\" class=\"data row11 col3\" >0.5762</td>\n",
              "      <td id=\"T_27c55_row11_col4\" class=\"data row11 col4\" >0.5309</td>\n",
              "      <td id=\"T_27c55_row11_col5\" class=\"data row11 col5\" >0.5156</td>\n",
              "      <td id=\"T_27c55_row11_col6\" class=\"data row11 col6\" >0.4914</td>\n",
              "      <td id=\"T_27c55_row11_col7\" class=\"data row11 col7\" >0.5129</td>\n",
              "      <td id=\"T_27c55_row11_col8\" class=\"data row11 col8\" >1.2520</td>\n",
              "    </tr>\n",
              "    <tr>\n",
              "      <th id=\"T_27c55_level0_row12\" class=\"row_heading level0 row12\" >ada</th>\n",
              "      <td id=\"T_27c55_row12_col0\" class=\"data row12 col0\" >Ada Boost Classifier</td>\n",
              "      <td id=\"T_27c55_row12_col1\" class=\"data row12 col1\" >0.5071</td>\n",
              "      <td id=\"T_27c55_row12_col2\" class=\"data row12 col2\" >0.8656</td>\n",
              "      <td id=\"T_27c55_row12_col3\" class=\"data row12 col3\" >0.5071</td>\n",
              "      <td id=\"T_27c55_row12_col4\" class=\"data row12 col4\" >0.3282</td>\n",
              "      <td id=\"T_27c55_row12_col5\" class=\"data row12 col5\" >0.3779</td>\n",
              "      <td id=\"T_27c55_row12_col6\" class=\"data row12 col6\" >0.4086</td>\n",
              "      <td id=\"T_27c55_row12_col7\" class=\"data row12 col7\" >0.4770</td>\n",
              "      <td id=\"T_27c55_row12_col8\" class=\"data row12 col8\" >4.7490</td>\n",
              "    </tr>\n",
              "    <tr>\n",
              "      <th id=\"T_27c55_level0_row13\" class=\"row_heading level0 row13\" >svm</th>\n",
              "      <td id=\"T_27c55_row13_col0\" class=\"data row13 col0\" >SVM - Linear Kernel</td>\n",
              "      <td id=\"T_27c55_row13_col1\" class=\"data row13 col1\" >0.2167</td>\n",
              "      <td id=\"T_27c55_row13_col2\" class=\"data row13 col2\" >0.0000</td>\n",
              "      <td id=\"T_27c55_row13_col3\" class=\"data row13 col3\" >0.2167</td>\n",
              "      <td id=\"T_27c55_row13_col4\" class=\"data row13 col4\" >0.0560</td>\n",
              "      <td id=\"T_27c55_row13_col5\" class=\"data row13 col5\" >0.0859</td>\n",
              "      <td id=\"T_27c55_row13_col6\" class=\"data row13 col6\" >0.0600</td>\n",
              "      <td id=\"T_27c55_row13_col7\" class=\"data row13 col7\" >0.0811</td>\n",
              "      <td id=\"T_27c55_row13_col8\" class=\"data row13 col8\" >1.3900</td>\n",
              "    </tr>\n",
              "    <tr>\n",
              "      <th id=\"T_27c55_level0_row14\" class=\"row_heading level0 row14\" >dummy</th>\n",
              "      <td id=\"T_27c55_row14_col0\" class=\"data row14 col0\" >Dummy Classifier</td>\n",
              "      <td id=\"T_27c55_row14_col1\" class=\"data row14 col1\" >0.1667</td>\n",
              "      <td id=\"T_27c55_row14_col2\" class=\"data row14 col2\" >0.5000</td>\n",
              "      <td id=\"T_27c55_row14_col3\" class=\"data row14 col3\" >0.1667</td>\n",
              "      <td id=\"T_27c55_row14_col4\" class=\"data row14 col4\" >0.0278</td>\n",
              "      <td id=\"T_27c55_row14_col5\" class=\"data row14 col5\" >0.0476</td>\n",
              "      <td id=\"T_27c55_row14_col6\" class=\"data row14 col6\" >0.0000</td>\n",
              "      <td id=\"T_27c55_row14_col7\" class=\"data row14 col7\" >0.0000</td>\n",
              "      <td id=\"T_27c55_row14_col8\" class=\"data row14 col8\" >1.0020</td>\n",
              "    </tr>\n",
              "  </tbody>\n",
              "</table>\n"
            ]
          },
          "metadata": {}
        },
        {
          "output_type": "display_data",
          "data": {
            "text/plain": [
              "Processing:   0%|          | 0/65 [00:00<?, ?it/s]"
            ],
            "application/vnd.jupyter.widget-view+json": {
              "version_major": 2,
              "version_minor": 0,
              "model_id": "592d902072b54024bf7fdafbd5bb2629"
            }
          },
          "metadata": {
            "application/vnd.jupyter.widget-view+json": {
              "colab": {
                "custom_widget_manager": {
                  "url": "https://ssl.gstatic.com/colaboratory-static/widgets/colab-cdn-widget-manager/b3e629b1971e1542/manager.min.js"
                }
              }
            }
          }
        },
        {
          "output_type": "display_data",
          "data": {
            "text/plain": [
              "<IPython.core.display.HTML object>"
            ],
            "text/html": []
          },
          "metadata": {}
        }
      ],
      "source": [
        "# Step 7: Building and comparing different models\n",
        "best = classification.compare_models()"
      ],
      "id": "4e906af1"
    },
    {
      "cell_type": "code",
      "execution_count": 41,
      "metadata": {
        "colab": {
          "base_uri": "https://localhost:8080/",
          "height": 457,
          "referenced_widgets": [
            "d8a0eaaae7da4595b0773266be6bc1a1",
            "1eb21bc3fe494508a89c9de38bc78db9",
            "539c17b706bd455c89d359b8ad6b645c",
            "068f437565fa4b5aa86ad8abd7b982ed",
            "90a6cadbfa524b41bc432768e9b86d8c",
            "81170419708d4d2cb19be8bbdabff29f",
            "77dff3980a364050b4bc5a80a6187b70",
            "e4163d01206948e796bd0e46626ca3f0",
            "277f5a6a159b401ba8c550908ae9c2ca",
            "da9cca2e1f8440ac8d91f91000b73979",
            "76ba3f31ef4841a192a930a90ecbae21"
          ]
        },
        "id": "a3e39264",
        "outputId": "5a0114aa-c459-4c2d-8717-a28ceed56dbb"
      },
      "outputs": [
        {
          "output_type": "display_data",
          "data": {
            "text/plain": [
              "<IPython.core.display.HTML object>"
            ],
            "text/html": []
          },
          "metadata": {}
        },
        {
          "output_type": "display_data",
          "data": {
            "text/plain": [
              "<pandas.io.formats.style.Styler at 0x7ff1bea0e200>"
            ],
            "text/html": [
              "<style type=\"text/css\">\n",
              "#T_9438c_row10_col0, #T_9438c_row10_col1, #T_9438c_row10_col2, #T_9438c_row10_col3, #T_9438c_row10_col4, #T_9438c_row10_col5, #T_9438c_row10_col6 {\n",
              "  background: yellow;\n",
              "}\n",
              "</style>\n",
              "<table id=\"T_9438c\" class=\"dataframe\">\n",
              "  <thead>\n",
              "    <tr>\n",
              "      <th class=\"blank level0\" >&nbsp;</th>\n",
              "      <th id=\"T_9438c_level0_col0\" class=\"col_heading level0 col0\" >Accuracy</th>\n",
              "      <th id=\"T_9438c_level0_col1\" class=\"col_heading level0 col1\" >AUC</th>\n",
              "      <th id=\"T_9438c_level0_col2\" class=\"col_heading level0 col2\" >Recall</th>\n",
              "      <th id=\"T_9438c_level0_col3\" class=\"col_heading level0 col3\" >Prec.</th>\n",
              "      <th id=\"T_9438c_level0_col4\" class=\"col_heading level0 col4\" >F1</th>\n",
              "      <th id=\"T_9438c_level0_col5\" class=\"col_heading level0 col5\" >Kappa</th>\n",
              "      <th id=\"T_9438c_level0_col6\" class=\"col_heading level0 col6\" >MCC</th>\n",
              "    </tr>\n",
              "    <tr>\n",
              "      <th class=\"index_name level0\" >Fold</th>\n",
              "      <th class=\"blank col0\" >&nbsp;</th>\n",
              "      <th class=\"blank col1\" >&nbsp;</th>\n",
              "      <th class=\"blank col2\" >&nbsp;</th>\n",
              "      <th class=\"blank col3\" >&nbsp;</th>\n",
              "      <th class=\"blank col4\" >&nbsp;</th>\n",
              "      <th class=\"blank col5\" >&nbsp;</th>\n",
              "      <th class=\"blank col6\" >&nbsp;</th>\n",
              "    </tr>\n",
              "  </thead>\n",
              "  <tbody>\n",
              "    <tr>\n",
              "      <th id=\"T_9438c_level0_row0\" class=\"row_heading level0 row0\" >0</th>\n",
              "      <td id=\"T_9438c_row0_col0\" class=\"data row0 col0\" >1.0000</td>\n",
              "      <td id=\"T_9438c_row0_col1\" class=\"data row0 col1\" >1.0000</td>\n",
              "      <td id=\"T_9438c_row0_col2\" class=\"data row0 col2\" >1.0000</td>\n",
              "      <td id=\"T_9438c_row0_col3\" class=\"data row0 col3\" >1.0000</td>\n",
              "      <td id=\"T_9438c_row0_col4\" class=\"data row0 col4\" >1.0000</td>\n",
              "      <td id=\"T_9438c_row0_col5\" class=\"data row0 col5\" >1.0000</td>\n",
              "      <td id=\"T_9438c_row0_col6\" class=\"data row0 col6\" >1.0000</td>\n",
              "    </tr>\n",
              "    <tr>\n",
              "      <th id=\"T_9438c_level0_row1\" class=\"row_heading level0 row1\" >1</th>\n",
              "      <td id=\"T_9438c_row1_col0\" class=\"data row1 col0\" >1.0000</td>\n",
              "      <td id=\"T_9438c_row1_col1\" class=\"data row1 col1\" >1.0000</td>\n",
              "      <td id=\"T_9438c_row1_col2\" class=\"data row1 col2\" >1.0000</td>\n",
              "      <td id=\"T_9438c_row1_col3\" class=\"data row1 col3\" >1.0000</td>\n",
              "      <td id=\"T_9438c_row1_col4\" class=\"data row1 col4\" >1.0000</td>\n",
              "      <td id=\"T_9438c_row1_col5\" class=\"data row1 col5\" >1.0000</td>\n",
              "      <td id=\"T_9438c_row1_col6\" class=\"data row1 col6\" >1.0000</td>\n",
              "    </tr>\n",
              "    <tr>\n",
              "      <th id=\"T_9438c_level0_row2\" class=\"row_heading level0 row2\" >2</th>\n",
              "      <td id=\"T_9438c_row2_col0\" class=\"data row2 col0\" >0.9762</td>\n",
              "      <td id=\"T_9438c_row2_col1\" class=\"data row2 col1\" >0.9925</td>\n",
              "      <td id=\"T_9438c_row2_col2\" class=\"data row2 col2\" >0.9762</td>\n",
              "      <td id=\"T_9438c_row2_col3\" class=\"data row2 col3\" >0.9792</td>\n",
              "      <td id=\"T_9438c_row2_col4\" class=\"data row2 col4\" >0.9761</td>\n",
              "      <td id=\"T_9438c_row2_col5\" class=\"data row2 col5\" >0.9714</td>\n",
              "      <td id=\"T_9438c_row2_col6\" class=\"data row2 col6\" >0.9721</td>\n",
              "    </tr>\n",
              "    <tr>\n",
              "      <th id=\"T_9438c_level0_row3\" class=\"row_heading level0 row3\" >3</th>\n",
              "      <td id=\"T_9438c_row3_col0\" class=\"data row3 col0\" >1.0000</td>\n",
              "      <td id=\"T_9438c_row3_col1\" class=\"data row3 col1\" >1.0000</td>\n",
              "      <td id=\"T_9438c_row3_col2\" class=\"data row3 col2\" >1.0000</td>\n",
              "      <td id=\"T_9438c_row3_col3\" class=\"data row3 col3\" >1.0000</td>\n",
              "      <td id=\"T_9438c_row3_col4\" class=\"data row3 col4\" >1.0000</td>\n",
              "      <td id=\"T_9438c_row3_col5\" class=\"data row3 col5\" >1.0000</td>\n",
              "      <td id=\"T_9438c_row3_col6\" class=\"data row3 col6\" >1.0000</td>\n",
              "    </tr>\n",
              "    <tr>\n",
              "      <th id=\"T_9438c_level0_row4\" class=\"row_heading level0 row4\" >4</th>\n",
              "      <td id=\"T_9438c_row4_col0\" class=\"data row4 col0\" >1.0000</td>\n",
              "      <td id=\"T_9438c_row4_col1\" class=\"data row4 col1\" >1.0000</td>\n",
              "      <td id=\"T_9438c_row4_col2\" class=\"data row4 col2\" >1.0000</td>\n",
              "      <td id=\"T_9438c_row4_col3\" class=\"data row4 col3\" >1.0000</td>\n",
              "      <td id=\"T_9438c_row4_col4\" class=\"data row4 col4\" >1.0000</td>\n",
              "      <td id=\"T_9438c_row4_col5\" class=\"data row4 col5\" >1.0000</td>\n",
              "      <td id=\"T_9438c_row4_col6\" class=\"data row4 col6\" >1.0000</td>\n",
              "    </tr>\n",
              "    <tr>\n",
              "      <th id=\"T_9438c_level0_row5\" class=\"row_heading level0 row5\" >5</th>\n",
              "      <td id=\"T_9438c_row5_col0\" class=\"data row5 col0\" >1.0000</td>\n",
              "      <td id=\"T_9438c_row5_col1\" class=\"data row5 col1\" >1.0000</td>\n",
              "      <td id=\"T_9438c_row5_col2\" class=\"data row5 col2\" >1.0000</td>\n",
              "      <td id=\"T_9438c_row5_col3\" class=\"data row5 col3\" >1.0000</td>\n",
              "      <td id=\"T_9438c_row5_col4\" class=\"data row5 col4\" >1.0000</td>\n",
              "      <td id=\"T_9438c_row5_col5\" class=\"data row5 col5\" >1.0000</td>\n",
              "      <td id=\"T_9438c_row5_col6\" class=\"data row5 col6\" >1.0000</td>\n",
              "    </tr>\n",
              "    <tr>\n",
              "      <th id=\"T_9438c_level0_row6\" class=\"row_heading level0 row6\" >6</th>\n",
              "      <td id=\"T_9438c_row6_col0\" class=\"data row6 col0\" >0.9762</td>\n",
              "      <td id=\"T_9438c_row6_col1\" class=\"data row6 col1\" >1.0000</td>\n",
              "      <td id=\"T_9438c_row6_col2\" class=\"data row6 col2\" >0.9762</td>\n",
              "      <td id=\"T_9438c_row6_col3\" class=\"data row6 col3\" >0.9792</td>\n",
              "      <td id=\"T_9438c_row6_col4\" class=\"data row6 col4\" >0.9761</td>\n",
              "      <td id=\"T_9438c_row6_col5\" class=\"data row6 col5\" >0.9714</td>\n",
              "      <td id=\"T_9438c_row6_col6\" class=\"data row6 col6\" >0.9721</td>\n",
              "    </tr>\n",
              "    <tr>\n",
              "      <th id=\"T_9438c_level0_row7\" class=\"row_heading level0 row7\" >7</th>\n",
              "      <td id=\"T_9438c_row7_col0\" class=\"data row7 col0\" >0.9762</td>\n",
              "      <td id=\"T_9438c_row7_col1\" class=\"data row7 col1\" >1.0000</td>\n",
              "      <td id=\"T_9438c_row7_col2\" class=\"data row7 col2\" >0.9762</td>\n",
              "      <td id=\"T_9438c_row7_col3\" class=\"data row7 col3\" >0.9792</td>\n",
              "      <td id=\"T_9438c_row7_col4\" class=\"data row7 col4\" >0.9761</td>\n",
              "      <td id=\"T_9438c_row7_col5\" class=\"data row7 col5\" >0.9714</td>\n",
              "      <td id=\"T_9438c_row7_col6\" class=\"data row7 col6\" >0.9721</td>\n",
              "    </tr>\n",
              "    <tr>\n",
              "      <th id=\"T_9438c_level0_row8\" class=\"row_heading level0 row8\" >8</th>\n",
              "      <td id=\"T_9438c_row8_col0\" class=\"data row8 col0\" >1.0000</td>\n",
              "      <td id=\"T_9438c_row8_col1\" class=\"data row8 col1\" >1.0000</td>\n",
              "      <td id=\"T_9438c_row8_col2\" class=\"data row8 col2\" >1.0000</td>\n",
              "      <td id=\"T_9438c_row8_col3\" class=\"data row8 col3\" >1.0000</td>\n",
              "      <td id=\"T_9438c_row8_col4\" class=\"data row8 col4\" >1.0000</td>\n",
              "      <td id=\"T_9438c_row8_col5\" class=\"data row8 col5\" >1.0000</td>\n",
              "      <td id=\"T_9438c_row8_col6\" class=\"data row8 col6\" >1.0000</td>\n",
              "    </tr>\n",
              "    <tr>\n",
              "      <th id=\"T_9438c_level0_row9\" class=\"row_heading level0 row9\" >9</th>\n",
              "      <td id=\"T_9438c_row9_col0\" class=\"data row9 col0\" >0.9762</td>\n",
              "      <td id=\"T_9438c_row9_col1\" class=\"data row9 col1\" >1.0000</td>\n",
              "      <td id=\"T_9438c_row9_col2\" class=\"data row9 col2\" >0.9762</td>\n",
              "      <td id=\"T_9438c_row9_col3\" class=\"data row9 col3\" >0.9792</td>\n",
              "      <td id=\"T_9438c_row9_col4\" class=\"data row9 col4\" >0.9761</td>\n",
              "      <td id=\"T_9438c_row9_col5\" class=\"data row9 col5\" >0.9714</td>\n",
              "      <td id=\"T_9438c_row9_col6\" class=\"data row9 col6\" >0.9721</td>\n",
              "    </tr>\n",
              "    <tr>\n",
              "      <th id=\"T_9438c_level0_row10\" class=\"row_heading level0 row10\" >Mean</th>\n",
              "      <td id=\"T_9438c_row10_col0\" class=\"data row10 col0\" >0.9905</td>\n",
              "      <td id=\"T_9438c_row10_col1\" class=\"data row10 col1\" >0.9993</td>\n",
              "      <td id=\"T_9438c_row10_col2\" class=\"data row10 col2\" >0.9905</td>\n",
              "      <td id=\"T_9438c_row10_col3\" class=\"data row10 col3\" >0.9917</td>\n",
              "      <td id=\"T_9438c_row10_col4\" class=\"data row10 col4\" >0.9904</td>\n",
              "      <td id=\"T_9438c_row10_col5\" class=\"data row10 col5\" >0.9886</td>\n",
              "      <td id=\"T_9438c_row10_col6\" class=\"data row10 col6\" >0.9888</td>\n",
              "    </tr>\n",
              "    <tr>\n",
              "      <th id=\"T_9438c_level0_row11\" class=\"row_heading level0 row11\" >Std</th>\n",
              "      <td id=\"T_9438c_row11_col0\" class=\"data row11 col0\" >0.0117</td>\n",
              "      <td id=\"T_9438c_row11_col1\" class=\"data row11 col1\" >0.0022</td>\n",
              "      <td id=\"T_9438c_row11_col2\" class=\"data row11 col2\" >0.0117</td>\n",
              "      <td id=\"T_9438c_row11_col3\" class=\"data row11 col3\" >0.0102</td>\n",
              "      <td id=\"T_9438c_row11_col4\" class=\"data row11 col4\" >0.0117</td>\n",
              "      <td id=\"T_9438c_row11_col5\" class=\"data row11 col5\" >0.0140</td>\n",
              "      <td id=\"T_9438c_row11_col6\" class=\"data row11 col6\" >0.0137</td>\n",
              "    </tr>\n",
              "  </tbody>\n",
              "</table>\n"
            ]
          },
          "metadata": {}
        },
        {
          "output_type": "display_data",
          "data": {
            "text/plain": [
              "Processing:   0%|          | 0/4 [00:00<?, ?it/s]"
            ],
            "application/vnd.jupyter.widget-view+json": {
              "version_major": 2,
              "version_minor": 0,
              "model_id": "d8a0eaaae7da4595b0773266be6bc1a1"
            }
          },
          "metadata": {
            "application/vnd.jupyter.widget-view+json": {
              "colab": {
                "custom_widget_manager": {
                  "url": "https://ssl.gstatic.com/colaboratory-static/widgets/colab-cdn-widget-manager/b3e629b1971e1542/manager.min.js"
                }
              }
            }
          }
        },
        {
          "output_type": "display_data",
          "data": {
            "text/plain": [
              "<IPython.core.display.HTML object>"
            ],
            "text/html": []
          },
          "metadata": {}
        }
      ],
      "source": [
        "# Step 8: Training the best model based on predictive performance metrics\n",
        "# Note: The PLS-DA model was one of the top three. Now, we will create and validate the Linear Discriminant Analysis model\n",
        "best_model = classification.create_model(\"lda\")"
      ],
      "id": "a3e39264"
    },
    {
      "cell_type": "code",
      "execution_count": 42,
      "metadata": {
        "colab": {
          "base_uri": "https://localhost:8080/",
          "height": 191,
          "referenced_widgets": [
            "0865b96718c94bee8da9e3eb9b1abfdd",
            "07772c24f5594aacbeceb6e33eeda3d8",
            "469b164a1cff49c59558a36a157734ce",
            "55d2d7d34fa24f3f8a1f43ef0adab8db",
            "2901108d592547b697db6461a8aded32",
            "f14a51d11369406ca63912fcd90f6f85",
            "f955374c31514de9b118803da23a0ecd"
          ]
        },
        "id": "e43ea3ce",
        "outputId": "d921dfd6-0645-4976-d77a-899965e9254d"
      },
      "outputs": [
        {
          "output_type": "display_data",
          "data": {
            "text/plain": [
              "interactive(children=(ToggleButtons(description='Plot Type:', icons=('',), options=(('Pipeline Plot', 'pipelin…"
            ],
            "application/vnd.jupyter.widget-view+json": {
              "version_major": 2,
              "version_minor": 0,
              "model_id": "0865b96718c94bee8da9e3eb9b1abfdd"
            }
          },
          "metadata": {
            "application/vnd.jupyter.widget-view+json": {
              "colab": {
                "custom_widget_manager": {
                  "url": "https://ssl.gstatic.com/colaboratory-static/widgets/colab-cdn-widget-manager/b3e629b1971e1542/manager.min.js"
                }
              }
            }
          }
        }
      ],
      "source": [
        "# Step 9: Extracting the metrics results from the model\n",
        "classification.evaluate_model(best_model)"
      ],
      "id": "e43ea3ce"
    },
    {
      "cell_type": "code",
      "execution_count": 49,
      "metadata": {
        "colab": {
          "base_uri": "https://localhost:8080/",
          "height": 522
        },
        "id": "0GpEegjW29tO",
        "outputId": "5ec11c17-38af-4083-f328-041aa544246b"
      },
      "outputs": [
        {
          "output_type": "display_data",
          "data": {
            "text/plain": [
              "<IPython.core.display.HTML object>"
            ],
            "text/html": []
          },
          "metadata": {}
        },
        {
          "output_type": "display_data",
          "data": {
            "text/plain": [
              "<Figure size 800x550 with 1 Axes>"
            ],
            "image/png": "[encoded data removed]"
          },
          "metadata": {}
        },
        {
          "output_type": "display_data",
          "data": {
            "text/plain": [
              "<IPython.core.display.HTML object>"
            ],
            "text/html": []
          },
          "metadata": {}
        },
        {
          "output_type": "execute_result",
          "data": {
            "text/plain": [
              "'Decision Boundary.png'"
            ],
            "application/vnd.google.colaboratory.intrinsic+json": {
              "type": "string"
            }
          },
          "metadata": {},
          "execution_count": 49
        }
      ],
      "source": [
        "#Step 10: Plotting the decision boundary plot\n",
        "classification.plot_model(best_model, plot =\"boundary\", plot_kwargs ={'classes': [\"Dyslipidemia\", \"Diabetes\", \"Hypercholesterolemia\", \n",
        "                                                                                  \"Hypertriglyceridemia\", \"Healthy\", \"Pre-diabetes\"]})\n",
        "classification.plot_model(best_model, plot =\"boundary\", plot_kwargs ={'classes': \n",
        "  [\"Dyslipidemia\", \"Diabetes\", \"Hypercholesterolemia\", \"Hypertriglyceridemia\", \"Healthy\", \"Pre-diabetes\"]},                                                                \n",
        "                          save = True, scale = 3)\n"
      ],
      "id": "0GpEegjW29tO"
    },
    {
      "cell_type": "code",
      "execution_count": 48,
      "metadata": {
        "colab": {
          "base_uri": "https://localhost:8080/",
          "height": 543
        },
        "id": "_ggsDtP0gcWb",
        "outputId": "3543be75-e416-4ab8-b188-dfaa2e2a745d"
      },
      "outputs": [
        {
          "output_type": "display_data",
          "data": {
            "text/plain": [
              "<IPython.core.display.HTML object>"
            ],
            "text/html": []
          },
          "metadata": {}
        },
        {
          "output_type": "display_data",
          "data": {
            "text/plain": [
              "<Figure size 800x550 with 1 Axes>"
            ],
            "image/png": "[encoded data removed]"
          },
          "metadata": {}
        },
        {
          "output_type": "display_data",
          "data": {
            "text/plain": [
              "<IPython.core.display.HTML object>"
            ],
            "text/html": []
          },
          "metadata": {}
        },
        {
          "output_type": "execute_result",
          "data": {
            "text/plain": [
              "'Learning Curve.png'"
            ],
            "application/vnd.google.colaboratory.intrinsic+json": {
              "type": "string"
            }
          },
          "metadata": {},
          "execution_count": 48
        }
      ],
      "source": [
        "# Step 11: Plotting the learning curve\n",
        "classification.plot_model(best_model, plot =\"learning\")\n",
        "classification.plot_model(best_model, plot =\"learning\", save = True, scale = 3)"
      ],
      "id": "_ggsDtP0gcWb"
    },
    {
      "cell_type": "code",
      "execution_count": 47,
      "metadata": {
        "colab": {
          "base_uri": "https://localhost:8080/",
          "height": 543
        },
        "id": "NAJL8dMqYLcd",
        "outputId": "264b3d3e-f96a-467b-96f9-70048f724321"
      },
      "outputs": [
        {
          "output_type": "display_data",
          "data": {
            "text/plain": [
              "<IPython.core.display.HTML object>"
            ],
            "text/html": []
          },
          "metadata": {}
        },
        {
          "output_type": "display_data",
          "data": {
            "text/plain": [
              "<Figure size 800x550 with 1 Axes>"
            ],
            "image/png": "[encoded data removed]"
          },
          "metadata": {}
        },
        {
          "output_type": "display_data",
          "data": {
            "text/plain": [
              "<IPython.core.display.HTML object>"
            ],
            "text/html": []
          },
          "metadata": {}
        },
        {
          "output_type": "execute_result",
          "data": {
            "text/plain": [
              "'AUC.png'"
            ],
            "application/vnd.google.colaboratory.intrinsic+json": {
              "type": "string"
            }
          },
          "metadata": {},
          "execution_count": 47
        }
      ],
      "source": [
        "# Step 12: Plotting the ROC curves\n",
        "classification.plot_model(best_model, plot =\"auc\", plot_kwargs ={'classes': [\"Dyslipidemia\", \"Diabetes\",\n",
        "                                                                           \"Hypercholesterolemia\", \"Hypertriglyceridemia\", \"Healthy\", \"Pre-diabetes\"]})\n",
        "classification.plot_model(best_model, plot =\"auc\", plot_kwargs ={'classes': [\"Dyslipidemia\", \"Diabetes\",\n",
        "                                                                           \"Hypercholesterolemia\", \"Hypertriglyceridemia\", \"Healthy\", \"Pre-diabetes\"]}, scale = 3, save = True)"
      ],
      "id": "NAJL8dMqYLcd"
    },
    {
      "cell_type": "code",
      "execution_count": 51,
      "metadata": {
        "colab": {
          "base_uri": "https://localhost:8080/",
          "height": 570
        },
        "id": "rITpbD33de4x",
        "outputId": "5cb659d3-b065-46a8-f404-d434caec7181"
      },
      "outputs": [
        {
          "output_type": "display_data",
          "data": {
            "text/plain": [
              "<IPython.core.display.HTML object>"
            ],
            "text/html": []
          },
          "metadata": {}
        },
        {
          "output_type": "display_data",
          "data": {
            "text/plain": [
              "<Figure size 800x550 with 1 Axes>"
            ],
            "image/png": "[encoded data removed]"
          },
          "metadata": {}
        },
        {
          "output_type": "display_data",
          "data": {
            "text/plain": [
              "<IPython.core.display.HTML object>"
            ],
            "text/html": []
          },
          "metadata": {}
        },
        {
          "output_type": "execute_result",
          "data": {
            "text/plain": [
              "'Confusion Matrix.png'"
            ],
            "application/vnd.google.colaboratory.intrinsic+json": {
              "type": "string"
            }
          },
          "metadata": {},
          "execution_count": 51
        }
      ],
      "source": [
        "# Step 13: Plotting de confusion matrix graph\n",
        "classification.plot_model(best_model, plot =\"confusion_matrix\", plot_kwargs ={'classes': [\"Dys\", \"DM\", \"Hchol\", \"Htrig\", \"Healthy\", \"Pre-DM\"]})\n",
        "classification.plot_model(best_model, plot =\"confusion_matrix\", plot_kwargs ={'classes': [\"Dys\", \"DM\", \"Hchol\", \"Htrig\", \"Healthy\", \"Pre-DM\"]}, \n",
        "                          scale = 3, save = True)"
      ],
      "id": "rITpbD33de4x"
    },
    {
      "cell_type": "code",
      "execution_count": 52,
      "metadata": {
        "colab": {
          "base_uri": "https://localhost:8080/",
          "height": 570
        },
        "id": "e119bdzI3awa",
        "outputId": "91f1e164-957e-455c-b553-78e0e0dc04d8"
      },
      "outputs": [
        {
          "output_type": "display_data",
          "data": {
            "text/plain": [
              "<IPython.core.display.HTML object>"
            ],
            "text/html": []
          },
          "metadata": {}
        },
        {
          "output_type": "display_data",
          "data": {
            "text/plain": [
              "<Figure size 800x550 with 1 Axes>"
            ],
            "image/png": "[encoded data removed]"
          },
          "metadata": {}
        },
        {
          "output_type": "display_data",
          "data": {
            "text/plain": [
              "<IPython.core.display.HTML object>"
            ],
            "text/html": []
          },
          "metadata": {}
        },
        {
          "output_type": "execute_result",
          "data": {
            "text/plain": [
              "'Confusion Matrix.png'"
            ],
            "application/vnd.google.colaboratory.intrinsic+json": {
              "type": "string"
            }
          },
          "metadata": {},
          "execution_count": 52
        }
      ],
      "source": [
        "# Step 14: Plotting de percent confusion matrix graph\n",
        "classification.plot_model(best_model, plot =\"confusion_matrix\", plot_kwargs = {'percent' : True})\n",
        "classification.plot_model(best_model, plot =\"confusion_matrix\", plot_kwargs = {'percent' : True},scale = 3, save = True)"
      ],
      "id": "e119bdzI3awa"
    },
    {
      "cell_type": "code",
      "execution_count": 53,
      "metadata": {
        "colab": {
          "base_uri": "https://localhost:8080/",
          "height": 570
        },
        "id": "dCyvk4xzYLEg",
        "outputId": "8e4e96df-d2f7-4472-d19c-27e8132d2f0a"
      },
      "outputs": [
        {
          "output_type": "display_data",
          "data": {
            "text/plain": [
              "<IPython.core.display.HTML object>"
            ],
            "text/html": []
          },
          "metadata": {}
        },
        {
          "output_type": "display_data",
          "data": {
            "text/plain": [
              "<Figure size 800x550 with 1 Axes>"
            ],
            "image/png": "[encoded data removed]"
          },
          "metadata": {}
        },
        {
          "output_type": "display_data",
          "data": {
            "text/plain": [
              "<IPython.core.display.HTML object>"
            ],
            "text/html": []
          },
          "metadata": {}
        },
        {
          "output_type": "execute_result",
          "data": {
            "text/plain": [
              "'Prediction Error.png'"
            ],
            "application/vnd.google.colaboratory.intrinsic+json": {
              "type": "string"
            }
          },
          "metadata": {},
          "execution_count": 53
        }
      ],
      "source": [
        "# Step 15: Compare predictions and results of the model\n",
        "classification.plot_model(best_model, plot =\"error\", plot_kwargs ={'classes': [\"Dys\", \"DM\", \"Hchol\", \"Htrig\", \"Healthy\", \"Pre-DM\"]})\n",
        "classification.plot_model(best_model, plot =\"error\", plot_kwargs ={'classes': [\"Dys\", \"DM\", \"Hchol\", \"Htrig\", \"Healthy\", \"Pre-DM\"]}, \n",
        "                          scale = 3, save = True)"
      ],
      "id": "dCyvk4xzYLEg"
    },
    {
      "cell_type": "code",
      "execution_count": 54,
      "metadata": {
        "colab": {
          "base_uri": "https://localhost:8080/",
          "height": 504
        },
        "id": "iC5-30xDdckh",
        "outputId": "bcf980cd-4f7e-48cb-9e75-5259cdfa3058"
      },
      "outputs": [
        {
          "output_type": "display_data",
          "data": {
            "text/plain": [
              "<IPython.core.display.HTML object>"
            ],
            "text/html": []
          },
          "metadata": {}
        },
        {
          "output_type": "display_data",
          "data": {
            "text/plain": [
              "<Figure size 800x500 with 1 Axes>"
            ],
            "image/png": "[encoded data removed]"
          },
          "metadata": {}
        },
        {
          "output_type": "display_data",
          "data": {
            "text/plain": [
              "<IPython.core.display.HTML object>"
            ],
            "text/html": []
          },
          "metadata": {}
        },
        {
          "output_type": "execute_result",
          "data": {
            "text/plain": [
              "'Feature Importance.png'"
            ],
            "application/vnd.google.colaboratory.intrinsic+json": {
              "type": "string"
            }
          },
          "metadata": {},
          "execution_count": 54
        }
      ],
      "source": [
        "# Step 16: Plotting only the TOP 10 most important wavenumber\n",
        "classification.plot_model(best_model, plot =\"feature\")\n",
        "classification.plot_model(best_model, plot =\"feature\", scale = 3, save = True)"
      ],
      "id": "iC5-30xDdckh"
    },
    {
      "cell_type": "code",
      "execution_count": null,
      "metadata": {
        "colab": {
          "base_uri": "https://localhost:8080/",
          "height": 35
        },
        "id": "r2Z6UBPyBbVE",
        "outputId": "cc3b0a1d-e613-478e-9b2f-edd0198ffde6"
      },
      "outputs": [
        {
          "data": {
            "text/html": [],
            "text/plain": [
              "<IPython.core.display.HTML object>"
            ]
          },
          "metadata": {},
          "output_type": "display_data"
        },
        {
          "data": {
            "application/vnd.google.colaboratory.intrinsic+json": {
              "type": "string"
            },
            "text/plain": [
              "'Decision Boundary.png'"
            ]
          },
          "execution_count": 41,
          "metadata": {},
          "output_type": "execute_result"
        }
      ],
      "source": [
        "#List of available plots (ID - Name): https://pycaret.readthedocs.io/en/stable/api/classification.html\n",
        "#‘pipeline’ - Schematic drawing of the preprocessing pipeline\n",
        "#‘auc’ - Area Under the Curve\n",
        "#‘threshold’ - Discrimination Threshold\n",
        "#‘pr’ - Precision Recall Curve\n",
        "#‘confusion_matrix’ - Confusion Matrix\n",
        "#‘error’ - Class Prediction Error\n",
        "#‘class_report’ - Classification Report\n",
        "#‘boundary’ - Decision Boundary\n",
        "#‘rfe’ - Recursive Feature Selection\n",
        "#‘learning’ - Learning Curve\n",
        "#‘manifold’ - Manifold Learning\n",
        "#‘calibration’ - Calibration Curve\n",
        "#‘vc’ - Validation Curve\n",
        "#‘dimension’ - Dimension Learning\n",
        "#‘feature’ - Feature Importance\n",
        "#‘feature_all’ - Feature Importance (All)\n",
        "#‘parameter’ - Model Hyperparameter\n",
        "#‘lift’ - Lift Curve\n",
        "#‘gain’ - Gain Chart\n",
        "#‘tree’ - Decision Tree\n",
        "#‘ks’ - KS Statistic Plot\n",
        "\n",
        "#save: bool, default = False\n",
        "#scale: float, default = 1\n",
        "# Plotando apenas os TOP 10 biomarcadoers mais importantes\n",
        "classification.plot_model(lda_model, plot =\"boundary\", plot_kwargs ={'classes': [\"Dyslipidemia\", \"Diabetes\", \"Hypercholesterolemia\", \"Hypertriglyceridemia\", \"Healthy\", \"Pre-diabetes\"]}, \n",
        "                          scale = 3, save = True)"
      ],
      "id": "r2Z6UBPyBbVE"
    },
    {
      "cell_type": "code",
      "execution_count": 55,
      "metadata": {
        "colab": {
          "base_uri": "https://localhost:8080/"
        },
        "id": "6d450f64",
        "outputId": "cfbd162e-89fb-42b3-cf42-69381b44c0d8"
      },
      "outputs": [
        {
          "output_type": "stream",
          "name": "stdout",
          "text": [
            "Transformation Pipeline and Model Successfully Saved\n"
          ]
        },
        {
          "output_type": "execute_result",
          "data": {
            "text/plain": [
              "(Pipeline(memory=FastMemory(location=/tmp/joblib),\n",
              "          steps=[('label_encoding',\n",
              "                  TransformerWrapperWithInverse(exclude=None, include=None,\n",
              "                                                transformer=LabelEncoder())),\n",
              "                 ('numerical_imputer',\n",
              "                  TransformerWrapper(exclude=None,\n",
              "                                     include=['3998.4', '3997', '3995.6',\n",
              "                                              '3994.2', '3992.8', '3991.3',\n",
              "                                              '3989.9', '3988.5', '3987.1',\n",
              "                                              '3985.7', '3984.3', '3982.8',\n",
              "                                              '3981.4', '3980', '3978.6...\n",
              "                                                               strategy='most_frequent',\n",
              "                                                               verbose='deprecated'))),\n",
              "                 ('clean_column_names',\n",
              "                  TransformerWrapper(exclude=None, include=None,\n",
              "                                     transformer=CleanColumnNames(match='[\\\\]\\\\[\\\\,\\\\{\\\\}\\\\\"\\\\:]+'))),\n",
              "                 ('trained_model',\n",
              "                  LinearDiscriminantAnalysis(covariance_estimator=None,\n",
              "                                             n_components=None, priors=None,\n",
              "                                             shrinkage=None, solver='svd',\n",
              "                                             store_covariance=False,\n",
              "                                             tol=0.0001))],\n",
              "          verbose=False),\n",
              " 'best_model_lda.pkl')"
            ]
          },
          "metadata": {},
          "execution_count": 55
        }
      ],
      "source": [
        "# Passo 11: Saving the model for predictions (Deploy)\n",
        "classification.save_model(best_model, \"best_model_lda\")"
      ],
      "id": "6d450f64"
    }
  ],
  "metadata": {
    "colab": {
      "provenance": [],
      "include_colab_link": true
    },
    "kernelspec": {
      "display_name": "Python 3",
      "language": "python",
      "name": "python3"
    },
    "language_info": {
      "codemirror_mode": {
        "name": "ipython",
        "version": 3
      },
      "file_extension": ".py",
      "mimetype": "text/x-python",
      "name": "python",
      "nbconvert_exporter": "python",
      "pygments_lexer": "ipython3",
      "version": "3.6.13"
    },
    "widgets": {
      "application/vnd.jupyter.widget-state+json": {
        "592d902072b54024bf7fdafbd5bb2629": {
          "model_module": "@jupyter-widgets/controls",
          "model_name": "HBoxModel",
          "model_module_version": "1.5.0",
          "state": {
            "_dom_classes": [],
            "_model_module": "@jupyter-widgets/controls",
            "_model_module_version": "1.5.0",
            "_model_name": "HBoxModel",
            "_view_count": null,
            "_view_module": "@jupyter-widgets/controls",
            "_view_module_version": "1.5.0",
            "_view_name": "HBoxView",
            "box_style": "",
            "children": [
              "IPY_MODEL_fbf748a1cff8438980914f734796ae41",
              "IPY_MODEL_b394d92c9591407d935bf2e824d4499d",
              "IPY_MODEL_58a3475a71f04a84a67c4066f330d45b"
            ],
            "layout": "IPY_MODEL_fa8fac2973bf412aab3cd71e72e41436"
          }
        },
        "fbf748a1cff8438980914f734796ae41": {
          "model_module": "@jupyter-widgets/controls",
          "model_name": "HTMLModel",
          "model_module_version": "1.5.0",
          "state": {
            "_dom_classes": [],
            "_model_module": "@jupyter-widgets/controls",
            "_model_module_version": "1.5.0",
            "_model_name": "HTMLModel",
            "_view_count": null,
            "_view_module": "@jupyter-widgets/controls",
            "_view_module_version": "1.5.0",
            "_view_name": "HTMLView",
            "description": "",
            "description_tooltip": null,
            "layout": "IPY_MODEL_8a19b1700120445eac2d137eefb6cdf5",
            "placeholder": "​",
            "style": "IPY_MODEL_db815febb6934bfd978385bbde0018de",
            "value": "Processing: 100%"
          }
        },
        "b394d92c9591407d935bf2e824d4499d": {
          "model_module": "@jupyter-widgets/controls",
          "model_name": "FloatProgressModel",
          "model_module_version": "1.5.0",
          "state": {
            "_dom_classes": [],
            "_model_module": "@jupyter-widgets/controls",
            "_model_module_version": "1.5.0",
            "_model_name": "FloatProgressModel",
            "_view_count": null,
            "_view_module": "@jupyter-widgets/controls",
            "_view_module_version": "1.5.0",
            "_view_name": "ProgressView",
            "bar_style": "",
            "description": "",
            "description_tooltip": null,
            "layout": "IPY_MODEL_cb6a02010b504098984a9d42bb4cc5e7",
            "max": 65,
            "min": 0,
            "orientation": "horizontal",
            "style": "IPY_MODEL_e5601574b28e466193536b1216761f34",
            "value": 65
          }
        },
        "58a3475a71f04a84a67c4066f330d45b": {
          "model_module": "@jupyter-widgets/controls",
          "model_name": "HTMLModel",
          "model_module_version": "1.5.0",
          "state": {
            "_dom_classes": [],
            "_model_module": "@jupyter-widgets/controls",
            "_model_module_version": "1.5.0",
            "_model_name": "HTMLModel",
            "_view_count": null,
            "_view_module": "@jupyter-widgets/controls",
            "_view_module_version": "1.5.0",
            "_view_name": "HTMLView",
            "description": "",
            "description_tooltip": null,
            "layout": "IPY_MODEL_c88091a777894234aa138e4961b997b9",
            "placeholder": "​",
            "style": "IPY_MODEL_90eda00e96c74c468950aac395f6f552",
            "value": " 65/65 [29:27&lt;00:00, 13.07s/it]"
          }
        },
        "fa8fac2973bf412aab3cd71e72e41436": {
          "model_module": "@jupyter-widgets/base",
          "model_name": "LayoutModel",
          "model_module_version": "1.2.0",
          "state": {
            "_model_module": "@jupyter-widgets/base",
            "_model_module_version": "1.2.0",
            "_model_name": "LayoutModel",
            "_view_count": null,
            "_view_module": "@jupyter-widgets/base",
            "_view_module_version": "1.2.0",
            "_view_name": "LayoutView",
            "align_content": null,
            "align_items": null,
            "align_self": null,
            "border": null,
            "bottom": null,
            "display": null,
            "flex": null,
            "flex_flow": null,
            "grid_area": null,
            "grid_auto_columns": null,
            "grid_auto_flow": null,
            "grid_auto_rows": null,
            "grid_column": null,
            "grid_gap": null,
            "grid_row": null,
            "grid_template_areas": null,
            "grid_template_columns": null,
            "grid_template_rows": null,
            "height": null,
            "justify_content": null,
            "justify_items": null,
            "left": null,
            "margin": null,
            "max_height": null,
            "max_width": null,
            "min_height": null,
            "min_width": null,
            "object_fit": null,
            "object_position": null,
            "order": null,
            "overflow": null,
            "overflow_x": null,
            "overflow_y": null,
            "padding": null,
            "right": null,
            "top": null,
            "visibility": "hidden",
            "width": null
          }
        },
        "8a19b1700120445eac2d137eefb6cdf5": {
          "model_module": "@jupyter-widgets/base",
          "model_name": "LayoutModel",
          "model_module_version": "1.2.0",
          "state": {
            "_model_module": "@jupyter-widgets/base",
            "_model_module_version": "1.2.0",
            "_model_name": "LayoutModel",
            "_view_count": null,
            "_view_module": "@jupyter-widgets/base",
            "_view_module_version": "1.2.0",
            "_view_name": "LayoutView",
            "align_content": null,
            "align_items": null,
            "align_self": null,
            "border": null,
            "bottom": null,
            "display": null,
            "flex": null,
            "flex_flow": null,
            "grid_area": null,
            "grid_auto_columns": null,
            "grid_auto_flow": null,
            "grid_auto_rows": null,
            "grid_column": null,
            "grid_gap": null,
            "grid_row": null,
            "grid_template_areas": null,
            "grid_template_columns": null,
            "grid_template_rows": null,
            "height": null,
            "justify_content": null,
            "justify_items": null,
            "left": null,
            "margin": null,
            "max_height": null,
            "max_width": null,
            "min_height": null,
            "min_width": null,
            "object_fit": null,
            "object_position": null,
            "order": null,
            "overflow": null,
            "overflow_x": null,
            "overflow_y": null,
            "padding": null,
            "right": null,
            "top": null,
            "visibility": null,
            "width": null
          }
        },
        "db815febb6934bfd978385bbde0018de": {
          "model_module": "@jupyter-widgets/controls",
          "model_name": "DescriptionStyleModel",
          "model_module_version": "1.5.0",
          "state": {
            "_model_module": "@jupyter-widgets/controls",
            "_model_module_version": "1.5.0",
            "_model_name": "DescriptionStyleModel",
            "_view_count": null,
            "_view_module": "@jupyter-widgets/base",
            "_view_module_version": "1.2.0",
            "_view_name": "StyleView",
            "description_width": ""
          }
        },
        "cb6a02010b504098984a9d42bb4cc5e7": {
          "model_module": "@jupyter-widgets/base",
          "model_name": "LayoutModel",
          "model_module_version": "1.2.0",
          "state": {
            "_model_module": "@jupyter-widgets/base",
            "_model_module_version": "1.2.0",
            "_model_name": "LayoutModel",
            "_view_count": null,
            "_view_module": "@jupyter-widgets/base",
            "_view_module_version": "1.2.0",
            "_view_name": "LayoutView",
            "align_content": null,
            "align_items": null,
            "align_self": null,
            "border": null,
            "bottom": null,
            "display": null,
            "flex": null,
            "flex_flow": null,
            "grid_area": null,
            "grid_auto_columns": null,
            "grid_auto_flow": null,
            "grid_auto_rows": null,
            "grid_column": null,
            "grid_gap": null,
            "grid_row": null,
            "grid_template_areas": null,
            "grid_template_columns": null,
            "grid_template_rows": null,
            "height": null,
            "justify_content": null,
            "justify_items": null,
            "left": null,
            "margin": null,
            "max_height": null,
            "max_width": null,
            "min_height": null,
            "min_width": null,
            "object_fit": null,
            "object_position": null,
            "order": null,
            "overflow": null,
            "overflow_x": null,
            "overflow_y": null,
            "padding": null,
            "right": null,
            "top": null,
            "visibility": null,
            "width": null
          }
        },
        "e5601574b28e466193536b1216761f34": {
          "model_module": "@jupyter-widgets/controls",
          "model_name": "ProgressStyleModel",
          "model_module_version": "1.5.0",
          "state": {
            "_model_module": "@jupyter-widgets/controls",
            "_model_module_version": "1.5.0",
            "_model_name": "ProgressStyleModel",
            "_view_count": null,
            "_view_module": "@jupyter-widgets/base",
            "_view_module_version": "1.2.0",
            "_view_name": "StyleView",
            "bar_color": null,
            "description_width": ""
          }
        },
        "c88091a777894234aa138e4961b997b9": {
          "model_module": "@jupyter-widgets/base",
          "model_name": "LayoutModel",
          "model_module_version": "1.2.0",
          "state": {
            "_model_module": "@jupyter-widgets/base",
            "_model_module_version": "1.2.0",
            "_model_name": "LayoutModel",
            "_view_count": null,
            "_view_module": "@jupyter-widgets/base",
            "_view_module_version": "1.2.0",
            "_view_name": "LayoutView",
            "align_content": null,
            "align_items": null,
            "align_self": null,
            "border": null,
            "bottom": null,
            "display": null,
            "flex": null,
            "flex_flow": null,
            "grid_area": null,
            "grid_auto_columns": null,
            "grid_auto_flow": null,
            "grid_auto_rows": null,
            "grid_column": null,
            "grid_gap": null,
            "grid_row": null,
            "grid_template_areas": null,
            "grid_template_columns": null,
            "grid_template_rows": null,
            "height": null,
            "justify_content": null,
            "justify_items": null,
            "left": null,
            "margin": null,
            "max_height": null,
            "max_width": null,
            "min_height": null,
            "min_width": null,
            "object_fit": null,
            "object_position": null,
            "order": null,
            "overflow": null,
            "overflow_x": null,
            "overflow_y": null,
            "padding": null,
            "right": null,
            "top": null,
            "visibility": null,
            "width": null
          }
        },
        "90eda00e96c74c468950aac395f6f552": {
          "model_module": "@jupyter-widgets/controls",
          "model_name": "DescriptionStyleModel",
          "model_module_version": "1.5.0",
          "state": {
            "_model_module": "@jupyter-widgets/controls",
            "_model_module_version": "1.5.0",
            "_model_name": "DescriptionStyleModel",
            "_view_count": null,
            "_view_module": "@jupyter-widgets/base",
            "_view_module_version": "1.2.0",
            "_view_name": "StyleView",
            "description_width": ""
          }
        },
        "d8a0eaaae7da4595b0773266be6bc1a1": {
          "model_module": "@jupyter-widgets/controls",
          "model_name": "HBoxModel",
          "model_module_version": "1.5.0",
          "state": {
            "_dom_classes": [],
            "_model_module": "@jupyter-widgets/controls",
            "_model_module_version": "1.5.0",
            "_model_name": "HBoxModel",
            "_view_count": null,
            "_view_module": "@jupyter-widgets/controls",
            "_view_module_version": "1.5.0",
            "_view_name": "HBoxView",
            "box_style": "",
            "children": [
              "IPY_MODEL_1eb21bc3fe494508a89c9de38bc78db9",
              "IPY_MODEL_539c17b706bd455c89d359b8ad6b645c",
              "IPY_MODEL_068f437565fa4b5aa86ad8abd7b982ed"
            ],
            "layout": "IPY_MODEL_90a6cadbfa524b41bc432768e9b86d8c"
          }
        },
        "1eb21bc3fe494508a89c9de38bc78db9": {
          "model_module": "@jupyter-widgets/controls",
          "model_name": "HTMLModel",
          "model_module_version": "1.5.0",
          "state": {
            "_dom_classes": [],
            "_model_module": "@jupyter-widgets/controls",
            "_model_module_version": "1.5.0",
            "_model_name": "HTMLModel",
            "_view_count": null,
            "_view_module": "@jupyter-widgets/controls",
            "_view_module_version": "1.5.0",
            "_view_name": "HTMLView",
            "description": "",
            "description_tooltip": null,
            "layout": "IPY_MODEL_81170419708d4d2cb19be8bbdabff29f",
            "placeholder": "​",
            "style": "IPY_MODEL_77dff3980a364050b4bc5a80a6187b70",
            "value": "Processing: 100%"
          }
        },
        "539c17b706bd455c89d359b8ad6b645c": {
          "model_module": "@jupyter-widgets/controls",
          "model_name": "FloatProgressModel",
          "model_module_version": "1.5.0",
          "state": {
            "_dom_classes": [],
            "_model_module": "@jupyter-widgets/controls",
            "_model_module_version": "1.5.0",
            "_model_name": "FloatProgressModel",
            "_view_count": null,
            "_view_module": "@jupyter-widgets/controls",
            "_view_module_version": "1.5.0",
            "_view_name": "ProgressView",
            "bar_style": "",
            "description": "",
            "description_tooltip": null,
            "layout": "IPY_MODEL_e4163d01206948e796bd0e46626ca3f0",
            "max": 4,
            "min": 0,
            "orientation": "horizontal",
            "style": "IPY_MODEL_277f5a6a159b401ba8c550908ae9c2ca",
            "value": 4
          }
        },
        "068f437565fa4b5aa86ad8abd7b982ed": {
          "model_module": "@jupyter-widgets/controls",
          "model_name": "HTMLModel",
          "model_module_version": "1.5.0",
          "state": {
            "_dom_classes": [],
            "_model_module": "@jupyter-widgets/controls",
            "_model_module_version": "1.5.0",
            "_model_name": "HTMLModel",
            "_view_count": null,
            "_view_module": "@jupyter-widgets/controls",
            "_view_module_version": "1.5.0",
            "_view_name": "HTMLView",
            "description": "",
            "description_tooltip": null,
            "layout": "IPY_MODEL_da9cca2e1f8440ac8d91f91000b73979",
            "placeholder": "​",
            "style": "IPY_MODEL_76ba3f31ef4841a192a930a90ecbae21",
            "value": " 4/4 [00:12&lt;00:00,  2.74s/it]"
          }
        },
        "90a6cadbfa524b41bc432768e9b86d8c": {
          "model_module": "@jupyter-widgets/base",
          "model_name": "LayoutModel",
          "model_module_version": "1.2.0",
          "state": {
            "_model_module": "@jupyter-widgets/base",
            "_model_module_version": "1.2.0",
            "_model_name": "LayoutModel",
            "_view_count": null,
            "_view_module": "@jupyter-widgets/base",
            "_view_module_version": "1.2.0",
            "_view_name": "LayoutView",
            "align_content": null,
            "align_items": null,
            "align_self": null,
            "border": null,
            "bottom": null,
            "display": null,
            "flex": null,
            "flex_flow": null,
            "grid_area": null,
            "grid_auto_columns": null,
            "grid_auto_flow": null,
            "grid_auto_rows": null,
            "grid_column": null,
            "grid_gap": null,
            "grid_row": null,
            "grid_template_areas": null,
            "grid_template_columns": null,
            "grid_template_rows": null,
            "height": null,
            "justify_content": null,
            "justify_items": null,
            "left": null,
            "margin": null,
            "max_height": null,
            "max_width": null,
            "min_height": null,
            "min_width": null,
            "object_fit": null,
            "object_position": null,
            "order": null,
            "overflow": null,
            "overflow_x": null,
            "overflow_y": null,
            "padding": null,
            "right": null,
            "top": null,
            "visibility": "hidden",
            "width": null
          }
        },
        "81170419708d4d2cb19be8bbdabff29f": {
          "model_module": "@jupyter-widgets/base",
          "model_name": "LayoutModel",
          "model_module_version": "1.2.0",
          "state": {
            "_model_module": "@jupyter-widgets/base",
            "_model_module_version": "1.2.0",
            "_model_name": "LayoutModel",
            "_view_count": null,
            "_view_module": "@jupyter-widgets/base",
            "_view_module_version": "1.2.0",
            "_view_name": "LayoutView",
            "align_content": null,
            "align_items": null,
            "align_self": null,
            "border": null,
            "bottom": null,
            "display": null,
            "flex": null,
            "flex_flow": null,
            "grid_area": null,
            "grid_auto_columns": null,
            "grid_auto_flow": null,
            "grid_auto_rows": null,
            "grid_column": null,
            "grid_gap": null,
            "grid_row": null,
            "grid_template_areas": null,
            "grid_template_columns": null,
            "grid_template_rows": null,
            "height": null,
            "justify_content": null,
            "justify_items": null,
            "left": null,
            "margin": null,
            "max_height": null,
            "max_width": null,
            "min_height": null,
            "min_width": null,
            "object_fit": null,
            "object_position": null,
            "order": null,
            "overflow": null,
            "overflow_x": null,
            "overflow_y": null,
            "padding": null,
            "right": null,
            "top": null,
            "visibility": null,
            "width": null
          }
        },
        "77dff3980a364050b4bc5a80a6187b70": {
          "model_module": "@jupyter-widgets/controls",
          "model_name": "DescriptionStyleModel",
          "model_module_version": "1.5.0",
          "state": {
            "_model_module": "@jupyter-widgets/controls",
            "_model_module_version": "1.5.0",
            "_model_name": "DescriptionStyleModel",
            "_view_count": null,
            "_view_module": "@jupyter-widgets/base",
            "_view_module_version": "1.2.0",
            "_view_name": "StyleView",
            "description_width": ""
          }
        },
        "e4163d01206948e796bd0e46626ca3f0": {
          "model_module": "@jupyter-widgets/base",
          "model_name": "LayoutModel",
          "model_module_version": "1.2.0",
          "state": {
            "_model_module": "@jupyter-widgets/base",
            "_model_module_version": "1.2.0",
            "_model_name": "LayoutModel",
            "_view_count": null,
            "_view_module": "@jupyter-widgets/base",
            "_view_module_version": "1.2.0",
            "_view_name": "LayoutView",
            "align_content": null,
            "align_items": null,
            "align_self": null,
            "border": null,
            "bottom": null,
            "display": null,
            "flex": null,
            "flex_flow": null,
            "grid_area": null,
            "grid_auto_columns": null,
            "grid_auto_flow": null,
            "grid_auto_rows": null,
            "grid_column": null,
            "grid_gap": null,
            "grid_row": null,
            "grid_template_areas": null,
            "grid_template_columns": null,
            "grid_template_rows": null,
            "height": null,
            "justify_content": null,
            "justify_items": null,
            "left": null,
            "margin": null,
            "max_height": null,
            "max_width": null,
            "min_height": null,
            "min_width": null,
            "object_fit": null,
            "object_position": null,
            "order": null,
            "overflow": null,
            "overflow_x": null,
            "overflow_y": null,
            "padding": null,
            "right": null,
            "top": null,
            "visibility": null,
            "width": null
          }
        },
        "277f5a6a159b401ba8c550908ae9c2ca": {
          "model_module": "@jupyter-widgets/controls",
          "model_name": "ProgressStyleModel",
          "model_module_version": "1.5.0",
          "state": {
            "_model_module": "@jupyter-widgets/controls",
            "_model_module_version": "1.5.0",
            "_model_name": "ProgressStyleModel",
            "_view_count": null,
            "_view_module": "@jupyter-widgets/base",
            "_view_module_version": "1.2.0",
            "_view_name": "StyleView",
            "bar_color": null,
            "description_width": ""
          }
        },
        "da9cca2e1f8440ac8d91f91000b73979": {
          "model_module": "@jupyter-widgets/base",
          "model_name": "LayoutModel",
          "model_module_version": "1.2.0",
          "state": {
            "_model_module": "@jupyter-widgets/base",
            "_model_module_version": "1.2.0",
            "_model_name": "LayoutModel",
            "_view_count": null,
            "_view_module": "@jupyter-widgets/base",
            "_view_module_version": "1.2.0",
            "_view_name": "LayoutView",
            "align_content": null,
            "align_items": null,
            "align_self": null,
            "border": null,
            "bottom": null,
            "display": null,
            "flex": null,
            "flex_flow": null,
            "grid_area": null,
            "grid_auto_columns": null,
            "grid_auto_flow": null,
            "grid_auto_rows": null,
            "grid_column": null,
            "grid_gap": null,
            "grid_row": null,
            "grid_template_areas": null,
            "grid_template_columns": null,
            "grid_template_rows": null,
            "height": null,
            "justify_content": null,
            "justify_items": null,
            "left": null,
            "margin": null,
            "max_height": null,
            "max_width": null,
            "min_height": null,
            "min_width": null,
            "object_fit": null,
            "object_position": null,
            "order": null,
            "overflow": null,
            "overflow_x": null,
            "overflow_y": null,
            "padding": null,
            "right": null,
            "top": null,
            "visibility": null,
            "width": null
          }
        },
        "76ba3f31ef4841a192a930a90ecbae21": {
          "model_module": "@jupyter-widgets/controls",
          "model_name": "DescriptionStyleModel",
          "model_module_version": "1.5.0",
          "state": {
            "_model_module": "@jupyter-widgets/controls",
            "_model_module_version": "1.5.0",
            "_model_name": "DescriptionStyleModel",
            "_view_count": null,
            "_view_module": "@jupyter-widgets/base",
            "_view_module_version": "1.2.0",
            "_view_name": "StyleView",
            "description_width": ""
          }
        },
        "0865b96718c94bee8da9e3eb9b1abfdd": {
          "model_module": "@jupyter-widgets/controls",
          "model_name": "VBoxModel",
          "model_module_version": "1.5.0",
          "state": {
            "_dom_classes": [
              "widget-interact"
            ],
            "_model_module": "@jupyter-widgets/controls",
            "_model_module_version": "1.5.0",
            "_model_name": "VBoxModel",
            "_view_count": null,
            "_view_module": "@jupyter-widgets/controls",
            "_view_module_version": "1.5.0",
            "_view_name": "VBoxView",
            "box_style": "",
            "children": [
              "IPY_MODEL_07772c24f5594aacbeceb6e33eeda3d8",
              "IPY_MODEL_469b164a1cff49c59558a36a157734ce"
            ],
            "layout": "IPY_MODEL_55d2d7d34fa24f3f8a1f43ef0adab8db"
          }
        },
        "07772c24f5594aacbeceb6e33eeda3d8": {
          "model_module": "@jupyter-widgets/controls",
          "model_name": "ToggleButtonsModel",
          "model_module_version": "1.5.0",
          "state": {
            "_dom_classes": [],
            "_model_module": "@jupyter-widgets/controls",
            "_model_module_version": "1.5.0",
            "_model_name": "ToggleButtonsModel",
            "_options_labels": [
              "Pipeline Plot",
              "Hyperparameters",
              "AUC",
              "Confusion Matrix",
              "Threshold",
              "Precision Recall",
              "Prediction Error",
              "Class Report",
              "Feature Selection",
              "Learning Curve",
              "Manifold Learning",
              "Calibration Curve",
              "Validation Curve",
              "Dimensions",
              "Feature Importance",
              "Feature Importance (All)",
              "Decision Boundary",
              "Lift Chart",
              "Gain Chart",
              "Decision Tree",
              "KS Statistic Plot"
            ],
            "_view_count": null,
            "_view_module": "@jupyter-widgets/controls",
            "_view_module_version": "1.5.0",
            "_view_name": "ToggleButtonsView",
            "button_style": "",
            "description": "Plot Type:",
            "description_tooltip": null,
            "disabled": false,
            "icons": [
              ""
            ],
            "index": 0,
            "layout": "IPY_MODEL_2901108d592547b697db6461a8aded32",
            "style": "IPY_MODEL_f14a51d11369406ca63912fcd90f6f85",
            "tooltips": []
          }
        },
        "469b164a1cff49c59558a36a157734ce": {
          "model_module": "@jupyter-widgets/output",
          "model_name": "OutputModel",
          "model_module_version": "1.0.0",
          "state": {
            "_dom_classes": [],
            "_model_module": "@jupyter-widgets/output",
            "_model_module_version": "1.0.0",
            "_model_name": "OutputModel",
            "_view_count": null,
            "_view_module": "@jupyter-widgets/output",
            "_view_module_version": "1.0.0",
            "_view_name": "OutputView",
            "layout": "IPY_MODEL_f955374c31514de9b118803da23a0ecd",
            "msg_id": "",
            "outputs": [
              {
                "output_type": "display_data",
                "data": {
                  "text/plain": "<Figure size 2200x600 with 1 Axes>",
                  "image/png": "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\n"
                },
                "metadata": {}
              }
            ]
          }
        },
        "55d2d7d34fa24f3f8a1f43ef0adab8db": {
          "model_module": "@jupyter-widgets/base",
          "model_name": "LayoutModel",
          "model_module_version": "1.2.0",
          "state": {
            "_model_module": "@jupyter-widgets/base",
            "_model_module_version": "1.2.0",
            "_model_name": "LayoutModel",
            "_view_count": null,
            "_view_module": "@jupyter-widgets/base",
            "_view_module_version": "1.2.0",
            "_view_name": "LayoutView",
            "align_content": null,
            "align_items": null,
            "align_self": null,
            "border": null,
            "bottom": null,
            "display": null,
            "flex": null,
            "flex_flow": null,
            "grid_area": null,
            "grid_auto_columns": null,
            "grid_auto_flow": null,
            "grid_auto_rows": null,
            "grid_column": null,
            "grid_gap": null,
            "grid_row": null,
            "grid_template_areas": null,
            "grid_template_columns": null,
            "grid_template_rows": null,
            "height": null,
            "justify_content": null,
            "justify_items": null,
            "left": null,
            "margin": null,
            "max_height": null,
            "max_width": null,
            "min_height": null,
            "min_width": null,
            "object_fit": null,
            "object_position": null,
            "order": null,
            "overflow": null,
            "overflow_x": null,
            "overflow_y": null,
            "padding": null,
            "right": null,
            "top": null,
            "visibility": null,
            "width": null
          }
        },
        "2901108d592547b697db6461a8aded32": {
          "model_module": "@jupyter-widgets/base",
          "model_name": "LayoutModel",
          "model_module_version": "1.2.0",
          "state": {
            "_model_module": "@jupyter-widgets/base",
            "_model_module_version": "1.2.0",
            "_model_name": "LayoutModel",
            "_view_count": null,
            "_view_module": "@jupyter-widgets/base",
            "_view_module_version": "1.2.0",
            "_view_name": "LayoutView",
            "align_content": null,
            "align_items": null,
            "align_self": null,
            "border": null,
            "bottom": null,
            "display": null,
            "flex": null,
            "flex_flow": null,
            "grid_area": null,
            "grid_auto_columns": null,
            "grid_auto_flow": null,
            "grid_auto_rows": null,
            "grid_column": null,
            "grid_gap": null,
            "grid_row": null,
            "grid_template_areas": null,
            "grid_template_columns": null,
            "grid_template_rows": null,
            "height": null,
            "justify_content": null,
            "justify_items": null,
            "left": null,
            "margin": null,
            "max_height": null,
            "max_width": null,
            "min_height": null,
            "min_width": null,
            "object_fit": null,
            "object_position": null,
            "order": null,
            "overflow": null,
            "overflow_x": null,
            "overflow_y": null,
            "padding": null,
            "right": null,
            "top": null,
            "visibility": null,
            "width": null
          }
        },
        "f14a51d11369406ca63912fcd90f6f85": {
          "model_module": "@jupyter-widgets/controls",
          "model_name": "ToggleButtonsStyleModel",
          "model_module_version": "1.5.0",
          "state": {
            "_model_module": "@jupyter-widgets/controls",
            "_model_module_version": "1.5.0",
            "_model_name": "ToggleButtonsStyleModel",
            "_view_count": null,
            "_view_module": "@jupyter-widgets/base",
            "_view_module_version": "1.2.0",
            "_view_name": "StyleView",
            "button_width": "",
            "description_width": "",
            "font_weight": ""
          }
        },
        "f955374c31514de9b118803da23a0ecd": {
          "model_module": "@jupyter-widgets/base",
          "model_name": "LayoutModel",
          "model_module_version": "1.2.0",
          "state": {
            "_model_module": "@jupyter-widgets/base",
            "_model_module_version": "1.2.0",
            "_model_name": "LayoutModel",
            "_view_count": null,
            "_view_module": "@jupyter-widgets/base",
            "_view_module_version": "1.2.0",
            "_view_name": "LayoutView",
            "align_content": null,
            "align_items": null,
            "align_self": null,
            "border": null,
            "bottom": null,
            "display": null,
            "flex": null,
            "flex_flow": null,
            "grid_area": null,
            "grid_auto_columns": null,
            "grid_auto_flow": null,
            "grid_auto_rows": null,
            "grid_column": null,
            "grid_gap": null,
            "grid_row": null,
            "grid_template_areas": null,
            "grid_template_columns": null,
            "grid_template_rows": null,
            "height": null,
            "justify_content": null,
            "justify_items": null,
            "left": null,
            "margin": null,
            "max_height": null,
            "max_width": null,
            "min_height": null,
            "min_width": null,
            "object_fit": null,
            "object_position": null,
            "order": null,
            "overflow": null,
            "overflow_x": null,
            "overflow_y": null,
            "padding": null,
            "right": null,
            "top": null,
            "visibility": null,
            "width": null
          }
        }
      }
    }
  },
  "nbformat": 4,
  "nbformat_minor": 5
}
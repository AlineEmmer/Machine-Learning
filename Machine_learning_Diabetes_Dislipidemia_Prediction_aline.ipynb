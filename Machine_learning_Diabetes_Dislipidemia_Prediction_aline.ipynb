{
  "cells": [
    {
      "cell_type": "markdown",
      "metadata": {
        "id": "view-in-github",
        "colab_type": "text"
      },
      "source": [
        "<a href=\"https://colab.research.google.com/github/AlineEmmer/Machine-Learning/blob/main/Machine_learning_Diabetes_Dislipidemia_Prediction_aline.ipynb\" target=\"_parent\"><img src=\"https://colab.research.google.com/assets/colab-badge.svg\" alt=\"Open In Colab\"/></a>"
      ]
    },
    {
      "cell_type": "markdown",
      "metadata": {
        "id": "7da0e5ca"
      },
      "source": [
        "\n",
        "##In this project, a database containing infrared spectra of patients was analyzed: group 0 = patients with mixed dyslipidemia (n=100), group 1 = patients with diabetes (n=100), group 2 = patients with hypercholesterolemia (n=100 ), group 3 = patients with hypertriglyceridemia (n=100), group 4-healthy volunteers (n=100), group 5= patients with pre-diabetes (n=100). The goal is to develop a machine learning model to predict diabetes and dyslipidemia and to identify biomarkers associated with these diseases, with a view to optimizing the diagnosis"
      ],
      "id": "7da0e5ca"
    },
    {
      "cell_type": "code",
      "execution_count": null,
      "metadata": {
        "id": "v13OXQGW32Jv"
      },
      "outputs": [],
      "source": [
        "# Task to be performed\n",
        "# Step 1: Import the database\n",
        "# Step 2: Import the Pandas library to help manipulate the database\n",
        "# Step 3: Remove unnecessary columns\n",
        "# Step 4: Installing the Pycaret library (helps to perform Auto-Machine Learn)\n",
        "# Step 5: Importing the Pycaret library\n",
        "# Step 6: Pre-processing the data\n",
        "# Step 7: Building and comparing different models\n",
        "# Step 8: Training the best model based on predictive performance metrics\n",
        "# Step 9: Extracting the metrics results from the model\n",
        "# Step 10: Conclusions about the model\n",
        "# Step 11: Saving the model to make predictions in real life (Deploy)"
      ],
      "id": "v13OXQGW32Jv"
    },
    {
      "cell_type": "markdown",
      "metadata": {
        "id": "GwAQ-hxOUQ1x"
      },
      "source": [],
      "id": "GwAQ-hxOUQ1x"
    },
    {
      "cell_type": "code",
      "source": [
        "from google.colab import files\n",
        "uploaded = files.upload()"
      ],
      "metadata": {
        "colab": {
          "base_uri": "https://localhost:8080/",
          "height": 73
        },
        "id": "8r0-rXrv0aYe",
        "outputId": "1e65352d-04b5-4b02-d77e-a00ac82a830f"
      },
      "id": "8r0-rXrv0aYe",
      "execution_count": 1,
      "outputs": [
        {
          "output_type": "display_data",
          "data": {
            "text/plain": [
              "<IPython.core.display.HTML object>"
            ],
            "text/html": [
              "\n",
              "     <input type=\"file\" id=\"files-1fcc4861-64ba-4d8a-8676-f9598e1a51e8\" name=\"files[]\" multiple disabled\n",
              "        style=\"border:none\" />\n",
              "     <output id=\"result-1fcc4861-64ba-4d8a-8676-f9598e1a51e8\">\n",
              "      Upload widget is only available when the cell has been executed in the\n",
              "      current browser session. Please rerun this cell to enable.\n",
              "      </output>\n",
              "      <script>// Copyright 2017 Google LLC\n",
              "//\n",
              "// Licensed under the Apache License, Version 2.0 (the \"License\");\n",
              "// you may not use this file except in compliance with the License.\n",
              "// You may obtain a copy of the License at\n",
              "//\n",
              "//      http://www.apache.org/licenses/LICENSE-2.0\n",
              "//\n",
              "// Unless required by applicable law or agreed to in writing, software\n",
              "// distributed under the License is distributed on an \"AS IS\" BASIS,\n",
              "// WITHOUT WARRANTIES OR CONDITIONS OF ANY KIND, either express or implied.\n",
              "// See the License for the specific language governing permissions and\n",
              "// limitations under the License.\n",
              "\n",
              "/**\n",
              " * @fileoverview Helpers for google.colab Python module.\n",
              " */\n",
              "(function(scope) {\n",
              "function span(text, styleAttributes = {}) {\n",
              "  const element = document.createElement('span');\n",
              "  element.textContent = text;\n",
              "  for (const key of Object.keys(styleAttributes)) {\n",
              "    element.style[key] = styleAttributes[key];\n",
              "  }\n",
              "  return element;\n",
              "}\n",
              "\n",
              "// Max number of bytes which will be uploaded at a time.\n",
              "const MAX_PAYLOAD_SIZE = 100 * 1024;\n",
              "\n",
              "function _uploadFiles(inputId, outputId) {\n",
              "  const steps = uploadFilesStep(inputId, outputId);\n",
              "  const outputElement = document.getElementById(outputId);\n",
              "  // Cache steps on the outputElement to make it available for the next call\n",
              "  // to uploadFilesContinue from Python.\n",
              "  outputElement.steps = steps;\n",
              "\n",
              "  return _uploadFilesContinue(outputId);\n",
              "}\n",
              "\n",
              "// This is roughly an async generator (not supported in the browser yet),\n",
              "// where there are multiple asynchronous steps and the Python side is going\n",
              "// to poll for completion of each step.\n",
              "// This uses a Promise to block the python side on completion of each step,\n",
              "// then passes the result of the previous step as the input to the next step.\n",
              "function _uploadFilesContinue(outputId) {\n",
              "  const outputElement = document.getElementById(outputId);\n",
              "  const steps = outputElement.steps;\n",
              "\n",
              "  const next = steps.next(outputElement.lastPromiseValue);\n",
              "  return Promise.resolve(next.value.promise).then((value) => {\n",
              "    // Cache the last promise value to make it available to the next\n",
              "    // step of the generator.\n",
              "    outputElement.lastPromiseValue = value;\n",
              "    return next.value.response;\n",
              "  });\n",
              "}\n",
              "\n",
              "/**\n",
              " * Generator function which is called between each async step of the upload\n",
              " * process.\n",
              " * @param {string} inputId Element ID of the input file picker element.\n",
              " * @param {string} outputId Element ID of the output display.\n",
              " * @return {!Iterable<!Object>} Iterable of next steps.\n",
              " */\n",
              "function* uploadFilesStep(inputId, outputId) {\n",
              "  const inputElement = document.getElementById(inputId);\n",
              "  inputElement.disabled = false;\n",
              "\n",
              "  const outputElement = document.getElementById(outputId);\n",
              "  outputElement.innerHTML = '';\n",
              "\n",
              "  const pickedPromise = new Promise((resolve) => {\n",
              "    inputElement.addEventListener('change', (e) => {\n",
              "      resolve(e.target.files);\n",
              "    });\n",
              "  });\n",
              "\n",
              "  const cancel = document.createElement('button');\n",
              "  inputElement.parentElement.appendChild(cancel);\n",
              "  cancel.textContent = 'Cancel upload';\n",
              "  const cancelPromise = new Promise((resolve) => {\n",
              "    cancel.onclick = () => {\n",
              "      resolve(null);\n",
              "    };\n",
              "  });\n",
              "\n",
              "  // Wait for the user to pick the files.\n",
              "  const files = yield {\n",
              "    promise: Promise.race([pickedPromise, cancelPromise]),\n",
              "    response: {\n",
              "      action: 'starting',\n",
              "    }\n",
              "  };\n",
              "\n",
              "  cancel.remove();\n",
              "\n",
              "  // Disable the input element since further picks are not allowed.\n",
              "  inputElement.disabled = true;\n",
              "\n",
              "  if (!files) {\n",
              "    return {\n",
              "      response: {\n",
              "        action: 'complete',\n",
              "      }\n",
              "    };\n",
              "  }\n",
              "\n",
              "  for (const file of files) {\n",
              "    const li = document.createElement('li');\n",
              "    li.append(span(file.name, {fontWeight: 'bold'}));\n",
              "    li.append(span(\n",
              "        `(${file.type || 'n/a'}) - ${file.size} bytes, ` +\n",
              "        `last modified: ${\n",
              "            file.lastModifiedDate ? file.lastModifiedDate.toLocaleDateString() :\n",
              "                                    'n/a'} - `));\n",
              "    const percent = span('0% done');\n",
              "    li.appendChild(percent);\n",
              "\n",
              "    outputElement.appendChild(li);\n",
              "\n",
              "    const fileDataPromise = new Promise((resolve) => {\n",
              "      const reader = new FileReader();\n",
              "      reader.onload = (e) => {\n",
              "        resolve(e.target.result);\n",
              "      };\n",
              "      reader.readAsArrayBuffer(file);\n",
              "    });\n",
              "    // Wait for the data to be ready.\n",
              "    let fileData = yield {\n",
              "      promise: fileDataPromise,\n",
              "      response: {\n",
              "        action: 'continue',\n",
              "      }\n",
              "    };\n",
              "\n",
              "    // Use a chunked sending to avoid message size limits. See b/62115660.\n",
              "    let position = 0;\n",
              "    do {\n",
              "      const length = Math.min(fileData.byteLength - position, MAX_PAYLOAD_SIZE);\n",
              "      const chunk = new Uint8Array(fileData, position, length);\n",
              "      position += length;\n",
              "\n",
              "      const base64 = btoa(String.fromCharCode.apply(null, chunk));\n",
              "      yield {\n",
              "        response: {\n",
              "          action: 'append',\n",
              "          file: file.name,\n",
              "          data: base64,\n",
              "        },\n",
              "      };\n",
              "\n",
              "      let percentDone = fileData.byteLength === 0 ?\n",
              "          100 :\n",
              "          Math.round((position / fileData.byteLength) * 100);\n",
              "      percent.textContent = `${percentDone}% done`;\n",
              "\n",
              "    } while (position < fileData.byteLength);\n",
              "  }\n",
              "\n",
              "  // All done.\n",
              "  yield {\n",
              "    response: {\n",
              "      action: 'complete',\n",
              "    }\n",
              "  };\n",
              "}\n",
              "\n",
              "scope.google = scope.google || {};\n",
              "scope.google.colab = scope.google.colab || {};\n",
              "scope.google.colab._files = {\n",
              "  _uploadFiles,\n",
              "  _uploadFilesContinue,\n",
              "};\n",
              "})(self);\n",
              "</script> "
            ]
          },
          "metadata": {}
        },
        {
          "output_type": "stream",
          "name": "stdout",
          "text": [
            "Saving Dataset.xlsx to Dataset.xlsx\n"
          ]
        }
      ]
    },
    {
      "cell_type": "code",
      "execution_count": 2,
      "metadata": {
        "colab": {
          "base_uri": "https://localhost:8080/",
          "height": 487
        },
        "id": "Y4YeHICemuoc",
        "outputId": "74728fe1-2a1c-42f4-c043-1d5258feab1c"
      },
      "outputs": [
        {
          "output_type": "display_data",
          "data": {
            "text/plain": [
              "    Classes  3998.4    3997  3995.6  3994.2  3992.8  3991.3  3989.9  3988.5  \\\n",
              "0     PREDM  0.9979  0.9973  0.9970  0.9970  0.9972  0.9972  0.9971  0.9970   \n",
              "1     PREDM  0.9976  0.9973  0.9971  0.9971  0.9969  0.9965  0.9961  0.9963   \n",
              "2     PREDM  0.9973  0.9968  0.9966  0.9966  0.9969  0.9970  0.9970  0.9970   \n",
              "3     PREDM  0.9969  0.9964  0.9962  0.9964  0.9967  0.9968  0.9966  0.9966   \n",
              "4     PREDM  0.9979  0.9974  0.9969  0.9966  0.9966  0.9966  0.9966  0.9967   \n",
              "..      ...     ...     ...     ...     ...     ...     ...     ...     ...   \n",
              "595     DYS  0.9959  0.9956  0.9953  0.9951  0.9953  0.9956  0.9958  0.9957   \n",
              "596     DYS  0.9964  0.9964  0.9960  0.9955  0.9952  0.9950  0.9950  0.9948   \n",
              "597     DYS  0.9958  0.9958  0.9957  0.9957  0.9959  0.9961  0.9961  0.9959   \n",
              "598     DYS  0.9964  0.9960  0.9955  0.9953  0.9954  0.9958  0.9961  0.9962   \n",
              "599     DYS  0.9964  0.9960  0.9955  0.9953  0.9954  0.9958  0.9961  0.9962   \n",
              "\n",
              "     3987.1  ...   412.3   410.9   409.5   408.1   406.6   405.2   403.8  \\\n",
              "0    0.9970  ...  0.2580  0.2571  0.2563  0.2561  0.2565  0.2568  0.2565   \n",
              "1    0.9968  ...  0.2561  0.2537  0.2523  0.2527  0.2539  0.2548  0.2545   \n",
              "2    0.9970  ...  0.2556  0.2558  0.2565  0.2579  0.2595  0.2607  0.2609   \n",
              "3    0.9968  ...  0.2558  0.2554  0.2550  0.2551  0.2558  0.2567  0.2567   \n",
              "4    0.9969  ...  0.2559  0.2545  0.2534  0.2532  0.2541  0.2550  0.2552   \n",
              "..      ...  ...     ...     ...     ...     ...     ...     ...     ...   \n",
              "595  0.9954  ...  0.2691  0.2686  0.2678  0.2674  0.2675  0.2671  0.2657   \n",
              "596  0.9945  ...  0.2653  0.2648  0.2659  0.2674  0.2684  0.2680  0.2664   \n",
              "597  0.9954  ...  0.2715  0.2713  0.2708  0.2700  0.2684  0.2662  0.2641   \n",
              "598  0.9959  ...  0.2687  0.2672  0.2671  0.2681  0.2692  0.2695  0.2689   \n",
              "599  0.9959  ...  0.2687  0.2672  0.2671  0.2681  0.2692  0.2695  0.2689   \n",
              "\n",
              "      402.4     401   399.6  \n",
              "0    0.2554  0.2541  0.2538  \n",
              "1    0.2532  0.2515  0.2503  \n",
              "2    0.2594  0.2558  0.2508  \n",
              "3    0.2550  0.2517  0.2478  \n",
              "4    0.2548  0.2545  0.2551  \n",
              "..      ...     ...     ...  \n",
              "595  0.2639  0.2630  0.2630  \n",
              "596  0.2651  0.2651  0.2664  \n",
              "597  0.2626  0.2620  0.2627  \n",
              "598  0.2675  0.2656  0.2641  \n",
              "599  0.2675  0.2656  0.2641  \n",
              "\n",
              "[600 rows x 2542 columns]"
            ],
            "text/html": [
              "\n",
              "  <div id=\"df-9f66181c-07b2-43bb-a0c8-6bdef4d1d11f\">\n",
              "    <div class=\"colab-df-container\">\n",
              "      <div>\n",
              "<style scoped>\n",
              "    .dataframe tbody tr th:only-of-type {\n",
              "        vertical-align: middle;\n",
              "    }\n",
              "\n",
              "    .dataframe tbody tr th {\n",
              "        vertical-align: top;\n",
              "    }\n",
              "\n",
              "    .dataframe thead th {\n",
              "        text-align: right;\n",
              "    }\n",
              "</style>\n",
              "<table border=\"1\" class=\"dataframe\">\n",
              "  <thead>\n",
              "    <tr style=\"text-align: right;\">\n",
              "      <th></th>\n",
              "      <th>Classes</th>\n",
              "      <th>3998.4</th>\n",
              "      <th>3997</th>\n",
              "      <th>3995.6</th>\n",
              "      <th>3994.2</th>\n",
              "      <th>3992.8</th>\n",
              "      <th>3991.3</th>\n",
              "      <th>3989.9</th>\n",
              "      <th>3988.5</th>\n",
              "      <th>3987.1</th>\n",
              "      <th>...</th>\n",
              "      <th>412.3</th>\n",
              "      <th>410.9</th>\n",
              "      <th>409.5</th>\n",
              "      <th>408.1</th>\n",
              "      <th>406.6</th>\n",
              "      <th>405.2</th>\n",
              "      <th>403.8</th>\n",
              "      <th>402.4</th>\n",
              "      <th>401</th>\n",
              "      <th>399.6</th>\n",
              "    </tr>\n",
              "  </thead>\n",
              "  <tbody>\n",
              "    <tr>\n",
              "      <th>0</th>\n",
              "      <td>PREDM</td>\n",
              "      <td>0.9979</td>\n",
              "      <td>0.9973</td>\n",
              "      <td>0.9970</td>\n",
              "      <td>0.9970</td>\n",
              "      <td>0.9972</td>\n",
              "      <td>0.9972</td>\n",
              "      <td>0.9971</td>\n",
              "      <td>0.9970</td>\n",
              "      <td>0.9970</td>\n",
              "      <td>...</td>\n",
              "      <td>0.2580</td>\n",
              "      <td>0.2571</td>\n",
              "      <td>0.2563</td>\n",
              "      <td>0.2561</td>\n",
              "      <td>0.2565</td>\n",
              "      <td>0.2568</td>\n",
              "      <td>0.2565</td>\n",
              "      <td>0.2554</td>\n",
              "      <td>0.2541</td>\n",
              "      <td>0.2538</td>\n",
              "    </tr>\n",
              "    <tr>\n",
              "      <th>1</th>\n",
              "      <td>PREDM</td>\n",
              "      <td>0.9976</td>\n",
              "      <td>0.9973</td>\n",
              "      <td>0.9971</td>\n",
              "      <td>0.9971</td>\n",
              "      <td>0.9969</td>\n",
              "      <td>0.9965</td>\n",
              "      <td>0.9961</td>\n",
              "      <td>0.9963</td>\n",
              "      <td>0.9968</td>\n",
              "      <td>...</td>\n",
              "      <td>0.2561</td>\n",
              "      <td>0.2537</td>\n",
              "      <td>0.2523</td>\n",
              "      <td>0.2527</td>\n",
              "      <td>0.2539</td>\n",
              "      <td>0.2548</td>\n",
              "      <td>0.2545</td>\n",
              "      <td>0.2532</td>\n",
              "      <td>0.2515</td>\n",
              "      <td>0.2503</td>\n",
              "    </tr>\n",
              "    <tr>\n",
              "      <th>2</th>\n",
              "      <td>PREDM</td>\n",
              "      <td>0.9973</td>\n",
              "      <td>0.9968</td>\n",
              "      <td>0.9966</td>\n",
              "      <td>0.9966</td>\n",
              "      <td>0.9969</td>\n",
              "      <td>0.9970</td>\n",
              "      <td>0.9970</td>\n",
              "      <td>0.9970</td>\n",
              "      <td>0.9970</td>\n",
              "      <td>...</td>\n",
              "      <td>0.2556</td>\n",
              "      <td>0.2558</td>\n",
              "      <td>0.2565</td>\n",
              "      <td>0.2579</td>\n",
              "      <td>0.2595</td>\n",
              "      <td>0.2607</td>\n",
              "      <td>0.2609</td>\n",
              "      <td>0.2594</td>\n",
              "      <td>0.2558</td>\n",
              "      <td>0.2508</td>\n",
              "    </tr>\n",
              "    <tr>\n",
              "      <th>3</th>\n",
              "      <td>PREDM</td>\n",
              "      <td>0.9969</td>\n",
              "      <td>0.9964</td>\n",
              "      <td>0.9962</td>\n",
              "      <td>0.9964</td>\n",
              "      <td>0.9967</td>\n",
              "      <td>0.9968</td>\n",
              "      <td>0.9966</td>\n",
              "      <td>0.9966</td>\n",
              "      <td>0.9968</td>\n",
              "      <td>...</td>\n",
              "      <td>0.2558</td>\n",
              "      <td>0.2554</td>\n",
              "      <td>0.2550</td>\n",
              "      <td>0.2551</td>\n",
              "      <td>0.2558</td>\n",
              "      <td>0.2567</td>\n",
              "      <td>0.2567</td>\n",
              "      <td>0.2550</td>\n",
              "      <td>0.2517</td>\n",
              "      <td>0.2478</td>\n",
              "    </tr>\n",
              "    <tr>\n",
              "      <th>4</th>\n",
              "      <td>PREDM</td>\n",
              "      <td>0.9979</td>\n",
              "      <td>0.9974</td>\n",
              "      <td>0.9969</td>\n",
              "      <td>0.9966</td>\n",
              "      <td>0.9966</td>\n",
              "      <td>0.9966</td>\n",
              "      <td>0.9966</td>\n",
              "      <td>0.9967</td>\n",
              "      <td>0.9969</td>\n",
              "      <td>...</td>\n",
              "      <td>0.2559</td>\n",
              "      <td>0.2545</td>\n",
              "      <td>0.2534</td>\n",
              "      <td>0.2532</td>\n",
              "      <td>0.2541</td>\n",
              "      <td>0.2550</td>\n",
              "      <td>0.2552</td>\n",
              "      <td>0.2548</td>\n",
              "      <td>0.2545</td>\n",
              "      <td>0.2551</td>\n",
              "    </tr>\n",
              "    <tr>\n",
              "      <th>...</th>\n",
              "      <td>...</td>\n",
              "      <td>...</td>\n",
              "      <td>...</td>\n",
              "      <td>...</td>\n",
              "      <td>...</td>\n",
              "      <td>...</td>\n",
              "      <td>...</td>\n",
              "      <td>...</td>\n",
              "      <td>...</td>\n",
              "      <td>...</td>\n",
              "      <td>...</td>\n",
              "      <td>...</td>\n",
              "      <td>...</td>\n",
              "      <td>...</td>\n",
              "      <td>...</td>\n",
              "      <td>...</td>\n",
              "      <td>...</td>\n",
              "      <td>...</td>\n",
              "      <td>...</td>\n",
              "      <td>...</td>\n",
              "      <td>...</td>\n",
              "    </tr>\n",
              "    <tr>\n",
              "      <th>595</th>\n",
              "      <td>DYS</td>\n",
              "      <td>0.9959</td>\n",
              "      <td>0.9956</td>\n",
              "      <td>0.9953</td>\n",
              "      <td>0.9951</td>\n",
              "      <td>0.9953</td>\n",
              "      <td>0.9956</td>\n",
              "      <td>0.9958</td>\n",
              "      <td>0.9957</td>\n",
              "      <td>0.9954</td>\n",
              "      <td>...</td>\n",
              "      <td>0.2691</td>\n",
              "      <td>0.2686</td>\n",
              "      <td>0.2678</td>\n",
              "      <td>0.2674</td>\n",
              "      <td>0.2675</td>\n",
              "      <td>0.2671</td>\n",
              "      <td>0.2657</td>\n",
              "      <td>0.2639</td>\n",
              "      <td>0.2630</td>\n",
              "      <td>0.2630</td>\n",
              "    </tr>\n",
              "    <tr>\n",
              "      <th>596</th>\n",
              "      <td>DYS</td>\n",
              "      <td>0.9964</td>\n",
              "      <td>0.9964</td>\n",
              "      <td>0.9960</td>\n",
              "      <td>0.9955</td>\n",
              "      <td>0.9952</td>\n",
              "      <td>0.9950</td>\n",
              "      <td>0.9950</td>\n",
              "      <td>0.9948</td>\n",
              "      <td>0.9945</td>\n",
              "      <td>...</td>\n",
              "      <td>0.2653</td>\n",
              "      <td>0.2648</td>\n",
              "      <td>0.2659</td>\n",
              "      <td>0.2674</td>\n",
              "      <td>0.2684</td>\n",
              "      <td>0.2680</td>\n",
              "      <td>0.2664</td>\n",
              "      <td>0.2651</td>\n",
              "      <td>0.2651</td>\n",
              "      <td>0.2664</td>\n",
              "    </tr>\n",
              "    <tr>\n",
              "      <th>597</th>\n",
              "      <td>DYS</td>\n",
              "      <td>0.9958</td>\n",
              "      <td>0.9958</td>\n",
              "      <td>0.9957</td>\n",
              "      <td>0.9957</td>\n",
              "      <td>0.9959</td>\n",
              "      <td>0.9961</td>\n",
              "      <td>0.9961</td>\n",
              "      <td>0.9959</td>\n",
              "      <td>0.9954</td>\n",
              "      <td>...</td>\n",
              "      <td>0.2715</td>\n",
              "      <td>0.2713</td>\n",
              "      <td>0.2708</td>\n",
              "      <td>0.2700</td>\n",
              "      <td>0.2684</td>\n",
              "      <td>0.2662</td>\n",
              "      <td>0.2641</td>\n",
              "      <td>0.2626</td>\n",
              "      <td>0.2620</td>\n",
              "      <td>0.2627</td>\n",
              "    </tr>\n",
              "    <tr>\n",
              "      <th>598</th>\n",
              "      <td>DYS</td>\n",
              "      <td>0.9964</td>\n",
              "      <td>0.9960</td>\n",
              "      <td>0.9955</td>\n",
              "      <td>0.9953</td>\n",
              "      <td>0.9954</td>\n",
              "      <td>0.9958</td>\n",
              "      <td>0.9961</td>\n",
              "      <td>0.9962</td>\n",
              "      <td>0.9959</td>\n",
              "      <td>...</td>\n",
              "      <td>0.2687</td>\n",
              "      <td>0.2672</td>\n",
              "      <td>0.2671</td>\n",
              "      <td>0.2681</td>\n",
              "      <td>0.2692</td>\n",
              "      <td>0.2695</td>\n",
              "      <td>0.2689</td>\n",
              "      <td>0.2675</td>\n",
              "      <td>0.2656</td>\n",
              "      <td>0.2641</td>\n",
              "    </tr>\n",
              "    <tr>\n",
              "      <th>599</th>\n",
              "      <td>DYS</td>\n",
              "      <td>0.9964</td>\n",
              "      <td>0.9960</td>\n",
              "      <td>0.9955</td>\n",
              "      <td>0.9953</td>\n",
              "      <td>0.9954</td>\n",
              "      <td>0.9958</td>\n",
              "      <td>0.9961</td>\n",
              "      <td>0.9962</td>\n",
              "      <td>0.9959</td>\n",
              "      <td>...</td>\n",
              "      <td>0.2687</td>\n",
              "      <td>0.2672</td>\n",
              "      <td>0.2671</td>\n",
              "      <td>0.2681</td>\n",
              "      <td>0.2692</td>\n",
              "      <td>0.2695</td>\n",
              "      <td>0.2689</td>\n",
              "      <td>0.2675</td>\n",
              "      <td>0.2656</td>\n",
              "      <td>0.2641</td>\n",
              "    </tr>\n",
              "  </tbody>\n",
              "</table>\n",
              "<p>600 rows × 2542 columns</p>\n",
              "</div>\n",
              "      <button class=\"colab-df-convert\" onclick=\"convertToInteractive('df-9f66181c-07b2-43bb-a0c8-6bdef4d1d11f')\"\n",
              "              title=\"Convert this dataframe to an interactive table.\"\n",
              "              style=\"display:none;\">\n",
              "        \n",
              "  <svg xmlns=\"http://www.w3.org/2000/svg\" height=\"24px\"viewBox=\"0 0 24 24\"\n",
              "       width=\"24px\">\n",
              "    <path d=\"M0 0h24v24H0V0z\" fill=\"none\"/>\n",
              "    <path d=\"M18.56 5.44l.94 2.06.94-2.06 2.06-.94-2.06-.94-.94-2.06-.94 2.06-2.06.94zm-11 1L8.5 8.5l.94-2.06 2.06-.94-2.06-.94L8.5 2.5l-.94 2.06-2.06.94zm10 10l.94 2.06.94-2.06 2.06-.94-2.06-.94-.94-2.06-.94 2.06-2.06.94z\"/><path d=\"M17.41 7.96l-1.37-1.37c-.4-.4-.92-.59-1.43-.59-.52 0-1.04.2-1.43.59L10.3 9.45l-7.72 7.72c-.78.78-.78 2.05 0 2.83L4 21.41c.39.39.9.59 1.41.59.51 0 1.02-.2 1.41-.59l7.78-7.78 2.81-2.81c.8-.78.8-2.07 0-2.86zM5.41 20L4 18.59l7.72-7.72 1.47 1.35L5.41 20z\"/>\n",
              "  </svg>\n",
              "      </button>\n",
              "      \n",
              "  <style>\n",
              "    .colab-df-container {\n",
              "      display:flex;\n",
              "      flex-wrap:wrap;\n",
              "      gap: 12px;\n",
              "    }\n",
              "\n",
              "    .colab-df-convert {\n",
              "      background-color: #E8F0FE;\n",
              "      border: none;\n",
              "      border-radius: 50%;\n",
              "      cursor: pointer;\n",
              "      display: none;\n",
              "      fill: #1967D2;\n",
              "      height: 32px;\n",
              "      padding: 0 0 0 0;\n",
              "      width: 32px;\n",
              "    }\n",
              "\n",
              "    .colab-df-convert:hover {\n",
              "      background-color: #E2EBFA;\n",
              "      box-shadow: 0px 1px 2px rgba(60, 64, 67, 0.3), 0px 1px 3px 1px rgba(60, 64, 67, 0.15);\n",
              "      fill: #174EA6;\n",
              "    }\n",
              "\n",
              "    [theme=dark] .colab-df-convert {\n",
              "      background-color: #3B4455;\n",
              "      fill: #D2E3FC;\n",
              "    }\n",
              "\n",
              "    [theme=dark] .colab-df-convert:hover {\n",
              "      background-color: #434B5C;\n",
              "      box-shadow: 0px 1px 3px 1px rgba(0, 0, 0, 0.15);\n",
              "      filter: drop-shadow(0px 1px 2px rgba(0, 0, 0, 0.3));\n",
              "      fill: #FFFFFF;\n",
              "    }\n",
              "  </style>\n",
              "\n",
              "      <script>\n",
              "        const buttonEl =\n",
              "          document.querySelector('#df-9f66181c-07b2-43bb-a0c8-6bdef4d1d11f button.colab-df-convert');\n",
              "        buttonEl.style.display =\n",
              "          google.colab.kernel.accessAllowed ? 'block' : 'none';\n",
              "\n",
              "        async function convertToInteractive(key) {\n",
              "          const element = document.querySelector('#df-9f66181c-07b2-43bb-a0c8-6bdef4d1d11f');\n",
              "          const dataTable =\n",
              "            await google.colab.kernel.invokeFunction('convertToInteractive',\n",
              "                                                     [key], {});\n",
              "          if (!dataTable) return;\n",
              "\n",
              "          const docLinkHtml = 'Like what you see? Visit the ' +\n",
              "            '<a target=\"_blank\" href=https://colab.research.google.com/notebooks/data_table.ipynb>data table notebook</a>'\n",
              "            + ' to learn more about interactive tables.';\n",
              "          element.innerHTML = '';\n",
              "          dataTable['output_type'] = 'display_data';\n",
              "          await google.colab.output.renderOutput(dataTable, element);\n",
              "          const docLink = document.createElement('div');\n",
              "          docLink.innerHTML = docLinkHtml;\n",
              "          element.appendChild(docLink);\n",
              "        }\n",
              "      </script>\n",
              "    </div>\n",
              "  </div>\n",
              "  "
            ]
          },
          "metadata": {}
        }
      ],
      "source": [
        "# Step 2: Import the Pandas library to help manipulate the database\n",
        "import pandas as pd\n",
        "df1 = pd.read_excel(\"Dataset.xlsx\")\n",
        "display (df1)"
      ],
      "id": "Y4YeHICemuoc"
    },
    {
      "cell_type": "code",
      "execution_count": 3,
      "metadata": {
        "colab": {
          "base_uri": "https://localhost:8080/"
        },
        "id": "5U1Mqbfvsp2w",
        "outputId": "cab782f2-0726-4184-fe32-139e35d58b5b"
      },
      "outputs": [
        {
          "output_type": "stream",
          "name": "stdout",
          "text": [
            "Looking in indexes: https://pypi.org/simple, https://us-python.pkg.dev/colab-wheels/public/simple/\n",
            "Collecting pycaret\n",
            "  Downloading pycaret-3.0.2-py3-none-any.whl (483 kB)\n",
            "\u001b[2K     \u001b[90m━━━━━━━━━━━━━━━━━━━━━━━━━━━━━━━━━━━━━━━\u001b[0m \u001b[32m483.6/483.6 kB\u001b[0m \u001b[31m9.0 MB/s\u001b[0m eta \u001b[36m0:00:00\u001b[0m\n",
            "\u001b[?25hRequirement already satisfied: ipython>=5.5.0 in /usr/local/lib/python3.10/dist-packages (from pycaret) (7.34.0)\n",
            "Requirement already satisfied: ipywidgets>=7.6.5 in /usr/local/lib/python3.10/dist-packages (from pycaret) (7.7.1)\n",
            "Requirement already satisfied: tqdm>=4.62.0 in /usr/local/lib/python3.10/dist-packages (from pycaret) (4.65.0)\n",
            "Requirement already satisfied: numpy<1.24,>=1.21 in /usr/local/lib/python3.10/dist-packages (from pycaret) (1.22.4)\n",
            "Requirement already satisfied: pandas<2.0.0,>=1.3.0 in /usr/local/lib/python3.10/dist-packages (from pycaret) (1.5.3)\n",
            "Requirement already satisfied: jinja2>=1.2 in /usr/local/lib/python3.10/dist-packages (from pycaret) (3.1.2)\n",
            "Requirement already satisfied: scipy<2.0.0 in /usr/local/lib/python3.10/dist-packages (from pycaret) (1.10.1)\n",
            "Requirement already satisfied: joblib>=1.2.0 in /usr/local/lib/python3.10/dist-packages (from pycaret) (1.2.0)\n",
            "Requirement already satisfied: scikit-learn>=1.0 in /usr/local/lib/python3.10/dist-packages (from pycaret) (1.2.2)\n",
            "Collecting pyod>=1.0.8 (from pycaret)\n",
            "  Downloading pyod-1.0.9.tar.gz (149 kB)\n",
            "\u001b[2K     \u001b[90m━━━━━━━━━━━━━━━━━━━━━━━━━━━━━━━━━━━━━━\u001b[0m \u001b[32m150.0/150.0 kB\u001b[0m \u001b[31m17.0 MB/s\u001b[0m eta \u001b[36m0:00:00\u001b[0m\n",
            "\u001b[?25h  Preparing metadata (setup.py) ... \u001b[?25l\u001b[?25hdone\n",
            "Requirement already satisfied: imbalanced-learn>=0.8.1 in /usr/local/lib/python3.10/dist-packages (from pycaret) (0.10.1)\n",
            "Collecting category-encoders>=2.4.0 (from pycaret)\n",
            "  Downloading category_encoders-2.6.1-py2.py3-none-any.whl (81 kB)\n",
            "\u001b[2K     \u001b[90m━━━━━━━━━━━━━━━━━━━━━━━━━━━━━━━━━━━━━━━━\u001b[0m \u001b[32m81.9/81.9 kB\u001b[0m \u001b[31m9.2 MB/s\u001b[0m eta \u001b[36m0:00:00\u001b[0m\n",
            "\u001b[?25hRequirement already satisfied: lightgbm>=3.0.0 in /usr/local/lib/python3.10/dist-packages (from pycaret) (3.3.5)\n",
            "Requirement already satisfied: numba>=0.55.0 in /usr/local/lib/python3.10/dist-packages (from pycaret) (0.56.4)\n",
            "Requirement already satisfied: requests>=2.27.1 in /usr/local/lib/python3.10/dist-packages (from pycaret) (2.27.1)\n",
            "Requirement already satisfied: psutil>=5.9.0 in /usr/local/lib/python3.10/dist-packages (from pycaret) (5.9.5)\n",
            "Requirement already satisfied: markupsafe>=2.0.1 in /usr/local/lib/python3.10/dist-packages (from pycaret) (2.1.2)\n",
            "Collecting importlib-metadata>=4.12.0 (from pycaret)\n",
            "  Downloading importlib_metadata-6.6.0-py3-none-any.whl (22 kB)\n",
            "Requirement already satisfied: nbformat>=4.2.0 in /usr/local/lib/python3.10/dist-packages (from pycaret) (5.8.0)\n",
            "Requirement already satisfied: cloudpickle in /usr/local/lib/python3.10/dist-packages (from pycaret) (2.2.1)\n",
            "Collecting deprecation>=2.1.0 (from pycaret)\n",
            "  Downloading deprecation-2.1.0-py2.py3-none-any.whl (11 kB)\n",
            "Collecting xxhash (from pycaret)\n",
            "  Downloading xxhash-3.2.0-cp310-cp310-manylinux_2_17_x86_64.manylinux2014_x86_64.whl (212 kB)\n",
            "\u001b[2K     \u001b[90m━━━━━━━━━━━━━━━━━━━━━━━━━━━━━━━━━━━━━━\u001b[0m \u001b[32m212.5/212.5 kB\u001b[0m \u001b[31m19.4 MB/s\u001b[0m eta \u001b[36m0:00:00\u001b[0m\n",
            "\u001b[?25hRequirement already satisfied: matplotlib>=3.3.0 in /usr/local/lib/python3.10/dist-packages (from pycaret) (3.7.1)\n",
            "Collecting scikit-plot>=0.3.7 (from pycaret)\n",
            "  Downloading scikit_plot-0.3.7-py3-none-any.whl (33 kB)\n",
            "Requirement already satisfied: yellowbrick>=1.4 in /usr/local/lib/python3.10/dist-packages (from pycaret) (1.5)\n",
            "Requirement already satisfied: plotly>=5.0.0 in /usr/local/lib/python3.10/dist-packages (from pycaret) (5.13.1)\n",
            "Collecting kaleido>=0.2.1 (from pycaret)\n",
            "  Downloading kaleido-0.2.1-py2.py3-none-manylinux1_x86_64.whl (79.9 MB)\n",
            "\u001b[2K     \u001b[90m━━━━━━━━━━━━━━━━━━━━━━━━━━━━━━━━━━━━━━━━\u001b[0m \u001b[32m79.9/79.9 MB\u001b[0m \u001b[31m10.1 MB/s\u001b[0m eta \u001b[36m0:00:00\u001b[0m\n",
            "\u001b[?25hCollecting schemdraw==0.15 (from pycaret)\n",
            "  Downloading schemdraw-0.15-py3-none-any.whl (106 kB)\n",
            "\u001b[2K     \u001b[90m━━━━━━━━━━━━━━━━━━━━━━━━━━━━━━━━━━━━━━\u001b[0m \u001b[32m106.8/106.8 kB\u001b[0m \u001b[31m11.4 MB/s\u001b[0m eta \u001b[36m0:00:00\u001b[0m\n",
            "\u001b[?25hCollecting plotly-resampler>=0.8.3.1 (from pycaret)\n",
            "  Downloading plotly_resampler-0.8.3.2.tar.gz (46 kB)\n",
            "\u001b[2K     \u001b[90m━━━━━━━━━━━━━━━━━━━━━━━━━━━━━━━━━━━━━━━━\u001b[0m \u001b[32m46.4/46.4 kB\u001b[0m \u001b[31m4.5 MB/s\u001b[0m eta \u001b[36m0:00:00\u001b[0m\n",
            "\u001b[?25h  Installing build dependencies ... \u001b[?25l\u001b[?25hdone\n",
            "  Getting requirements to build wheel ... \u001b[?25l\u001b[?25hdone\n",
            "  Preparing metadata (pyproject.toml) ... \u001b[?25l\u001b[?25hdone\n",
            "Requirement already satisfied: statsmodels>=0.12.1 in /usr/local/lib/python3.10/dist-packages (from pycaret) (0.13.5)\n",
            "Collecting sktime!=0.17.1,<0.17.2,>=0.16.1 (from pycaret)\n",
            "  Downloading sktime-0.17.0-py3-none-any.whl (16.1 MB)\n",
            "\u001b[2K     \u001b[90m━━━━━━━━━━━━━━━━━━━━━━━━━━━━━━━━━━━━━━━━\u001b[0m \u001b[32m16.1/16.1 MB\u001b[0m \u001b[31m54.7 MB/s\u001b[0m eta \u001b[36m0:00:00\u001b[0m\n",
            "\u001b[?25hCollecting tbats>=1.1.3 (from pycaret)\n",
            "  Downloading tbats-1.1.3-py3-none-any.whl (44 kB)\n",
            "\u001b[2K     \u001b[90m━━━━━━━━━━━━━━━━━━━━━━━━━━━━━━━━━━━━━━━━\u001b[0m \u001b[32m44.0/44.0 kB\u001b[0m \u001b[31m4.1 MB/s\u001b[0m eta \u001b[36m0:00:00\u001b[0m\n",
            "\u001b[?25hCollecting pmdarima!=1.8.1,<3.0.0,>=1.8.0 (from pycaret)\n",
            "  Downloading pmdarima-2.0.3-cp310-cp310-manylinux_2_17_x86_64.manylinux2014_x86_64.manylinux_2_28_x86_64.whl (1.8 MB)\n",
            "\u001b[2K     \u001b[90m━━━━━━━━━━━━━━━━━━━━━━━━━━━━━━━━━━━━━━━━\u001b[0m \u001b[32m1.8/1.8 MB\u001b[0m \u001b[31m34.2 MB/s\u001b[0m eta \u001b[36m0:00:00\u001b[0m\n",
            "\u001b[?25hCollecting wurlitzer (from pycaret)\n",
            "  Downloading wurlitzer-3.0.3-py3-none-any.whl (7.3 kB)\n",
            "Requirement already satisfied: patsy>=0.5.1 in /usr/local/lib/python3.10/dist-packages (from category-encoders>=2.4.0->pycaret) (0.5.3)\n",
            "Requirement already satisfied: packaging in /usr/local/lib/python3.10/dist-packages (from deprecation>=2.1.0->pycaret) (23.1)\n",
            "Requirement already satisfied: threadpoolctl>=2.0.0 in /usr/local/lib/python3.10/dist-packages (from imbalanced-learn>=0.8.1->pycaret) (3.1.0)\n",
            "Requirement already satisfied: zipp>=0.5 in /usr/local/lib/python3.10/dist-packages (from importlib-metadata>=4.12.0->pycaret) (3.15.0)\n",
            "Requirement already satisfied: setuptools>=18.5 in /usr/local/lib/python3.10/dist-packages (from ipython>=5.5.0->pycaret) (67.7.2)\n",
            "Collecting jedi>=0.16 (from ipython>=5.5.0->pycaret)\n",
            "  Downloading jedi-0.18.2-py2.py3-none-any.whl (1.6 MB)\n",
            "\u001b[2K     \u001b[90m━━━━━━━━━━━━━━━━━━━━━━━━━━━━━━━━━━━━━━━━\u001b[0m \u001b[32m1.6/1.6 MB\u001b[0m \u001b[31m49.4 MB/s\u001b[0m eta \u001b[36m0:00:00\u001b[0m\n",
            "\u001b[?25hRequirement already satisfied: decorator in /usr/local/lib/python3.10/dist-packages (from ipython>=5.5.0->pycaret) (4.4.2)\n",
            "Requirement already satisfied: pickleshare in /usr/local/lib/python3.10/dist-packages (from ipython>=5.5.0->pycaret) (0.7.5)\n",
            "Requirement already satisfied: traitlets>=4.2 in /usr/local/lib/python3.10/dist-packages (from ipython>=5.5.0->pycaret) (5.7.1)\n",
            "Requirement already satisfied: prompt-toolkit!=3.0.0,!=3.0.1,<3.1.0,>=2.0.0 in /usr/local/lib/python3.10/dist-packages (from ipython>=5.5.0->pycaret) (3.0.38)\n",
            "Requirement already satisfied: pygments in /usr/local/lib/python3.10/dist-packages (from ipython>=5.5.0->pycaret) (2.14.0)\n",
            "Requirement already satisfied: backcall in /usr/local/lib/python3.10/dist-packages (from ipython>=5.5.0->pycaret) (0.2.0)\n",
            "Requirement already satisfied: matplotlib-inline in /usr/local/lib/python3.10/dist-packages (from ipython>=5.5.0->pycaret) (0.1.6)\n",
            "Requirement already satisfied: pexpect>4.3 in /usr/local/lib/python3.10/dist-packages (from ipython>=5.5.0->pycaret) (4.8.0)\n",
            "Requirement already satisfied: ipykernel>=4.5.1 in /usr/local/lib/python3.10/dist-packages (from ipywidgets>=7.6.5->pycaret) (5.5.6)\n",
            "Requirement already satisfied: ipython-genutils~=0.2.0 in /usr/local/lib/python3.10/dist-packages (from ipywidgets>=7.6.5->pycaret) (0.2.0)\n",
            "Requirement already satisfied: widgetsnbextension~=3.6.0 in /usr/local/lib/python3.10/dist-packages (from ipywidgets>=7.6.5->pycaret) (3.6.4)\n",
            "Requirement already satisfied: jupyterlab-widgets>=1.0.0 in /usr/local/lib/python3.10/dist-packages (from ipywidgets>=7.6.5->pycaret) (3.0.7)\n",
            "Requirement already satisfied: wheel in /usr/local/lib/python3.10/dist-packages (from lightgbm>=3.0.0->pycaret) (0.40.0)\n",
            "Requirement already satisfied: contourpy>=1.0.1 in /usr/local/lib/python3.10/dist-packages (from matplotlib>=3.3.0->pycaret) (1.0.7)\n",
            "Requirement already satisfied: cycler>=0.10 in /usr/local/lib/python3.10/dist-packages (from matplotlib>=3.3.0->pycaret) (0.11.0)\n",
            "Requirement already satisfied: fonttools>=4.22.0 in /usr/local/lib/python3.10/dist-packages (from matplotlib>=3.3.0->pycaret) (4.39.3)\n",
            "Requirement already satisfied: kiwisolver>=1.0.1 in /usr/local/lib/python3.10/dist-packages (from matplotlib>=3.3.0->pycaret) (1.4.4)\n",
            "Requirement already satisfied: pillow>=6.2.0 in /usr/local/lib/python3.10/dist-packages (from matplotlib>=3.3.0->pycaret) (8.4.0)\n",
            "Requirement already satisfied: pyparsing>=2.3.1 in /usr/local/lib/python3.10/dist-packages (from matplotlib>=3.3.0->pycaret) (3.0.9)\n",
            "Requirement already satisfied: python-dateutil>=2.7 in /usr/local/lib/python3.10/dist-packages (from matplotlib>=3.3.0->pycaret) (2.8.2)\n",
            "Requirement already satisfied: fastjsonschema in /usr/local/lib/python3.10/dist-packages (from nbformat>=4.2.0->pycaret) (2.16.3)\n",
            "Requirement already satisfied: jsonschema>=2.6 in /usr/local/lib/python3.10/dist-packages (from nbformat>=4.2.0->pycaret) (4.3.3)\n",
            "Requirement already satisfied: jupyter-core in /usr/local/lib/python3.10/dist-packages (from nbformat>=4.2.0->pycaret) (5.3.0)\n",
            "Requirement already satisfied: llvmlite<0.40,>=0.39.0dev0 in /usr/local/lib/python3.10/dist-packages (from numba>=0.55.0->pycaret) (0.39.1)\n",
            "Requirement already satisfied: pytz>=2020.1 in /usr/local/lib/python3.10/dist-packages (from pandas<2.0.0,>=1.3.0->pycaret) (2022.7.1)\n",
            "Requirement already satisfied: tenacity>=6.2.0 in /usr/local/lib/python3.10/dist-packages (from plotly>=5.0.0->pycaret) (8.2.2)\n",
            "Collecting dash<3.0.0,>=2.2.0 (from plotly-resampler>=0.8.3.1->pycaret)\n",
            "  Downloading dash-2.10.2-py3-none-any.whl (10.3 MB)\n",
            "\u001b[2K     \u001b[90m━━━━━━━━━━━━━━━━━━━━━━━━━━━━━━━━━━━━━━━━\u001b[0m \u001b[32m10.3/10.3 MB\u001b[0m \u001b[31m94.2 MB/s\u001b[0m eta \u001b[36m0:00:00\u001b[0m\n",
            "\u001b[?25hCollecting jupyter-dash>=0.4.2 (from plotly-resampler>=0.8.3.1->pycaret)\n",
            "  Downloading jupyter_dash-0.4.2-py3-none-any.whl (23 kB)\n",
            "Collecting orjson<4.0.0,>=3.8.0 (from plotly-resampler>=0.8.3.1->pycaret)\n",
            "  Downloading orjson-3.9.0-cp310-cp310-manylinux_2_17_x86_64.manylinux2014_x86_64.whl (136 kB)\n",
            "\u001b[2K     \u001b[90m━━━━━━━━━━━━━━━━━━━━━━━━━━━━━━━━━━━━━━\u001b[0m \u001b[32m137.0/137.0 kB\u001b[0m \u001b[31m15.6 MB/s\u001b[0m eta \u001b[36m0:00:00\u001b[0m\n",
            "\u001b[?25hCollecting trace-updater>=0.0.8 (from plotly-resampler>=0.8.3.1->pycaret)\n",
            "  Downloading trace_updater-0.0.9.1-py3-none-any.whl (185 kB)\n",
            "\u001b[2K     \u001b[90m━━━━━━━━━━━━━━━━━━━━━━━━━━━━━━━━━━━━━━\u001b[0m \u001b[32m185.2/185.2 kB\u001b[0m \u001b[31m19.5 MB/s\u001b[0m eta \u001b[36m0:00:00\u001b[0m\n",
            "\u001b[?25hRequirement already satisfied: Cython!=0.29.18,!=0.29.31,>=0.29 in /usr/local/lib/python3.10/dist-packages (from pmdarima!=1.8.1,<3.0.0,>=1.8.0->pycaret) (0.29.34)\n",
            "Requirement already satisfied: urllib3 in /usr/local/lib/python3.10/dist-packages (from pmdarima!=1.8.1,<3.0.0,>=1.8.0->pycaret) (1.26.15)\n",
            "Requirement already satisfied: six in /usr/local/lib/python3.10/dist-packages (from pyod>=1.0.8->pycaret) (1.16.0)\n",
            "Requirement already satisfied: certifi>=2017.4.17 in /usr/local/lib/python3.10/dist-packages (from requests>=2.27.1->pycaret) (2022.12.7)\n",
            "Requirement already satisfied: charset-normalizer~=2.0.0 in /usr/local/lib/python3.10/dist-packages (from requests>=2.27.1->pycaret) (2.0.12)\n",
            "Requirement already satisfied: idna<4,>=2.5 in /usr/local/lib/python3.10/dist-packages (from requests>=2.27.1->pycaret) (3.4)\n",
            "Collecting deprecated>=1.2.13 (from sktime!=0.17.1,<0.17.2,>=0.16.1->pycaret)\n",
            "  Downloading Deprecated-1.2.14-py2.py3-none-any.whl (9.6 kB)\n",
            "Requirement already satisfied: Flask<2.3.0,>=1.0.4 in /usr/local/lib/python3.10/dist-packages (from dash<3.0.0,>=2.2.0->plotly-resampler>=0.8.3.1->pycaret) (2.2.4)\n",
            "Collecting Werkzeug<2.3.0 (from dash<3.0.0,>=2.2.0->plotly-resampler>=0.8.3.1->pycaret)\n",
            "  Downloading Werkzeug-2.2.3-py3-none-any.whl (233 kB)\n",
            "\u001b[2K     \u001b[90m━━━━━━━━━━━━━━━━━━━━━━━━━━━━━━━━━━━━━━\u001b[0m \u001b[32m233.6/233.6 kB\u001b[0m \u001b[31m17.9 MB/s\u001b[0m eta \u001b[36m0:00:00\u001b[0m\n",
            "\u001b[?25hCollecting dash-html-components==2.0.0 (from dash<3.0.0,>=2.2.0->plotly-resampler>=0.8.3.1->pycaret)\n",
            "  Downloading dash_html_components-2.0.0-py3-none-any.whl (4.1 kB)\n",
            "Collecting dash-core-components==2.0.0 (from dash<3.0.0,>=2.2.0->plotly-resampler>=0.8.3.1->pycaret)\n",
            "  Downloading dash_core_components-2.0.0-py3-none-any.whl (3.8 kB)\n",
            "Collecting dash-table==5.0.0 (from dash<3.0.0,>=2.2.0->plotly-resampler>=0.8.3.1->pycaret)\n",
            "  Downloading dash_table-5.0.0-py3-none-any.whl (3.9 kB)\n",
            "Requirement already satisfied: wrapt<2,>=1.10 in /usr/local/lib/python3.10/dist-packages (from deprecated>=1.2.13->sktime!=0.17.1,<0.17.2,>=0.16.1->pycaret) (1.14.1)\n",
            "Requirement already satisfied: jupyter-client in /usr/local/lib/python3.10/dist-packages (from ipykernel>=4.5.1->ipywidgets>=7.6.5->pycaret) (6.1.12)\n",
            "Requirement already satisfied: tornado>=4.2 in /usr/local/lib/python3.10/dist-packages (from ipykernel>=4.5.1->ipywidgets>=7.6.5->pycaret) (6.3.1)\n",
            "Requirement already satisfied: parso<0.9.0,>=0.8.0 in /usr/local/lib/python3.10/dist-packages (from jedi>=0.16->ipython>=5.5.0->pycaret) (0.8.3)\n",
            "Requirement already satisfied: attrs>=17.4.0 in /usr/local/lib/python3.10/dist-packages (from jsonschema>=2.6->nbformat>=4.2.0->pycaret) (23.1.0)\n",
            "Requirement already satisfied: pyrsistent!=0.17.0,!=0.17.1,!=0.17.2,>=0.14.0 in /usr/local/lib/python3.10/dist-packages (from jsonschema>=2.6->nbformat>=4.2.0->pycaret) (0.19.3)\n",
            "Collecting retrying (from jupyter-dash>=0.4.2->plotly-resampler>=0.8.3.1->pycaret)\n",
            "  Downloading retrying-1.3.4-py3-none-any.whl (11 kB)\n",
            "Collecting ansi2html (from jupyter-dash>=0.4.2->plotly-resampler>=0.8.3.1->pycaret)\n",
            "  Downloading ansi2html-1.8.0-py3-none-any.whl (16 kB)\n",
            "Requirement already satisfied: nest-asyncio in /usr/local/lib/python3.10/dist-packages (from jupyter-dash>=0.4.2->plotly-resampler>=0.8.3.1->pycaret) (1.5.6)\n",
            "Requirement already satisfied: ptyprocess>=0.5 in /usr/local/lib/python3.10/dist-packages (from pexpect>4.3->ipython>=5.5.0->pycaret) (0.7.0)\n",
            "Requirement already satisfied: wcwidth in /usr/local/lib/python3.10/dist-packages (from prompt-toolkit!=3.0.0,!=3.0.1,<3.1.0,>=2.0.0->ipython>=5.5.0->pycaret) (0.2.6)\n",
            "Requirement already satisfied: notebook>=4.4.1 in /usr/local/lib/python3.10/dist-packages (from widgetsnbextension~=3.6.0->ipywidgets>=7.6.5->pycaret) (6.4.8)\n",
            "Requirement already satisfied: platformdirs>=2.5 in /usr/local/lib/python3.10/dist-packages (from jupyter-core->nbformat>=4.2.0->pycaret) (3.3.0)\n",
            "Requirement already satisfied: itsdangerous>=2.0 in /usr/local/lib/python3.10/dist-packages (from Flask<2.3.0,>=1.0.4->dash<3.0.0,>=2.2.0->plotly-resampler>=0.8.3.1->pycaret) (2.1.2)\n",
            "Requirement already satisfied: click>=8.0 in /usr/local/lib/python3.10/dist-packages (from Flask<2.3.0,>=1.0.4->dash<3.0.0,>=2.2.0->plotly-resampler>=0.8.3.1->pycaret) (8.1.3)\n",
            "Requirement already satisfied: pyzmq>=17 in /usr/local/lib/python3.10/dist-packages (from notebook>=4.4.1->widgetsnbextension~=3.6.0->ipywidgets>=7.6.5->pycaret) (23.2.1)\n",
            "Requirement already satisfied: argon2-cffi in /usr/local/lib/python3.10/dist-packages (from notebook>=4.4.1->widgetsnbextension~=3.6.0->ipywidgets>=7.6.5->pycaret) (21.3.0)\n",
            "Requirement already satisfied: nbconvert in /usr/local/lib/python3.10/dist-packages (from notebook>=4.4.1->widgetsnbextension~=3.6.0->ipywidgets>=7.6.5->pycaret) (6.5.4)\n",
            "Requirement already satisfied: Send2Trash>=1.8.0 in /usr/local/lib/python3.10/dist-packages (from notebook>=4.4.1->widgetsnbextension~=3.6.0->ipywidgets>=7.6.5->pycaret) (1.8.0)\n",
            "Requirement already satisfied: terminado>=0.8.3 in /usr/local/lib/python3.10/dist-packages (from notebook>=4.4.1->widgetsnbextension~=3.6.0->ipywidgets>=7.6.5->pycaret) (0.17.1)\n",
            "Requirement already satisfied: prometheus-client in /usr/local/lib/python3.10/dist-packages (from notebook>=4.4.1->widgetsnbextension~=3.6.0->ipywidgets>=7.6.5->pycaret) (0.16.0)\n",
            "Requirement already satisfied: argon2-cffi-bindings in /usr/local/lib/python3.10/dist-packages (from argon2-cffi->notebook>=4.4.1->widgetsnbextension~=3.6.0->ipywidgets>=7.6.5->pycaret) (21.2.0)\n",
            "Requirement already satisfied: lxml in /usr/local/lib/python3.10/dist-packages (from nbconvert->notebook>=4.4.1->widgetsnbextension~=3.6.0->ipywidgets>=7.6.5->pycaret) (4.9.2)\n",
            "Requirement already satisfied: beautifulsoup4 in /usr/local/lib/python3.10/dist-packages (from nbconvert->notebook>=4.4.1->widgetsnbextension~=3.6.0->ipywidgets>=7.6.5->pycaret) (4.11.2)\n",
            "Requirement already satisfied: bleach in /usr/local/lib/python3.10/dist-packages (from nbconvert->notebook>=4.4.1->widgetsnbextension~=3.6.0->ipywidgets>=7.6.5->pycaret) (6.0.0)\n",
            "Requirement already satisfied: defusedxml in /usr/local/lib/python3.10/dist-packages (from nbconvert->notebook>=4.4.1->widgetsnbextension~=3.6.0->ipywidgets>=7.6.5->pycaret) (0.7.1)\n",
            "Requirement already satisfied: entrypoints>=0.2.2 in /usr/local/lib/python3.10/dist-packages (from nbconvert->notebook>=4.4.1->widgetsnbextension~=3.6.0->ipywidgets>=7.6.5->pycaret) (0.4)\n",
            "Requirement already satisfied: jupyterlab-pygments in /usr/local/lib/python3.10/dist-packages (from nbconvert->notebook>=4.4.1->widgetsnbextension~=3.6.0->ipywidgets>=7.6.5->pycaret) (0.2.2)\n",
            "Requirement already satisfied: mistune<2,>=0.8.1 in /usr/local/lib/python3.10/dist-packages (from nbconvert->notebook>=4.4.1->widgetsnbextension~=3.6.0->ipywidgets>=7.6.5->pycaret) (0.8.4)\n",
            "Requirement already satisfied: nbclient>=0.5.0 in /usr/local/lib/python3.10/dist-packages (from nbconvert->notebook>=4.4.1->widgetsnbextension~=3.6.0->ipywidgets>=7.6.5->pycaret) (0.7.4)\n",
            "Requirement already satisfied: pandocfilters>=1.4.1 in /usr/local/lib/python3.10/dist-packages (from nbconvert->notebook>=4.4.1->widgetsnbextension~=3.6.0->ipywidgets>=7.6.5->pycaret) (1.5.0)\n",
            "Requirement already satisfied: tinycss2 in /usr/local/lib/python3.10/dist-packages (from nbconvert->notebook>=4.4.1->widgetsnbextension~=3.6.0->ipywidgets>=7.6.5->pycaret) (1.2.1)\n",
            "Requirement already satisfied: cffi>=1.0.1 in /usr/local/lib/python3.10/dist-packages (from argon2-cffi-bindings->argon2-cffi->notebook>=4.4.1->widgetsnbextension~=3.6.0->ipywidgets>=7.6.5->pycaret) (1.15.1)\n",
            "Requirement already satisfied: soupsieve>1.2 in /usr/local/lib/python3.10/dist-packages (from beautifulsoup4->nbconvert->notebook>=4.4.1->widgetsnbextension~=3.6.0->ipywidgets>=7.6.5->pycaret) (2.4.1)\n",
            "Requirement already satisfied: webencodings in /usr/local/lib/python3.10/dist-packages (from bleach->nbconvert->notebook>=4.4.1->widgetsnbextension~=3.6.0->ipywidgets>=7.6.5->pycaret) (0.5.1)\n",
            "Requirement already satisfied: pycparser in /usr/local/lib/python3.10/dist-packages (from cffi>=1.0.1->argon2-cffi-bindings->argon2-cffi->notebook>=4.4.1->widgetsnbextension~=3.6.0->ipywidgets>=7.6.5->pycaret) (2.21)\n",
            "Building wheels for collected packages: plotly-resampler, pyod\n",
            "  Building wheel for plotly-resampler (pyproject.toml) ... \u001b[?25l\u001b[?25hdone\n",
            "  Created wheel for plotly-resampler: filename=plotly_resampler-0.8.3.2-cp310-cp310-manylinux_2_31_x86_64.whl size=75239 sha256=4add407637bb14cfd9dd4b853b1f538ab33e6c4edf123bf974962eb511a6452d\n",
            "  Stored in directory: /root/.cache/pip/wheels/a9/19/e2/ec856d98cf9b617511fff0abae1dfed5bf1f6093ce65126b45\n",
            "  Building wheel for pyod (setup.py) ... \u001b[?25l\u001b[?25hdone\n",
            "  Created wheel for pyod: filename=pyod-1.0.9-py3-none-any.whl size=184097 sha256=ac70e431a6d952c1fd7c7b91a892fef34939021f0db0d6701668f07bb62bab6e\n",
            "  Stored in directory: /root/.cache/pip/wheels/83/55/6b/552e083cf5509c0afe808b76cf434f1be284d01a112623bd37\n",
            "Successfully built plotly-resampler pyod\n",
            "Installing collected packages: trace-updater, kaleido, dash-table, dash-html-components, dash-core-components, xxhash, wurlitzer, Werkzeug, schemdraw, retrying, orjson, jedi, importlib-metadata, deprecation, deprecated, ansi2html, sktime, scikit-plot, pyod, dash, pmdarima, jupyter-dash, category-encoders, tbats, plotly-resampler, pycaret\n",
            "  Attempting uninstall: Werkzeug\n",
            "    Found existing installation: Werkzeug 2.3.0\n",
            "    Uninstalling Werkzeug-2.3.0:\n",
            "      Successfully uninstalled Werkzeug-2.3.0\n",
            "Successfully installed Werkzeug-2.2.3 ansi2html-1.8.0 category-encoders-2.6.1 dash-2.10.2 dash-core-components-2.0.0 dash-html-components-2.0.0 dash-table-5.0.0 deprecated-1.2.14 deprecation-2.1.0 importlib-metadata-6.6.0 jedi-0.18.2 jupyter-dash-0.4.2 kaleido-0.2.1 orjson-3.9.0 plotly-resampler-0.8.3.2 pmdarima-2.0.3 pycaret-3.0.2 pyod-1.0.9 retrying-1.3.4 schemdraw-0.15 scikit-plot-0.3.7 sktime-0.17.0 tbats-1.1.3 trace-updater-0.0.9.1 wurlitzer-3.0.3 xxhash-3.2.0\n"
          ]
        }
      ],
      "source": [
        "# Step 4: Installing the Pycaret library (helps to perform Auto-Machine Learn)\n",
        "!pip install pycaret"
      ],
      "id": "5U1Mqbfvsp2w"
    },
    {
      "cell_type": "code",
      "execution_count": 4,
      "metadata": {
        "id": "68ab1c7b"
      },
      "outputs": [],
      "source": [
        "# Step 5: Importing the classification library from PyCaret\n",
        "from pycaret import classification\n"
      ],
      "id": "68ab1c7b"
    },
    {
      "cell_type": "code",
      "execution_count": 5,
      "metadata": {
        "colab": {
          "base_uri": "https://localhost:8080/",
          "height": 676
        },
        "id": "00fff9af",
        "outputId": "1e89e2d7-5bf9-4f40-cc9a-7d98d9847a66"
      },
      "outputs": [
        {
          "output_type": "display_data",
          "data": {
            "text/plain": [
              "<pandas.io.formats.style.Styler at 0x7fe5941f68f0>"
            ],
            "text/html": [
              "<style type=\"text/css\">\n",
              "#T_e49ea_row9_col1 {\n",
              "  background-color: lightgreen;\n",
              "}\n",
              "</style>\n",
              "<table id=\"T_e49ea\" class=\"dataframe\">\n",
              "  <thead>\n",
              "    <tr>\n",
              "      <th class=\"blank level0\" >&nbsp;</th>\n",
              "      <th id=\"T_e49ea_level0_col0\" class=\"col_heading level0 col0\" >Description</th>\n",
              "      <th id=\"T_e49ea_level0_col1\" class=\"col_heading level0 col1\" >Value</th>\n",
              "    </tr>\n",
              "  </thead>\n",
              "  <tbody>\n",
              "    <tr>\n",
              "      <th id=\"T_e49ea_level0_row0\" class=\"row_heading level0 row0\" >0</th>\n",
              "      <td id=\"T_e49ea_row0_col0\" class=\"data row0 col0\" >Session id</td>\n",
              "      <td id=\"T_e49ea_row0_col1\" class=\"data row0 col1\" >856</td>\n",
              "    </tr>\n",
              "    <tr>\n",
              "      <th id=\"T_e49ea_level0_row1\" class=\"row_heading level0 row1\" >1</th>\n",
              "      <td id=\"T_e49ea_row1_col0\" class=\"data row1 col0\" >Target</td>\n",
              "      <td id=\"T_e49ea_row1_col1\" class=\"data row1 col1\" >Classes</td>\n",
              "    </tr>\n",
              "    <tr>\n",
              "      <th id=\"T_e49ea_level0_row2\" class=\"row_heading level0 row2\" >2</th>\n",
              "      <td id=\"T_e49ea_row2_col0\" class=\"data row2 col0\" >Target type</td>\n",
              "      <td id=\"T_e49ea_row2_col1\" class=\"data row2 col1\" >Multiclass</td>\n",
              "    </tr>\n",
              "    <tr>\n",
              "      <th id=\"T_e49ea_level0_row3\" class=\"row_heading level0 row3\" >3</th>\n",
              "      <td id=\"T_e49ea_row3_col0\" class=\"data row3 col0\" >Target mapping</td>\n",
              "      <td id=\"T_e49ea_row3_col1\" class=\"data row3 col1\" >DM2: 0, DYS: 1, HC: 2, HT: 3, Healthy: 4, PREDM: 5</td>\n",
              "    </tr>\n",
              "    <tr>\n",
              "      <th id=\"T_e49ea_level0_row4\" class=\"row_heading level0 row4\" >4</th>\n",
              "      <td id=\"T_e49ea_row4_col0\" class=\"data row4 col0\" >Original data shape</td>\n",
              "      <td id=\"T_e49ea_row4_col1\" class=\"data row4 col1\" >(600, 2542)</td>\n",
              "    </tr>\n",
              "    <tr>\n",
              "      <th id=\"T_e49ea_level0_row5\" class=\"row_heading level0 row5\" >5</th>\n",
              "      <td id=\"T_e49ea_row5_col0\" class=\"data row5 col0\" >Transformed data shape</td>\n",
              "      <td id=\"T_e49ea_row5_col1\" class=\"data row5 col1\" >(600, 2542)</td>\n",
              "    </tr>\n",
              "    <tr>\n",
              "      <th id=\"T_e49ea_level0_row6\" class=\"row_heading level0 row6\" >6</th>\n",
              "      <td id=\"T_e49ea_row6_col0\" class=\"data row6 col0\" >Transformed train set shape</td>\n",
              "      <td id=\"T_e49ea_row6_col1\" class=\"data row6 col1\" >(420, 2542)</td>\n",
              "    </tr>\n",
              "    <tr>\n",
              "      <th id=\"T_e49ea_level0_row7\" class=\"row_heading level0 row7\" >7</th>\n",
              "      <td id=\"T_e49ea_row7_col0\" class=\"data row7 col0\" >Transformed test set shape</td>\n",
              "      <td id=\"T_e49ea_row7_col1\" class=\"data row7 col1\" >(180, 2542)</td>\n",
              "    </tr>\n",
              "    <tr>\n",
              "      <th id=\"T_e49ea_level0_row8\" class=\"row_heading level0 row8\" >8</th>\n",
              "      <td id=\"T_e49ea_row8_col0\" class=\"data row8 col0\" >Numeric features</td>\n",
              "      <td id=\"T_e49ea_row8_col1\" class=\"data row8 col1\" >2541</td>\n",
              "    </tr>\n",
              "    <tr>\n",
              "      <th id=\"T_e49ea_level0_row9\" class=\"row_heading level0 row9\" >9</th>\n",
              "      <td id=\"T_e49ea_row9_col0\" class=\"data row9 col0\" >Preprocess</td>\n",
              "      <td id=\"T_e49ea_row9_col1\" class=\"data row9 col1\" >True</td>\n",
              "    </tr>\n",
              "    <tr>\n",
              "      <th id=\"T_e49ea_level0_row10\" class=\"row_heading level0 row10\" >10</th>\n",
              "      <td id=\"T_e49ea_row10_col0\" class=\"data row10 col0\" >Imputation type</td>\n",
              "      <td id=\"T_e49ea_row10_col1\" class=\"data row10 col1\" >simple</td>\n",
              "    </tr>\n",
              "    <tr>\n",
              "      <th id=\"T_e49ea_level0_row11\" class=\"row_heading level0 row11\" >11</th>\n",
              "      <td id=\"T_e49ea_row11_col0\" class=\"data row11 col0\" >Numeric imputation</td>\n",
              "      <td id=\"T_e49ea_row11_col1\" class=\"data row11 col1\" >mean</td>\n",
              "    </tr>\n",
              "    <tr>\n",
              "      <th id=\"T_e49ea_level0_row12\" class=\"row_heading level0 row12\" >12</th>\n",
              "      <td id=\"T_e49ea_row12_col0\" class=\"data row12 col0\" >Categorical imputation</td>\n",
              "      <td id=\"T_e49ea_row12_col1\" class=\"data row12 col1\" >mode</td>\n",
              "    </tr>\n",
              "    <tr>\n",
              "      <th id=\"T_e49ea_level0_row13\" class=\"row_heading level0 row13\" >13</th>\n",
              "      <td id=\"T_e49ea_row13_col0\" class=\"data row13 col0\" >Fold Generator</td>\n",
              "      <td id=\"T_e49ea_row13_col1\" class=\"data row13 col1\" >StratifiedKFold</td>\n",
              "    </tr>\n",
              "    <tr>\n",
              "      <th id=\"T_e49ea_level0_row14\" class=\"row_heading level0 row14\" >14</th>\n",
              "      <td id=\"T_e49ea_row14_col0\" class=\"data row14 col0\" >Fold Number</td>\n",
              "      <td id=\"T_e49ea_row14_col1\" class=\"data row14 col1\" >10</td>\n",
              "    </tr>\n",
              "    <tr>\n",
              "      <th id=\"T_e49ea_level0_row15\" class=\"row_heading level0 row15\" >15</th>\n",
              "      <td id=\"T_e49ea_row15_col0\" class=\"data row15 col0\" >CPU Jobs</td>\n",
              "      <td id=\"T_e49ea_row15_col1\" class=\"data row15 col1\" >-1</td>\n",
              "    </tr>\n",
              "    <tr>\n",
              "      <th id=\"T_e49ea_level0_row16\" class=\"row_heading level0 row16\" >16</th>\n",
              "      <td id=\"T_e49ea_row16_col0\" class=\"data row16 col0\" >Use GPU</td>\n",
              "      <td id=\"T_e49ea_row16_col1\" class=\"data row16 col1\" >False</td>\n",
              "    </tr>\n",
              "    <tr>\n",
              "      <th id=\"T_e49ea_level0_row17\" class=\"row_heading level0 row17\" >17</th>\n",
              "      <td id=\"T_e49ea_row17_col0\" class=\"data row17 col0\" >Log Experiment</td>\n",
              "      <td id=\"T_e49ea_row17_col1\" class=\"data row17 col1\" >False</td>\n",
              "    </tr>\n",
              "    <tr>\n",
              "      <th id=\"T_e49ea_level0_row18\" class=\"row_heading level0 row18\" >18</th>\n",
              "      <td id=\"T_e49ea_row18_col0\" class=\"data row18 col0\" >Experiment Name</td>\n",
              "      <td id=\"T_e49ea_row18_col1\" class=\"data row18 col1\" >clf-default-name</td>\n",
              "    </tr>\n",
              "    <tr>\n",
              "      <th id=\"T_e49ea_level0_row19\" class=\"row_heading level0 row19\" >19</th>\n",
              "      <td id=\"T_e49ea_row19_col0\" class=\"data row19 col0\" >USI</td>\n",
              "      <td id=\"T_e49ea_row19_col1\" class=\"data row19 col1\" >1474</td>\n",
              "    </tr>\n",
              "  </tbody>\n",
              "</table>\n"
            ]
          },
          "metadata": {}
        }
      ],
      "source": [
        "# Step 6: Pre-processing the data\n",
        "classification_setup = classification.setup(data = df1, target = \"Classes\")"
      ],
      "id": "00fff9af"
    },
    {
      "cell_type": "code",
      "execution_count": 6,
      "metadata": {
        "colab": {
          "base_uri": "https://localhost:8080/",
          "height": 519,
          "referenced_widgets": [
            "846c63b00dda48dda48870bd646f772e",
            "45050f46cb0545e682dbb826b92bcb75",
            "facf7a3e114a4b80a529702495816f52",
            "7b2e865a1583418d8158805e517fefaa",
            "a696fb2e02a04b02a528f022e990cca2",
            "2209c57e12274f7887d66b858478358e",
            "decb1ead423f4a2bb0eb44be024de4b1",
            "3dd8b59b808442fb881f39be05c06155",
            "182dbeab7f6f46bf9c4fdc79a1eaa28b",
            "ee5dc625cd1f46509285caf28ad6740d",
            "0e13f8c1d0d8427eb3879ec3667f49bd"
          ]
        },
        "id": "4e906af1",
        "outputId": "5a08fcec-28d6-4ddd-8b2f-4c1ef64e0417"
      },
      "outputs": [
        {
          "output_type": "display_data",
          "data": {
            "text/plain": [
              "<IPython.core.display.HTML object>"
            ],
            "text/html": []
          },
          "metadata": {}
        },
        {
          "output_type": "display_data",
          "data": {
            "text/plain": [
              "<pandas.io.formats.style.Styler at 0x7fe59432e0e0>"
            ],
            "text/html": [
              "<style type=\"text/css\">\n",
              "#T_1c40a th {\n",
              "  text-align: left;\n",
              "}\n",
              "#T_1c40a_row0_col0, #T_1c40a_row1_col0, #T_1c40a_row1_col1, #T_1c40a_row1_col3, #T_1c40a_row1_col4, #T_1c40a_row1_col5, #T_1c40a_row1_col6, #T_1c40a_row1_col7, #T_1c40a_row2_col0, #T_1c40a_row2_col1, #T_1c40a_row2_col2, #T_1c40a_row2_col3, #T_1c40a_row2_col4, #T_1c40a_row2_col5, #T_1c40a_row2_col6, #T_1c40a_row2_col7, #T_1c40a_row3_col0, #T_1c40a_row3_col1, #T_1c40a_row3_col2, #T_1c40a_row3_col3, #T_1c40a_row3_col4, #T_1c40a_row3_col5, #T_1c40a_row3_col6, #T_1c40a_row3_col7, #T_1c40a_row4_col0, #T_1c40a_row4_col1, #T_1c40a_row4_col3, #T_1c40a_row4_col4, #T_1c40a_row4_col5, #T_1c40a_row4_col6, #T_1c40a_row4_col7, #T_1c40a_row5_col0, #T_1c40a_row5_col1, #T_1c40a_row5_col2, #T_1c40a_row5_col3, #T_1c40a_row5_col4, #T_1c40a_row5_col5, #T_1c40a_row5_col6, #T_1c40a_row5_col7, #T_1c40a_row6_col0, #T_1c40a_row6_col1, #T_1c40a_row6_col2, #T_1c40a_row6_col3, #T_1c40a_row6_col4, #T_1c40a_row6_col5, #T_1c40a_row6_col6, #T_1c40a_row6_col7, #T_1c40a_row7_col0, #T_1c40a_row7_col1, #T_1c40a_row7_col2, #T_1c40a_row7_col3, #T_1c40a_row7_col4, #T_1c40a_row7_col5, #T_1c40a_row7_col6, #T_1c40a_row7_col7, #T_1c40a_row8_col0, #T_1c40a_row8_col1, #T_1c40a_row8_col2, #T_1c40a_row8_col3, #T_1c40a_row8_col4, #T_1c40a_row8_col5, #T_1c40a_row8_col6, #T_1c40a_row8_col7, #T_1c40a_row9_col0, #T_1c40a_row9_col1, #T_1c40a_row9_col2, #T_1c40a_row9_col3, #T_1c40a_row9_col4, #T_1c40a_row9_col5, #T_1c40a_row9_col6, #T_1c40a_row9_col7, #T_1c40a_row10_col0, #T_1c40a_row10_col1, #T_1c40a_row10_col2, #T_1c40a_row10_col3, #T_1c40a_row10_col4, #T_1c40a_row10_col5, #T_1c40a_row10_col6, #T_1c40a_row10_col7, #T_1c40a_row11_col0, #T_1c40a_row11_col1, #T_1c40a_row11_col2, #T_1c40a_row11_col3, #T_1c40a_row11_col4, #T_1c40a_row11_col5, #T_1c40a_row11_col6, #T_1c40a_row11_col7, #T_1c40a_row12_col0, #T_1c40a_row12_col1, #T_1c40a_row12_col2, #T_1c40a_row12_col3, #T_1c40a_row12_col4, #T_1c40a_row12_col5, #T_1c40a_row12_col6, #T_1c40a_row12_col7, #T_1c40a_row13_col0, #T_1c40a_row13_col1, #T_1c40a_row13_col2, #T_1c40a_row13_col3, #T_1c40a_row13_col4, #T_1c40a_row13_col5, #T_1c40a_row13_col6, #T_1c40a_row13_col7, #T_1c40a_row14_col0, #T_1c40a_row14_col1, #T_1c40a_row14_col2, #T_1c40a_row14_col3, #T_1c40a_row14_col4, #T_1c40a_row14_col5, #T_1c40a_row14_col6, #T_1c40a_row14_col7 {\n",
              "  text-align: left;\n",
              "}\n",
              "#T_1c40a_row0_col1, #T_1c40a_row0_col2, #T_1c40a_row0_col3, #T_1c40a_row0_col4, #T_1c40a_row0_col5, #T_1c40a_row0_col6, #T_1c40a_row0_col7, #T_1c40a_row1_col2, #T_1c40a_row4_col2 {\n",
              "  text-align: left;\n",
              "  background-color: yellow;\n",
              "}\n",
              "#T_1c40a_row0_col8, #T_1c40a_row1_col8, #T_1c40a_row2_col8, #T_1c40a_row3_col8, #T_1c40a_row4_col8, #T_1c40a_row5_col8, #T_1c40a_row6_col8, #T_1c40a_row7_col8, #T_1c40a_row8_col8, #T_1c40a_row9_col8, #T_1c40a_row10_col8, #T_1c40a_row11_col8, #T_1c40a_row12_col8, #T_1c40a_row13_col8 {\n",
              "  text-align: left;\n",
              "  background-color: lightgrey;\n",
              "}\n",
              "#T_1c40a_row14_col8 {\n",
              "  text-align: left;\n",
              "  background-color: yellow;\n",
              "  background-color: lightgrey;\n",
              "}\n",
              "</style>\n",
              "<table id=\"T_1c40a\" class=\"dataframe\">\n",
              "  <thead>\n",
              "    <tr>\n",
              "      <th class=\"blank level0\" >&nbsp;</th>\n",
              "      <th id=\"T_1c40a_level0_col0\" class=\"col_heading level0 col0\" >Model</th>\n",
              "      <th id=\"T_1c40a_level0_col1\" class=\"col_heading level0 col1\" >Accuracy</th>\n",
              "      <th id=\"T_1c40a_level0_col2\" class=\"col_heading level0 col2\" >AUC</th>\n",
              "      <th id=\"T_1c40a_level0_col3\" class=\"col_heading level0 col3\" >Recall</th>\n",
              "      <th id=\"T_1c40a_level0_col4\" class=\"col_heading level0 col4\" >Prec.</th>\n",
              "      <th id=\"T_1c40a_level0_col5\" class=\"col_heading level0 col5\" >F1</th>\n",
              "      <th id=\"T_1c40a_level0_col6\" class=\"col_heading level0 col6\" >Kappa</th>\n",
              "      <th id=\"T_1c40a_level0_col7\" class=\"col_heading level0 col7\" >MCC</th>\n",
              "      <th id=\"T_1c40a_level0_col8\" class=\"col_heading level0 col8\" >TT (Sec)</th>\n",
              "    </tr>\n",
              "  </thead>\n",
              "  <tbody>\n",
              "    <tr>\n",
              "      <th id=\"T_1c40a_level0_row0\" class=\"row_heading level0 row0\" >et</th>\n",
              "      <td id=\"T_1c40a_row0_col0\" class=\"data row0 col0\" >Extra Trees Classifier</td>\n",
              "      <td id=\"T_1c40a_row0_col1\" class=\"data row0 col1\" >0.9929</td>\n",
              "      <td id=\"T_1c40a_row0_col2\" class=\"data row0 col2\" >1.0000</td>\n",
              "      <td id=\"T_1c40a_row0_col3\" class=\"data row0 col3\" >0.9929</td>\n",
              "      <td id=\"T_1c40a_row0_col4\" class=\"data row0 col4\" >0.9938</td>\n",
              "      <td id=\"T_1c40a_row0_col5\" class=\"data row0 col5\" >0.9928</td>\n",
              "      <td id=\"T_1c40a_row0_col6\" class=\"data row0 col6\" >0.9914</td>\n",
              "      <td id=\"T_1c40a_row0_col7\" class=\"data row0 col7\" >0.9916</td>\n",
              "      <td id=\"T_1c40a_row0_col8\" class=\"data row0 col8\" >1.4330</td>\n",
              "    </tr>\n",
              "    <tr>\n",
              "      <th id=\"T_1c40a_level0_row1\" class=\"row_heading level0 row1\" >rf</th>\n",
              "      <td id=\"T_1c40a_row1_col0\" class=\"data row1 col0\" >Random Forest Classifier</td>\n",
              "      <td id=\"T_1c40a_row1_col1\" class=\"data row1 col1\" >0.9905</td>\n",
              "      <td id=\"T_1c40a_row1_col2\" class=\"data row1 col2\" >1.0000</td>\n",
              "      <td id=\"T_1c40a_row1_col3\" class=\"data row1 col3\" >0.9905</td>\n",
              "      <td id=\"T_1c40a_row1_col4\" class=\"data row1 col4\" >0.9917</td>\n",
              "      <td id=\"T_1c40a_row1_col5\" class=\"data row1 col5\" >0.9904</td>\n",
              "      <td id=\"T_1c40a_row1_col6\" class=\"data row1 col6\" >0.9886</td>\n",
              "      <td id=\"T_1c40a_row1_col7\" class=\"data row1 col7\" >0.9888</td>\n",
              "      <td id=\"T_1c40a_row1_col8\" class=\"data row1 col8\" >1.6950</td>\n",
              "    </tr>\n",
              "    <tr>\n",
              "      <th id=\"T_1c40a_level0_row2\" class=\"row_heading level0 row2\" >dt</th>\n",
              "      <td id=\"T_1c40a_row2_col0\" class=\"data row2 col0\" >Decision Tree Classifier</td>\n",
              "      <td id=\"T_1c40a_row2_col1\" class=\"data row2 col1\" >0.9881</td>\n",
              "      <td id=\"T_1c40a_row2_col2\" class=\"data row2 col2\" >0.9929</td>\n",
              "      <td id=\"T_1c40a_row2_col3\" class=\"data row2 col3\" >0.9881</td>\n",
              "      <td id=\"T_1c40a_row2_col4\" class=\"data row2 col4\" >0.9900</td>\n",
              "      <td id=\"T_1c40a_row2_col5\" class=\"data row2 col5\" >0.9880</td>\n",
              "      <td id=\"T_1c40a_row2_col6\" class=\"data row2 col6\" >0.9857</td>\n",
              "      <td id=\"T_1c40a_row2_col7\" class=\"data row2 col7\" >0.9862</td>\n",
              "      <td id=\"T_1c40a_row2_col8\" class=\"data row2 col8\" >0.9230</td>\n",
              "    </tr>\n",
              "    <tr>\n",
              "      <th id=\"T_1c40a_level0_row3\" class=\"row_heading level0 row3\" >gbc</th>\n",
              "      <td id=\"T_1c40a_row3_col0\" class=\"data row3 col0\" >Gradient Boosting Classifier</td>\n",
              "      <td id=\"T_1c40a_row3_col1\" class=\"data row3 col1\" >0.9833</td>\n",
              "      <td id=\"T_1c40a_row3_col2\" class=\"data row3 col2\" >0.9997</td>\n",
              "      <td id=\"T_1c40a_row3_col3\" class=\"data row3 col3\" >0.9833</td>\n",
              "      <td id=\"T_1c40a_row3_col4\" class=\"data row3 col4\" >0.9863</td>\n",
              "      <td id=\"T_1c40a_row3_col5\" class=\"data row3 col5\" >0.9835</td>\n",
              "      <td id=\"T_1c40a_row3_col6\" class=\"data row3 col6\" >0.9800</td>\n",
              "      <td id=\"T_1c40a_row3_col7\" class=\"data row3 col7\" >0.9806</td>\n",
              "      <td id=\"T_1c40a_row3_col8\" class=\"data row3 col8\" >102.0760</td>\n",
              "    </tr>\n",
              "    <tr>\n",
              "      <th id=\"T_1c40a_level0_row4\" class=\"row_heading level0 row4\" >lda</th>\n",
              "      <td id=\"T_1c40a_row4_col0\" class=\"data row4 col0\" >Linear Discriminant Analysis</td>\n",
              "      <td id=\"T_1c40a_row4_col1\" class=\"data row4 col1\" >0.9810</td>\n",
              "      <td id=\"T_1c40a_row4_col2\" class=\"data row4 col2\" >1.0000</td>\n",
              "      <td id=\"T_1c40a_row4_col3\" class=\"data row4 col3\" >0.9810</td>\n",
              "      <td id=\"T_1c40a_row4_col4\" class=\"data row4 col4\" >0.9838</td>\n",
              "      <td id=\"T_1c40a_row4_col5\" class=\"data row4 col5\" >0.9808</td>\n",
              "      <td id=\"T_1c40a_row4_col6\" class=\"data row4 col6\" >0.9771</td>\n",
              "      <td id=\"T_1c40a_row4_col7\" class=\"data row4 col7\" >0.9778</td>\n",
              "      <td id=\"T_1c40a_row4_col8\" class=\"data row4 col8\" >1.4040</td>\n",
              "    </tr>\n",
              "    <tr>\n",
              "      <th id=\"T_1c40a_level0_row5\" class=\"row_heading level0 row5\" >lightgbm</th>\n",
              "      <td id=\"T_1c40a_row5_col0\" class=\"data row5 col0\" >Light Gradient Boosting Machine</td>\n",
              "      <td id=\"T_1c40a_row5_col1\" class=\"data row5 col1\" >0.9810</td>\n",
              "      <td id=\"T_1c40a_row5_col2\" class=\"data row5 col2\" >0.9983</td>\n",
              "      <td id=\"T_1c40a_row5_col3\" class=\"data row5 col3\" >0.9810</td>\n",
              "      <td id=\"T_1c40a_row5_col4\" class=\"data row5 col4\" >0.9838</td>\n",
              "      <td id=\"T_1c40a_row5_col5\" class=\"data row5 col5\" >0.9808</td>\n",
              "      <td id=\"T_1c40a_row5_col6\" class=\"data row5 col6\" >0.9771</td>\n",
              "      <td id=\"T_1c40a_row5_col7\" class=\"data row5 col7\" >0.9778</td>\n",
              "      <td id=\"T_1c40a_row5_col8\" class=\"data row5 col8\" >18.3450</td>\n",
              "    </tr>\n",
              "    <tr>\n",
              "      <th id=\"T_1c40a_level0_row6\" class=\"row_heading level0 row6\" >knn</th>\n",
              "      <td id=\"T_1c40a_row6_col0\" class=\"data row6 col0\" >K Neighbors Classifier</td>\n",
              "      <td id=\"T_1c40a_row6_col1\" class=\"data row6 col1\" >0.9738</td>\n",
              "      <td id=\"T_1c40a_row6_col2\" class=\"data row6 col2\" >0.9967</td>\n",
              "      <td id=\"T_1c40a_row6_col3\" class=\"data row6 col3\" >0.9738</td>\n",
              "      <td id=\"T_1c40a_row6_col4\" class=\"data row6 col4\" >0.9780</td>\n",
              "      <td id=\"T_1c40a_row6_col5\" class=\"data row6 col5\" >0.9735</td>\n",
              "      <td id=\"T_1c40a_row6_col6\" class=\"data row6 col6\" >0.9686</td>\n",
              "      <td id=\"T_1c40a_row6_col7\" class=\"data row6 col7\" >0.9695</td>\n",
              "      <td id=\"T_1c40a_row6_col8\" class=\"data row6 col8\" >0.9160</td>\n",
              "    </tr>\n",
              "    <tr>\n",
              "      <th id=\"T_1c40a_level0_row7\" class=\"row_heading level0 row7\" >xgboost</th>\n",
              "      <td id=\"T_1c40a_row7_col0\" class=\"data row7 col0\" >Extreme Gradient Boosting</td>\n",
              "      <td id=\"T_1c40a_row7_col1\" class=\"data row7 col1\" >0.9738</td>\n",
              "      <td id=\"T_1c40a_row7_col2\" class=\"data row7 col2\" >0.9976</td>\n",
              "      <td id=\"T_1c40a_row7_col3\" class=\"data row7 col3\" >0.9738</td>\n",
              "      <td id=\"T_1c40a_row7_col4\" class=\"data row7 col4\" >0.9770</td>\n",
              "      <td id=\"T_1c40a_row7_col5\" class=\"data row7 col5\" >0.9736</td>\n",
              "      <td id=\"T_1c40a_row7_col6\" class=\"data row7 col6\" >0.9686</td>\n",
              "      <td id=\"T_1c40a_row7_col7\" class=\"data row7 col7\" >0.9693</td>\n",
              "      <td id=\"T_1c40a_row7_col8\" class=\"data row7 col8\" >12.9940</td>\n",
              "    </tr>\n",
              "    <tr>\n",
              "      <th id=\"T_1c40a_level0_row8\" class=\"row_heading level0 row8\" >nb</th>\n",
              "      <td id=\"T_1c40a_row8_col0\" class=\"data row8 col0\" >Naive Bayes</td>\n",
              "      <td id=\"T_1c40a_row8_col1\" class=\"data row8 col1\" >0.9690</td>\n",
              "      <td id=\"T_1c40a_row8_col2\" class=\"data row8 col2\" >0.9884</td>\n",
              "      <td id=\"T_1c40a_row8_col3\" class=\"data row8 col3\" >0.9690</td>\n",
              "      <td id=\"T_1c40a_row8_col4\" class=\"data row8 col4\" >0.9722</td>\n",
              "      <td id=\"T_1c40a_row8_col5\" class=\"data row8 col5\" >0.9689</td>\n",
              "      <td id=\"T_1c40a_row8_col6\" class=\"data row8 col6\" >0.9629</td>\n",
              "      <td id=\"T_1c40a_row8_col7\" class=\"data row8 col7\" >0.9636</td>\n",
              "      <td id=\"T_1c40a_row8_col8\" class=\"data row8 col8\" >1.0230</td>\n",
              "    </tr>\n",
              "    <tr>\n",
              "      <th id=\"T_1c40a_level0_row9\" class=\"row_heading level0 row9\" >ridge</th>\n",
              "      <td id=\"T_1c40a_row9_col0\" class=\"data row9 col0\" >Ridge Classifier</td>\n",
              "      <td id=\"T_1c40a_row9_col1\" class=\"data row9 col1\" >0.9476</td>\n",
              "      <td id=\"T_1c40a_row9_col2\" class=\"data row9 col2\" >0.0000</td>\n",
              "      <td id=\"T_1c40a_row9_col3\" class=\"data row9 col3\" >0.9476</td>\n",
              "      <td id=\"T_1c40a_row9_col4\" class=\"data row9 col4\" >0.9539</td>\n",
              "      <td id=\"T_1c40a_row9_col5\" class=\"data row9 col5\" >0.9471</td>\n",
              "      <td id=\"T_1c40a_row9_col6\" class=\"data row9 col6\" >0.9371</td>\n",
              "      <td id=\"T_1c40a_row9_col7\" class=\"data row9 col7\" >0.9387</td>\n",
              "      <td id=\"T_1c40a_row9_col8\" class=\"data row9 col8\" >0.9660</td>\n",
              "    </tr>\n",
              "    <tr>\n",
              "      <th id=\"T_1c40a_level0_row10\" class=\"row_heading level0 row10\" >lr</th>\n",
              "      <td id=\"T_1c40a_row10_col0\" class=\"data row10 col0\" >Logistic Regression</td>\n",
              "      <td id=\"T_1c40a_row10_col1\" class=\"data row10 col1\" >0.9286</td>\n",
              "      <td id=\"T_1c40a_row10_col2\" class=\"data row10 col2\" >0.9941</td>\n",
              "      <td id=\"T_1c40a_row10_col3\" class=\"data row10 col3\" >0.9286</td>\n",
              "      <td id=\"T_1c40a_row10_col4\" class=\"data row10 col4\" >0.9361</td>\n",
              "      <td id=\"T_1c40a_row10_col5\" class=\"data row10 col5\" >0.9280</td>\n",
              "      <td id=\"T_1c40a_row10_col6\" class=\"data row10 col6\" >0.9143</td>\n",
              "      <td id=\"T_1c40a_row10_col7\" class=\"data row10 col7\" >0.9160</td>\n",
              "      <td id=\"T_1c40a_row10_col8\" class=\"data row10 col8\" >7.0280</td>\n",
              "    </tr>\n",
              "    <tr>\n",
              "      <th id=\"T_1c40a_level0_row11\" class=\"row_heading level0 row11\" >qda</th>\n",
              "      <td id=\"T_1c40a_row11_col0\" class=\"data row11 col0\" >Quadratic Discriminant Analysis</td>\n",
              "      <td id=\"T_1c40a_row11_col1\" class=\"data row11 col1\" >0.5690</td>\n",
              "      <td id=\"T_1c40a_row11_col2\" class=\"data row11 col2\" >0.7474</td>\n",
              "      <td id=\"T_1c40a_row11_col3\" class=\"data row11 col3\" >0.5690</td>\n",
              "      <td id=\"T_1c40a_row11_col4\" class=\"data row11 col4\" >0.4284</td>\n",
              "      <td id=\"T_1c40a_row11_col5\" class=\"data row11 col5\" >0.4701</td>\n",
              "      <td id=\"T_1c40a_row11_col6\" class=\"data row11 col6\" >0.4829</td>\n",
              "      <td id=\"T_1c40a_row11_col7\" class=\"data row11 col7\" >0.5170</td>\n",
              "      <td id=\"T_1c40a_row11_col8\" class=\"data row11 col8\" >1.1440</td>\n",
              "    </tr>\n",
              "    <tr>\n",
              "      <th id=\"T_1c40a_level0_row12\" class=\"row_heading level0 row12\" >ada</th>\n",
              "      <td id=\"T_1c40a_row12_col0\" class=\"data row12 col0\" >Ada Boost Classifier</td>\n",
              "      <td id=\"T_1c40a_row12_col1\" class=\"data row12 col1\" >0.4881</td>\n",
              "      <td id=\"T_1c40a_row12_col2\" class=\"data row12 col2\" >0.8000</td>\n",
              "      <td id=\"T_1c40a_row12_col3\" class=\"data row12 col3\" >0.4881</td>\n",
              "      <td id=\"T_1c40a_row12_col4\" class=\"data row12 col4\" >0.3719</td>\n",
              "      <td id=\"T_1c40a_row12_col5\" class=\"data row12 col5\" >0.3922</td>\n",
              "      <td id=\"T_1c40a_row12_col6\" class=\"data row12 col6\" >0.3857</td>\n",
              "      <td id=\"T_1c40a_row12_col7\" class=\"data row12 col7\" >0.5019</td>\n",
              "      <td id=\"T_1c40a_row12_col8\" class=\"data row12 col8\" >4.5630</td>\n",
              "    </tr>\n",
              "    <tr>\n",
              "      <th id=\"T_1c40a_level0_row13\" class=\"row_heading level0 row13\" >svm</th>\n",
              "      <td id=\"T_1c40a_row13_col0\" class=\"data row13 col0\" >SVM - Linear Kernel</td>\n",
              "      <td id=\"T_1c40a_row13_col1\" class=\"data row13 col1\" >0.3024</td>\n",
              "      <td id=\"T_1c40a_row13_col2\" class=\"data row13 col2\" >0.0000</td>\n",
              "      <td id=\"T_1c40a_row13_col3\" class=\"data row13 col3\" >0.3024</td>\n",
              "      <td id=\"T_1c40a_row13_col4\" class=\"data row13 col4\" >0.1195</td>\n",
              "      <td id=\"T_1c40a_row13_col5\" class=\"data row13 col5\" >0.1630</td>\n",
              "      <td id=\"T_1c40a_row13_col6\" class=\"data row13 col6\" >0.1629</td>\n",
              "      <td id=\"T_1c40a_row13_col7\" class=\"data row13 col7\" >0.2056</td>\n",
              "      <td id=\"T_1c40a_row13_col8\" class=\"data row13 col8\" >1.3030</td>\n",
              "    </tr>\n",
              "    <tr>\n",
              "      <th id=\"T_1c40a_level0_row14\" class=\"row_heading level0 row14\" >dummy</th>\n",
              "      <td id=\"T_1c40a_row14_col0\" class=\"data row14 col0\" >Dummy Classifier</td>\n",
              "      <td id=\"T_1c40a_row14_col1\" class=\"data row14 col1\" >0.1667</td>\n",
              "      <td id=\"T_1c40a_row14_col2\" class=\"data row14 col2\" >0.5000</td>\n",
              "      <td id=\"T_1c40a_row14_col3\" class=\"data row14 col3\" >0.1667</td>\n",
              "      <td id=\"T_1c40a_row14_col4\" class=\"data row14 col4\" >0.0278</td>\n",
              "      <td id=\"T_1c40a_row14_col5\" class=\"data row14 col5\" >0.0476</td>\n",
              "      <td id=\"T_1c40a_row14_col6\" class=\"data row14 col6\" >0.0000</td>\n",
              "      <td id=\"T_1c40a_row14_col7\" class=\"data row14 col7\" >0.0000</td>\n",
              "      <td id=\"T_1c40a_row14_col8\" class=\"data row14 col8\" >0.8650</td>\n",
              "    </tr>\n",
              "  </tbody>\n",
              "</table>\n"
            ]
          },
          "metadata": {}
        },
        {
          "output_type": "display_data",
          "data": {
            "text/plain": [
              "Processing:   0%|          | 0/65 [00:00<?, ?it/s]"
            ],
            "application/vnd.jupyter.widget-view+json": {
              "version_major": 2,
              "version_minor": 0,
              "model_id": "846c63b00dda48dda48870bd646f772e"
            }
          },
          "metadata": {
            "application/vnd.jupyter.widget-view+json": {
              "colab": {
                "custom_widget_manager": {
                  "url": "https://ssl.gstatic.com/colaboratory-static/widgets/colab-cdn-widget-manager/b3e629b1971e1542/manager.min.js"
                }
              }
            }
          }
        },
        {
          "output_type": "display_data",
          "data": {
            "text/plain": [
              "<IPython.core.display.HTML object>"
            ],
            "text/html": []
          },
          "metadata": {}
        }
      ],
      "source": [
        "# Step 7: Building and comparing different models\n",
        "best = classification.compare_models()"
      ],
      "id": "4e906af1"
    },
    {
      "cell_type": "code",
      "execution_count": 7,
      "metadata": {
        "colab": {
          "base_uri": "https://localhost:8080/",
          "height": 457,
          "referenced_widgets": [
            "8bebc340e011408790ff5243674a7145",
            "247dc8af5ae6485f9b2632a95d0c90ec",
            "105ab3125ee14349a4892642bfcdbf41",
            "0cfa9e13ba9a420181f1d4e1d1eed276",
            "75309e95a7164be6a6bc8034dc070669",
            "8153fb6da2cc4112ace7aa22e30a00b0",
            "e8e38a7a793d42b595d808c81903bce6",
            "582968febe8f4d62b6cc724303927f4f",
            "450bbd4643ec4d928d552125e40428b7",
            "8c4a9e39aa604b53ae704973a5af5fcc",
            "80d0e2a05883423ba62971cef6569860"
          ]
        },
        "id": "a3e39264",
        "outputId": "d4bb836d-ceb4-4e6c-a308-d42b7ed570db"
      },
      "outputs": [
        {
          "output_type": "display_data",
          "data": {
            "text/plain": [
              "<IPython.core.display.HTML object>"
            ],
            "text/html": []
          },
          "metadata": {}
        },
        {
          "output_type": "display_data",
          "data": {
            "text/plain": [
              "<pandas.io.formats.style.Styler at 0x7fe5941e79a0>"
            ],
            "text/html": [
              "<style type=\"text/css\">\n",
              "#T_bed5e_row10_col0, #T_bed5e_row10_col1, #T_bed5e_row10_col2, #T_bed5e_row10_col3, #T_bed5e_row10_col4, #T_bed5e_row10_col5, #T_bed5e_row10_col6 {\n",
              "  background: yellow;\n",
              "}\n",
              "</style>\n",
              "<table id=\"T_bed5e\" class=\"dataframe\">\n",
              "  <thead>\n",
              "    <tr>\n",
              "      <th class=\"blank level0\" >&nbsp;</th>\n",
              "      <th id=\"T_bed5e_level0_col0\" class=\"col_heading level0 col0\" >Accuracy</th>\n",
              "      <th id=\"T_bed5e_level0_col1\" class=\"col_heading level0 col1\" >AUC</th>\n",
              "      <th id=\"T_bed5e_level0_col2\" class=\"col_heading level0 col2\" >Recall</th>\n",
              "      <th id=\"T_bed5e_level0_col3\" class=\"col_heading level0 col3\" >Prec.</th>\n",
              "      <th id=\"T_bed5e_level0_col4\" class=\"col_heading level0 col4\" >F1</th>\n",
              "      <th id=\"T_bed5e_level0_col5\" class=\"col_heading level0 col5\" >Kappa</th>\n",
              "      <th id=\"T_bed5e_level0_col6\" class=\"col_heading level0 col6\" >MCC</th>\n",
              "    </tr>\n",
              "    <tr>\n",
              "      <th class=\"index_name level0\" >Fold</th>\n",
              "      <th class=\"blank col0\" >&nbsp;</th>\n",
              "      <th class=\"blank col1\" >&nbsp;</th>\n",
              "      <th class=\"blank col2\" >&nbsp;</th>\n",
              "      <th class=\"blank col3\" >&nbsp;</th>\n",
              "      <th class=\"blank col4\" >&nbsp;</th>\n",
              "      <th class=\"blank col5\" >&nbsp;</th>\n",
              "      <th class=\"blank col6\" >&nbsp;</th>\n",
              "    </tr>\n",
              "  </thead>\n",
              "  <tbody>\n",
              "    <tr>\n",
              "      <th id=\"T_bed5e_level0_row0\" class=\"row_heading level0 row0\" >0</th>\n",
              "      <td id=\"T_bed5e_row0_col0\" class=\"data row0 col0\" >0.9524</td>\n",
              "      <td id=\"T_bed5e_row0_col1\" class=\"data row0 col1\" >1.0000</td>\n",
              "      <td id=\"T_bed5e_row0_col2\" class=\"data row0 col2\" >0.9524</td>\n",
              "      <td id=\"T_bed5e_row0_col3\" class=\"data row0 col3\" >0.9583</td>\n",
              "      <td id=\"T_bed5e_row0_col4\" class=\"data row0 col4\" >0.9521</td>\n",
              "      <td id=\"T_bed5e_row0_col5\" class=\"data row0 col5\" >0.9429</td>\n",
              "      <td id=\"T_bed5e_row0_col6\" class=\"data row0 col6\" >0.9441</td>\n",
              "    </tr>\n",
              "    <tr>\n",
              "      <th id=\"T_bed5e_level0_row1\" class=\"row_heading level0 row1\" >1</th>\n",
              "      <td id=\"T_bed5e_row1_col0\" class=\"data row1 col0\" >1.0000</td>\n",
              "      <td id=\"T_bed5e_row1_col1\" class=\"data row1 col1\" >1.0000</td>\n",
              "      <td id=\"T_bed5e_row1_col2\" class=\"data row1 col2\" >1.0000</td>\n",
              "      <td id=\"T_bed5e_row1_col3\" class=\"data row1 col3\" >1.0000</td>\n",
              "      <td id=\"T_bed5e_row1_col4\" class=\"data row1 col4\" >1.0000</td>\n",
              "      <td id=\"T_bed5e_row1_col5\" class=\"data row1 col5\" >1.0000</td>\n",
              "      <td id=\"T_bed5e_row1_col6\" class=\"data row1 col6\" >1.0000</td>\n",
              "    </tr>\n",
              "    <tr>\n",
              "      <th id=\"T_bed5e_level0_row2\" class=\"row_heading level0 row2\" >2</th>\n",
              "      <td id=\"T_bed5e_row2_col0\" class=\"data row2 col0\" >0.9762</td>\n",
              "      <td id=\"T_bed5e_row2_col1\" class=\"data row2 col1\" >1.0000</td>\n",
              "      <td id=\"T_bed5e_row2_col2\" class=\"data row2 col2\" >0.9762</td>\n",
              "      <td id=\"T_bed5e_row2_col3\" class=\"data row2 col3\" >0.9792</td>\n",
              "      <td id=\"T_bed5e_row2_col4\" class=\"data row2 col4\" >0.9761</td>\n",
              "      <td id=\"T_bed5e_row2_col5\" class=\"data row2 col5\" >0.9714</td>\n",
              "      <td id=\"T_bed5e_row2_col6\" class=\"data row2 col6\" >0.9721</td>\n",
              "    </tr>\n",
              "    <tr>\n",
              "      <th id=\"T_bed5e_level0_row3\" class=\"row_heading level0 row3\" >3</th>\n",
              "      <td id=\"T_bed5e_row3_col0\" class=\"data row3 col0\" >0.9286</td>\n",
              "      <td id=\"T_bed5e_row3_col1\" class=\"data row3 col1\" >1.0000</td>\n",
              "      <td id=\"T_bed5e_row3_col2\" class=\"data row3 col2\" >0.9286</td>\n",
              "      <td id=\"T_bed5e_row3_col3\" class=\"data row3 col3\" >0.9421</td>\n",
              "      <td id=\"T_bed5e_row3_col4\" class=\"data row3 col4\" >0.9275</td>\n",
              "      <td id=\"T_bed5e_row3_col5\" class=\"data row3 col5\" >0.9143</td>\n",
              "      <td id=\"T_bed5e_row3_col6\" class=\"data row3 col6\" >0.9174</td>\n",
              "    </tr>\n",
              "    <tr>\n",
              "      <th id=\"T_bed5e_level0_row4\" class=\"row_heading level0 row4\" >4</th>\n",
              "      <td id=\"T_bed5e_row4_col0\" class=\"data row4 col0\" >0.9762</td>\n",
              "      <td id=\"T_bed5e_row4_col1\" class=\"data row4 col1\" >1.0000</td>\n",
              "      <td id=\"T_bed5e_row4_col2\" class=\"data row4 col2\" >0.9762</td>\n",
              "      <td id=\"T_bed5e_row4_col3\" class=\"data row4 col3\" >0.9792</td>\n",
              "      <td id=\"T_bed5e_row4_col4\" class=\"data row4 col4\" >0.9761</td>\n",
              "      <td id=\"T_bed5e_row4_col5\" class=\"data row4 col5\" >0.9714</td>\n",
              "      <td id=\"T_bed5e_row4_col6\" class=\"data row4 col6\" >0.9721</td>\n",
              "    </tr>\n",
              "    <tr>\n",
              "      <th id=\"T_bed5e_level0_row5\" class=\"row_heading level0 row5\" >5</th>\n",
              "      <td id=\"T_bed5e_row5_col0\" class=\"data row5 col0\" >1.0000</td>\n",
              "      <td id=\"T_bed5e_row5_col1\" class=\"data row5 col1\" >1.0000</td>\n",
              "      <td id=\"T_bed5e_row5_col2\" class=\"data row5 col2\" >1.0000</td>\n",
              "      <td id=\"T_bed5e_row5_col3\" class=\"data row5 col3\" >1.0000</td>\n",
              "      <td id=\"T_bed5e_row5_col4\" class=\"data row5 col4\" >1.0000</td>\n",
              "      <td id=\"T_bed5e_row5_col5\" class=\"data row5 col5\" >1.0000</td>\n",
              "      <td id=\"T_bed5e_row5_col6\" class=\"data row5 col6\" >1.0000</td>\n",
              "    </tr>\n",
              "    <tr>\n",
              "      <th id=\"T_bed5e_level0_row6\" class=\"row_heading level0 row6\" >6</th>\n",
              "      <td id=\"T_bed5e_row6_col0\" class=\"data row6 col0\" >1.0000</td>\n",
              "      <td id=\"T_bed5e_row6_col1\" class=\"data row6 col1\" >1.0000</td>\n",
              "      <td id=\"T_bed5e_row6_col2\" class=\"data row6 col2\" >1.0000</td>\n",
              "      <td id=\"T_bed5e_row6_col3\" class=\"data row6 col3\" >1.0000</td>\n",
              "      <td id=\"T_bed5e_row6_col4\" class=\"data row6 col4\" >1.0000</td>\n",
              "      <td id=\"T_bed5e_row6_col5\" class=\"data row6 col5\" >1.0000</td>\n",
              "      <td id=\"T_bed5e_row6_col6\" class=\"data row6 col6\" >1.0000</td>\n",
              "    </tr>\n",
              "    <tr>\n",
              "      <th id=\"T_bed5e_level0_row7\" class=\"row_heading level0 row7\" >7</th>\n",
              "      <td id=\"T_bed5e_row7_col0\" class=\"data row7 col0\" >0.9762</td>\n",
              "      <td id=\"T_bed5e_row7_col1\" class=\"data row7 col1\" >1.0000</td>\n",
              "      <td id=\"T_bed5e_row7_col2\" class=\"data row7 col2\" >0.9762</td>\n",
              "      <td id=\"T_bed5e_row7_col3\" class=\"data row7 col3\" >0.9792</td>\n",
              "      <td id=\"T_bed5e_row7_col4\" class=\"data row7 col4\" >0.9761</td>\n",
              "      <td id=\"T_bed5e_row7_col5\" class=\"data row7 col5\" >0.9714</td>\n",
              "      <td id=\"T_bed5e_row7_col6\" class=\"data row7 col6\" >0.9721</td>\n",
              "    </tr>\n",
              "    <tr>\n",
              "      <th id=\"T_bed5e_level0_row8\" class=\"row_heading level0 row8\" >8</th>\n",
              "      <td id=\"T_bed5e_row8_col0\" class=\"data row8 col0\" >1.0000</td>\n",
              "      <td id=\"T_bed5e_row8_col1\" class=\"data row8 col1\" >1.0000</td>\n",
              "      <td id=\"T_bed5e_row8_col2\" class=\"data row8 col2\" >1.0000</td>\n",
              "      <td id=\"T_bed5e_row8_col3\" class=\"data row8 col3\" >1.0000</td>\n",
              "      <td id=\"T_bed5e_row8_col4\" class=\"data row8 col4\" >1.0000</td>\n",
              "      <td id=\"T_bed5e_row8_col5\" class=\"data row8 col5\" >1.0000</td>\n",
              "      <td id=\"T_bed5e_row8_col6\" class=\"data row8 col6\" >1.0000</td>\n",
              "    </tr>\n",
              "    <tr>\n",
              "      <th id=\"T_bed5e_level0_row9\" class=\"row_heading level0 row9\" >9</th>\n",
              "      <td id=\"T_bed5e_row9_col0\" class=\"data row9 col0\" >1.0000</td>\n",
              "      <td id=\"T_bed5e_row9_col1\" class=\"data row9 col1\" >1.0000</td>\n",
              "      <td id=\"T_bed5e_row9_col2\" class=\"data row9 col2\" >1.0000</td>\n",
              "      <td id=\"T_bed5e_row9_col3\" class=\"data row9 col3\" >1.0000</td>\n",
              "      <td id=\"T_bed5e_row9_col4\" class=\"data row9 col4\" >1.0000</td>\n",
              "      <td id=\"T_bed5e_row9_col5\" class=\"data row9 col5\" >1.0000</td>\n",
              "      <td id=\"T_bed5e_row9_col6\" class=\"data row9 col6\" >1.0000</td>\n",
              "    </tr>\n",
              "    <tr>\n",
              "      <th id=\"T_bed5e_level0_row10\" class=\"row_heading level0 row10\" >Mean</th>\n",
              "      <td id=\"T_bed5e_row10_col0\" class=\"data row10 col0\" >0.9810</td>\n",
              "      <td id=\"T_bed5e_row10_col1\" class=\"data row10 col1\" >1.0000</td>\n",
              "      <td id=\"T_bed5e_row10_col2\" class=\"data row10 col2\" >0.9810</td>\n",
              "      <td id=\"T_bed5e_row10_col3\" class=\"data row10 col3\" >0.9838</td>\n",
              "      <td id=\"T_bed5e_row10_col4\" class=\"data row10 col4\" >0.9808</td>\n",
              "      <td id=\"T_bed5e_row10_col5\" class=\"data row10 col5\" >0.9771</td>\n",
              "      <td id=\"T_bed5e_row10_col6\" class=\"data row10 col6\" >0.9778</td>\n",
              "    </tr>\n",
              "    <tr>\n",
              "      <th id=\"T_bed5e_level0_row11\" class=\"row_heading level0 row11\" >Std</th>\n",
              "      <td id=\"T_bed5e_row11_col0\" class=\"data row11 col0\" >0.0233</td>\n",
              "      <td id=\"T_bed5e_row11_col1\" class=\"data row11 col1\" >0.0000</td>\n",
              "      <td id=\"T_bed5e_row11_col2\" class=\"data row11 col2\" >0.0233</td>\n",
              "      <td id=\"T_bed5e_row11_col3\" class=\"data row11 col3\" >0.0194</td>\n",
              "      <td id=\"T_bed5e_row11_col4\" class=\"data row11 col4\" >0.0236</td>\n",
              "      <td id=\"T_bed5e_row11_col5\" class=\"data row11 col5\" >0.0280</td>\n",
              "      <td id=\"T_bed5e_row11_col6\" class=\"data row11 col6\" >0.0271</td>\n",
              "    </tr>\n",
              "  </tbody>\n",
              "</table>\n"
            ]
          },
          "metadata": {}
        },
        {
          "output_type": "display_data",
          "data": {
            "text/plain": [
              "Processing:   0%|          | 0/4 [00:00<?, ?it/s]"
            ],
            "application/vnd.jupyter.widget-view+json": {
              "version_major": 2,
              "version_minor": 0,
              "model_id": "8bebc340e011408790ff5243674a7145"
            }
          },
          "metadata": {
            "application/vnd.jupyter.widget-view+json": {
              "colab": {
                "custom_widget_manager": {
                  "url": "https://ssl.gstatic.com/colaboratory-static/widgets/colab-cdn-widget-manager/b3e629b1971e1542/manager.min.js"
                }
              }
            }
          }
        },
        {
          "output_type": "display_data",
          "data": {
            "text/plain": [
              "<IPython.core.display.HTML object>"
            ],
            "text/html": []
          },
          "metadata": {}
        }
      ],
      "source": [
        "# Step 8: Training the best model based on predictive performance metrics\n",
        "# Note: The PLS-DA model was one of the top three. Now, we will create and validate the Linear Discriminant Analysis model\n",
        "best_model = classification.create_model(\"lda\")"
      ],
      "id": "a3e39264"
    },
    {
      "cell_type": "code",
      "execution_count": 8,
      "metadata": {
        "colab": {
          "base_uri": "https://localhost:8080/",
          "height": 663,
          "referenced_widgets": [
            "ad6520bb0d4f4ab19cb29bad8cbf227d",
            "5c185ab9dd5c44c7ac131437e26093a4",
            "85f586c70f4c4d11a3fceb994bb34bd8",
            "8b173de41bf14e2187f151cd15246b7b",
            "a1f73fc3c5734c3e8340aa335f612714",
            "2b69081eb20a4652bc18e698865dfa13",
            "1c9ded02f04f4ed9993c3d02a370d0e4"
          ]
        },
        "id": "e43ea3ce",
        "outputId": "3b6acd52-c0bb-4f87-d3ea-68f852f7e893"
      },
      "outputs": [
        {
          "output_type": "display_data",
          "data": {
            "text/plain": [
              "interactive(children=(ToggleButtons(description='Plot Type:', icons=('',), options=(('Pipeline Plot', 'pipelin…"
            ],
            "application/vnd.jupyter.widget-view+json": {
              "version_major": 2,
              "version_minor": 0,
              "model_id": "ad6520bb0d4f4ab19cb29bad8cbf227d"
            }
          },
          "metadata": {
            "application/vnd.jupyter.widget-view+json": {
              "colab": {
                "custom_widget_manager": {
                  "url": "https://ssl.gstatic.com/colaboratory-static/widgets/colab-cdn-widget-manager/b3e629b1971e1542/manager.min.js"
                }
              }
            }
          }
        }
      ],
      "source": [
        "# Step 9: Extracting the metrics results from the model\n",
        "classification.evaluate_model(best_model)"
      ],
      "id": "e43ea3ce"
    },
    {
      "cell_type": "code",
      "execution_count": 9,
      "metadata": {
        "colab": {
          "base_uri": "https://localhost:8080/",
          "height": 522
        },
        "id": "0GpEegjW29tO",
        "outputId": "85ae09ce-ff29-4a37-a428-e463e8abbe79"
      },
      "outputs": [
        {
          "output_type": "display_data",
          "data": {
            "text/plain": [
              "<IPython.core.display.HTML object>"
            ],
            "text/html": []
          },
          "metadata": {}
        },
        {
          "output_type": "display_data",
          "data": {
            "text/plain": [
              "<Figure size 800x550 with 1 Axes>"
            ],
            "image/png": "[encoded data removed]"
          },
          "metadata": {}
        },
        {
          "output_type": "display_data",
          "data": {
            "text/plain": [
              "<IPython.core.display.HTML object>"
            ],
            "text/html": []
          },
          "metadata": {}
        },
        {
          "output_type": "execute_result",
          "data": {
            "text/plain": [
              "'Decision Boundary.png'"
            ],
            "application/vnd.google.colaboratory.intrinsic+json": {
              "type": "string"
            }
          },
          "metadata": {},
          "execution_count": 9
        }
      ],
      "source": [
        "#Step 10: Plotting the decision boundary plot\n",
        "classification.plot_model(best_model, plot =\"boundary\", plot_kwargs ={'classes': [\"Dyslipidemia\", \"Diabetes\", \"Hypercholesterolemia\", \n",
        "                                                                                  \"Hypertriglyceridemia\", \"Healthy\", \"Pre-diabetes\"]})\n",
        "classification.plot_model(best_model, plot =\"boundary\", plot_kwargs ={'classes': \n",
        "  [\"Dyslipidemia\", \"Diabetes\", \"Hypercholesterolemia\", \"Hypertriglyceridemia\", \"Healthy\", \"Pre-diabetes\"]},                                                                \n",
        "                          save = True, scale = 3)\n"
      ],
      "id": "0GpEegjW29tO"
    },
    {
      "cell_type": "code",
      "execution_count": 10,
      "metadata": {
        "colab": {
          "base_uri": "https://localhost:8080/",
          "height": 543
        },
        "id": "_ggsDtP0gcWb",
        "outputId": "0aa2c98d-7921-43b9-b659-555d531a55c2"
      },
      "outputs": [
        {
          "output_type": "display_data",
          "data": {
            "text/plain": [
              "<IPython.core.display.HTML object>"
            ],
            "text/html": []
          },
          "metadata": {}
        },
        {
          "output_type": "display_data",
          "data": {
            "text/plain": [
              "<Figure size 800x550 with 1 Axes>"
            ],
            "image/png": "[encoded data removed]"
          },
          "metadata": {}
        },
        {
          "output_type": "display_data",
          "data": {
            "text/plain": [
              "<IPython.core.display.HTML object>"
            ],
            "text/html": []
          },
          "metadata": {}
        },
        {
          "output_type": "execute_result",
          "data": {
            "text/plain": [
              "'Learning Curve.png'"
            ],
            "application/vnd.google.colaboratory.intrinsic+json": {
              "type": "string"
            }
          },
          "metadata": {},
          "execution_count": 10
        }
      ],
      "source": [
        "# Step 11: Plotting the learning curve\n",
        "classification.plot_model(best_model, plot =\"learning\")\n",
        "classification.plot_model(best_model, plot =\"learning\", save = True, scale = 3)"
      ],
      "id": "_ggsDtP0gcWb"
    },
    {
      "cell_type": "code",
      "execution_count": 11,
      "metadata": {
        "colab": {
          "base_uri": "https://localhost:8080/",
          "height": 543
        },
        "id": "NAJL8dMqYLcd",
        "outputId": "a3d2ad89-862f-4c56-e4e1-f49708d6f7e0"
      },
      "outputs": [
        {
          "output_type": "display_data",
          "data": {
            "text/plain": [
              "<IPython.core.display.HTML object>"
            ],
            "text/html": []
          },
          "metadata": {}
        },
        {
          "output_type": "display_data",
          "data": {
            "text/plain": [
              "<Figure size 800x550 with 1 Axes>"
            ],
            "image/png": "[encoded data removed]"
          },
          "metadata": {}
        },
        {
          "output_type": "display_data",
          "data": {
            "text/plain": [
              "<IPython.core.display.HTML object>"
            ],
            "text/html": []
          },
          "metadata": {}
        },
        {
          "output_type": "execute_result",
          "data": {
            "text/plain": [
              "'AUC.png'"
            ],
            "application/vnd.google.colaboratory.intrinsic+json": {
              "type": "string"
            }
          },
          "metadata": {},
          "execution_count": 11
        }
      ],
      "source": [
        "# Step 12: Plotting the ROC curves\n",
        "classification.plot_model(best_model, plot =\"auc\", plot_kwargs ={'classes': [\"Dyslipidemia\", \"Diabetes\",\n",
        "                                                                           \"Hypercholesterolemia\", \"Hypertriglyceridemia\", \"Healthy\", \"Pre-diabetes\"]})\n",
        "classification.plot_model(best_model, plot =\"auc\", plot_kwargs ={'classes': [\"Dyslipidemia\", \"Diabetes\",\n",
        "                                                                           \"Hypercholesterolemia\", \"Hypertriglyceridemia\", \"Healthy\", \"Pre-diabetes\"]}, scale = 3, save = True)"
      ],
      "id": "NAJL8dMqYLcd"
    },
    {
      "cell_type": "code",
      "execution_count": 12,
      "metadata": {
        "colab": {
          "base_uri": "https://localhost:8080/",
          "height": 570
        },
        "id": "rITpbD33de4x",
        "outputId": "fee1258a-03fa-4721-8d34-b93a6710f3bc"
      },
      "outputs": [
        {
          "output_type": "display_data",
          "data": {
            "text/plain": [
              "<IPython.core.display.HTML object>"
            ],
            "text/html": []
          },
          "metadata": {}
        },
        {
          "output_type": "display_data",
          "data": {
            "text/plain": [
              "<Figure size 800x550 with 1 Axes>"
            ],
            "image/png": "[encoded data removed]"
          },
          "metadata": {}
        },
        {
          "output_type": "display_data",
          "data": {
            "text/plain": [
              "<IPython.core.display.HTML object>"
            ],
            "text/html": []
          },
          "metadata": {}
        },
        {
          "output_type": "execute_result",
          "data": {
            "text/plain": [
              "'Confusion Matrix.png'"
            ],
            "application/vnd.google.colaboratory.intrinsic+json": {
              "type": "string"
            }
          },
          "metadata": {},
          "execution_count": 12
        }
      ],
      "source": [
        "# Step 13: Plotting de confusion matrix graph\n",
        "classification.plot_model(best_model, plot =\"confusion_matrix\", plot_kwargs ={'classes': [\"Dys\", \"DM\", \"Hchol\", \"Htrig\", \"Healthy\", \"Pre-DM\"]})\n",
        "classification.plot_model(best_model, plot =\"confusion_matrix\", plot_kwargs ={'classes': [\"Dys\", \"DM\", \"Hchol\", \"Htrig\", \"Healthy\", \"Pre-DM\"]}, \n",
        "                          scale = 3, save = True)"
      ],
      "id": "rITpbD33de4x"
    },
    {
      "cell_type": "code",
      "execution_count": 13,
      "metadata": {
        "colab": {
          "base_uri": "https://localhost:8080/",
          "height": 570
        },
        "id": "dCyvk4xzYLEg",
        "outputId": "7155e897-63a2-4c84-fbe9-5bdded9de83b"
      },
      "outputs": [
        {
          "output_type": "display_data",
          "data": {
            "text/plain": [
              "<IPython.core.display.HTML object>"
            ],
            "text/html": []
          },
          "metadata": {}
        },
        {
          "output_type": "display_data",
          "data": {
            "text/plain": [
              "<Figure size 800x550 with 1 Axes>"
            ],
            "image/png": "[encoded data removed]"
          },
          "metadata": {}
        },
        {
          "output_type": "display_data",
          "data": {
            "text/plain": [
              "<IPython.core.display.HTML object>"
            ],
            "text/html": []
          },
          "metadata": {}
        },
        {
          "output_type": "execute_result",
          "data": {
            "text/plain": [
              "'Prediction Error.png'"
            ],
            "application/vnd.google.colaboratory.intrinsic+json": {
              "type": "string"
            }
          },
          "metadata": {},
          "execution_count": 13
        }
      ],
      "source": [
        "# Step 15: Compare predictions and results of the model\n",
        "classification.plot_model(best_model, plot =\"error\", plot_kwargs ={'classes': [\"Dys\", \"DM\", \"Hchol\", \"Htrig\", \"Healthy\", \"Pre-DM\"]})\n",
        "classification.plot_model(best_model, plot =\"error\", plot_kwargs ={'classes': [\"Dys\", \"DM\", \"Hchol\", \"Htrig\", \"Healthy\", \"Pre-DM\"]}, \n",
        "                          scale = 3, save = True)"
      ],
      "id": "dCyvk4xzYLEg"
    },
    {
      "cell_type": "code",
      "source": [
        "# Step 16: Figures of merit of the model\n",
        "classification.plot_model(best_model, plot =\"class_report\", plot_kwargs ={'classes': [\"Dys\", \"DM\", \"Hchol\", \"Htrig\", \"Healthy\", \"Pre-DM\"]})\n",
        "classification.plot_model(best_model, plot =\"class_report\", plot_kwargs ={'classes': [\"Dys\", \"DM\", \"Hchol\", \"Htrig\", \"Healthy\", \"Pre-DM\"]}, \n",
        "                          scale = 3, save = True)"
      ],
      "metadata": {
        "colab": {
          "base_uri": "https://localhost:8080/",
          "height": 570
        },
        "id": "CIpsMAelhuzb",
        "outputId": "babbc693-663f-49bb-ca12-c1d853bf84ee"
      },
      "id": "CIpsMAelhuzb",
      "execution_count": 16,
      "outputs": [
        {
          "output_type": "display_data",
          "data": {
            "text/plain": [
              "<IPython.core.display.HTML object>"
            ],
            "text/html": []
          },
          "metadata": {}
        },
        {
          "output_type": "display_data",
          "data": {
            "text/plain": [
              "<Figure size 800x550 with 2 Axes>"
            ],
            "image/png": "[encoded data removed]"
          },
          "metadata": {}
        },
        {
          "output_type": "display_data",
          "data": {
            "text/plain": [
              "<IPython.core.display.HTML object>"
            ],
            "text/html": []
          },
          "metadata": {}
        },
        {
          "output_type": "execute_result",
          "data": {
            "text/plain": [
              "'Class Report.png'"
            ],
            "application/vnd.google.colaboratory.intrinsic+json": {
              "type": "string"
            }
          },
          "metadata": {},
          "execution_count": 16
        }
      ]
    },
    {
      "cell_type": "code",
      "execution_count": 15,
      "metadata": {
        "colab": {
          "base_uri": "https://localhost:8080/",
          "height": 504
        },
        "id": "iC5-30xDdckh",
        "outputId": "ea08a4ba-270e-42ab-fae6-b9d592bae9d6"
      },
      "outputs": [
        {
          "output_type": "display_data",
          "data": {
            "text/plain": [
              "<IPython.core.display.HTML object>"
            ],
            "text/html": []
          },
          "metadata": {}
        },
        {
          "output_type": "display_data",
          "data": {
            "text/plain": [
              "<Figure size 800x500 with 1 Axes>"
            ],
            "image/png": "[encoded data removed]"
          },
          "metadata": {}
        },
        {
          "output_type": "display_data",
          "data": {
            "text/plain": [
              "<IPython.core.display.HTML object>"
            ],
            "text/html": []
          },
          "metadata": {}
        },
        {
          "output_type": "execute_result",
          "data": {
            "text/plain": [
              "'Feature Importance.png'"
            ],
            "application/vnd.google.colaboratory.intrinsic+json": {
              "type": "string"
            }
          },
          "metadata": {},
          "execution_count": 15
        }
      ],
      "source": [
        "# Step 17: Plotting only the TOP 10 most important wavenumber\n",
        "classification.plot_model(best_model, plot =\"feature\")\n",
        "classification.plot_model(best_model, plot =\"feature\", scale = 3, save = True)"
      ],
      "id": "iC5-30xDdckh"
    },
    {
      "cell_type": "code",
      "execution_count": 17,
      "metadata": {
        "colab": {
          "base_uri": "https://localhost:8080/"
        },
        "id": "6d450f64",
        "outputId": "3376f5f6-6c18-4e37-9012-c270967355b2"
      },
      "outputs": [
        {
          "output_type": "stream",
          "name": "stdout",
          "text": [
            "Transformation Pipeline and Model Successfully Saved\n"
          ]
        },
        {
          "output_type": "execute_result",
          "data": {
            "text/plain": [
              "(Pipeline(memory=FastMemory(location=/tmp/joblib),\n",
              "          steps=[('label_encoding',\n",
              "                  TransformerWrapperWithInverse(exclude=None, include=None,\n",
              "                                                transformer=LabelEncoder())),\n",
              "                 ('numerical_imputer',\n",
              "                  TransformerWrapper(exclude=None,\n",
              "                                     include=['3998.4', '3997', '3995.6',\n",
              "                                              '3994.2', '3992.8', '3991.3',\n",
              "                                              '3989.9', '3988.5', '3987.1',\n",
              "                                              '3985.7', '3984.3', '3982.8',\n",
              "                                              '3981.4', '3980', '3978.6...\n",
              "                                                               strategy='most_frequent',\n",
              "                                                               verbose='deprecated'))),\n",
              "                 ('clean_column_names',\n",
              "                  TransformerWrapper(exclude=None, include=None,\n",
              "                                     transformer=CleanColumnNames(match='[\\\\]\\\\[\\\\,\\\\{\\\\}\\\\\"\\\\:]+'))),\n",
              "                 ('trained_model',\n",
              "                  LinearDiscriminantAnalysis(covariance_estimator=None,\n",
              "                                             n_components=None, priors=None,\n",
              "                                             shrinkage=None, solver='svd',\n",
              "                                             store_covariance=False,\n",
              "                                             tol=0.0001))],\n",
              "          verbose=False),\n",
              " 'best_model_lda.pkl')"
            ]
          },
          "metadata": {},
          "execution_count": 17
        }
      ],
      "source": [
        "# Passo 11: Saving the model for predictions (Deploy)\n",
        "classification.save_model(best_model, \"best_model_lda\")"
      ],
      "id": "6d450f64"
    }
  ],
  "metadata": {
    "colab": {
      "provenance": [],
      "include_colab_link": true
    },
    "kernelspec": {
      "display_name": "Python 3",
      "language": "python",
      "name": "python3"
    },
    "language_info": {
      "codemirror_mode": {
        "name": "ipython",
        "version": 3
      },
      "file_extension": ".py",
      "mimetype": "text/x-python",
      "name": "python",
      "nbconvert_exporter": "python",
      "pygments_lexer": "ipython3",
      "version": "3.6.13"
    },
    "widgets": {
      "application/vnd.jupyter.widget-state+json": {
        "846c63b00dda48dda48870bd646f772e": {
          "model_module": "@jupyter-widgets/controls",
          "model_name": "HBoxModel",
          "model_module_version": "1.5.0",
          "state": {
            "_dom_classes": [],
            "_model_module": "@jupyter-widgets/controls",
            "_model_module_version": "1.5.0",
            "_model_name": "HBoxModel",
            "_view_count": null,
            "_view_module": "@jupyter-widgets/controls",
            "_view_module_version": "1.5.0",
            "_view_name": "HBoxView",
            "box_style": "",
            "children": [
              "IPY_MODEL_45050f46cb0545e682dbb826b92bcb75",
              "IPY_MODEL_facf7a3e114a4b80a529702495816f52",
              "IPY_MODEL_7b2e865a1583418d8158805e517fefaa"
            ],
            "layout": "IPY_MODEL_a696fb2e02a04b02a528f022e990cca2"
          }
        },
        "45050f46cb0545e682dbb826b92bcb75": {
          "model_module": "@jupyter-widgets/controls",
          "model_name": "HTMLModel",
          "model_module_version": "1.5.0",
          "state": {
            "_dom_classes": [],
            "_model_module": "@jupyter-widgets/controls",
            "_model_module_version": "1.5.0",
            "_model_name": "HTMLModel",
            "_view_count": null,
            "_view_module": "@jupyter-widgets/controls",
            "_view_module_version": "1.5.0",
            "_view_name": "HTMLView",
            "description": "",
            "description_tooltip": null,
            "layout": "IPY_MODEL_2209c57e12274f7887d66b858478358e",
            "placeholder": "​",
            "style": "IPY_MODEL_decb1ead423f4a2bb0eb44be024de4b1",
            "value": "Processing: 100%"
          }
        },
        "facf7a3e114a4b80a529702495816f52": {
          "model_module": "@jupyter-widgets/controls",
          "model_name": "FloatProgressModel",
          "model_module_version": "1.5.0",
          "state": {
            "_dom_classes": [],
            "_model_module": "@jupyter-widgets/controls",
            "_model_module_version": "1.5.0",
            "_model_name": "FloatProgressModel",
            "_view_count": null,
            "_view_module": "@jupyter-widgets/controls",
            "_view_module_version": "1.5.0",
            "_view_name": "ProgressView",
            "bar_style": "",
            "description": "",
            "description_tooltip": null,
            "layout": "IPY_MODEL_3dd8b59b808442fb881f39be05c06155",
            "max": 65,
            "min": 0,
            "orientation": "horizontal",
            "style": "IPY_MODEL_182dbeab7f6f46bf9c4fdc79a1eaa28b",
            "value": 65
          }
        },
        "7b2e865a1583418d8158805e517fefaa": {
          "model_module": "@jupyter-widgets/controls",
          "model_name": "HTMLModel",
          "model_module_version": "1.5.0",
          "state": {
            "_dom_classes": [],
            "_model_module": "@jupyter-widgets/controls",
            "_model_module_version": "1.5.0",
            "_model_name": "HTMLModel",
            "_view_count": null,
            "_view_module": "@jupyter-widgets/controls",
            "_view_module_version": "1.5.0",
            "_view_name": "HTMLView",
            "description": "",
            "description_tooltip": null,
            "layout": "IPY_MODEL_ee5dc625cd1f46509285caf28ad6740d",
            "placeholder": "​",
            "style": "IPY_MODEL_0e13f8c1d0d8427eb3879ec3667f49bd",
            "value": " 65/65 [26:12&lt;00:00, 12.13s/it]"
          }
        },
        "a696fb2e02a04b02a528f022e990cca2": {
          "model_module": "@jupyter-widgets/base",
          "model_name": "LayoutModel",
          "model_module_version": "1.2.0",
          "state": {
            "_model_module": "@jupyter-widgets/base",
            "_model_module_version": "1.2.0",
            "_model_name": "LayoutModel",
            "_view_count": null,
            "_view_module": "@jupyter-widgets/base",
            "_view_module_version": "1.2.0",
            "_view_name": "LayoutView",
            "align_content": null,
            "align_items": null,
            "align_self": null,
            "border": null,
            "bottom": null,
            "display": null,
            "flex": null,
            "flex_flow": null,
            "grid_area": null,
            "grid_auto_columns": null,
            "grid_auto_flow": null,
            "grid_auto_rows": null,
            "grid_column": null,
            "grid_gap": null,
            "grid_row": null,
            "grid_template_areas": null,
            "grid_template_columns": null,
            "grid_template_rows": null,
            "height": null,
            "justify_content": null,
            "justify_items": null,
            "left": null,
            "margin": null,
            "max_height": null,
            "max_width": null,
            "min_height": null,
            "min_width": null,
            "object_fit": null,
            "object_position": null,
            "order": null,
            "overflow": null,
            "overflow_x": null,
            "overflow_y": null,
            "padding": null,
            "right": null,
            "top": null,
            "visibility": "hidden",
            "width": null
          }
        },
        "2209c57e12274f7887d66b858478358e": {
          "model_module": "@jupyter-widgets/base",
          "model_name": "LayoutModel",
          "model_module_version": "1.2.0",
          "state": {
            "_model_module": "@jupyter-widgets/base",
            "_model_module_version": "1.2.0",
            "_model_name": "LayoutModel",
            "_view_count": null,
            "_view_module": "@jupyter-widgets/base",
            "_view_module_version": "1.2.0",
            "_view_name": "LayoutView",
            "align_content": null,
            "align_items": null,
            "align_self": null,
            "border": null,
            "bottom": null,
            "display": null,
            "flex": null,
            "flex_flow": null,
            "grid_area": null,
            "grid_auto_columns": null,
            "grid_auto_flow": null,
            "grid_auto_rows": null,
            "grid_column": null,
            "grid_gap": null,
            "grid_row": null,
            "grid_template_areas": null,
            "grid_template_columns": null,
            "grid_template_rows": null,
            "height": null,
            "justify_content": null,
            "justify_items": null,
            "left": null,
            "margin": null,
            "max_height": null,
            "max_width": null,
            "min_height": null,
            "min_width": null,
            "object_fit": null,
            "object_position": null,
            "order": null,
            "overflow": null,
            "overflow_x": null,
            "overflow_y": null,
            "padding": null,
            "right": null,
            "top": null,
            "visibility": null,
            "width": null
          }
        },
        "decb1ead423f4a2bb0eb44be024de4b1": {
          "model_module": "@jupyter-widgets/controls",
          "model_name": "DescriptionStyleModel",
          "model_module_version": "1.5.0",
          "state": {
            "_model_module": "@jupyter-widgets/controls",
            "_model_module_version": "1.5.0",
            "_model_name": "DescriptionStyleModel",
            "_view_count": null,
            "_view_module": "@jupyter-widgets/base",
            "_view_module_version": "1.2.0",
            "_view_name": "StyleView",
            "description_width": ""
          }
        },
        "3dd8b59b808442fb881f39be05c06155": {
          "model_module": "@jupyter-widgets/base",
          "model_name": "LayoutModel",
          "model_module_version": "1.2.0",
          "state": {
            "_model_module": "@jupyter-widgets/base",
            "_model_module_version": "1.2.0",
            "_model_name": "LayoutModel",
            "_view_count": null,
            "_view_module": "@jupyter-widgets/base",
            "_view_module_version": "1.2.0",
            "_view_name": "LayoutView",
            "align_content": null,
            "align_items": null,
            "align_self": null,
            "border": null,
            "bottom": null,
            "display": null,
            "flex": null,
            "flex_flow": null,
            "grid_area": null,
            "grid_auto_columns": null,
            "grid_auto_flow": null,
            "grid_auto_rows": null,
            "grid_column": null,
            "grid_gap": null,
            "grid_row": null,
            "grid_template_areas": null,
            "grid_template_columns": null,
            "grid_template_rows": null,
            "height": null,
            "justify_content": null,
            "justify_items": null,
            "left": null,
            "margin": null,
            "max_height": null,
            "max_width": null,
            "min_height": null,
            "min_width": null,
            "object_fit": null,
            "object_position": null,
            "order": null,
            "overflow": null,
            "overflow_x": null,
            "overflow_y": null,
            "padding": null,
            "right": null,
            "top": null,
            "visibility": null,
            "width": null
          }
        },
        "182dbeab7f6f46bf9c4fdc79a1eaa28b": {
          "model_module": "@jupyter-widgets/controls",
          "model_name": "ProgressStyleModel",
          "model_module_version": "1.5.0",
          "state": {
            "_model_module": "@jupyter-widgets/controls",
            "_model_module_version": "1.5.0",
            "_model_name": "ProgressStyleModel",
            "_view_count": null,
            "_view_module": "@jupyter-widgets/base",
            "_view_module_version": "1.2.0",
            "_view_name": "StyleView",
            "bar_color": null,
            "description_width": ""
          }
        },
        "ee5dc625cd1f46509285caf28ad6740d": {
          "model_module": "@jupyter-widgets/base",
          "model_name": "LayoutModel",
          "model_module_version": "1.2.0",
          "state": {
            "_model_module": "@jupyter-widgets/base",
            "_model_module_version": "1.2.0",
            "_model_name": "LayoutModel",
            "_view_count": null,
            "_view_module": "@jupyter-widgets/base",
            "_view_module_version": "1.2.0",
            "_view_name": "LayoutView",
            "align_content": null,
            "align_items": null,
            "align_self": null,
            "border": null,
            "bottom": null,
            "display": null,
            "flex": null,
            "flex_flow": null,
            "grid_area": null,
            "grid_auto_columns": null,
            "grid_auto_flow": null,
            "grid_auto_rows": null,
            "grid_column": null,
            "grid_gap": null,
            "grid_row": null,
            "grid_template_areas": null,
            "grid_template_columns": null,
            "grid_template_rows": null,
            "height": null,
            "justify_content": null,
            "justify_items": null,
            "left": null,
            "margin": null,
            "max_height": null,
            "max_width": null,
            "min_height": null,
            "min_width": null,
            "object_fit": null,
            "object_position": null,
            "order": null,
            "overflow": null,
            "overflow_x": null,
            "overflow_y": null,
            "padding": null,
            "right": null,
            "top": null,
            "visibility": null,
            "width": null
          }
        },
        "0e13f8c1d0d8427eb3879ec3667f49bd": {
          "model_module": "@jupyter-widgets/controls",
          "model_name": "DescriptionStyleModel",
          "model_module_version": "1.5.0",
          "state": {
            "_model_module": "@jupyter-widgets/controls",
            "_model_module_version": "1.5.0",
            "_model_name": "DescriptionStyleModel",
            "_view_count": null,
            "_view_module": "@jupyter-widgets/base",
            "_view_module_version": "1.2.0",
            "_view_name": "StyleView",
            "description_width": ""
          }
        },
        "8bebc340e011408790ff5243674a7145": {
          "model_module": "@jupyter-widgets/controls",
          "model_name": "HBoxModel",
          "model_module_version": "1.5.0",
          "state": {
            "_dom_classes": [],
            "_model_module": "@jupyter-widgets/controls",
            "_model_module_version": "1.5.0",
            "_model_name": "HBoxModel",
            "_view_count": null,
            "_view_module": "@jupyter-widgets/controls",
            "_view_module_version": "1.5.0",
            "_view_name": "HBoxView",
            "box_style": "",
            "children": [
              "IPY_MODEL_247dc8af5ae6485f9b2632a95d0c90ec",
              "IPY_MODEL_105ab3125ee14349a4892642bfcdbf41",
              "IPY_MODEL_0cfa9e13ba9a420181f1d4e1d1eed276"
            ],
            "layout": "IPY_MODEL_75309e95a7164be6a6bc8034dc070669"
          }
        },
        "247dc8af5ae6485f9b2632a95d0c90ec": {
          "model_module": "@jupyter-widgets/controls",
          "model_name": "HTMLModel",
          "model_module_version": "1.5.0",
          "state": {
            "_dom_classes": [],
            "_model_module": "@jupyter-widgets/controls",
            "_model_module_version": "1.5.0",
            "_model_name": "HTMLModel",
            "_view_count": null,
            "_view_module": "@jupyter-widgets/controls",
            "_view_module_version": "1.5.0",
            "_view_name": "HTMLView",
            "description": "",
            "description_tooltip": null,
            "layout": "IPY_MODEL_8153fb6da2cc4112ace7aa22e30a00b0",
            "placeholder": "​",
            "style": "IPY_MODEL_e8e38a7a793d42b595d808c81903bce6",
            "value": "Processing: 100%"
          }
        },
        "105ab3125ee14349a4892642bfcdbf41": {
          "model_module": "@jupyter-widgets/controls",
          "model_name": "FloatProgressModel",
          "model_module_version": "1.5.0",
          "state": {
            "_dom_classes": [],
            "_model_module": "@jupyter-widgets/controls",
            "_model_module_version": "1.5.0",
            "_model_name": "FloatProgressModel",
            "_view_count": null,
            "_view_module": "@jupyter-widgets/controls",
            "_view_module_version": "1.5.0",
            "_view_name": "ProgressView",
            "bar_style": "",
            "description": "",
            "description_tooltip": null,
            "layout": "IPY_MODEL_582968febe8f4d62b6cc724303927f4f",
            "max": 4,
            "min": 0,
            "orientation": "horizontal",
            "style": "IPY_MODEL_450bbd4643ec4d928d552125e40428b7",
            "value": 4
          }
        },
        "0cfa9e13ba9a420181f1d4e1d1eed276": {
          "model_module": "@jupyter-widgets/controls",
          "model_name": "HTMLModel",
          "model_module_version": "1.5.0",
          "state": {
            "_dom_classes": [],
            "_model_module": "@jupyter-widgets/controls",
            "_model_module_version": "1.5.0",
            "_model_name": "HTMLModel",
            "_view_count": null,
            "_view_module": "@jupyter-widgets/controls",
            "_view_module_version": "1.5.0",
            "_view_name": "HTMLView",
            "description": "",
            "description_tooltip": null,
            "layout": "IPY_MODEL_8c4a9e39aa604b53ae704973a5af5fcc",
            "placeholder": "​",
            "style": "IPY_MODEL_80d0e2a05883423ba62971cef6569860",
            "value": " 4/4 [00:04&lt;00:00,  1.18s/it]"
          }
        },
        "75309e95a7164be6a6bc8034dc070669": {
          "model_module": "@jupyter-widgets/base",
          "model_name": "LayoutModel",
          "model_module_version": "1.2.0",
          "state": {
            "_model_module": "@jupyter-widgets/base",
            "_model_module_version": "1.2.0",
            "_model_name": "LayoutModel",
            "_view_count": null,
            "_view_module": "@jupyter-widgets/base",
            "_view_module_version": "1.2.0",
            "_view_name": "LayoutView",
            "align_content": null,
            "align_items": null,
            "align_self": null,
            "border": null,
            "bottom": null,
            "display": null,
            "flex": null,
            "flex_flow": null,
            "grid_area": null,
            "grid_auto_columns": null,
            "grid_auto_flow": null,
            "grid_auto_rows": null,
            "grid_column": null,
            "grid_gap": null,
            "grid_row": null,
            "grid_template_areas": null,
            "grid_template_columns": null,
            "grid_template_rows": null,
            "height": null,
            "justify_content": null,
            "justify_items": null,
            "left": null,
            "margin": null,
            "max_height": null,
            "max_width": null,
            "min_height": null,
            "min_width": null,
            "object_fit": null,
            "object_position": null,
            "order": null,
            "overflow": null,
            "overflow_x": null,
            "overflow_y": null,
            "padding": null,
            "right": null,
            "top": null,
            "visibility": "hidden",
            "width": null
          }
        },
        "8153fb6da2cc4112ace7aa22e30a00b0": {
          "model_module": "@jupyter-widgets/base",
          "model_name": "LayoutModel",
          "model_module_version": "1.2.0",
          "state": {
            "_model_module": "@jupyter-widgets/base",
            "_model_module_version": "1.2.0",
            "_model_name": "LayoutModel",
            "_view_count": null,
            "_view_module": "@jupyter-widgets/base",
            "_view_module_version": "1.2.0",
            "_view_name": "LayoutView",
            "align_content": null,
            "align_items": null,
            "align_self": null,
            "border": null,
            "bottom": null,
            "display": null,
            "flex": null,
            "flex_flow": null,
            "grid_area": null,
            "grid_auto_columns": null,
            "grid_auto_flow": null,
            "grid_auto_rows": null,
            "grid_column": null,
            "grid_gap": null,
            "grid_row": null,
            "grid_template_areas": null,
            "grid_template_columns": null,
            "grid_template_rows": null,
            "height": null,
            "justify_content": null,
            "justify_items": null,
            "left": null,
            "margin": null,
            "max_height": null,
            "max_width": null,
            "min_height": null,
            "min_width": null,
            "object_fit": null,
            "object_position": null,
            "order": null,
            "overflow": null,
            "overflow_x": null,
            "overflow_y": null,
            "padding": null,
            "right": null,
            "top": null,
            "visibility": null,
            "width": null
          }
        },
        "e8e38a7a793d42b595d808c81903bce6": {
          "model_module": "@jupyter-widgets/controls",
          "model_name": "DescriptionStyleModel",
          "model_module_version": "1.5.0",
          "state": {
            "_model_module": "@jupyter-widgets/controls",
            "_model_module_version": "1.5.0",
            "_model_name": "DescriptionStyleModel",
            "_view_count": null,
            "_view_module": "@jupyter-widgets/base",
            "_view_module_version": "1.2.0",
            "_view_name": "StyleView",
            "description_width": ""
          }
        },
        "582968febe8f4d62b6cc724303927f4f": {
          "model_module": "@jupyter-widgets/base",
          "model_name": "LayoutModel",
          "model_module_version": "1.2.0",
          "state": {
            "_model_module": "@jupyter-widgets/base",
            "_model_module_version": "1.2.0",
            "_model_name": "LayoutModel",
            "_view_count": null,
            "_view_module": "@jupyter-widgets/base",
            "_view_module_version": "1.2.0",
            "_view_name": "LayoutView",
            "align_content": null,
            "align_items": null,
            "align_self": null,
            "border": null,
            "bottom": null,
            "display": null,
            "flex": null,
            "flex_flow": null,
            "grid_area": null,
            "grid_auto_columns": null,
            "grid_auto_flow": null,
            "grid_auto_rows": null,
            "grid_column": null,
            "grid_gap": null,
            "grid_row": null,
            "grid_template_areas": null,
            "grid_template_columns": null,
            "grid_template_rows": null,
            "height": null,
            "justify_content": null,
            "justify_items": null,
            "left": null,
            "margin": null,
            "max_height": null,
            "max_width": null,
            "min_height": null,
            "min_width": null,
            "object_fit": null,
            "object_position": null,
            "order": null,
            "overflow": null,
            "overflow_x": null,
            "overflow_y": null,
            "padding": null,
            "right": null,
            "top": null,
            "visibility": null,
            "width": null
          }
        },
        "450bbd4643ec4d928d552125e40428b7": {
          "model_module": "@jupyter-widgets/controls",
          "model_name": "ProgressStyleModel",
          "model_module_version": "1.5.0",
          "state": {
            "_model_module": "@jupyter-widgets/controls",
            "_model_module_version": "1.5.0",
            "_model_name": "ProgressStyleModel",
            "_view_count": null,
            "_view_module": "@jupyter-widgets/base",
            "_view_module_version": "1.2.0",
            "_view_name": "StyleView",
            "bar_color": null,
            "description_width": ""
          }
        },
        "8c4a9e39aa604b53ae704973a5af5fcc": {
          "model_module": "@jupyter-widgets/base",
          "model_name": "LayoutModel",
          "model_module_version": "1.2.0",
          "state": {
            "_model_module": "@jupyter-widgets/base",
            "_model_module_version": "1.2.0",
            "_model_name": "LayoutModel",
            "_view_count": null,
            "_view_module": "@jupyter-widgets/base",
            "_view_module_version": "1.2.0",
            "_view_name": "LayoutView",
            "align_content": null,
            "align_items": null,
            "align_self": null,
            "border": null,
            "bottom": null,
            "display": null,
            "flex": null,
            "flex_flow": null,
            "grid_area": null,
            "grid_auto_columns": null,
            "grid_auto_flow": null,
            "grid_auto_rows": null,
            "grid_column": null,
            "grid_gap": null,
            "grid_row": null,
            "grid_template_areas": null,
            "grid_template_columns": null,
            "grid_template_rows": null,
            "height": null,
            "justify_content": null,
            "justify_items": null,
            "left": null,
            "margin": null,
            "max_height": null,
            "max_width": null,
            "min_height": null,
            "min_width": null,
            "object_fit": null,
            "object_position": null,
            "order": null,
            "overflow": null,
            "overflow_x": null,
            "overflow_y": null,
            "padding": null,
            "right": null,
            "top": null,
            "visibility": null,
            "width": null
          }
        },
        "80d0e2a05883423ba62971cef6569860": {
          "model_module": "@jupyter-widgets/controls",
          "model_name": "DescriptionStyleModel",
          "model_module_version": "1.5.0",
          "state": {
            "_model_module": "@jupyter-widgets/controls",
            "_model_module_version": "1.5.0",
            "_model_name": "DescriptionStyleModel",
            "_view_count": null,
            "_view_module": "@jupyter-widgets/base",
            "_view_module_version": "1.2.0",
            "_view_name": "StyleView",
            "description_width": ""
          }
        },
        "ad6520bb0d4f4ab19cb29bad8cbf227d": {
          "model_module": "@jupyter-widgets/controls",
          "model_name": "VBoxModel",
          "model_module_version": "1.5.0",
          "state": {
            "_dom_classes": [
              "widget-interact"
            ],
            "_model_module": "@jupyter-widgets/controls",
            "_model_module_version": "1.5.0",
            "_model_name": "VBoxModel",
            "_view_count": null,
            "_view_module": "@jupyter-widgets/controls",
            "_view_module_version": "1.5.0",
            "_view_name": "VBoxView",
            "box_style": "",
            "children": [
              "IPY_MODEL_5c185ab9dd5c44c7ac131437e26093a4",
              "IPY_MODEL_85f586c70f4c4d11a3fceb994bb34bd8"
            ],
            "layout": "IPY_MODEL_8b173de41bf14e2187f151cd15246b7b"
          }
        },
        "5c185ab9dd5c44c7ac131437e26093a4": {
          "model_module": "@jupyter-widgets/controls",
          "model_name": "ToggleButtonsModel",
          "model_module_version": "1.5.0",
          "state": {
            "_dom_classes": [],
            "_model_module": "@jupyter-widgets/controls",
            "_model_module_version": "1.5.0",
            "_model_name": "ToggleButtonsModel",
            "_options_labels": [
              "Pipeline Plot",
              "Hyperparameters",
              "AUC",
              "Confusion Matrix",
              "Threshold",
              "Precision Recall",
              "Prediction Error",
              "Class Report",
              "Feature Selection",
              "Learning Curve",
              "Manifold Learning",
              "Calibration Curve",
              "Validation Curve",
              "Dimensions",
              "Feature Importance",
              "Feature Importance (All)",
              "Decision Boundary",
              "Lift Chart",
              "Gain Chart",
              "Decision Tree",
              "KS Statistic Plot"
            ],
            "_view_count": null,
            "_view_module": "@jupyter-widgets/controls",
            "_view_module_version": "1.5.0",
            "_view_name": "ToggleButtonsView",
            "button_style": "",
            "description": "Plot Type:",
            "description_tooltip": null,
            "disabled": false,
            "icons": [
              ""
            ],
            "index": 7,
            "layout": "IPY_MODEL_a1f73fc3c5734c3e8340aa335f612714",
            "style": "IPY_MODEL_2b69081eb20a4652bc18e698865dfa13",
            "tooltips": []
          }
        },
        "85f586c70f4c4d11a3fceb994bb34bd8": {
          "model_module": "@jupyter-widgets/output",
          "model_name": "OutputModel",
          "model_module_version": "1.0.0",
          "state": {
            "_dom_classes": [],
            "_model_module": "@jupyter-widgets/output",
            "_model_module_version": "1.0.0",
            "_model_name": "OutputModel",
            "_view_count": null,
            "_view_module": "@jupyter-widgets/output",
            "_view_module_version": "1.0.0",
            "_view_name": "OutputView",
            "layout": "IPY_MODEL_1c9ded02f04f4ed9993c3d02a370d0e4",
            "msg_id": "",
            "outputs": [
              {
                "output_type": "display_data",
                "data": {
                  "text/plain": "<Figure size 800x550 with 2 Axes>",
                  "image/png": "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\n"
                },
                "metadata": {}
              }
            ]
          }
        },
        "8b173de41bf14e2187f151cd15246b7b": {
          "model_module": "@jupyter-widgets/base",
          "model_name": "LayoutModel",
          "model_module_version": "1.2.0",
          "state": {
            "_model_module": "@jupyter-widgets/base",
            "_model_module_version": "1.2.0",
            "_model_name": "LayoutModel",
            "_view_count": null,
            "_view_module": "@jupyter-widgets/base",
            "_view_module_version": "1.2.0",
            "_view_name": "LayoutView",
            "align_content": null,
            "align_items": null,
            "align_self": null,
            "border": null,
            "bottom": null,
            "display": null,
            "flex": null,
            "flex_flow": null,
            "grid_area": null,
            "grid_auto_columns": null,
            "grid_auto_flow": null,
            "grid_auto_rows": null,
            "grid_column": null,
            "grid_gap": null,
            "grid_row": null,
            "grid_template_areas": null,
            "grid_template_columns": null,
            "grid_template_rows": null,
            "height": null,
            "justify_content": null,
            "justify_items": null,
            "left": null,
            "margin": null,
            "max_height": null,
            "max_width": null,
            "min_height": null,
            "min_width": null,
            "object_fit": null,
            "object_position": null,
            "order": null,
            "overflow": null,
            "overflow_x": null,
            "overflow_y": null,
            "padding": null,
            "right": null,
            "top": null,
            "visibility": null,
            "width": null
          }
        },
        "a1f73fc3c5734c3e8340aa335f612714": {
          "model_module": "@jupyter-widgets/base",
          "model_name": "LayoutModel",
          "model_module_version": "1.2.0",
          "state": {
            "_model_module": "@jupyter-widgets/base",
            "_model_module_version": "1.2.0",
            "_model_name": "LayoutModel",
            "_view_count": null,
            "_view_module": "@jupyter-widgets/base",
            "_view_module_version": "1.2.0",
            "_view_name": "LayoutView",
            "align_content": null,
            "align_items": null,
            "align_self": null,
            "border": null,
            "bottom": null,
            "display": null,
            "flex": null,
            "flex_flow": null,
            "grid_area": null,
            "grid_auto_columns": null,
            "grid_auto_flow": null,
            "grid_auto_rows": null,
            "grid_column": null,
            "grid_gap": null,
            "grid_row": null,
            "grid_template_areas": null,
            "grid_template_columns": null,
            "grid_template_rows": null,
            "height": null,
            "justify_content": null,
            "justify_items": null,
            "left": null,
            "margin": null,
            "max_height": null,
            "max_width": null,
            "min_height": null,
            "min_width": null,
            "object_fit": null,
            "object_position": null,
            "order": null,
            "overflow": null,
            "overflow_x": null,
            "overflow_y": null,
            "padding": null,
            "right": null,
            "top": null,
            "visibility": null,
            "width": null
          }
        },
        "2b69081eb20a4652bc18e698865dfa13": {
          "model_module": "@jupyter-widgets/controls",
          "model_name": "ToggleButtonsStyleModel",
          "model_module_version": "1.5.0",
          "state": {
            "_model_module": "@jupyter-widgets/controls",
            "_model_module_version": "1.5.0",
            "_model_name": "ToggleButtonsStyleModel",
            "_view_count": null,
            "_view_module": "@jupyter-widgets/base",
            "_view_module_version": "1.2.0",
            "_view_name": "StyleView",
            "button_width": "",
            "description_width": "",
            "font_weight": ""
          }
        },
        "1c9ded02f04f4ed9993c3d02a370d0e4": {
          "model_module": "@jupyter-widgets/base",
          "model_name": "LayoutModel",
          "model_module_version": "1.2.0",
          "state": {
            "_model_module": "@jupyter-widgets/base",
            "_model_module_version": "1.2.0",
            "_model_name": "LayoutModel",
            "_view_count": null,
            "_view_module": "@jupyter-widgets/base",
            "_view_module_version": "1.2.0",
            "_view_name": "LayoutView",
            "align_content": null,
            "align_items": null,
            "align_self": null,
            "border": null,
            "bottom": null,
            "display": null,
            "flex": null,
            "flex_flow": null,
            "grid_area": null,
            "grid_auto_columns": null,
            "grid_auto_flow": null,
            "grid_auto_rows": null,
            "grid_column": null,
            "grid_gap": null,
            "grid_row": null,
            "grid_template_areas": null,
            "grid_template_columns": null,
            "grid_template_rows": null,
            "height": null,
            "justify_content": null,
            "justify_items": null,
            "left": null,
            "margin": null,
            "max_height": null,
            "max_width": null,
            "min_height": null,
            "min_width": null,
            "object_fit": null,
            "object_position": null,
            "order": null,
            "overflow": null,
            "overflow_x": null,
            "overflow_y": null,
            "padding": null,
            "right": null,
            "top": null,
            "visibility": null,
            "width": null
          }
        }
      }
    }
  },
  "nbformat": 4,
  "nbformat_minor": 5
}